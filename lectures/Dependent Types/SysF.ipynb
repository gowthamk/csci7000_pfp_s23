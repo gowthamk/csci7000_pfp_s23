{
 "cells": [
  {
   "cell_type": "markdown",
   "id": "96cfb6d7-57ab-486f-9d32-e2f95e3dbda9",
   "metadata": {},
   "source": [
    "<center> \n",
    "\n",
    "<h1 style=\"text-align:center\"> System F </h1>\n",
    "<h2 style=\"text-align:center\"> CSCI7000-11 S23: Principles of Functional Programming </h2>\n",
    "</center>"
   ]
  },
  {
   "cell_type": "markdown",
   "id": "05a2911a-a1e0-45c2-9cea-d7be22c5cc85",
   "metadata": {},
   "source": [
    "System F is polymorphic lambda calculus, i.e., STLC extended with polymorphic types. The syntax and semantics of System F are shown below (image taken from TAPL)."
   ]
  },
  {
   "cell_type": "markdown",
   "id": "063cffde-d20e-4e1f-a1a7-60c23c173556",
   "metadata": {},
   "source": [
    "<table>\n",
    "<tr>\n",
    "<td><img src=\"images/SystemF.png\"></td>\n",
    "</tr>\n",
    "</table>"
   ]
  },
  {
   "cell_type": "markdown",
   "id": "42694eab-fe9b-4c03-b8de-e996b5864d76",
   "metadata": {},
   "source": [
    "STLC: \\(x:int). x\n",
    "\n",
    "System F: \n",
    "-- Id: \\('a).\\(x:'a). x"
   ]
  },
  {
   "cell_type": "code",
   "execution_count": 23,
   "id": "aa5f31f6-34df-4c04-897d-94874cc80da8",
   "metadata": {},
   "outputs": [
    {
     "data": {
      "text/plain": [
       "type typ = TyVar of string | TyArr of typ * typ | TyPoly of string * typ\n"
      ]
     },
     "execution_count": 23,
     "metadata": {},
     "output_type": "execute_result"
    },
    {
     "data": {
      "text/plain": [
       "type expr =\n",
       "    Var of string\n",
       "  | Lam of string * typ * expr\n",
       "  | App of expr * expr\n",
       "  | TyLam of string * expr\n",
       "  | TyApp of expr * typ\n"
      ]
     },
     "execution_count": 23,
     "metadata": {},
     "output_type": "execute_result"
    }
   ],
   "source": [
    "(* Abstract Syntax *)\n",
    "\n",
    "(* System F type *)\n",
    "type typ = \n",
    "  | TyVar of string\n",
    "  | TyArr of typ * typ\n",
    "  | TyPoly of string * typ (* \\forall 'a. T *)\n",
    "  \n",
    "(* System F Expressions *)  \n",
    "type expr = \n",
    "  | Var of string\n",
    "  | Lam of string * typ * expr\n",
    "  | App of expr * expr\n",
    "  | TyLam of string * expr\n",
    "  | TyApp of expr * typ"
   ]
  },
  {
   "cell_type": "code",
   "execution_count": 24,
   "id": "22aa835c-f0f7-4850-ae7b-425c8a3c9a46",
   "metadata": {},
   "outputs": [
    {
     "data": {
      "text/plain": [
       "- : expr =\n",
       "TyLam (\"'b\",\n",
       " Lam (\"f\", TyPoly (\"'a\", TyArr (TyVar \"'a\", TyVar \"'a\")),\n",
       "  Lam (\"x\", TyVar \"'b\", App (TyApp (Var \"f\", TyVar \"'b\"), Var \"x\"))))\n"
      ]
     },
     "execution_count": 24,
     "metadata": {},
     "output_type": "execute_result"
    }
   ],
   "source": [
    "(*\n",
    " let app (f : 'a. 'a -> 'a) (x:'b) : 'b = f x\n",
    "*)\n",
    "(*\n",
    " \\'b. \\(f: \\'a. a' -> 'a). \\(x:'b). (f ['b]) x\n",
    "*)\n",
    "TyLam(\"'b\", Lam(\"f\", TyPoly(\"'a\",TyArr(TyVar \"'a\", TyVar \"'a\")), \n",
    "                Lam(\"x\", TyVar \"'b\", \n",
    "                        App(TyApp(Var \"f\", TyVar \"'b\"), Var \"x\"))))"
   ]
  },
  {
   "cell_type": "code",
   "execution_count": 31,
   "id": "10770a30-687e-4b8a-b308-1e48217eb145",
   "metadata": {},
   "outputs": [
    {
     "ename": "error",
     "evalue": "compile_error",
     "output_type": "error",
     "traceback": [
      "File \"[31]\", line 13, characters 8-14:\n13 |       | TyPoly(a,t) -> well_formed ((\"\",TyVar a)::env) t\n             ^^^^^^\nError: This variant pattern is expected to have type typ\n       The constructor TyPoly does not belong to type typ\n"
     ]
    }
   ],
   "source": [
    "module SystemF = struct\n",
    "    exception TypeError\n",
    "    type typbind = string * typ\n",
    "    type tyenv = typbind list\n",
    "\n",
    "\n",
    "    (* [] |- \\'a. \\(x:'a). x : \\'a. 'a -> 'a *)\n",
    "    let rec well_formed (env:tyenv) typ : bool = match typ with\n",
    "      | TyVar a -> List.exists \n",
    "                      (function (\"\",TyVar b) when a=b -> true\n",
    "                              | _ -> false) env\n",
    "      | TyArr(t1,t2) -> (well_formed env t1) && (well_formed env t2)\n",
    "      | TyPoly(a,t) -> well_formed ((\"\",TyVar a)::env) t\n",
    "\n",
    "    (* old_subst : (expr,string) -> expr -> expr *) \n",
    "    (* [t/x]t1 --> t2 *)\n",
    "    let rec subst ((t,x): (typ*string)) (t1:typ) : typ = match t1 with\n",
    "      | TyVar y when y=x -> t\n",
    "      | TyVar y -> t1\n",
    "      | TyArr (t11,t12) -> TyArr (subst (t,x) t11 ,subst (t,x) t12)\n",
    "      | TyPoly(y,t11) when (x=y) -> t1\n",
    "      | TyPoly(y,t11) -> TyPoly(y, subst (t,x) t11)\n",
    "\n",
    "\n",
    "    let rec type_check (env: tyenv) (e: expr) : typ = match e with\n",
    "      | Var x -> (try List.assoc x env with Not_found -> raise TypeError)\n",
    "      | Lam(x,ty,e1) when (well_formed env ty) -> \n",
    "        let bdy_typ = type_check ((x,ty)::env) e1 in\n",
    "        TyArr(ty,bdy_typ)\n",
    "      | Lam(_,_,_) -> raise TypeError\n",
    "      | App(e1,e2) -> \n",
    "        let ty1 = type_check env e1 in\n",
    "        let ty2 = type_check env e2 in\n",
    "        begin\n",
    "          match ty1 with\n",
    "          | TyArr (t1,t2) when (t1 = ty2) -> t2\n",
    "          | _ -> raise TypeError\n",
    "        end\n",
    "      | TyLam(a,e) (* \\a. e *) -> \n",
    "        let ty_e = type_check ((\"\",TyVar a)::env) e in\n",
    "        TyPoly(a,ty_e)\n",
    "        (* You are monomorphizing a polymorphic expression e by instantiating it on type t *)\n",
    "      | TyApp(e,t) ->\n",
    "        begin\n",
    "          match type_check env e with\n",
    "          (* e: \\'a. 'a -> 'a;\n",
    "             e ['b] : ['b/'a] 'a -> 'a = ('b -> 'b)\n",
    "           *)\n",
    "          | TyPoly(a,typ) -> subst (t,a) typ\n",
    "          | _ -> raise TypeError\n",
    "        end\n",
    "end"
   ]
  },
  {
   "cell_type": "code",
   "execution_count": 26,
   "id": "5666e601-946a-47aa-b2d8-1c2a2317ae0c",
   "metadata": {},
   "outputs": [
    {
     "data": {
      "text/plain": [
       "- : typ =\n",
       "TyPoly (\"'b\",\n",
       " TyArr (TyPoly (\"'a\", TyArr (TyVar \"'a\", TyVar \"'a\")),\n",
       "  TyArr (TyVar \"'b\", TyVar \"'b\")))\n"
      ]
     },
     "execution_count": 26,
     "metadata": {},
     "output_type": "execute_result"
    }
   ],
   "source": [
    "let e = TyLam(\"'b\", Lam(\"f\", TyPoly(\"'a\",TyArr(TyVar \"'a\", TyVar \"'a\")), \n",
    "                Lam(\"x\", TyVar \"'b\", \n",
    "                        App(TyApp(Var \"f\", TyVar \"'b\"), Var \"x\")))) in\n",
    "type_check [] e"
   ]
  },
  {
   "cell_type": "markdown",
   "id": "5bd7da13-c2da-4a5d-8b42-45e4ce7938f3",
   "metadata": {},
   "source": [
    "```\n",
    "(*\n",
    " * ∀'b. ((∀'a. 'a -> 'a) -> 'b -> 'b)\n",
    " *)\n",
    "```\n",
    "* Polymorphism we have in OCaml (or SML) is a parametric polymorphism\n",
    "    * Why parameteric? Because we have ∀. We can instiate ∀-bound variable with any type, and we get a new type.\n",
    "* What about polymorphism we have in Java?\n",
    "    * `∀T. LinkedList<T>` instantiate T with Int --> `LinkedList<Int>`. We have parametric polymorphism.\n",
    "    * `var l = new LinkedList<Animal>(); l.add(new Dog(\"Snoopy\"))`. We also have Ad-hoc polymorphism. \n",
    "    * Java lets you combine both. `∀T. SortedList<T <: Comparable>`. \n",
    "* Parametric polymorphism can have multiple variants:\n",
    "   * rank-1 polymorphism (OCaml/Haskell/ Java) vs higher-rank (System F, Coq, Isabelle) polymorphism\n",
    "   * Predicative (OCaml/Haskell/ Java) vs Impredicative (System F, Coq, Isabell, F*)  polymorphism.\n",
    "   \n",
    "   \n"
   ]
  }
 ],
 "metadata": {
  "kernelspec": {
   "display_name": "OCaml 4.12.0",
   "language": "OCaml",
   "name": "ocaml-jupyter"
  },
  "language_info": {
   "codemirror_mode": "text/x-ocaml",
   "file_extension": ".ml",
   "mimetype": "text/x-ocaml",
   "name": "OCaml",
   "nbconverter_exporter": null,
   "pygments_lexer": "OCaml",
   "version": "4.12.0"
  }
 },
 "nbformat": 4,
 "nbformat_minor": 5
}
