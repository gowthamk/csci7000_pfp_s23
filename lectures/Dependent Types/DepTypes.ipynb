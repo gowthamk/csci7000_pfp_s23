{
 "cells": [
  {
   "cell_type": "markdown",
   "id": "a663d817-aec0-4343-bd5e-59a088ed2f2c",
   "metadata": {
    "tags": []
   },
   "source": [
    "<div align=\"center\">\n",
    "    <h2> CSCI7000-011 Homework Assignment 5</h2>\n",
    "</div>\n",
    "\n",
    "* There are 2 problems with 4 points each. Total points = 8.\n",
    "* Before you turn it in, make sure everything runs as expected. First, **restart the kernel** (in the menubar, select Kernel$\\rightarrow$Restart) and then **run all cells** (in the menubar, select Cell$\\rightarrow$Run All).\n",
    "* Fill in any place that says `YOUR CODE HERE`.\n",
    "* Do not tamper with testcases."
   ]
  },
  {
   "cell_type": "code",
   "execution_count": 1,
   "id": "436d9d72-0490-48ac-92af-a505a0e4ad2e",
   "metadata": {},
   "outputs": [
    {
     "data": {
      "text/plain": [
       "val asrt : bool * string -> unit = <fun>\n"
      ]
     },
     "execution_count": 1,
     "metadata": {},
     "output_type": "execute_result"
    }
   ],
   "source": [
    "(* Required definitions *)\n",
    "let asrt = function\n",
    " | (true,_) -> ()\n",
    " | (false, str) -> failwith (\"Assertion failure: \"^str)"
   ]
  },
  {
   "cell_type": "code",
   "execution_count": 7,
   "id": "7bde71e0-2e4d-42e3-9ce6-03aca31af481",
   "metadata": {
    "scrolled": true,
    "tags": []
   },
   "outputs": [
    {
     "data": {
      "text/plain": [
       "type base_typ = TyInt | TyBool\n"
      ]
     },
     "execution_count": 7,
     "metadata": {},
     "output_type": "execute_result"
    },
    {
     "data": {
      "text/plain": [
       "type typ = TyRef of string * base_typ * expr | TyArr of string * typ * typ\n",
       "and expr =\n",
       "    Var of string\n",
       "  | App of expr * expr\n",
       "  | Lam of string * typ * expr\n",
       "  | IntConst of int\n",
       "  | BoolConst of bool\n",
       "  | Plus of expr * expr\n",
       "  | Minus of expr * expr\n",
       "  | Mult of expr * expr\n",
       "  | Eq of expr * expr\n",
       "  | Gt of expr * expr\n",
       "  | Lt of expr * expr\n",
       "  | Not of expr\n",
       "  | And of expr * expr\n",
       "  | Or of expr * expr\n",
       "  | Ite of expr * expr * expr\n",
       "  | Let of string * expr * expr\n",
       "  | LetRec of string * typ * expr * expr\n"
      ]
     },
     "execution_count": 7,
     "metadata": {},
     "output_type": "execute_result"
    }
   ],
   "source": [
    "(* Abstract Syntax *)\n",
    "\n",
    "(* CoreML type *)\n",
    "\n",
    "(* base types *)\n",
    "type base_typ =\n",
    "  | TyInt\n",
    "  | TyBool\n",
    "  \n",
    "type typ = \n",
    "  | TyRef of string * base_typ * expr (* \"refined\" type. e.g., {v: int | v>0} *)\n",
    "  | TyArr of string * typ * typ (* Dependent arrow type. e.g., x:{v0: int | ¬(v0=0)} -> {v1: int | v1 > x} *)\n",
    "\n",
    "and expr =\n",
    "  | Var of string\n",
    "  | App of expr * expr\n",
    "  | Lam of string * typ * typ option * expr (* \\(x:T1):T2.e or \\(x:T1).e *)\n",
    "  | IntConst of int\n",
    "  | BoolConst of bool\n",
    "  | Plus of expr * expr\n",
    "  | Minus of expr * expr\n",
    "  | Mult of expr * expr\n",
    "  | Eq of expr * expr\n",
    "  | Gt of expr * expr\n",
    "  | Lt of expr * expr\n",
    "  | Not of expr\n",
    "  | And of expr * expr\n",
    "  | Or of expr * expr\n",
    "  | Ite of expr * expr * expr\n",
    "  | Let of string * expr * expr\n",
    "  | LetRec of string * typ * expr * expr (* let rec (x:poly_typ) = e_1 in e_2 *)"
   ]
  },
  {
   "cell_type": "code",
   "execution_count": 10,
   "id": "c62611c0-c269-4db9-807d-9ac6d6538b16",
   "metadata": {},
   "outputs": [
    {
     "data": {
      "text/plain": [
       "exception TypeError of string\n"
      ]
     },
     "execution_count": 10,
     "metadata": {},
     "output_type": "execute_result"
    },
    {
     "data": {
      "text/plain": [
       "type typbind = string * typ\n"
      ]
     },
     "execution_count": 10,
     "metadata": {},
     "output_type": "execute_result"
    },
    {
     "data": {
      "text/plain": [
       "type tyenv = typbind list\n"
      ]
     },
     "execution_count": 10,
     "metadata": {},
     "output_type": "execute_result"
    }
   ],
   "source": [
    "exception TypeError of string\n",
    "type typbind = string * typ\n",
    "type tyenv = typbind list"
   ]
  },
  {
   "cell_type": "code",
   "execution_count": 11,
   "id": "a48c1cd0-e3f6-4ca0-a946-ce44e1085397",
   "metadata": {},
   "outputs": [
    {
     "data": {
      "text/plain": [
       "val asrt_subtyp : 'a -> 'b -> 'c -> 'd = <fun>\n"
      ]
     },
     "execution_count": 11,
     "metadata": {},
     "output_type": "execute_result"
    }
   ],
   "source": [
    "let rec is_subtyp env t1 t2 =\n",
    "  failwith \"Not impl.\""
   ]
  },
  {
   "cell_type": "code",
   "execution_count": 12,
   "id": "b0ac38fc-9b2b-41cd-9d99-68479eacb063",
   "metadata": {},
   "outputs": [
    {
     "data": {
      "text/plain": [
       "val subst : 'a * 'b -> 'c -> 'd = <fun>\n"
      ]
     },
     "execution_count": 12,
     "metadata": {},
     "output_type": "execute_result"
    }
   ],
   "source": [
    "let rec subst (e,x) t = \n",
    "  failwith \"Not impl.\""
   ]
  },
  {
   "cell_type": "code",
   "execution_count": 13,
   "id": "41e3e2ab-1b52-42cc-a223-bd06907eb220",
   "metadata": {},
   "outputs": [
    {
     "data": {
      "text/plain": [
       "val trivial : base_typ -> typ = <fun>\n"
      ]
     },
     "execution_count": 13,
     "metadata": {},
     "output_type": "execute_result"
    }
   ],
   "source": [
    "let trivial (t:base_typ) : typ = TyRef(\"v\",t, BoolConst true)"
   ]
  },
  {
   "cell_type": "code",
   "execution_count": null,
   "id": "33b4d35a-0c4c-4621-86bf-6949ed7217b2",
   "metadata": {},
   "outputs": [],
   "source": [
    "let rec type_check (env: tyenv) (e: expr) : typ = match e with\n",
    "  | Var x -> (try List.assoc x env \n",
    "              with Not_found -> raise @@ TypeError (\"Variable \"^x^\" undefined\"))\n",
    "  | Lam(x,ty1,ty2op,e1) -> \n",
    "    let env' = (x,ty)::env in\n",
    "    let bdy_typ = type_check env' e1 in\n",
    "    (match ty2op with \n",
    "      | Some ty2 when is_subtype env bdy_typ ty2 -> ty2\n",
    "      | Some _ -> raise @@ TypeError \"Subtyping check failed\"\n",
    "      | None -> bdy_typ)\n",
    "  | App(e1,e2) -> \n",
    "    let ty1 = type_check env e1 in\n",
    "    let ty2 = type_check env e2 in\n",
    "    begin\n",
    "      match ty1 with\n",
    "      | TyArr (x, t1, t2) when is_subtype env ty1 t1 -> subst (e2,x) t2\n",
    "      | TyArr (x, t1, t2) -> raise @@ TypeError \"Subtyping check failed\"\n",
    "      | _ -> raise @@ TypeError \"Left hand side of application is not a function type\" \n",
    "    end\n",
    "  | IntConst _ -> trivial TyInt\n",
    "  | BoolConst _ -> trivial TyBool\n",
    "  | Plus(e1,e2) | Minus (e1,e2) | Mult(e1,e2) ->\n",
    "    let (ty1,ty2) = (type_check env e1, type_check env e2) in\n",
    "    begin\n",
    "      match ty1,ty2 with\n",
    "      | TyInt, TyInt -> TyInt\n",
    "      | _ -> raise @@ TypeError \"Arithmetic expression needs to have Int type\"\n",
    "    end\n",
    "  | Eq (e1,e2) ->\n",
    "    let (ty1,ty2) = (mono_of @@ type_check env e1, mono_of @@ type_check env e2) in\n",
    "    if ty1 = ty2 then mono TyBool \n",
    "    else raise @@ TypeError \"Expressions being compared have different types\"\n",
    "  | Ite(e1,e2,e3) -> \n",
    "    let ty1 = mono_of @@ type_check env e1 in\n",
    "    let ty2 = mono_of @@ type_check env e2 in\n",
    "    let ty3 = mono_of @@ type_check env e3 in\n",
    "    (match ty1 with\n",
    "    | TyBool when ty2 = ty3 -> mono ty2\n",
    "    | TyBool -> raise @@ TypeError \"If and then branches need to have same type\"\n",
    "    | _ -> raise @@ TypeError \"If scrutinee has non-boolean type\")\n",
    "  | Let(x,e1,e2) -> \n",
    "    let pty1 = type_check env e1 in\n",
    "    let pty2 = type_check ((x,pty1)::env) e2 in\n",
    "    pty2\n",
    "  | LetRec (x,ptx,e1,e2) ->\n",
    "    let env' = (x,ptx)::env in\n",
    "    let pty1 = type_check env' e1 in\n",
    "    let _ = if ptx=pty1 then () \n",
    "        else raise @@ TypeError (\"Asserted type of \"^x^\" not same as computed type\") in\n",
    "    let pty2 = type_check env' e2 in\n",
    "    pty2"
   ]
  }
 ],
 "metadata": {
  "kernelspec": {
   "display_name": "OCaml 4.12.0",
   "language": "OCaml",
   "name": "ocaml-jupyter"
  },
  "language_info": {
   "codemirror_mode": "text/x-ocaml",
   "file_extension": ".ml",
   "mimetype": "text/x-ocaml",
   "name": "OCaml",
   "nbconverter_exporter": null,
   "pygments_lexer": "OCaml",
   "version": "4.12.0"
  }
 },
 "nbformat": 4,
 "nbformat_minor": 5
}
