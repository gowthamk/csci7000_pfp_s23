{
 "cells": [
  {
   "cell_type": "markdown",
   "id": "d3bfbf1c-b5ce-444d-8a65-8ae627f7d8c6",
   "metadata": {},
   "source": [
    "<center> \n",
    "\n",
    "<h1 style=\"text-align:center\"> CoreML </h1>\n",
    "<h2 style=\"text-align:center\"> CSCI7000-11 S23: Principles of Functional Programming </h2>\n",
    "</center>"
   ]
  },
  {
   "cell_type": "markdown",
   "id": "f71d16e7-06f3-477d-a76a-64caecd771e8",
   "metadata": {},
   "source": [
    "In this chapter, we will build the type checker for the core calculus of OCaml called CoreML. We use `ppx_deriving` library to automatically derive `show: t -> string` functions for any type t."
   ]
  },
  {
   "cell_type": "code",
   "execution_count": 57,
   "id": "8ffdac26-9a9e-4bb8-865c-6b5e08d0b50d",
   "metadata": {},
   "outputs": [
    {
     "name": "stderr",
     "output_type": "stream",
     "text": [
      "/Users/gkaki/.opam/4.12.0/lib/ppx_deriving/std: added to search path\n",
      "ppx_deriving: package:ppx_deriving.std: option added\n"
     ]
    }
   ],
   "source": [
    "#require \"ppx_deriving.std\";;"
   ]
  },
  {
   "cell_type": "markdown",
   "id": "a275386f-fd8a-401f-b297-8b2b7a07f246",
   "metadata": {},
   "source": [
    "The key distinguishing characteristic of CoreML w.r.t System F is that it stratifies non-polymorphic (mono) types and polymorhic (poly) types."
   ]
  },
  {
   "cell_type": "code",
   "execution_count": 58,
   "id": "22925e88-966f-4565-b54b-4655bc39797d",
   "metadata": {},
   "outputs": [
    {
     "data": {
      "text/plain": [
       "type typ =\n",
       "    TyInt\n",
       "  | TyBool\n",
       "  | TyArr of typ * typ\n",
       "  | TyVar of string\n",
       "  | TyList of typ\n",
       "val pp_typ :\n",
       "  Ppx_deriving_runtime.Format.formatter -> typ -> Ppx_deriving_runtime.unit =\n",
       "  <fun>\n",
       "val show_typ : typ -> Ppx_deriving_runtime.string = <fun>\n"
      ]
     },
     "execution_count": 58,
     "metadata": {},
     "output_type": "execute_result"
    },
    {
     "data": {
      "text/plain": [
       "type poly_typ = TyMono of typ | TyPoly of string * poly_typ\n",
       "val pp_poly_typ :\n",
       "  Ppx_deriving_runtime.Format.formatter ->\n",
       "  poly_typ -> Ppx_deriving_runtime.unit = <fun>\n",
       "val show_poly_typ : poly_typ -> Ppx_deriving_runtime.string = <fun>\n"
      ]
     },
     "execution_count": 58,
     "metadata": {},
     "output_type": "execute_result"
    },
    {
     "data": {
      "text/plain": [
       "type expr =\n",
       "    Var of string\n",
       "  | App of expr * expr\n",
       "  | Lam of string * typ * expr\n",
       "  | TLam of string * expr\n",
       "  | TApp of expr * typ\n",
       "  | IntConst of int\n",
       "  | BoolConst of bool\n",
       "  | Plus of expr * expr\n",
       "  | Minus of expr * expr\n",
       "  | Mult of expr * expr\n",
       "  | Eq of expr * expr\n",
       "  | Ite of expr * expr * expr\n",
       "  | Let of string * expr * expr\n",
       "  | LetRec of string * poly_typ * expr * expr\n",
       "  | Cons of typ * expr * expr\n",
       "  | Nil of typ\n",
       "  | Match of expr * expr * string * string * expr\n"
      ]
     },
     "execution_count": 58,
     "metadata": {},
     "output_type": "execute_result"
    }
   ],
   "source": [
    "(* Abstract Syntax *)\n",
    "\n",
    "\n",
    "(* mono types *)\n",
    "type typ =\n",
    "  | TyInt\n",
    "  | TyBool\n",
    "  | TyArr of typ * typ\n",
    "  | TyVar of string\n",
    "  | TyList of typ\n",
    "  [@@deriving show]\n",
    "\n",
    "(* poly types *)\n",
    "type poly_typ =\n",
    "  | TyMono of typ\n",
    "  | TyPoly of string * poly_typ (* e.g., ∀'a. 'a -> 'a *)\n",
    "  [@@deriving show]\n",
    "\n",
    "(* Expressions *)\n",
    "type expr =\n",
    "  | Var of string\n",
    "  | App of expr * expr\n",
    "  | Lam of string * typ * expr (* \\(x:T).e *)\n",
    "  | TLam of string * expr (* ('a). e*)\n",
    "  | TApp of expr * typ (* e[T] *)\n",
    "  | IntConst of int\n",
    "  | BoolConst of bool\n",
    "  | Plus of expr * expr\n",
    "  | Minus of expr * expr\n",
    "  | Mult of expr * expr\n",
    "  | Eq of expr * expr\n",
    "  | Ite of expr * expr * expr\n",
    "  | Let of string * expr * expr\n",
    "  | LetRec of string * poly_typ * expr * expr (* let rec (x:poly_typ) = e_1 in e_2 *)\n",
    "  | Cons of typ * expr * expr (* Cons[int](1+1, Nil[int]) == Cons[Int](2,Nil[Int])  *)\n",
    "  | Nil of typ\n",
    "  | Match of expr * expr * string * string * expr (* match expr1 with | [] -> expr2 | x::xs -> expr3 *)"
   ]
  },
  {
   "cell_type": "code",
   "execution_count": 80,
   "id": "48050616-f2b3-49ec-84ab-651c68ce9324",
   "metadata": {
    "tags": []
   },
   "outputs": [
    {
     "data": {
      "text/plain": [
       "exception TypeError of string\n"
      ]
     },
     "execution_count": 80,
     "metadata": {},
     "output_type": "execute_result"
    },
    {
     "data": {
      "text/plain": [
       "type typbind = string * poly_typ\n"
      ]
     },
     "execution_count": 80,
     "metadata": {},
     "output_type": "execute_result"
    },
    {
     "data": {
      "text/plain": [
       "type tyenv = typbind list\n"
      ]
     },
     "execution_count": 80,
     "metadata": {},
     "output_type": "execute_result"
    },
    {
     "data": {
      "text/plain": [
       "val well_formed_mono : tyenv -> typ -> bool = <fun>\n"
      ]
     },
     "execution_count": 80,
     "metadata": {},
     "output_type": "execute_result"
    },
    {
     "data": {
      "text/plain": [
       "val well_formed : tyenv -> poly_typ -> bool = <fun>\n"
      ]
     },
     "execution_count": 80,
     "metadata": {},
     "output_type": "execute_result"
    },
    {
     "data": {
      "text/plain": [
       "val mono_of : poly_typ -> typ = <fun>\n"
      ]
     },
     "execution_count": 80,
     "metadata": {},
     "output_type": "execute_result"
    },
    {
     "data": {
      "text/plain": [
       "val mono : typ -> poly_typ = <fun>\n"
      ]
     },
     "execution_count": 80,
     "metadata": {},
     "output_type": "execute_result"
    },
    {
     "data": {
      "text/plain": [
       "val subst_mono : typ * string -> typ -> typ = <fun>\n"
      ]
     },
     "execution_count": 80,
     "metadata": {},
     "output_type": "execute_result"
    },
    {
     "data": {
      "text/plain": [
       "val subst : typ * string -> poly_typ -> poly_typ = <fun>\n"
      ]
     },
     "execution_count": 80,
     "metadata": {},
     "output_type": "execute_result"
    },
    {
     "data": {
      "text/plain": [
       "val type_check : tyenv -> expr -> poly_typ = <fun>\n"
      ]
     },
     "execution_count": 80,
     "metadata": {},
     "output_type": "execute_result"
    }
   ],
   "source": [
    "(* Type checker for Core ML *)\n",
    "\n",
    "exception TypeError of string\n",
    "type typbind = string * poly_typ\n",
    "type tyenv = typbind list\n",
    "\n",
    "\n",
    "let rec well_formed_mono (env:tyenv) typ : bool = match typ with\n",
    "  | TyInt | TyBool -> true\n",
    "  | TyVar a -> List.exists \n",
    "                  (function (\"\",TyMono (TyVar b)) when a=b -> true\n",
    "                          | _ -> false) env\n",
    "  | TyArr(t1,t2) -> (well_formed_mono env t1) && (well_formed_mono env t2)\n",
    "  | TyList t -> well_formed_mono env t\n",
    "  \n",
    "let rec well_formed (env:tyenv) (t:poly_typ) : bool = match t with\n",
    "  | TyMono t1 -> well_formed_mono env t1 \n",
    "  | TyPoly(a,t1) -> well_formed ((\"\",TyMono (TyVar a))::env) t1 (* ∀'a.t1 *)\n",
    "  \n",
    "  \n",
    "let mono_of (t:poly_typ) : typ = match t with\n",
    "  | TyMono t -> t\n",
    "  | _ -> raise @@ TypeError \"mono_of called on non-mono polytype\"\n",
    "  \n",
    "let mono (t:typ) = TyMono t\n",
    "\n",
    "(* old_subst : (expr,string) -> expr -> expr *) \n",
    "(* [t/x]t1 --> t2 *)\n",
    "let rec subst_mono ((t,x): (typ*string)) (t1:typ) : typ = match t1 with\n",
    "  | TyInt | TyBool -> t1\n",
    "  | TyVar y when y=x -> t\n",
    "  | TyVar y -> t1\n",
    "  | TyArr (t11,t12) -> TyArr (subst_mono (t,x) t11 ,subst_mono (t,x) t12)\n",
    "  | TyList t2 -> TyList (subst_mono (t,x) t2) \n",
    "  \n",
    "(* [t/x] (∀a'.t3) --> ∀c. t5 *)\n",
    "(* [2/'a] (\\a'.t3) --> (∀a'.t3) *)\n",
    "let rec subst ((t,x): typ*string) (t1:poly_typ) : poly_typ = match t1 with\n",
    "  | TyMono t11 -> TyMono (subst_mono (t,x) t11)\n",
    "  | TyPoly(y,t11) when (x=y) -> t1\n",
    "  | TyPoly(y,t11) -> TyPoly(y, subst (t,x) t11)\n",
    "\n",
    "let rec type_check (env: tyenv) (e: expr) : poly_typ = match e with\n",
    "  | Var x -> (try List.assoc x env \n",
    "              with Not_found -> raise @@ TypeError (\"Variable \"^x^\" undefined\"))\n",
    "  | Lam(x,ty,e1) when (well_formed_mono env ty) -> \n",
    "    let bdy_typ = type_check ((x,TyMono ty)::env) e1 in\n",
    "    (* Since we only allow type variables at the prenex position, body has to be a monotype. *)\n",
    "    (match bdy_typ with\n",
    "      | TyMono b -> TyMono (TyArr(ty,b))\n",
    "      | _ -> raise @@ TypeError \"Function body has polytype!\")\n",
    "  | Lam(_,_,_) -> raise @@ TypeError \"Function argument type is ill-formed\"\n",
    "  | App(e1,e2) -> \n",
    "    let ty1 = type_check env e1 in\n",
    "    let ty2 = mono_of @@ type_check env e2 in\n",
    "    begin\n",
    "      match ty1 with\n",
    "      | TyMono (TyArr (t1,t2)) when (t1 = ty2) -> TyMono t2\n",
    "      | TyMono (TyArr (t1,t2)) -> \n",
    "        let str1 = \"Function application ill-typed.\\n\" in\n",
    "        let str2 = Printf.sprintf \"Expected type: %s\\n\" @@ show_typ t1 in\n",
    "        let str3 = Printf.sprintf \"Actual type: %s\\n\" @@ show_typ ty2 in\n",
    "        raise @@ TypeError (str1^str2^str3)\n",
    "      | _ -> raise @@ TypeError \"Polymorphic functions have to be instantiated\\\n",
    "                      \\ (monomorphized) before application.\" \n",
    "    end\n",
    "  | TLam(a,e) (* \\a. e *) -> \n",
    "    let ty_e = type_check ((\"\",mono @@ TyVar a)::env) e in\n",
    "    TyPoly(a,ty_e)\n",
    "    (* You are monomorphizing a polymorphic expression e by instantiating it on type t *)\n",
    "  | TApp(e,t) ->\n",
    "    begin\n",
    "      let pty1 = type_check env e in\n",
    "      match pty1 with\n",
    "      (* e: \\'a. 'a -> 'a;\n",
    "         e ['b] : ['b/'a] 'a -> 'a = ('b -> 'b)\n",
    "       *)\n",
    "      | TyPoly(a,typ) -> \n",
    "        let pty = subst (t,a) typ in\n",
    "        (*let _ = Printf.printf \"TApp(%s,%s) result: %s\\n%!\" \n",
    "            (show_poly_typ pty1) (show_typ t) (show_poly_typ pty) in*)\n",
    "        pty\n",
    "      | _ -> raise @@ TypeError \"A non-poly type cannot be instantiated\"\n",
    "    end\n",
    "  | IntConst _ -> mono TyInt\n",
    "  | BoolConst _ -> mono TyBool\n",
    "  | Plus(e1,e2) | Minus (e1,e2) | Mult(e1,e2) ->\n",
    "    let (ty1,ty2) = (mono_of @@ type_check env e1, mono_of @@ type_check env e2) in\n",
    "    begin\n",
    "      match ty1,ty2 with\n",
    "      | TyInt, TyInt -> mono TyInt\n",
    "      | _ -> raise @@ TypeError \"Arithmetic expression needs to have Int type\"\n",
    "    end\n",
    "  | Eq (e1,e2) ->\n",
    "    let (ty1,ty2) = (mono_of @@ type_check env e1, mono_of @@ type_check env e2) in\n",
    "    if ty1 = ty2 then mono TyBool \n",
    "    else raise @@ TypeError \"Expressions being compared have different types\"\n",
    "  | Ite(e1,e2,e3) -> \n",
    "    let ty1 = mono_of @@ type_check env e1 in\n",
    "    let ty2 = mono_of @@ type_check env e2 in\n",
    "    let ty3 = mono_of @@ type_check env e3 in\n",
    "    (match ty1 with\n",
    "    | TyBool when ty2 = ty3 -> mono ty2\n",
    "    | TyBool -> raise @@ TypeError \"If and then branches need to have same type\"\n",
    "    | _ -> raise @@ TypeError \"If scrutinee has non-boolean type\")\n",
    "  | Let(x,e1,e2) -> \n",
    "    let pty1 = type_check env e1 in\n",
    "    let pty2 = type_check ((x,pty1)::env) e2 in\n",
    "    pty2\n",
    "  | LetRec (x,ptx,e1,e2) ->\n",
    "    let env' = (x,ptx)::env in\n",
    "    let pty1 = type_check env' e1 in\n",
    "    let _ = if ptx=pty1 then () \n",
    "        else raise @@ TypeError (\"Asserted type of \"^x^\" not same as computed type\") in\n",
    "    let pty2 = type_check env' e2 in\n",
    "    pty2\n",
    "  | Cons(t,e1,e2) -> \n",
    "    let ty1 = mono_of @@ type_check env e1 in\n",
    "    let ty2 = mono_of @@ type_check env e2 in\n",
    "    if ty1 = t && ty2 = TyList t then mono @@ TyList t \n",
    "    else raise @@ TypeError \"Cons arguments ill typed\"\n",
    "  | Nil(t) -> mono @@ TyList t\n",
    "  | Match(e1,e2,x,xs,e3) -> \n",
    "    let pty1 = type_check env e1 in\n",
    "    let t = match pty1 with \n",
    "      | TyMono (TyList t) -> t\n",
    "      | _ -> raise @@ TypeError \"Match scrutinee has to be a list\" in\n",
    "    let pty2 = type_check env e2 in\n",
    "    let env' = (x,mono t)::(xs, pty1)::env in\n",
    "    let pty3 = type_check env' e3 in\n",
    "    if pty2 = pty3 then pty2 \n",
    "    else raise @@ TypeError \"Branches of 'match' have varying types\""
   ]
  },
  {
   "cell_type": "code",
   "execution_count": 61,
   "id": "e4e89595-055c-4c46-a7e6-03bbe8856e78",
   "metadata": {},
   "outputs": [
    {
     "data": {
      "text/plain": [
       "- : poly_typ = TyPoly (\"a\", TyMono (TyArr (TyVar \"a\", TyVar \"a\")))\n"
      ]
     },
     "execution_count": 61,
     "metadata": {},
     "output_type": "execute_result"
    }
   ],
   "source": [
    "let id_fun =  TLam(\"a\", Lam(\"x\", TyVar \"a\", Var \"x\")) in\n",
    "type_check [] id_fun"
   ]
  },
  {
   "cell_type": "code",
   "execution_count": 62,
   "id": "e29d90fd-8fdb-4ba1-974f-987b49581f30",
   "metadata": {},
   "outputs": [
    {
     "data": {
      "text/plain": [
       "- : poly_typ = TyMono (TyList TyInt)\n"
      ]
     },
     "execution_count": 62,
     "metadata": {},
     "output_type": "execute_result"
    }
   ],
   "source": [
    "let cons_exp1 = Cons(TyInt, IntConst 1, Nil(TyInt)) in\n",
    "type_check [] cons_exp1"
   ]
  },
  {
   "cell_type": "code",
   "execution_count": 81,
   "id": "a07b0d83-54c4-45c1-8b4a-1adf83780483",
   "metadata": {},
   "outputs": [
    {
     "data": {
      "text/plain": [
       "- : poly_typ = TyMono (TyList (TyVar \"a\"))\n"
      ]
     },
     "execution_count": 81,
     "metadata": {},
     "output_type": "execute_result"
    }
   ],
   "source": [
    "let mono_append = TApp(Var \"append\",TyVar \"a\") in\n",
    "let let_exp = Let(\"l'\",App(App(mono_append, Var \"xs\"), Var \"l2\"), \n",
    "                   Cons(TyVar \"a\", Var \"x\", Var \"l'\")) in\n",
    "let match_exp = Match(Var \"l1\", Var \"l2\", \"x\",\"xs\",let_exp) in \n",
    "let a_list_ty = TyList (TyVar \"a\") in\n",
    "let env1 = [(\"\",mono @@ TyVar \"a\"); \n",
    "            (\"l1\", mono @@ a_list_ty); \n",
    "            (\"l2\", mono @@ a_list_ty);\n",
    "            (\"append\", TyPoly(\"a\", mono @@ TyArr (a_list_ty, TyArr(a_list_ty, a_list_ty))))] in\n",
    "type_check env1 match_exp"
   ]
  },
  {
   "cell_type": "code",
   "execution_count": 64,
   "id": "9cb667a6-6577-4c71-bcff-ed426e986b2a",
   "metadata": {},
   "outputs": [
    {
     "data": {
      "text/plain": [
       "- : typ =\n",
       "TyList\n",
       " (TyArr (TyList (TyVar \"a\"), TyArr (TyList (TyVar \"a\"), TyList (TyVar \"a\"))))\n"
      ]
     },
     "execution_count": 64,
     "metadata": {},
     "output_type": "execute_result"
    }
   ],
   "source": []
  },
  {
   "cell_type": "code",
   "execution_count": null,
   "id": "1477cbb0-00d1-417a-8200-5532f4abe46e",
   "metadata": {},
   "outputs": [],
   "source": []
  }
 ],
 "metadata": {
  "kernelspec": {
   "display_name": "OCaml 4.12.0",
   "language": "OCaml",
   "name": "ocaml-jupyter"
  },
  "language_info": {
   "codemirror_mode": "text/x-ocaml",
   "file_extension": ".ml",
   "mimetype": "text/x-ocaml",
   "name": "OCaml",
   "nbconverter_exporter": null,
   "pygments_lexer": "OCaml",
   "version": "4.12.0"
  }
 },
 "nbformat": 4,
 "nbformat_minor": 5
}
