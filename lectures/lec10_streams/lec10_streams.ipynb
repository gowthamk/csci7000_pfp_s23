{
 "cells": [
  {
   "cell_type": "markdown",
   "metadata": {
    "slideshow": {
     "slide_type": "slide"
    }
   },
   "source": [
    "<center>\n",
    "\n",
    "<h1 style=\"text-align:center\"> Modules and Functional Data Structures </h1>\n",
    "<h2 style=\"text-align:center\"> CSCI7000-11 S23: Lazy Streams </h2>\n",
    "</center>\n",
    "\n",
    "$\n",
    "\\require{color}\n",
    "\\newcommand{\\colorred}[1]{\\color{\\red}{\\text{#1}}}\n",
    "$\n"
   ]
  },
  {
   "cell_type": "markdown",
   "metadata": {
    "slideshow": {
     "slide_type": "slide"
    }
   },
   "source": [
    "## Review\n",
    "\n",
    "### Previously\n",
    "\n",
    "* Modular Programming\n",
    "  + Namespacing, Abstraction, Code Reuse\n",
    "  + Structures, Signatures, Functors\n",
    "  \n",
    "### This lecture\n",
    "\n",
    "* Streams: Programming with infinite data structures\n",
    "* Laziness: Call-by-need evaluation"
   ]
  },
  {
   "cell_type": "markdown",
   "metadata": {
    "slideshow": {
     "slide_type": "slide"
    }
   },
   "source": [
    "## Recursive values\n",
    "\n",
    "* In OCaml, we can define recursive functions.\n",
    "  + we can also define **recursive values**"
   ]
  },
  {
   "cell_type": "code",
   "execution_count": 1,
   "metadata": {},
   "outputs": [
    {
     "data": {
      "text/plain": [
       "val ones : int list = [1; <cycle>]\n"
      ]
     },
     "execution_count": 1,
     "metadata": {},
     "output_type": "execute_result"
    }
   ],
   "source": [
    "(* Infinite list of ones *)\n",
    "let rec ones = 1::ones"
   ]
  },
  {
   "cell_type": "code",
   "execution_count": 1,
   "metadata": {},
   "outputs": [
    {
     "data": {
      "text/plain": [
       "val zero_ones : int list = [0; 1; <cycle>]\n"
      ]
     },
     "execution_count": 1,
     "metadata": {},
     "output_type": "execute_result"
    }
   ],
   "source": [
    "(* Infinite list of alternating 0s and 1s *)\n",
    "let rec zero_ones = 0::1::zero_ones"
   ]
  },
  {
   "cell_type": "markdown",
   "metadata": {},
   "source": [
    "Even though the list is **infinite**, the data structure uses **finite** memory. "
   ]
  },
  {
   "cell_type": "markdown",
   "metadata": {
    "slideshow": {
     "slide_type": "slide"
    }
   },
   "source": [
    "## Infinite data structures\n",
    "\n",
    "Infinite data structures are not just an intellectual curiosity.\n",
    "\n",
    "* Infinite sequences such as primes and fibonacci numbers.\n",
    "* Streams of input read from file or socket.\n",
    "* Game trees which may be infinite\n",
    "  + Every possible move leads to branch in the tree. \n",
    "  + Imagine game trees where a piece could chase the other around forever. "
   ]
  },
  {
   "cell_type": "markdown",
   "metadata": {
    "slideshow": {
     "slide_type": "slide"
    }
   },
   "source": [
    "## Limitations of cyclic structures\n",
    "\n",
    "Suppose we want to convert the infinite list `zero_ones` to string, the obvious solutions don't work. "
   ]
  },
  {
   "cell_type": "code",
   "execution_count": 3,
   "metadata": {
    "collapsed": true,
    "jupyter": {
     "outputs_hidden": true
    },
    "tags": []
   },
   "outputs": [
    {
     "ename": "error",
     "evalue": "runtime_error",
     "output_type": "error",
     "traceback": [
      "\u001b[31mStack overflow during evaluation (looping recursion?).\nRaised by primitive operation at file \"list.ml\", line 92, characters 20-23\nCalled from file \"list.ml\", line 92, characters 32-39\nCalled from file \"list.ml\", line 92, characters 32-39\nCalled from file \"list.ml\", line 92, characters 32-39\nCalled from file \"list.ml\", line 92, characters 32-39\nCalled from file \"list.ml\", line 92, characters 32-39\nCalled from file \"list.ml\", line 92, characters 32-39\nCalled from file \"list.ml\", line 92, characters 32-39\nCalled from file \"list.ml\", line 92, characters 32-39\nCalled from file \"list.ml\", line 92, characters 32-39\nCalled from file \"list.ml\", line 92, characters 32-39\nCalled from file \"list.ml\", line 92, characters 32-39\nCalled from file \"list.ml\", line 92, characters 32-39\nCalled from file \"list.ml\", line 92, characters 32-39\nCalled from file \"list.ml\", line 92, characters 32-39\nCalled from file \"list.ml\", line 92, characters 32-39\nCalled from file \"list.ml\", line 92, characters 32-39\nCalled from file \"list.ml\", line 92, characters 32-39\nCalled from file \"list.ml\", line 92, characters 32-39\nCalled from file \"list.ml\", line 92, characters 32-39\nCalled from file \"list.ml\", line 92, characters 32-39\nCalled from file \"list.ml\", line 92, characters 32-39\nCalled from file \"list.ml\", line 92, characters 32-39\nCalled from file \"list.ml\", line 92, characters 32-39\nCalled from file \"list.ml\", line 92, characters 32-39\nCalled from file \"list.ml\", line 92, characters 32-39\nCalled from file \"list.ml\", line 92, characters 32-39\nCalled from file \"list.ml\", line 92, characters 32-39\nCalled from file \"list.ml\", line 92, characters 32-39\nCalled from file \"list.ml\", line 92, characters 32-39\nCalled from file \"list.ml\", line 92, characters 32-39\nCalled from file \"list.ml\", line 92, characters 32-39\nCalled from file \"list.ml\", line 92, characters 32-39\nCalled from file \"list.ml\", line 92, characters 32-39\nCalled from file \"list.ml\", line 92, characters 32-39\nCalled from file \"list.ml\", line 92, characters 32-39\nCalled from file \"list.ml\", line 92, characters 32-39\nCalled from file \"list.ml\", line 92, characters 32-39\nCalled from file \"list.ml\", line 92, characters 32-39\nCalled from file \"list.ml\", line 92, characters 32-39\nCalled from file \"list.ml\", line 92, characters 32-39\nCalled from file \"list.ml\", line 92, characters 32-39\nCalled from file \"list.ml\", line 92, characters 32-39\nCalled from file \"list.ml\", line 92, characters 32-39\nCalled from file \"list.ml\", line 92, characters 32-39\nCalled from file \"list.ml\", line 92, characters 32-39\nCalled from file \"list.ml\", line 92, characters 32-39\nCalled from file \"list.ml\", line 92, characters 32-39\nCalled from file \"list.ml\", line 92, characters 32-39\nCalled from file \"list.ml\", line 92, characters 32-39\nCalled from file \"list.ml\", line 92, characters 32-39\nCalled from file \"list.ml\", line 92, characters 32-39\nCalled from file \"list.ml\", line 92, characters 32-39\nCalled from file \"list.ml\", line 92, characters 32-39\nCalled from file \"list.ml\", line 92, characters 32-39\nCalled from file \"list.ml\", line 92, characters 32-39\nCalled from file \"list.ml\", line 92, characters 32-39\nCalled from file \"list.ml\", line 92, characters 32-39\nCalled from file \"list.ml\", line 92, characters 32-39\nCalled from file \"list.ml\", line 92, characters 32-39\nCalled from file \"list.ml\", line 92, characters 32-39\nCalled from file \"list.ml\", line 92, characters 32-39\nCalled from file \"list.ml\", line 92, characters 32-39\nCalled from file \"list.ml\", line 92, characters 32-39\nCalled from file \"list.ml\", line 92, characters 32-39\nCalled from file \"list.ml\", line 92, characters 32-39\nCalled from file \"list.ml\", line 92, characters 32-39\nCalled from file \"list.ml\", line 92, characters 32-39\nCalled from file \"list.ml\", line 92, characters 32-39\nCalled from file \"list.ml\", line 92, characters 32-39\nCalled from file \"list.ml\", line 92, characters 32-39\nCalled from file \"list.ml\", line 92, characters 32-39\nCalled from file \"list.ml\", line 92, characters 32-39\nCalled from file \"list.ml\", line 92, characters 32-39\nCalled from file \"list.ml\", line 92, characters 32-39\nCalled from file \"list.ml\", line 92, characters 32-39\nCalled from file \"list.ml\", line 92, characters 32-39\nCalled from file \"list.ml\", line 92, characters 32-39\nCalled from file \"list.ml\", line 92, characters 32-39\nCalled from file \"list.ml\", line 92, characters 32-39\nCalled from file \"list.ml\", line 92, characters 32-39\nCalled from file \"list.ml\", line 92, characters 32-39\nCalled from file \"list.ml\", line 92, characters 32-39\nCalled from file \"list.ml\", line 92, characters 32-39\nCalled from file \"list.ml\", line 92, characters 32-39\nCalled from file \"list.ml\", line 92, characters 32-39\nCalled from file \"list.ml\", line 92, characters 32-39\nCalled from file \"list.ml\", line 92, characters 32-39\nCalled from file \"list.ml\", line 92, characters 32-39\nCalled from file \"list.ml\", line 92, characters 32-39\nCalled from file \"list.ml\", line 92, characters 32-39\nCalled from file \"list.ml\", line 92, characters 32-39\nCalled from file \"list.ml\", line 92, characters 32-39\nCalled from file \"list.ml\", line 92, characters 32-39\nCalled from file \"list.ml\", line 92, characters 32-39\nCalled from file \"list.ml\", line 92, characters 32-39\nCalled from file \"list.ml\", line 92, characters 32-39\nCalled from file \"list.ml\", line 92, characters 32-39\nCalled from file \"list.ml\", line 92, characters 32-39\nCalled from file \"list.ml\", line 92, characters 32-39\nCalled from file \"list.ml\", line 92, characters 32-39\nCalled from file \"list.ml\", line 92, characters 32-39\nCalled from file \"list.ml\", line 92, characters 32-39\nCalled from file \"list.ml\", line 92, characters 32-39\nCalled from file \"list.ml\", line 92, characters 32-39\nCalled from file \"list.ml\", line 92, characters 32-39\nCalled from file \"list.ml\", line 92, characters 32-39\nCalled from file \"list.ml\", line 92, characters 32-39\nCalled from file \"list.ml\", line 92, characters 32-39\nCalled from file \"list.ml\", line 92, characters 32-39\nCalled from file \"list.ml\", line 92, characters 32-39\nCalled from file \"list.ml\", line 92, characters 32-39\nCalled from file \"list.ml\", line 92, characters 32-39\nCalled from file \"list.ml\", line 92, characters 32-39\nCalled from file \"list.ml\", line 92, characters 32-39\nCalled from file \"list.ml\", line 92, characters 32-39\nCalled from file \"list.ml\", line 92, characters 32-39\nCalled from file \"list.ml\", line 92, characters 32-39\nCalled from file \"list.ml\", line 92, characters 32-39\nCalled from file \"list.ml\", line 92, characters 32-39\nCalled from file \"list.ml\", line 92, characters 32-39\nCalled from file \"list.ml\", line 92, characters 32-39\nCalled from file \"list.ml\", line 92, characters 32-39\nCalled from file \"list.ml\", line 92, characters 32-39\nCalled from file \"list.ml\", line 92, characters 32-39\nCalled from file \"list.ml\", line 92, characters 32-39\nCalled from file \"list.ml\", line 92, characters 32-39\nCalled from file \"list.ml\", line 92, characters 32-39\nCalled from file \"list.ml\", line 92, characters 32-39\nCalled from file \"list.ml\", line 92, characters 32-39\nCalled from file \"list.ml\", line 92, characters 32-39\nCalled from file \"list.ml\", line 92, characters 32-39\nCalled from file \"list.ml\", line 92, characters 32-39\nCalled from file \"list.ml\", line 92, characters 32-39\nCalled from file \"list.ml\", line 92, characters 32-39\nCalled from file \"list.ml\", line 92, characters 32-39\nCalled from file \"list.ml\", line 92, characters 32-39\nCalled from file \"list.ml\", line 92, characters 32-39\nCalled from file \"list.ml\", line 92, characters 32-39\nCalled from file \"list.ml\", line 92, characters 32-39\nCalled from file \"list.ml\", line 92, characters 32-39\nCalled from file \"list.ml\", line 92, characters 32-39\nCalled from file \"list.ml\", line 92, characters 32-39\nCalled from file \"list.ml\", line 92, characters 32-39\nCalled from file \"list.ml\", line 92, characters 32-39\nCalled from file \"list.ml\", line 92, characters 32-39\nCalled from file \"list.ml\", line 92, characters 32-39\nCalled from file \"list.ml\", line 92, characters 32-39\nCalled from file \"list.ml\", line 92, characters 32-39\nCalled from file \"list.ml\", line 92, characters 32-39\nCalled from file \"list.ml\", line 92, characters 32-39\nCalled from file \"list.ml\", line 92, characters 32-39\nCalled from file \"list.ml\", line 92, characters 32-39\nCalled from file \"list.ml\", line 92, characters 32-39\nCalled from file \"list.ml\", line 92, characters 32-39\nCalled from file \"list.ml\", line 92, characters 32-39\nCalled from file \"list.ml\", line 92, characters 32-39\nCalled from file \"list.ml\", line 92, characters 32-39\nCalled from file \"list.ml\", line 92, characters 32-39\nCalled from file \"list.ml\", line 92, characters 32-39\nCalled from file \"list.ml\", line 92, characters 32-39\nCalled from file \"list.ml\", line 92, characters 32-39\nCalled from file \"list.ml\", line 92, characters 32-39\nCalled from file \"list.ml\", line 92, characters 32-39\nCalled from file \"list.ml\", line 92, characters 32-39\nCalled from file \"list.ml\", line 92, characters 32-39\nCalled from file \"list.ml\", line 92, characters 32-39\nCalled from file \"list.ml\", line 92, characters 32-39\nCalled from file \"list.ml\", line 92, characters 32-39\nCalled from file \"list.ml\", line 92, characters 32-39\nCalled from file \"list.ml\", line 92, characters 32-39\nCalled from file \"list.ml\", line 92, characters 32-39\nCalled from file \"list.ml\", line 92, characters 32-39\nCalled from file \"list.ml\", line 92, characters 32-39\nCalled from file \"list.ml\", line 92, characters 32-39\nCalled from file \"list.ml\", line 92, characters 32-39\nCalled from file \"list.ml\", line 92, characters 32-39\nCalled from file \"list.ml\", line 92, characters 32-39\nCalled from file \"list.ml\", line 92, characters 32-39\nCalled from file \"list.ml\", line 92, characters 32-39\nCalled from file \"list.ml\", line 92, characters 32-39\nCalled from file \"list.ml\", line 92, characters 32-39\nCalled from file \"list.ml\", line 92, characters 32-39\nCalled from file \"list.ml\", line 92, characters 32-39\nCalled from file \"list.ml\", line 92, characters 32-39\nCalled from file \"list.ml\", line 92, characters 32-39\nCalled from file \"list.ml\", line 92, characters 32-39\nCalled from file \"list.ml\", line 92, characters 32-39\nCalled from file \"list.ml\", line 92, characters 32-39\nCalled from file \"list.ml\", line 92, characters 32-39\nCalled from file \"list.ml\", line 92, characters 32-39\nCalled from file \"list.ml\", line 92, characters 32-39\nCalled from file \"list.ml\", line 92, characters 32-39\nCalled from file \"list.ml\", line 92, characters 32-39\nCalled from file \"list.ml\", line 92, characters 32-39\nCalled from file \"list.ml\", line 92, characters 32-39\nCalled from file \"list.ml\", line 92, characters 32-39\nCalled from file \"list.ml\", line 92, characters 32-39\nCalled from file \"list.ml\", line 92, characters 32-39\nCalled from file \"list.ml\", line 92, characters 32-39\nCalled from file \"list.ml\", line 92, characters 32-39\nCalled from file \"list.ml\", line 92, characters 32-39\nCalled from file \"list.ml\", line 92, characters 32-39\nCalled from file \"list.ml\", line 92, characters 32-39\nCalled from file \"list.ml\", line 92, characters 32-39\nCalled from file \"list.ml\", line 92, characters 32-39\nCalled from file \"list.ml\", line 92, characters 32-39\nCalled from file \"list.ml\", line 92, characters 32-39\nCalled from file \"list.ml\", line 92, characters 32-39\nCalled from file \"list.ml\", line 92, characters 32-39\nCalled from file \"list.ml\", line 92, characters 32-39\nCalled from file \"list.ml\", line 92, characters 32-39\nCalled from file \"list.ml\", line 92, characters 32-39\nCalled from file \"list.ml\", line 92, characters 32-39\nCalled from file \"list.ml\", line 92, characters 32-39\nCalled from file \"list.ml\", line 92, characters 32-39\nCalled from file \"list.ml\", line 92, characters 32-39\nCalled from file \"list.ml\", line 92, characters 32-39\nCalled from file \"list.ml\", line 92, characters 32-39\nCalled from file \"list.ml\", line 92, characters 32-39\nCalled from file \"list.ml\", line 92, characters 32-39\nCalled from file \"list.ml\", line 92, characters 32-39\nCalled from file \"list.ml\", line 92, characters 32-39\nCalled from file \"list.ml\", line 92, characters 32-39\nCalled from file \"list.ml\", line 92, characters 32-39\nCalled from file \"list.ml\", line 92, characters 32-39\nCalled from file \"list.ml\", line 92, characters 32-39\nCalled from file \"list.ml\", line 92, characters 32-39\nCalled from file \"list.ml\", line 92, characters 32-39\nCalled from file \"list.ml\", line 92, characters 32-39\nCalled from file \"list.ml\", line 92, characters 32-39\nCalled from file \"list.ml\", line 92, characters 32-39\nCalled from file \"list.ml\", line 92, characters 32-39\nCalled from file \"list.ml\", line 92, characters 32-39\nCalled from file \"list.ml\", line 92, characters 32-39\nCalled from file \"list.ml\", line 92, characters 32-39\nCalled from file \"list.ml\", line 92, characters 32-39\nCalled from file \"list.ml\", line 92, characters 32-39\nCalled from file \"list.ml\", line 92, characters 32-39\nCalled from file \"list.ml\", line 92, characters 32-39\nCalled from file \"list.ml\", line 92, characters 32-39\nCalled from file \"list.ml\", line 92, characters 32-39\nCalled from file \"list.ml\", line 92, characters 32-39\nCalled from file \"list.ml\", line 92, characters 32-39\nCalled from file \"list.ml\", line 92, characters 32-39\nCalled from file \"list.ml\", line 92, characters 32-39\nCalled from file \"list.ml\", line 92, characters 32-39\nCalled from file \"list.ml\", line 92, characters 32-39\nCalled from file \"list.ml\", line 92, characters 32-39\nCalled from file \"list.ml\", line 92, characters 32-39\nCalled from file \"list.ml\", line 92, characters 32-39\nCalled from file \"list.ml\", line 92, characters 32-39\nCalled from file \"list.ml\", line 92, characters 32-39\nCalled from file \"list.ml\", line 92, characters 32-39\nCalled from file \"list.ml\", line 92, characters 32-39\nCalled from file \"list.ml\", line 92, characters 32-39\nCalled from file \"list.ml\", line 92, characters 32-39\nCalled from file \"list.ml\", line 92, characters 32-39\nCalled from file \"list.ml\", line 92, characters 32-39\nCalled from file \"list.ml\", line 92, characters 32-39\nCalled from file \"list.ml\", line 92, characters 32-39\nCalled from file \"list.ml\", line 92, characters 32-39\nCalled from file \"list.ml\", line 92, characters 32-39\nCalled from file \"list.ml\", line 92, characters 32-39\nCalled from file \"list.ml\", line 92, characters 32-39\nCalled from file \"list.ml\", line 92, characters 32-39\nCalled from file \"list.ml\", line 92, characters 32-39\nCalled from file \"list.ml\", line 92, characters 32-39\nCalled from file \"list.ml\", line 92, characters 32-39\nCalled from file \"list.ml\", line 92, characters 32-39\nCalled from file \"list.ml\", line 92, characters 32-39\nCalled from file \"list.ml\", line 92, characters 32-39\nCalled from file \"list.ml\", line 92, characters 32-39\nCalled from file \"list.ml\", line 92, characters 32-39\nCalled from file \"list.ml\", line 92, characters 32-39\nCalled from file \"list.ml\", line 92, characters 32-39\nCalled from file \"list.ml\", line 92, characters 32-39\nCalled from file \"list.ml\", line 92, characters 32-39\nCalled from file \"list.ml\", line 92, characters 32-39\nCalled from file \"list.ml\", line 92, characters 32-39\nCalled from file \"list.ml\", line 92, characters 32-39\nCalled from file \"list.ml\", line 92, characters 32-39\nCalled from file \"list.ml\", line 92, characters 32-39\nCalled from file \"list.ml\", line 92, characters 32-39\nCalled from file \"list.ml\", line 92, characters 32-39\nCalled from file \"list.ml\", line 92, characters 32-39\nCalled from file \"list.ml\", line 92, characters 32-39\nCalled from file \"list.ml\", line 92, characters 32-39\nCalled from file \"list.ml\", line 92, characters 32-39\nCalled from file \"list.ml\", line 92, characters 32-39\nCalled from file \"list.ml\", line 92, characters 32-39\nCalled from file \"list.ml\", line 92, characters 32-39\nCalled from file \"list.ml\", line 92, characters 32-39\nCalled from file \"list.ml\", line 92, characters 32-39\nCalled from file \"list.ml\", line 92, characters 32-39\nCalled from file \"list.ml\", line 92, characters 32-39\nCalled from file \"list.ml\", line 92, characters 32-39\nCalled from file \"list.ml\", line 92, characters 32-39\nCalled from file \"list.ml\", line 92, characters 32-39\nCalled from file \"list.ml\", line 92, characters 32-39\nCalled from file \"list.ml\", line 92, characters 32-39\nCalled from file \"list.ml\", line 92, characters 32-39\nCalled from file \"list.ml\", line 92, characters 32-39\nCalled from file \"list.ml\", line 92, characters 32-39\nCalled from file \"list.ml\", line 92, characters 32-39\nCalled from file \"list.ml\", line 92, characters 32-39\nCalled from file \"list.ml\", line 92, characters 32-39\nCalled from file \"list.ml\", line 92, characters 32-39\nCalled from file \"list.ml\", line 92, characters 32-39\nCalled from file \"list.ml\", line 92, characters 32-39\nCalled from file \"list.ml\", line 92, characters 32-39\nCalled from file \"list.ml\", line 92, characters 32-39\nCalled from file \"list.ml\", line 92, characters 32-39\nCalled from file \"list.ml\", line 92, characters 32-39\nCalled from file \"list.ml\", line 92, characters 32-39\nCalled from file \"list.ml\", line 92, characters 32-39\nCalled from file \"list.ml\", line 92, characters 32-39\nCalled from file \"list.ml\", line 92, characters 32-39\nCalled from file \"list.ml\", line 92, characters 32-39\nCalled from file \"list.ml\", line 92, characters 32-39\nCalled from file \"list.ml\", line 92, characters 32-39\nCalled from file \"list.ml\", line 92, characters 32-39\nCalled from file \"list.ml\", line 92, characters 32-39\nCalled from file \"list.ml\", line 92, characters 32-39\nCalled from file \"list.ml\", line 92, characters 32-39\nCalled from file \"list.ml\", line 92, characters 32-39\nCalled from file \"list.ml\", line 92, characters 32-39\nCalled from file \"list.ml\", line 92, characters 32-39\nCalled from file \"list.ml\", line 92, characters 32-39\nCalled from file \"list.ml\", line 92, characters 32-39\nCalled from file \"list.ml\", line 92, characters 32-39\nCalled from file \"list.ml\", line 92, characters 32-39\nCalled from file \"list.ml\", line 92, characters 32-39\nCalled from file \"list.ml\", line 92, characters 32-39\nCalled from file \"list.ml\", line 92, characters 32-39\nCalled from file \"list.ml\", line 92, characters 32-39\nCalled from file \"list.ml\", line 92, characters 32-39\nCalled from file \"list.ml\", line 92, characters 32-39\nCalled from file \"list.ml\", line 92, characters 32-39\nCalled from file \"list.ml\", line 92, characters 32-39\nCalled from file \"list.ml\", line 92, characters 32-39\nCalled from file \"list.ml\", line 92, characters 32-39\nCalled from file \"list.ml\", line 92, characters 32-39\nCalled from file \"list.ml\", line 92, characters 32-39\nCalled from file \"list.ml\", line 92, characters 32-39\nCalled from file \"list.ml\", line 92, characters 32-39\nCalled from file \"list.ml\", line 92, characters 32-39\nCalled from file \"list.ml\", line 92, characters 32-39\nCalled from file \"list.ml\", line 92, characters 32-39\nCalled from file \"list.ml\", line 92, characters 32-39\nCalled from file \"list.ml\", line 92, characters 32-39\nCalled from file \"list.ml\", line 92, characters 32-39\nCalled from file \"list.ml\", line 92, characters 32-39\nCalled from file \"list.ml\", line 92, characters 32-39\nCalled from file \"list.ml\", line 92, characters 32-39\nCalled from file \"list.ml\", line 92, characters 32-39\nCalled from file \"list.ml\", line 92, characters 32-39\nCalled from file \"list.ml\", line 92, characters 32-39\nCalled from file \"list.ml\", line 92, characters 32-39\nCalled from file \"list.ml\", line 92, characters 32-39\nCalled from file \"list.ml\", line 92, characters 32-39\nCalled from file \"list.ml\", line 92, characters 32-39\nCalled from file \"list.ml\", line 92, characters 32-39\nCalled from file \"list.ml\", line 92, characters 32-39\nCalled from file \"list.ml\", line 92, characters 32-39\nCalled from file \"list.ml\", line 92, characters 32-39\nCalled from file \"list.ml\", line 92, characters 32-39\nCalled from file \"list.ml\", line 92, characters 32-39\nCalled from file \"list.ml\", line 92, characters 32-39\nCalled from file \"list.ml\", line 92, characters 32-39\nCalled from file \"list.ml\", line 92, characters 32-39\nCalled from file \"list.ml\", line 92, characters 32-39\nCalled from file \"list.ml\", line 92, characters 32-39\nCalled from file \"list.ml\", line 92, characters 32-39\nCalled from file \"list.ml\", line 92, characters 32-39\nCalled from file \"list.ml\", line 92, characters 32-39\nCalled from file \"list.ml\", line 92, characters 32-39\nCalled from file \"list.ml\", line 92, characters 32-39\nCalled from file \"list.ml\", line 92, characters 32-39\nCalled from file \"list.ml\", line 92, characters 32-39\nCalled from file \"list.ml\", line 92, characters 32-39\nCalled from file \"list.ml\", line 92, characters 32-39\nCalled from file \"list.ml\", line 92, characters 32-39\nCalled from file \"list.ml\", line 92, characters 32-39\nCalled from file \"list.ml\", line 92, characters 32-39\nCalled from file \"list.ml\", line 92, characters 32-39\nCalled from file \"list.ml\", line 92, characters 32-39\nCalled from file \"list.ml\", line 92, characters 32-39\nCalled from file \"list.ml\", line 92, characters 32-39\nCalled from file \"list.ml\", line 92, characters 32-39\nCalled from file \"list.ml\", line 92, characters 32-39\nCalled from file \"list.ml\", line 92, characters 32-39\nCalled from file \"list.ml\", line 92, characters 32-39\nCalled from file \"list.ml\", line 92, characters 32-39\nCalled from file \"list.ml\", line 92, characters 32-39\nCalled from file \"list.ml\", line 92, characters 32-39\nCalled from file \"list.ml\", line 92, characters 32-39\nCalled from file \"list.ml\", line 92, characters 32-39\nCalled from file \"list.ml\", line 92, characters 32-39\nCalled from file \"list.ml\", line 92, characters 32-39\nCalled from file \"list.ml\", line 92, characters 32-39\nCalled from file \"list.ml\", line 92, characters 32-39\nCalled from file \"list.ml\", line 92, characters 32-39\nCalled from file \"list.ml\", line 92, characters 32-39\nCalled from file \"list.ml\", line 92, characters 32-39\nCalled from file \"list.ml\", line 92, characters 32-39\nCalled from file \"list.ml\", line 92, characters 32-39\nCalled from file \"list.ml\", line 92, characters 32-39\nCalled from file \"list.ml\", line 92, characters 32-39\nCalled from file \"list.ml\", line 92, characters 32-39\nCalled from file \"list.ml\", line 92, characters 32-39\nCalled from file \"list.ml\", line 92, characters 32-39\nCalled from file \"list.ml\", line 92, characters 32-39\nCalled from file \"list.ml\", line 92, characters 32-39\nCalled from file \"list.ml\", line 92, characters 32-39\nCalled from file \"list.ml\", line 92, characters 32-39\nCalled from file \"list.ml\", line 92, characters 32-39\nCalled from file \"list.ml\", line 92, characters 32-39\nCalled from file \"list.ml\", line 92, characters 32-39\nCalled from file \"list.ml\", line 92, characters 32-39\nCalled from file \"list.ml\", line 92, characters 32-39\nCalled from file \"list.ml\", line 92, characters 32-39\nCalled from file \"list.ml\", line 92, characters 32-39\nCalled from file \"list.ml\", line 92, characters 32-39\nCalled from file \"list.ml\", line 92, characters 32-39\nCalled from file \"list.ml\", line 92, characters 32-39\nCalled from file \"list.ml\", line 92, characters 32-39\nCalled from file \"list.ml\", line 92, characters 32-39\nCalled from file \"list.ml\", line 92, characters 32-39\nCalled from file \"list.ml\", line 92, characters 32-39\nCalled from file \"list.ml\", line 92, characters 32-39\nCalled from file \"list.ml\", line 92, characters 32-39\nCalled from file \"list.ml\", line 92, characters 32-39\nCalled from file \"list.ml\", line 92, characters 32-39\nCalled from file \"list.ml\", line 92, characters 32-39\nCalled from file \"list.ml\", line 92, characters 32-39\nCalled from file \"list.ml\", line 92, characters 32-39\nCalled from file \"list.ml\", line 92, characters 32-39\nCalled from file \"list.ml\", line 92, characters 32-39\nCalled from file \"list.ml\", line 92, characters 32-39\nCalled from file \"list.ml\", line 92, characters 32-39\nCalled from file \"list.ml\", line 92, characters 32-39\nCalled from file \"list.ml\", line 92, characters 32-39\nCalled from file \"list.ml\", line 92, characters 32-39\nCalled from file \"list.ml\", line 92, characters 32-39\nCalled from file \"list.ml\", line 92, characters 32-39\nCalled from file \"list.ml\", line 92, characters 32-39\nCalled from file \"list.ml\", line 92, characters 32-39\nCalled from file \"list.ml\", line 92, characters 32-39\nCalled from file \"list.ml\", line 92, characters 32-39\nCalled from file \"list.ml\", line 92, characters 32-39\nCalled from file \"list.ml\", line 92, characters 32-39\nCalled from file \"list.ml\", line 92, characters 32-39\nCalled from file \"list.ml\", line 92, characters 32-39\nCalled from file \"list.ml\", line 92, characters 32-39\nCalled from file \"list.ml\", line 92, characters 32-39\nCalled from file \"list.ml\", line 92, characters 32-39\nCalled from file \"list.ml\", line 92, characters 32-39\nCalled from file \"list.ml\", line 92, characters 32-39\nCalled from file \"list.ml\", line 92, characters 32-39\nCalled from file \"list.ml\", line 92, characters 32-39\nCalled from file \"list.ml\", line 92, characters 32-39\nCalled from file \"list.ml\", line 92, characters 32-39\nCalled from file \"list.ml\", line 92, characters 32-39\nCalled from file \"list.ml\", line 92, characters 32-39\nCalled from file \"list.ml\", line 92, characters 32-39\nCalled from file \"list.ml\", line 92, characters 32-39\nCalled from file \"list.ml\", line 92, characters 32-39\nCalled from file \"list.ml\", line 92, characters 32-39\nCalled from file \"list.ml\", line 92, characters 32-39\nCalled from file \"list.ml\", line 92, characters 32-39\nCalled from file \"list.ml\", line 92, characters 32-39\nCalled from file \"list.ml\", line 92, characters 32-39\nCalled from file \"list.ml\", line 92, characters 32-39\nCalled from file \"list.ml\", line 92, characters 32-39\nCalled from file \"list.ml\", line 92, characters 32-39\nCalled from file \"list.ml\", line 92, characters 32-39\nCalled from file \"list.ml\", line 92, characters 32-39\nCalled from file \"list.ml\", line 92, characters 32-39\nCalled from file \"list.ml\", line 92, characters 32-39\nCalled from file \"list.ml\", line 92, characters 32-39\nCalled from file \"list.ml\", line 92, characters 32-39\nCalled from file \"list.ml\", line 92, characters 32-39\nCalled from file \"list.ml\", line 92, characters 32-39\nCalled from file \"list.ml\", line 92, characters 32-39\nCalled from file \"list.ml\", line 92, characters 32-39\nCalled from file \"list.ml\", line 92, characters 32-39\nCalled from file \"list.ml\", line 92, characters 32-39\nCalled from file \"list.ml\", line 92, characters 32-39\nCalled from file \"list.ml\", line 92, characters 32-39\nCalled from file \"list.ml\", line 92, characters 32-39\nCalled from file \"list.ml\", line 92, characters 32-39\nCalled from file \"list.ml\", line 92, characters 32-39\nCalled from file \"list.ml\", line 92, characters 32-39\nCalled from file \"list.ml\", line 92, characters 32-39\nCalled from file \"list.ml\", line 92, characters 32-39\nCalled from file \"list.ml\", line 92, characters 32-39\nCalled from file \"list.ml\", line 92, characters 32-39\nCalled from file \"list.ml\", line 92, characters 32-39\nCalled from file \"list.ml\", line 92, characters 32-39\nCalled from file \"list.ml\", line 92, characters 32-39\nCalled from file \"list.ml\", line 92, characters 32-39\nCalled from file \"list.ml\", line 92, characters 32-39\nCalled from file \"list.ml\", line 92, characters 32-39\nCalled from file \"list.ml\", line 92, characters 32-39\nCalled from file \"list.ml\", line 92, characters 32-39\nCalled from file \"list.ml\", line 92, characters 32-39\nCalled from file \"list.ml\", line 92, characters 32-39\nCalled from file \"list.ml\", line 92, characters 32-39\nCalled from file \"list.ml\", line 92, characters 32-39\nCalled from file \"list.ml\", line 92, characters 32-39\nCalled from file \"list.ml\", line 92, characters 32-39\nCalled from file \"list.ml\", line 92, characters 32-39\nCalled from file \"list.ml\", line 92, characters 32-39\nCalled from file \"list.ml\", line 92, characters 32-39\nCalled from file \"list.ml\", line 92, characters 32-39\nCalled from file \"list.ml\", line 92, characters 32-39\nCalled from file \"list.ml\", line 92, characters 32-39\nCalled from file \"list.ml\", line 92, characters 32-39\nCalled from file \"list.ml\", line 92, characters 32-39\nCalled from file \"list.ml\", line 92, characters 32-39\nCalled from file \"list.ml\", line 92, characters 32-39\nCalled from file \"list.ml\", line 92, characters 32-39\nCalled from file \"list.ml\", line 92, characters 32-39\nCalled from file \"list.ml\", line 92, characters 32-39\nCalled from file \"list.ml\", line 92, characters 32-39\nCalled from file \"list.ml\", line 92, characters 32-39\nCalled from file \"list.ml\", line 92, characters 32-39\nCalled from file \"list.ml\", line 92, characters 32-39\nCalled from file \"list.ml\", line 92, characters 32-39\nCalled from file \"list.ml\", line 92, characters 32-39\nCalled from file \"list.ml\", line 92, characters 32-39\nCalled from file \"list.ml\", line 92, characters 32-39\nCalled from file \"list.ml\", line 92, characters 32-39\nCalled from file \"list.ml\", line 92, characters 32-39\nCalled from file \"list.ml\", line 92, characters 32-39\nCalled from file \"list.ml\", line 92, characters 32-39\nCalled from file \"list.ml\", line 92, characters 32-39\nCalled from file \"list.ml\", line 92, characters 32-39\nCalled from file \"list.ml\", line 92, characters 32-39\nCalled from file \"list.ml\", line 92, characters 32-39\nCalled from file \"list.ml\", line 92, characters 32-39\nCalled from file \"list.ml\", line 92, characters 32-39\nCalled from file \"list.ml\", line 92, characters 32-39\nCalled from file \"list.ml\", line 92, characters 32-39\nCalled from file \"list.ml\", line 92, characters 32-39\nCalled from file \"list.ml\", line 92, characters 32-39\nCalled from file \"list.ml\", line 92, characters 32-39\nCalled from file \"list.ml\", line 92, characters 32-39\nCalled from file \"list.ml\", line 92, characters 32-39\nCalled from file \"list.ml\", line 92, characters 32-39\nCalled from file \"list.ml\", line 92, characters 32-39\nCalled from file \"list.ml\", line 92, characters 32-39\nCalled from file \"list.ml\", line 92, characters 32-39\nCalled from file \"list.ml\", line 92, characters 32-39\nCalled from file \"list.ml\", line 92, characters 32-39\nCalled from file \"list.ml\", line 92, characters 32-39\nCalled from file \"list.ml\", line 92, characters 32-39\nCalled from file \"list.ml\", line 92, characters 32-39\nCalled from file \"list.ml\", line 92, characters 32-39\nCalled from file \"list.ml\", line 92, characters 32-39\nCalled from file \"list.ml\", line 92, characters 32-39\nCalled from file \"list.ml\", line 92, characters 32-39\nCalled from file \"list.ml\", line 92, characters 32-39\nCalled from file \"list.ml\", line 92, characters 32-39\nCalled from file \"list.ml\", line 92, characters 32-39\nCalled from file \"list.ml\", line 92, characters 32-39\nCalled from file \"list.ml\", line 92, characters 32-39\nCalled from file \"list.ml\", line 92, characters 32-39\nCalled from file \"list.ml\", line 92, characters 32-39\nCalled from file \"list.ml\", line 92, characters 32-39\nCalled from file \"list.ml\", line 92, characters 32-39\nCalled from file \"list.ml\", line 92, characters 32-39\nCalled from file \"list.ml\", line 92, characters 32-39\nCalled from file \"list.ml\", line 92, characters 32-39\nCalled from file \"list.ml\", line 92, characters 32-39\nCalled from file \"list.ml\", line 92, characters 32-39\nCalled from file \"list.ml\", line 92, characters 32-39\nCalled from file \"list.ml\", line 92, characters 32-39\nCalled from file \"list.ml\", line 92, characters 32-39\nCalled from file \"list.ml\", line 92, characters 32-39\nCalled from file \"list.ml\", line 92, characters 32-39\nCalled from file \"list.ml\", line 92, characters 32-39\nCalled from file \"list.ml\", line 92, characters 32-39\nCalled from file \"list.ml\", line 92, characters 32-39\nCalled from file \"list.ml\", line 92, characters 32-39\nCalled from file \"list.ml\", line 92, characters 32-39\nCalled from file \"list.ml\", line 92, characters 32-39\nCalled from file \"list.ml\", line 92, characters 32-39\nCalled from file \"list.ml\", line 92, characters 32-39\nCalled from file \"list.ml\", line 92, characters 32-39\nCalled from file \"list.ml\", line 92, characters 32-39\nCalled from file \"list.ml\", line 92, characters 32-39\nCalled from file \"list.ml\", line 92, characters 32-39\nCalled from file \"list.ml\", line 92, characters 32-39\nCalled from file \"list.ml\", line 92, characters 32-39\nCalled from file \"list.ml\", line 92, characters 32-39\nCalled from file \"list.ml\", line 92, characters 32-39\nCalled from file \"list.ml\", line 92, characters 32-39\nCalled from file \"list.ml\", line 92, characters 32-39\nCalled from file \"list.ml\", line 92, characters 32-39\nCalled from file \"list.ml\", line 92, characters 32-39\nCalled from file \"list.ml\", line 92, characters 32-39\nCalled from file \"list.ml\", line 92, characters 32-39\nCalled from file \"list.ml\", line 92, characters 32-39\nCalled from file \"list.ml\", line 92, characters 32-39\nCalled from file \"list.ml\", line 92, characters 32-39\nCalled from file \"list.ml\", line 92, characters 32-39\nCalled from file \"list.ml\", line 92, characters 32-39\nCalled from file \"list.ml\", line 92, characters 32-39\nCalled from file \"list.ml\", line 92, characters 32-39\nCalled from file \"list.ml\", line 92, characters 32-39\nCalled from file \"list.ml\", line 92, characters 32-39\nCalled from file \"list.ml\", line 92, characters 32-39\nCalled from file \"list.ml\", line 92, characters 32-39\nCalled from file \"list.ml\", line 92, characters 32-39\nCalled from file \"list.ml\", line 92, characters 32-39\nCalled from file \"list.ml\", line 92, characters 32-39\nCalled from file \"list.ml\", line 92, characters 32-39\nCalled from file \"list.ml\", line 92, characters 32-39\nCalled from file \"list.ml\", line 92, characters 32-39\nCalled from file \"list.ml\", line 92, characters 32-39\nCalled from file \"list.ml\", line 92, characters 32-39\nCalled from file \"list.ml\", line 92, characters 32-39\nCalled from file \"list.ml\", line 92, characters 32-39\nCalled from file \"list.ml\", line 92, characters 32-39\nCalled from file \"list.ml\", line 92, characters 32-39\nCalled from file \"list.ml\", line 92, characters 32-39\nCalled from file \"list.ml\", line 92, characters 32-39\nCalled from file \"list.ml\", line 92, characters 32-39\nCalled from file \"list.ml\", line 92, characters 32-39\nCalled from file \"list.ml\", line 92, characters 32-39\nCalled from file \"list.ml\", line 92, characters 32-39\nCalled from file \"list.ml\", line 92, characters 32-39\nCalled from file \"list.ml\", line 92, characters 32-39\nCalled from file \"list.ml\", line 92, characters 32-39\nCalled from file \"list.ml\", line 92, characters 32-39\nCalled from file \"list.ml\", line 92, characters 32-39\nCalled from file \"list.ml\", line 92, characters 32-39\nCalled from file \"list.ml\", line 92, characters 32-39\nCalled from file \"list.ml\", line 92, characters 32-39\nCalled from file \"list.ml\", line 92, characters 32-39\nCalled from file \"list.ml\", line 92, characters 32-39\nCalled from file \"list.ml\", line 92, characters 32-39\nCalled from file \"list.ml\", line 92, characters 32-39\nCalled from file \"list.ml\", line 92, characters 32-39\nCalled from file \"list.ml\", line 92, characters 32-39\nCalled from file \"list.ml\", line 92, characters 32-39\nCalled from file \"list.ml\", line 92, characters 32-39\nCalled from file \"list.ml\", line 92, characters 32-39\nCalled from file \"list.ml\", line 92, characters 32-39\nCalled from file \"list.ml\", line 92, characters 32-39\nCalled from file \"list.ml\", line 92, characters 32-39\nCalled from file \"list.ml\", line 92, characters 32-39\nCalled from file \"list.ml\", line 92, characters 32-39\nCalled from file \"list.ml\", line 92, characters 32-39\nCalled from file \"list.ml\", line 92, characters 32-39\nCalled from file \"list.ml\", line 92, characters 32-39\nCalled from file \"list.ml\", line 92, characters 32-39\nCalled from file \"list.ml\", line 92, characters 32-39\nCalled from file \"list.ml\", line 92, characters 32-39\nCalled from file \"list.ml\", line 92, characters 32-39\nCalled from file \"list.ml\", line 92, characters 32-39\nCalled from file \"list.ml\", line 92, characters 32-39\nCalled from file \"list.ml\", line 92, characters 32-39\nCalled from file \"list.ml\", line 92, characters 32-39\nCalled from file \"list.ml\", line 92, characters 32-39\nCalled from file \"list.ml\", line 92, characters 32-39\nCalled from file \"list.ml\", line 92, characters 32-39\nCalled from file \"list.ml\", line 92, characters 32-39\nCalled from file \"list.ml\", line 92, characters 32-39\nCalled from file \"list.ml\", line 92, characters 32-39\nCalled from file \"list.ml\", line 92, characters 32-39\nCalled from file \"list.ml\", line 92, characters 32-39\nCalled from file \"list.ml\", line 92, characters 32-39\nCalled from file \"list.ml\", line 92, characters 32-39\nCalled from file \"list.ml\", line 92, characters 32-39\nCalled from file \"list.ml\", line 92, characters 32-39\nCalled from file \"list.ml\", line 92, characters 32-39\nCalled from file \"list.ml\", line 92, characters 32-39\nCalled from file \"list.ml\", line 92, characters 32-39\nCalled from file \"list.ml\", line 92, characters 32-39\nCalled from file \"list.ml\", line 92, characters 32-39\nCalled from file \"list.ml\", line 92, characters 32-39\nCalled from file \"list.ml\", line 92, characters 32-39\nCalled from file \"list.ml\", line 92, characters 32-39\nCalled from file \"list.ml\", line 92, characters 32-39\nCalled from file \"list.ml\", line 92, characters 32-39\nCalled from file \"list.ml\", line 92, characters 32-39\nCalled from file \"list.ml\", line 92, characters 32-39\nCalled from file \"list.ml\", line 92, characters 32-39\nCalled from file \"list.ml\", line 92, characters 32-39\nCalled from file \"list.ml\", line 92, characters 32-39\nCalled from file \"list.ml\", line 92, characters 32-39\nCalled from file \"list.ml\", line 92, characters 32-39\nCalled from file \"list.ml\", line 92, characters 32-39\nCalled from file \"list.ml\", line 92, characters 32-39\nCalled from file \"list.ml\", line 92, characters 32-39\nCalled from file \"list.ml\", line 92, characters 32-39\nCalled from file \"list.ml\", line 92, characters 32-39\nCalled from file \"list.ml\", line 92, characters 32-39\nCalled from file \"list.ml\", line 92, characters 32-39\nCalled from file \"list.ml\", line 92, characters 32-39\nCalled from file \"list.ml\", line 92, characters 32-39\nCalled from file \"list.ml\", line 92, characters 32-39\nCalled from file \"list.ml\", line 92, characters 32-39\nCalled from file \"list.ml\", line 92, characters 32-39\nCalled from file \"list.ml\", line 92, characters 32-39\nCalled from file \"list.ml\", line 92, characters 32-39\nCalled from file \"list.ml\", line 92, characters 32-39\nCalled from file \"list.ml\", line 92, characters 32-39\nCalled from file \"list.ml\", line 92, characters 32-39\nCalled from file \"list.ml\", line 92, characters 32-39\nCalled from file \"list.ml\", line 92, characters 32-39\nCalled from file \"list.ml\", line 92, characters 32-39\nCalled from file \"list.ml\", line 92, characters 32-39\nCalled from file \"list.ml\", line 92, characters 32-39\nCalled from file \"list.ml\", line 92, characters 32-39\nCalled from file \"list.ml\", line 92, characters 32-39\nCalled from file \"list.ml\", line 92, characters 32-39\nCalled from file \"list.ml\", line 92, characters 32-39\nCalled from file \"list.ml\", line 92, characters 32-39\nCalled from file \"list.ml\", line 92, characters 32-39\nCalled from file \"list.ml\", line 92, characters 32-39\nCalled from file \"list.ml\", line 92, characters 32-39\nCalled from file \"list.ml\", line 92, characters 32-39\nCalled from file \"list.ml\", line 92, characters 32-39\nCalled from file \"list.ml\", line 92, characters 32-39\nCalled from file \"list.ml\", line 92, characters 32-39\nCalled from file \"list.ml\", line 92, characters 32-39\nCalled from file \"list.ml\", line 92, characters 32-39\nCalled from file \"list.ml\", line 92, characters 32-39\nCalled from file \"list.ml\", line 92, characters 32-39\nCalled from file \"list.ml\", line 92, characters 32-39\nCalled from file \"list.ml\", line 92, characters 32-39\nCalled from file \"list.ml\", line 92, characters 32-39\nCalled from file \"list.ml\", line 92, characters 32-39\nCalled from file \"list.ml\", line 92, characters 32-39\nCalled from file \"list.ml\", line 92, characters 32-39\nCalled from file \"list.ml\", line 92, characters 32-39\nCalled from file \"list.ml\", line 92, characters 32-39\nCalled from file \"list.ml\", line 92, characters 32-39\nCalled from file \"list.ml\", line 92, characters 32-39\nCalled from file \"list.ml\", line 92, characters 32-39\nCalled from file \"list.ml\", line 92, characters 32-39\nCalled from file \"list.ml\", line 92, characters 32-39\nCalled from file \"list.ml\", line 92, characters 32-39\nCalled from file \"list.ml\", line 92, characters 32-39\nCalled from file \"list.ml\", line 92, characters 32-39\nCalled from file \"list.ml\", line 92, characters 32-39\nCalled from file \"list.ml\", line 92, characters 32-39\nCalled from file \"list.ml\", line 92, characters 32-39\nCalled from file \"list.ml\", line 92, characters 32-39\nCalled from file \"list.ml\", line 92, characters 32-39\nCalled from file \"list.ml\", line 92, characters 32-39\nCalled from file \"list.ml\", line 92, characters 32-39\nCalled from file \"list.ml\", line 92, characters 32-39\nCalled from file \"list.ml\", line 92, characters 32-39\nCalled from file \"list.ml\", line 92, characters 32-39\nCalled from file \"list.ml\", line 92, characters 32-39\nCalled from file \"list.ml\", line 92, characters 32-39\nCalled from file \"list.ml\", line 92, characters 32-39\nCalled from file \"list.ml\", line 92, characters 32-39\nCalled from file \"list.ml\", line 92, characters 32-39\nCalled from file \"list.ml\", line 92, characters 32-39\nCalled from file \"list.ml\", line 92, characters 32-39\nCalled from file \"list.ml\", line 92, characters 32-39\nCalled from file \"list.ml\", line 92, characters 32-39\nCalled from file \"list.ml\", line 92, characters 32-39\nCalled from file \"list.ml\", line 92, characters 32-39\nCalled from file \"list.ml\", line 92, characters 32-39\nCalled from file \"list.ml\", line 92, characters 32-39\nCalled from file \"list.ml\", line 92, characters 32-39\nCalled from file \"list.ml\", line 92, characters 32-39\nCalled from file \"list.ml\", line 92, characters 32-39\nCalled from file \"list.ml\", line 92, characters 32-39\nCalled from file \"list.ml\", line 92, characters 32-39\nCalled from file \"list.ml\", line 92, characters 32-39\nCalled from file \"list.ml\", line 92, characters 32-39\nCalled from file \"list.ml\", line 92, characters 32-39\nCalled from file \"list.ml\", line 92, characters 32-39\nCalled from file \"list.ml\", line 92, characters 32-39\nCalled from file \"list.ml\", line 92, characters 32-39\nCalled from file \"list.ml\", line 92, characters 32-39\nCalled from file \"list.ml\", line 92, characters 32-39\nCalled from file \"list.ml\", line 92, characters 32-39\nCalled from file \"list.ml\", line 92, characters 32-39\nCalled from file \"list.ml\", line 92, characters 32-39\nCalled from file \"list.ml\", line 92, characters 32-39\nCalled from file \"list.ml\", line 92, characters 32-39\nCalled from file \"list.ml\", line 92, characters 32-39\nCalled from file \"list.ml\", line 92, characters 32-39\nCalled from file \"list.ml\", line 92, characters 32-39\nCalled from file \"list.ml\", line 92, characters 32-39\nCalled from file \"list.ml\", line 92, characters 32-39\nCalled from file \"list.ml\", line 92, characters 32-39\nCalled from file \"list.ml\", line 92, characters 32-39\nCalled from file \"list.ml\", line 92, characters 32-39\nCalled from file \"list.ml\", line 92, characters 32-39\nCalled from file \"list.ml\", line 92, characters 32-39\nCalled from file \"list.ml\", line 92, characters 32-39\nCalled from file \"list.ml\", line 92, characters 32-39\nCalled from file \"list.ml\", line 92, characters 32-39\nCalled from file \"list.ml\", line 92, characters 32-39\nCalled from file \"list.ml\", line 92, characters 32-39\nCalled from file \"list.ml\", line 92, characters 32-39\nCalled from file \"list.ml\", line 92, characters 32-39\nCalled from file \"list.ml\", line 92, characters 32-39\nCalled from file \"list.ml\", line 92, characters 32-39\nCalled from file \"list.ml\", line 92, characters 32-39\nCalled from file \"list.ml\", line 92, characters 32-39\nCalled from file \"list.ml\", line 92, characters 32-39\nCalled from file \"list.ml\", line 92, characters 32-39\nCalled from file \"list.ml\", line 92, characters 32-39\nCalled from file \"list.ml\", line 92, characters 32-39\nCalled from file \"list.ml\", line 92, characters 32-39\nCalled from file \"list.ml\", line 92, characters 32-39\nCalled from file \"list.ml\", line 92, characters 32-39\nCalled from file \"list.ml\", line 92, characters 32-39\nCalled from file \"list.ml\", line 92, characters 32-39\nCalled from file \"list.ml\", line 92, characters 32-39\nCalled from file \"list.ml\", line 92, characters 32-39\nCalled from file \"list.ml\", line 92, characters 32-39\nCalled from file \"list.ml\", line 92, characters 32-39\nCalled from file \"list.ml\", line 92, characters 32-39\nCalled from file \"list.ml\", line 92, characters 32-39\nCalled from file \"list.ml\", line 92, characters 32-39\nCalled from file \"list.ml\", line 92, characters 32-39\nCalled from file \"list.ml\", line 92, characters 32-39\nCalled from file \"list.ml\", line 92, characters 32-39\nCalled from file \"list.ml\", line 92, characters 32-39\nCalled from file \"list.ml\", line 92, characters 32-39\nCalled from file \"list.ml\", line 92, characters 32-39\nCalled from file \"list.ml\", line 92, characters 32-39\nCalled from file \"list.ml\", line 92, characters 32-39\nCalled from file \"list.ml\", line 92, characters 32-39\nCalled from file \"list.ml\", line 92, characters 32-39\nCalled from file \"list.ml\", line 92, characters 32-39\nCalled from file \"list.ml\", line 92, characters 32-39\nCalled from file \"list.ml\", line 92, characters 32-39\nCalled from file \"list.ml\", line 92, characters 32-39\nCalled from file \"list.ml\", line 92, characters 32-39\nCalled from file \"list.ml\", line 92, characters 32-39\nCalled from file \"list.ml\", line 92, characters 32-39\nCalled from file \"list.ml\", line 92, characters 32-39\nCalled from file \"list.ml\", line 92, characters 32-39\nCalled from file \"list.ml\", line 92, characters 32-39\nCalled from file \"list.ml\", line 92, characters 32-39\nCalled from file \"list.ml\", line 92, characters 32-39\nCalled from file \"list.ml\", line 92, characters 32-39\nCalled from file \"list.ml\", line 92, characters 32-39\nCalled from file \"list.ml\", line 92, characters 32-39\nCalled from file \"list.ml\", line 92, characters 32-39\nCalled from file \"list.ml\", line 92, characters 32-39\nCalled from file \"list.ml\", line 92, characters 32-39\nCalled from file \"list.ml\", line 92, characters 32-39\nCalled from file \"list.ml\", line 92, characters 32-39\nCalled from file \"list.ml\", line 92, characters 32-39\nCalled from file \"list.ml\", line 92, characters 32-39\nCalled from file \"list.ml\", line 92, characters 32-39\nCalled from file \"list.ml\", line 92, characters 32-39\nCalled from file \"list.ml\", line 92, characters 32-39\nCalled from file \"list.ml\", line 92, characters 32-39\nCalled from file \"list.ml\", line 92, characters 32-39\nCalled from file \"list.ml\", line 92, characters 32-39\nCalled from file \"list.ml\", line 92, characters 32-39\nCalled from file \"list.ml\", line 92, characters 32-39\nCalled from file \"list.ml\", line 92, characters 32-39\nCalled from file \"list.ml\", line 92, characters 32-39\nCalled from file \"list.ml\", line 92, characters 32-39\nCalled from file \"list.ml\", line 92, characters 32-39\nCalled from file \"list.ml\", line 92, characters 32-39\nCalled from file \"list.ml\", line 92, characters 32-39\nCalled from file \"list.ml\", line 92, characters 32-39\nCalled from file \"list.ml\", line 92, characters 32-39\nCalled from file \"list.ml\", line 92, characters 32-39\nCalled from file \"list.ml\", line 92, characters 32-39\nCalled from file \"list.ml\", line 92, characters 32-39\nCalled from file \"list.ml\", line 92, characters 32-39\nCalled from file \"list.ml\", line 92, characters 32-39\nCalled from file \"list.ml\", line 92, characters 32-39\nCalled from file \"list.ml\", line 92, characters 32-39\nCalled from file \"list.ml\", line 92, characters 32-39\nCalled from file \"list.ml\", line 92, characters 32-39\nCalled from file \"list.ml\", line 92, characters 32-39\nCalled from file \"list.ml\", line 92, characters 32-39\nCalled from file \"list.ml\", line 92, characters 32-39\nCalled from file \"list.ml\", line 92, characters 32-39\nCalled from file \"list.ml\", line 92, characters 32-39\nCalled from file \"list.ml\", line 92, characters 32-39\nCalled from file \"list.ml\", line 92, characters 32-39\nCalled from file \"list.ml\", line 92, characters 32-39\nCalled from file \"list.ml\", line 92, characters 32-39\nCalled from file \"list.ml\", line 92, characters 32-39\nCalled from file \"list.ml\", line 92, characters 32-39\nCalled from file \"list.ml\", line 92, characters 32-39\nCalled from file \"list.ml\", line 92, characters 32-39\nCalled from file \"list.ml\", line 92, characters 32-39\nCalled from file \"list.ml\", line 92, characters 32-39\nCalled from file \"list.ml\", line 92, characters 32-39\nCalled from file \"list.ml\", line 92, characters 32-39\nCalled from file \"list.ml\", line 92, characters 32-39\nCalled from file \"list.ml\", line 92, characters 32-39\nCalled from file \"list.ml\", line 92, characters 32-39\nCalled from file \"list.ml\", line 92, characters 32-39\nCalled from file \"list.ml\", line 92, characters 32-39\nCalled from file \"list.ml\", line 92, characters 32-39\nCalled from file \"list.ml\", line 92, characters 32-39\nCalled from file \"list.ml\", line 92, characters 32-39\nCalled from file \"list.ml\", line 92, characters 32-39\nCalled from file \"list.ml\", line 92, characters 32-39\nCalled from file \"list.ml\", line 92, characters 32-39\nCalled from file \"list.ml\", line 92, characters 32-39\nCalled from file \"list.ml\", line 92, characters 32-39\nCalled from file \"list.ml\", line 92, characters 32-39\nCalled from file \"list.ml\", line 92, characters 32-39\nCalled from file \"list.ml\", line 92, characters 32-39\nCalled from file \"list.ml\", line 92, characters 32-39\nCalled from file \"list.ml\", line 92, characters 32-39\nCalled from file \"list.ml\", line 92, characters 32-39\nCalled from file \"list.ml\", line 92, characters 32-39\nCalled from file \"list.ml\", line 92, characters 32-39\nCalled from file \"list.ml\", line 92, characters 32-39\nCalled from file \"list.ml\", line 92, characters 32-39\nCalled from file \"list.ml\", line 92, characters 32-39\nCalled from file \"list.ml\", line 92, characters 32-39\nCalled from file \"list.ml\", line 92, characters 32-39\nCalled from file \"list.ml\", line 92, characters 32-39\nCalled from file \"list.ml\", line 92, characters 32-39\nCalled from file \"list.ml\", line 92, characters 32-39\nCalled from file \"list.ml\", line 92, characters 32-39\nCalled from file \"list.ml\", line 92, characters 32-39\nCalled from file \"list.ml\", line 92, characters 32-39\nCalled from file \"list.ml\", line 92, characters 32-39\nCalled from file \"list.ml\", line 92, characters 32-39\nCalled from file \"list.ml\", line 92, characters 32-39\nCalled from file \"list.ml\", line 92, characters 32-39\nCalled from file \"list.ml\", line 92, characters 32-39\nCalled from file \"list.ml\", line 92, characters 32-39\nCalled from file \"list.ml\", line 92, characters 32-39\nCalled from file \"list.ml\", line 92, characters 32-39\nCalled from file \"list.ml\", line 92, characters 32-39\nCalled from file \"list.ml\", line 92, characters 32-39\nCalled from file \"list.ml\", line 92, characters 32-39\nCalled from file \"list.ml\", line 92, characters 32-39\nCalled from file \"list.ml\", line 92, characters 32-39\nCalled from file \"list.ml\", line 92, characters 32-39\nCalled from file \"list.ml\", line 92, characters 32-39\nCalled from file \"list.ml\", line 92, characters 32-39\nCalled from file \"list.ml\", line 92, characters 32-39\nCalled from file \"list.ml\", line 92, characters 32-39\nCalled from file \"list.ml\", line 92, characters 32-39\nCalled from file \"list.ml\", line 92, characters 32-39\nCalled from file \"list.ml\", line 92, characters 32-39\nCalled from file \"list.ml\", line 92, characters 32-39\nCalled from file \"list.ml\", line 92, characters 32-39\nCalled from file \"list.ml\", line 92, characters 32-39\nCalled from file \"list.ml\", line 92, characters 32-39\nCalled from file \"list.ml\", line 92, characters 32-39\nCalled from file \"list.ml\", line 92, characters 32-39\nCalled from file \"list.ml\", line 92, characters 32-39\nCalled from file \"list.ml\", line 92, characters 32-39\nCalled from file \"list.ml\", line 92, characters 32-39\nCalled from file \"list.ml\", line 92, characters 32-39\nCalled from file \"list.ml\", line 92, characters 32-39\nCalled from file \"list.ml\", line 92, characters 32-39\nCalled from file \"list.ml\", line 92, characters 32-39\nCalled from file \"list.ml\", line 92, characters 32-39\nCalled from file \"list.ml\", line 92, characters 32-39\nCalled from file \"list.ml\", line 92, characters 32-39\nCalled from file \"list.ml\", line 92, characters 32-39\nCalled from file \"list.ml\", line 92, characters 32-39\nCalled from file \"list.ml\", line 92, characters 32-39\nCalled from file \"list.ml\", line 92, characters 32-39\nCalled from file \"list.ml\", line 92, characters 32-39\nCalled from file \"list.ml\", line 92, characters 32-39\nCalled from file \"list.ml\", line 92, characters 32-39\nCalled from file \"list.ml\", line 92, characters 32-39\nCalled from file \"list.ml\", line 92, characters 32-39\nCalled from file \"list.ml\", line 92, characters 32-39\nCalled from file \"list.ml\", line 92, characters 32-39\nCalled from file \"list.ml\", line 92, characters 32-39\nCalled from file \"list.ml\", line 92, characters 32-39\nCalled from file \"list.ml\", line 92, characters 32-39\nCalled from file \"list.ml\", line 92, characters 32-39\nCalled from file \"list.ml\", line 92, characters 32-39\nCalled from file \"list.ml\", line 92, characters 32-39\nCalled from file \"list.ml\", line 92, characters 32-39\nCalled from file \"list.ml\", line 92, characters 32-39\nCalled from file \"list.ml\", line 92, characters 32-39\nCalled from file \"list.ml\", line 92, characters 32-39\nCalled from file \"list.ml\", line 92, characters 32-39\nCalled from file \"list.ml\", line 92, characters 32-39\nCalled from file \"list.ml\", line 92, characters 32-39\nCalled from file \"list.ml\", line 92, characters 32-39\nCalled from file \"list.ml\", line 92, characters 32-39\nCalled from file \"list.ml\", line 92, characters 32-39\nCalled from file \"list.ml\", line 92, characters 32-39\nCalled from file \"list.ml\", line 92, characters 32-39\nCalled from file \"list.ml\", line 92, characters 32-39\nCalled from file \"list.ml\", line 92, characters 32-39\nCalled from file \"list.ml\", line 92, characters 32-39\nCalled from file \"list.ml\", line 92, characters 32-39\nCalled from file \"list.ml\", line 92, characters 32-39\nCalled from file \"list.ml\", line 92, characters 32-39\nCalled from file \"list.ml\", line 92, characters 32-39\nCalled from file \"list.ml\", line 92, characters 32-39\nCalled from file \"list.ml\", line 92, characters 32-39\nCalled from file \"list.ml\", line 92, characters 32-39\nCalled from file \"list.ml\", line 92, characters 32-39\nCalled from file \"list.ml\", line 92, characters 32-39\nCalled from file \"list.ml\", line 92, characters 32-39\nCalled from file \"list.ml\", line 92, characters 32-39\nCalled from file \"list.ml\", line 92, characters 32-39\nCalled from file \"list.ml\", line 92, characters 32-39\nCalled from file \"list.ml\", line 92, characters 32-39\nCalled from file \"list.ml\", line 92, characters 32-39\nCalled from file \"list.ml\", line 92, characters 32-39\nCalled from file \"list.ml\", line 92, characters 32-39\nCalled from file \"list.ml\", line 92, characters 32-39\nCalled from file \"list.ml\", line 92, characters 32-39\nCalled from file \"list.ml\", line 92, characters 32-39\nCalled from file \"list.ml\", line 92, characters 32-39\nCalled from file \"list.ml\", line 92, characters 32-39\n\u001b[0m"
     ]
    }
   ],
   "source": [
    "let zero_ones_string = List.map string_of_int zero_ones"
   ]
  },
  {
   "cell_type": "code",
   "execution_count": 2,
   "metadata": {},
   "outputs": [
    {
     "ename": "error",
     "evalue": "compile_error",
     "output_type": "error",
     "traceback": [
      "File \"[2]\", line 1, characters 11-15:\n1 | fun x y -> Cons (x,y)\n               ^^^^\nError: Unbound constructor Cons\n"
     ]
    }
   ],
   "source": [
    "fun x y -> Cons (x,y)"
   ]
  },
  {
   "cell_type": "markdown",
   "metadata": {
    "slideshow": {
     "slide_type": "slide"
    }
   },
   "source": [
    "## List to Streams\n",
    "\n",
    "Start off from what we know -- list datatype:\n",
    "\n",
    "```ocaml\n",
    "type 'a list = Nil | Cons of 'a * 'a list\n",
    "```\n",
    "\n",
    "and make a **stream** type."
   ]
  },
  {
   "cell_type": "code",
   "execution_count": 3,
   "metadata": {},
   "outputs": [
    {
     "data": {
      "text/plain": [
       "type 'a stream = Cons of 'a * 'a stream\n"
      ]
     },
     "execution_count": 3,
     "metadata": {},
     "output_type": "execute_result"
    }
   ],
   "source": [
    "type 'a stream = Cons of 'a * 'a stream"
   ]
  },
  {
   "cell_type": "markdown",
   "metadata": {},
   "source": [
    "There is no `Nil` since the streams are infinite. "
   ]
  },
  {
   "cell_type": "markdown",
   "metadata": {
    "slideshow": {
     "slide_type": "slide"
    }
   },
   "source": [
    "## Doesn't quite work"
   ]
  },
  {
   "cell_type": "code",
   "execution_count": 4,
   "metadata": {},
   "outputs": [
    {
     "data": {
      "text/plain": [
       "val zero_ones : int stream = Cons (0, Cons (1, <cycle>))\n"
      ]
     },
     "execution_count": 4,
     "metadata": {},
     "output_type": "execute_result"
    }
   ],
   "source": [
    "let rec zero_ones = Cons (0, Cons (1, zero_ones))"
   ]
  },
  {
   "cell_type": "code",
   "execution_count": 6,
   "metadata": {},
   "outputs": [
    {
     "data": {
      "text/plain": [
       "val to_string : int stream -> string stream = <fun>\n"
      ]
     },
     "execution_count": 6,
     "metadata": {},
     "output_type": "execute_result"
    }
   ],
   "source": [
    "let rec to_string (Cons(x,xs)) = Cons(string_of_int x, to_string xs)"
   ]
  },
  {
   "cell_type": "code",
   "execution_count": 7,
   "metadata": {
    "collapsed": true,
    "jupyter": {
     "outputs_hidden": true
    },
    "tags": []
   },
   "outputs": [
    {
     "ename": "error",
     "evalue": "runtime_error",
     "output_type": "error",
     "traceback": [
      "\u001b[31mStack overflow during evaluation (looping recursion?).\nRaised by primitive operation at file \"[6]\", line 1, characters 55-67\nCalled from file \"[6]\", line 1, characters 55-67\nCalled from file \"[6]\", line 1, characters 55-67\nCalled from file \"[6]\", line 1, characters 55-67\nCalled from file \"[6]\", line 1, characters 55-67\nCalled from file \"[6]\", line 1, characters 55-67\nCalled from file \"[6]\", line 1, characters 55-67\nCalled from file \"[6]\", line 1, characters 55-67\nCalled from file \"[6]\", line 1, characters 55-67\nCalled from file \"[6]\", line 1, characters 55-67\nCalled from file \"[6]\", line 1, characters 55-67\nCalled from file \"[6]\", line 1, characters 55-67\nCalled from file \"[6]\", line 1, characters 55-67\nCalled from file \"[6]\", line 1, characters 55-67\nCalled from file \"[6]\", line 1, characters 55-67\nCalled from file \"[6]\", line 1, characters 55-67\nCalled from file \"[6]\", line 1, characters 55-67\nCalled from file \"[6]\", line 1, characters 55-67\nCalled from file \"[6]\", line 1, characters 55-67\nCalled from file \"[6]\", line 1, characters 55-67\nCalled from file \"[6]\", line 1, characters 55-67\nCalled from file \"[6]\", line 1, characters 55-67\nCalled from file \"[6]\", line 1, characters 55-67\nCalled from file \"[6]\", line 1, characters 55-67\nCalled from file \"[6]\", line 1, characters 55-67\nCalled from file \"[6]\", line 1, characters 55-67\nCalled from file \"[6]\", line 1, characters 55-67\nCalled from file \"[6]\", line 1, characters 55-67\nCalled from file \"[6]\", line 1, characters 55-67\nCalled from file \"[6]\", line 1, characters 55-67\nCalled from file \"[6]\", line 1, characters 55-67\nCalled from file \"[6]\", line 1, characters 55-67\nCalled from file \"[6]\", line 1, characters 55-67\nCalled from file \"[6]\", line 1, characters 55-67\nCalled from file \"[6]\", line 1, characters 55-67\nCalled from file \"[6]\", line 1, characters 55-67\nCalled from file \"[6]\", line 1, characters 55-67\nCalled from file \"[6]\", line 1, characters 55-67\nCalled from file \"[6]\", line 1, characters 55-67\nCalled from file \"[6]\", line 1, characters 55-67\nCalled from file \"[6]\", line 1, characters 55-67\nCalled from file \"[6]\", line 1, characters 55-67\nCalled from file \"[6]\", line 1, characters 55-67\nCalled from file \"[6]\", line 1, characters 55-67\nCalled from file \"[6]\", line 1, characters 55-67\nCalled from file \"[6]\", line 1, characters 55-67\nCalled from file \"[6]\", line 1, characters 55-67\nCalled from file \"[6]\", line 1, characters 55-67\nCalled from file \"[6]\", line 1, characters 55-67\nCalled from file \"[6]\", line 1, characters 55-67\nCalled from file \"[6]\", line 1, characters 55-67\nCalled from file \"[6]\", line 1, characters 55-67\nCalled from file \"[6]\", line 1, characters 55-67\nCalled from file \"[6]\", line 1, characters 55-67\nCalled from file \"[6]\", line 1, characters 55-67\nCalled from file \"[6]\", line 1, characters 55-67\nCalled from file \"[6]\", line 1, characters 55-67\nCalled from file \"[6]\", line 1, characters 55-67\nCalled from file \"[6]\", line 1, characters 55-67\nCalled from file \"[6]\", line 1, characters 55-67\nCalled from file \"[6]\", line 1, characters 55-67\nCalled from file \"[6]\", line 1, characters 55-67\nCalled from file \"[6]\", line 1, characters 55-67\nCalled from file \"[6]\", line 1, characters 55-67\nCalled from file \"[6]\", line 1, characters 55-67\nCalled from file \"[6]\", line 1, characters 55-67\nCalled from file \"[6]\", line 1, characters 55-67\nCalled from file \"[6]\", line 1, characters 55-67\nCalled from file \"[6]\", line 1, characters 55-67\nCalled from file \"[6]\", line 1, characters 55-67\nCalled from file \"[6]\", line 1, characters 55-67\nCalled from file \"[6]\", line 1, characters 55-67\nCalled from file \"[6]\", line 1, characters 55-67\nCalled from file \"[6]\", line 1, characters 55-67\nCalled from file \"[6]\", line 1, characters 55-67\nCalled from file \"[6]\", line 1, characters 55-67\nCalled from file \"[6]\", line 1, characters 55-67\nCalled from file \"[6]\", line 1, characters 55-67\nCalled from file \"[6]\", line 1, characters 55-67\nCalled from file \"[6]\", line 1, characters 55-67\nCalled from file \"[6]\", line 1, characters 55-67\nCalled from file \"[6]\", line 1, characters 55-67\nCalled from file \"[6]\", line 1, characters 55-67\nCalled from file \"[6]\", line 1, characters 55-67\nCalled from file \"[6]\", line 1, characters 55-67\nCalled from file \"[6]\", line 1, characters 55-67\nCalled from file \"[6]\", line 1, characters 55-67\nCalled from file \"[6]\", line 1, characters 55-67\nCalled from file \"[6]\", line 1, characters 55-67\nCalled from file \"[6]\", line 1, characters 55-67\nCalled from file \"[6]\", line 1, characters 55-67\nCalled from file \"[6]\", line 1, characters 55-67\nCalled from file \"[6]\", line 1, characters 55-67\nCalled from file \"[6]\", line 1, characters 55-67\nCalled from file \"[6]\", line 1, characters 55-67\nCalled from file \"[6]\", line 1, characters 55-67\nCalled from file \"[6]\", line 1, characters 55-67\nCalled from file \"[6]\", line 1, characters 55-67\nCalled from file \"[6]\", line 1, characters 55-67\nCalled from file \"[6]\", line 1, characters 55-67\nCalled from file \"[6]\", line 1, characters 55-67\nCalled from file \"[6]\", line 1, characters 55-67\nCalled from file \"[6]\", line 1, characters 55-67\nCalled from file \"[6]\", line 1, characters 55-67\nCalled from file \"[6]\", line 1, characters 55-67\nCalled from file \"[6]\", line 1, characters 55-67\nCalled from file \"[6]\", line 1, characters 55-67\nCalled from file \"[6]\", line 1, characters 55-67\nCalled from file \"[6]\", line 1, characters 55-67\nCalled from file \"[6]\", line 1, characters 55-67\nCalled from file \"[6]\", line 1, characters 55-67\nCalled from file \"[6]\", line 1, characters 55-67\nCalled from file \"[6]\", line 1, characters 55-67\nCalled from file \"[6]\", line 1, characters 55-67\nCalled from file \"[6]\", line 1, characters 55-67\nCalled from file \"[6]\", line 1, characters 55-67\nCalled from file \"[6]\", line 1, characters 55-67\nCalled from file \"[6]\", line 1, characters 55-67\nCalled from file \"[6]\", line 1, characters 55-67\nCalled from file \"[6]\", line 1, characters 55-67\nCalled from file \"[6]\", line 1, characters 55-67\nCalled from file \"[6]\", line 1, characters 55-67\nCalled from file \"[6]\", line 1, characters 55-67\nCalled from file \"[6]\", line 1, characters 55-67\nCalled from file \"[6]\", line 1, characters 55-67\nCalled from file \"[6]\", line 1, characters 55-67\nCalled from file \"[6]\", line 1, characters 55-67\nCalled from file \"[6]\", line 1, characters 55-67\nCalled from file \"[6]\", line 1, characters 55-67\nCalled from file \"[6]\", line 1, characters 55-67\nCalled from file \"[6]\", line 1, characters 55-67\nCalled from file \"[6]\", line 1, characters 55-67\nCalled from file \"[6]\", line 1, characters 55-67\nCalled from file \"[6]\", line 1, characters 55-67\nCalled from file \"[6]\", line 1, characters 55-67\nCalled from file \"[6]\", line 1, characters 55-67\nCalled from file \"[6]\", line 1, characters 55-67\nCalled from file \"[6]\", line 1, characters 55-67\nCalled from file \"[6]\", line 1, characters 55-67\nCalled from file \"[6]\", line 1, characters 55-67\nCalled from file \"[6]\", line 1, characters 55-67\nCalled from file \"[6]\", line 1, characters 55-67\nCalled from file \"[6]\", line 1, characters 55-67\nCalled from file \"[6]\", line 1, characters 55-67\nCalled from file \"[6]\", line 1, characters 55-67\nCalled from file \"[6]\", line 1, characters 55-67\nCalled from file \"[6]\", line 1, characters 55-67\nCalled from file \"[6]\", line 1, characters 55-67\nCalled from file \"[6]\", line 1, characters 55-67\nCalled from file \"[6]\", line 1, characters 55-67\nCalled from file \"[6]\", line 1, characters 55-67\nCalled from file \"[6]\", line 1, characters 55-67\nCalled from file \"[6]\", line 1, characters 55-67\nCalled from file \"[6]\", line 1, characters 55-67\nCalled from file \"[6]\", line 1, characters 55-67\nCalled from file \"[6]\", line 1, characters 55-67\nCalled from file \"[6]\", line 1, characters 55-67\nCalled from file \"[6]\", line 1, characters 55-67\nCalled from file \"[6]\", line 1, characters 55-67\nCalled from file \"[6]\", line 1, characters 55-67\nCalled from file \"[6]\", line 1, characters 55-67\nCalled from file \"[6]\", line 1, characters 55-67\nCalled from file \"[6]\", line 1, characters 55-67\nCalled from file \"[6]\", line 1, characters 55-67\nCalled from file \"[6]\", line 1, characters 55-67\nCalled from file \"[6]\", line 1, characters 55-67\nCalled from file \"[6]\", line 1, characters 55-67\nCalled from file \"[6]\", line 1, characters 55-67\nCalled from file \"[6]\", line 1, characters 55-67\nCalled from file \"[6]\", line 1, characters 55-67\nCalled from file \"[6]\", line 1, characters 55-67\nCalled from file \"[6]\", line 1, characters 55-67\nCalled from file \"[6]\", line 1, characters 55-67\nCalled from file \"[6]\", line 1, characters 55-67\nCalled from file \"[6]\", line 1, characters 55-67\nCalled from file \"[6]\", line 1, characters 55-67\nCalled from file \"[6]\", line 1, characters 55-67\nCalled from file \"[6]\", line 1, characters 55-67\nCalled from file \"[6]\", line 1, characters 55-67\nCalled from file \"[6]\", line 1, characters 55-67\nCalled from file \"[6]\", line 1, characters 55-67\nCalled from file \"[6]\", line 1, characters 55-67\nCalled from file \"[6]\", line 1, characters 55-67\nCalled from file \"[6]\", line 1, characters 55-67\nCalled from file \"[6]\", line 1, characters 55-67\nCalled from file \"[6]\", line 1, characters 55-67\nCalled from file \"[6]\", line 1, characters 55-67\nCalled from file \"[6]\", line 1, characters 55-67\nCalled from file \"[6]\", line 1, characters 55-67\nCalled from file \"[6]\", line 1, characters 55-67\nCalled from file \"[6]\", line 1, characters 55-67\nCalled from file \"[6]\", line 1, characters 55-67\nCalled from file \"[6]\", line 1, characters 55-67\nCalled from file \"[6]\", line 1, characters 55-67\nCalled from file \"[6]\", line 1, characters 55-67\nCalled from file \"[6]\", line 1, characters 55-67\nCalled from file \"[6]\", line 1, characters 55-67\nCalled from file \"[6]\", line 1, characters 55-67\nCalled from file \"[6]\", line 1, characters 55-67\nCalled from file \"[6]\", line 1, characters 55-67\nCalled from file \"[6]\", line 1, characters 55-67\nCalled from file \"[6]\", line 1, characters 55-67\nCalled from file \"[6]\", line 1, characters 55-67\nCalled from file \"[6]\", line 1, characters 55-67\nCalled from file \"[6]\", line 1, characters 55-67\nCalled from file \"[6]\", line 1, characters 55-67\nCalled from file \"[6]\", line 1, characters 55-67\nCalled from file \"[6]\", line 1, characters 55-67\nCalled from file \"[6]\", line 1, characters 55-67\nCalled from file \"[6]\", line 1, characters 55-67\nCalled from file \"[6]\", line 1, characters 55-67\nCalled from file \"[6]\", line 1, characters 55-67\nCalled from file \"[6]\", line 1, characters 55-67\nCalled from file \"[6]\", line 1, characters 55-67\nCalled from file \"[6]\", line 1, characters 55-67\nCalled from file \"[6]\", line 1, characters 55-67\nCalled from file \"[6]\", line 1, characters 55-67\nCalled from file \"[6]\", line 1, characters 55-67\nCalled from file \"[6]\", line 1, characters 55-67\nCalled from file \"[6]\", line 1, characters 55-67\nCalled from file \"[6]\", line 1, characters 55-67\nCalled from file \"[6]\", line 1, characters 55-67\nCalled from file \"[6]\", line 1, characters 55-67\nCalled from file \"[6]\", line 1, characters 55-67\nCalled from file \"[6]\", line 1, characters 55-67\nCalled from file \"[6]\", line 1, characters 55-67\nCalled from file \"[6]\", line 1, characters 55-67\nCalled from file \"[6]\", line 1, characters 55-67\nCalled from file \"[6]\", line 1, characters 55-67\nCalled from file \"[6]\", line 1, characters 55-67\nCalled from file \"[6]\", line 1, characters 55-67\nCalled from file \"[6]\", line 1, characters 55-67\nCalled from file \"[6]\", line 1, characters 55-67\nCalled from file \"[6]\", line 1, characters 55-67\nCalled from file \"[6]\", line 1, characters 55-67\nCalled from file \"[6]\", line 1, characters 55-67\nCalled from file \"[6]\", line 1, characters 55-67\nCalled from file \"[6]\", line 1, characters 55-67\nCalled from file \"[6]\", line 1, characters 55-67\nCalled from file \"[6]\", line 1, characters 55-67\nCalled from file \"[6]\", line 1, characters 55-67\nCalled from file \"[6]\", line 1, characters 55-67\nCalled from file \"[6]\", line 1, characters 55-67\nCalled from file \"[6]\", line 1, characters 55-67\nCalled from file \"[6]\", line 1, characters 55-67\nCalled from file \"[6]\", line 1, characters 55-67\nCalled from file \"[6]\", line 1, characters 55-67\nCalled from file \"[6]\", line 1, characters 55-67\nCalled from file \"[6]\", line 1, characters 55-67\nCalled from file \"[6]\", line 1, characters 55-67\nCalled from file \"[6]\", line 1, characters 55-67\nCalled from file \"[6]\", line 1, characters 55-67\nCalled from file \"[6]\", line 1, characters 55-67\nCalled from file \"[6]\", line 1, characters 55-67\nCalled from file \"[6]\", line 1, characters 55-67\nCalled from file \"[6]\", line 1, characters 55-67\nCalled from file \"[6]\", line 1, characters 55-67\nCalled from file \"[6]\", line 1, characters 55-67\nCalled from file \"[6]\", line 1, characters 55-67\nCalled from file \"[6]\", line 1, characters 55-67\nCalled from file \"[6]\", line 1, characters 55-67\nCalled from file \"[6]\", line 1, characters 55-67\nCalled from file \"[6]\", line 1, characters 55-67\nCalled from file \"[6]\", line 1, characters 55-67\nCalled from file \"[6]\", line 1, characters 55-67\nCalled from file \"[6]\", line 1, characters 55-67\nCalled from file \"[6]\", line 1, characters 55-67\nCalled from file \"[6]\", line 1, characters 55-67\nCalled from file \"[6]\", line 1, characters 55-67\nCalled from file \"[6]\", line 1, characters 55-67\nCalled from file \"[6]\", line 1, characters 55-67\nCalled from file \"[6]\", line 1, characters 55-67\nCalled from file \"[6]\", line 1, characters 55-67\nCalled from file \"[6]\", line 1, characters 55-67\nCalled from file \"[6]\", line 1, characters 55-67\nCalled from file \"[6]\", line 1, characters 55-67\nCalled from file \"[6]\", line 1, characters 55-67\nCalled from file \"[6]\", line 1, characters 55-67\nCalled from file \"[6]\", line 1, characters 55-67\nCalled from file \"[6]\", line 1, characters 55-67\nCalled from file \"[6]\", line 1, characters 55-67\nCalled from file \"[6]\", line 1, characters 55-67\nCalled from file \"[6]\", line 1, characters 55-67\nCalled from file \"[6]\", line 1, characters 55-67\nCalled from file \"[6]\", line 1, characters 55-67\nCalled from file \"[6]\", line 1, characters 55-67\nCalled from file \"[6]\", line 1, characters 55-67\nCalled from file \"[6]\", line 1, characters 55-67\nCalled from file \"[6]\", line 1, characters 55-67\nCalled from file \"[6]\", line 1, characters 55-67\nCalled from file \"[6]\", line 1, characters 55-67\nCalled from file \"[6]\", line 1, characters 55-67\nCalled from file \"[6]\", line 1, characters 55-67\nCalled from file \"[6]\", line 1, characters 55-67\nCalled from file \"[6]\", line 1, characters 55-67\nCalled from file \"[6]\", line 1, characters 55-67\nCalled from file \"[6]\", line 1, characters 55-67\nCalled from file \"[6]\", line 1, characters 55-67\nCalled from file \"[6]\", line 1, characters 55-67\nCalled from file \"[6]\", line 1, characters 55-67\nCalled from file \"[6]\", line 1, characters 55-67\nCalled from file \"[6]\", line 1, characters 55-67\nCalled from file \"[6]\", line 1, characters 55-67\nCalled from file \"[6]\", line 1, characters 55-67\nCalled from file \"[6]\", line 1, characters 55-67\nCalled from file \"[6]\", line 1, characters 55-67\nCalled from file \"[6]\", line 1, characters 55-67\nCalled from file \"[6]\", line 1, characters 55-67\nCalled from file \"[6]\", line 1, characters 55-67\nCalled from file \"[6]\", line 1, characters 55-67\nCalled from file \"[6]\", line 1, characters 55-67\nCalled from file \"[6]\", line 1, characters 55-67\nCalled from file \"[6]\", line 1, characters 55-67\nCalled from file \"[6]\", line 1, characters 55-67\nCalled from file \"[6]\", line 1, characters 55-67\nCalled from file \"[6]\", line 1, characters 55-67\nCalled from file \"[6]\", line 1, characters 55-67\nCalled from file \"[6]\", line 1, characters 55-67\nCalled from file \"[6]\", line 1, characters 55-67\nCalled from file \"[6]\", line 1, characters 55-67\nCalled from file \"[6]\", line 1, characters 55-67\nCalled from file \"[6]\", line 1, characters 55-67\nCalled from file \"[6]\", line 1, characters 55-67\nCalled from file \"[6]\", line 1, characters 55-67\nCalled from file \"[6]\", line 1, characters 55-67\nCalled from file \"[6]\", line 1, characters 55-67\nCalled from file \"[6]\", line 1, characters 55-67\nCalled from file \"[6]\", line 1, characters 55-67\nCalled from file \"[6]\", line 1, characters 55-67\nCalled from file \"[6]\", line 1, characters 55-67\nCalled from file \"[6]\", line 1, characters 55-67\nCalled from file \"[6]\", line 1, characters 55-67\nCalled from file \"[6]\", line 1, characters 55-67\nCalled from file \"[6]\", line 1, characters 55-67\nCalled from file \"[6]\", line 1, characters 55-67\nCalled from file \"[6]\", line 1, characters 55-67\nCalled from file \"[6]\", line 1, characters 55-67\nCalled from file \"[6]\", line 1, characters 55-67\nCalled from file \"[6]\", line 1, characters 55-67\nCalled from file \"[6]\", line 1, characters 55-67\nCalled from file \"[6]\", line 1, characters 55-67\nCalled from file \"[6]\", line 1, characters 55-67\nCalled from file \"[6]\", line 1, characters 55-67\nCalled from file \"[6]\", line 1, characters 55-67\nCalled from file \"[6]\", line 1, characters 55-67\nCalled from file \"[6]\", line 1, characters 55-67\nCalled from file \"[6]\", line 1, characters 55-67\nCalled from file \"[6]\", line 1, characters 55-67\nCalled from file \"[6]\", line 1, characters 55-67\nCalled from file \"[6]\", line 1, characters 55-67\nCalled from file \"[6]\", line 1, characters 55-67\nCalled from file \"[6]\", line 1, characters 55-67\nCalled from file \"[6]\", line 1, characters 55-67\nCalled from file \"[6]\", line 1, characters 55-67\nCalled from file \"[6]\", line 1, characters 55-67\nCalled from file \"[6]\", line 1, characters 55-67\nCalled from file \"[6]\", line 1, characters 55-67\nCalled from file \"[6]\", line 1, characters 55-67\nCalled from file \"[6]\", line 1, characters 55-67\nCalled from file \"[6]\", line 1, characters 55-67\nCalled from file \"[6]\", line 1, characters 55-67\nCalled from file \"[6]\", line 1, characters 55-67\nCalled from file \"[6]\", line 1, characters 55-67\nCalled from file \"[6]\", line 1, characters 55-67\nCalled from file \"[6]\", line 1, characters 55-67\nCalled from file \"[6]\", line 1, characters 55-67\nCalled from file \"[6]\", line 1, characters 55-67\nCalled from file \"[6]\", line 1, characters 55-67\nCalled from file \"[6]\", line 1, characters 55-67\nCalled from file \"[6]\", line 1, characters 55-67\nCalled from file \"[6]\", line 1, characters 55-67\nCalled from file \"[6]\", line 1, characters 55-67\nCalled from file \"[6]\", line 1, characters 55-67\nCalled from file \"[6]\", line 1, characters 55-67\nCalled from file \"[6]\", line 1, characters 55-67\nCalled from file \"[6]\", line 1, characters 55-67\nCalled from file \"[6]\", line 1, characters 55-67\nCalled from file \"[6]\", line 1, characters 55-67\nCalled from file \"[6]\", line 1, characters 55-67\nCalled from file \"[6]\", line 1, characters 55-67\nCalled from file \"[6]\", line 1, characters 55-67\nCalled from file \"[6]\", line 1, characters 55-67\nCalled from file \"[6]\", line 1, characters 55-67\nCalled from file \"[6]\", line 1, characters 55-67\nCalled from file \"[6]\", line 1, characters 55-67\nCalled from file \"[6]\", line 1, characters 55-67\nCalled from file \"[6]\", line 1, characters 55-67\nCalled from file \"[6]\", line 1, characters 55-67\nCalled from file \"[6]\", line 1, characters 55-67\nCalled from file \"[6]\", line 1, characters 55-67\nCalled from file \"[6]\", line 1, characters 55-67\nCalled from file \"[6]\", line 1, characters 55-67\nCalled from file \"[6]\", line 1, characters 55-67\nCalled from file \"[6]\", line 1, characters 55-67\nCalled from file \"[6]\", line 1, characters 55-67\nCalled from file \"[6]\", line 1, characters 55-67\nCalled from file \"[6]\", line 1, characters 55-67\nCalled from file \"[6]\", line 1, characters 55-67\nCalled from file \"[6]\", line 1, characters 55-67\nCalled from file \"[6]\", line 1, characters 55-67\nCalled from file \"[6]\", line 1, characters 55-67\nCalled from file \"[6]\", line 1, characters 55-67\nCalled from file \"[6]\", line 1, characters 55-67\nCalled from file \"[6]\", line 1, characters 55-67\nCalled from file \"[6]\", line 1, characters 55-67\nCalled from file \"[6]\", line 1, characters 55-67\nCalled from file \"[6]\", line 1, characters 55-67\nCalled from file \"[6]\", line 1, characters 55-67\nCalled from file \"[6]\", line 1, characters 55-67\nCalled from file \"[6]\", line 1, characters 55-67\nCalled from file \"[6]\", line 1, characters 55-67\nCalled from file \"[6]\", line 1, characters 55-67\nCalled from file \"[6]\", line 1, characters 55-67\nCalled from file \"[6]\", line 1, characters 55-67\nCalled from file \"[6]\", line 1, characters 55-67\nCalled from file \"[6]\", line 1, characters 55-67\nCalled from file \"[6]\", line 1, characters 55-67\nCalled from file \"[6]\", line 1, characters 55-67\nCalled from file \"[6]\", line 1, characters 55-67\nCalled from file \"[6]\", line 1, characters 55-67\nCalled from file \"[6]\", line 1, characters 55-67\nCalled from file \"[6]\", line 1, characters 55-67\nCalled from file \"[6]\", line 1, characters 55-67\nCalled from file \"[6]\", line 1, characters 55-67\nCalled from file \"[6]\", line 1, characters 55-67\nCalled from file \"[6]\", line 1, characters 55-67\nCalled from file \"[6]\", line 1, characters 55-67\nCalled from file \"[6]\", line 1, characters 55-67\nCalled from file \"[6]\", line 1, characters 55-67\nCalled from file \"[6]\", line 1, characters 55-67\nCalled from file \"[6]\", line 1, characters 55-67\nCalled from file \"[6]\", line 1, characters 55-67\nCalled from file \"[6]\", line 1, characters 55-67\nCalled from file \"[6]\", line 1, characters 55-67\nCalled from file \"[6]\", line 1, characters 55-67\nCalled from file \"[6]\", line 1, characters 55-67\nCalled from file \"[6]\", line 1, characters 55-67\nCalled from file \"[6]\", line 1, characters 55-67\nCalled from file \"[6]\", line 1, characters 55-67\nCalled from file \"[6]\", line 1, characters 55-67\nCalled from file \"[6]\", line 1, characters 55-67\nCalled from file \"[6]\", line 1, characters 55-67\nCalled from file \"[6]\", line 1, characters 55-67\nCalled from file \"[6]\", line 1, characters 55-67\nCalled from file \"[6]\", line 1, characters 55-67\nCalled from file \"[6]\", line 1, characters 55-67\nCalled from file \"[6]\", line 1, characters 55-67\nCalled from file \"[6]\", line 1, characters 55-67\nCalled from file \"[6]\", line 1, characters 55-67\nCalled from file \"[6]\", line 1, characters 55-67\nCalled from file \"[6]\", line 1, characters 55-67\nCalled from file \"[6]\", line 1, characters 55-67\nCalled from file \"[6]\", line 1, characters 55-67\nCalled from file \"[6]\", line 1, characters 55-67\nCalled from file \"[6]\", line 1, characters 55-67\nCalled from file \"[6]\", line 1, characters 55-67\nCalled from file \"[6]\", line 1, characters 55-67\nCalled from file \"[6]\", line 1, characters 55-67\nCalled from file \"[6]\", line 1, characters 55-67\nCalled from file \"[6]\", line 1, characters 55-67\nCalled from file \"[6]\", line 1, characters 55-67\nCalled from file \"[6]\", line 1, characters 55-67\nCalled from file \"[6]\", line 1, characters 55-67\nCalled from file \"[6]\", line 1, characters 55-67\nCalled from file \"[6]\", line 1, characters 55-67\nCalled from file \"[6]\", line 1, characters 55-67\nCalled from file \"[6]\", line 1, characters 55-67\nCalled from file \"[6]\", line 1, characters 55-67\nCalled from file \"[6]\", line 1, characters 55-67\nCalled from file \"[6]\", line 1, characters 55-67\nCalled from file \"[6]\", line 1, characters 55-67\nCalled from file \"[6]\", line 1, characters 55-67\nCalled from file \"[6]\", line 1, characters 55-67\nCalled from file \"[6]\", line 1, characters 55-67\nCalled from file \"[6]\", line 1, characters 55-67\nCalled from file \"[6]\", line 1, characters 55-67\nCalled from file \"[6]\", line 1, characters 55-67\nCalled from file \"[6]\", line 1, characters 55-67\nCalled from file \"[6]\", line 1, characters 55-67\nCalled from file \"[6]\", line 1, characters 55-67\nCalled from file \"[6]\", line 1, characters 55-67\nCalled from file \"[6]\", line 1, characters 55-67\nCalled from file \"[6]\", line 1, characters 55-67\nCalled from file \"[6]\", line 1, characters 55-67\nCalled from file \"[6]\", line 1, characters 55-67\nCalled from file \"[6]\", line 1, characters 55-67\nCalled from file \"[6]\", line 1, characters 55-67\nCalled from file \"[6]\", line 1, characters 55-67\nCalled from file \"[6]\", line 1, characters 55-67\nCalled from file \"[6]\", line 1, characters 55-67\nCalled from file \"[6]\", line 1, characters 55-67\nCalled from file \"[6]\", line 1, characters 55-67\nCalled from file \"[6]\", line 1, characters 55-67\nCalled from file \"[6]\", line 1, characters 55-67\nCalled from file \"[6]\", line 1, characters 55-67\nCalled from file \"[6]\", line 1, characters 55-67\nCalled from file \"[6]\", line 1, characters 55-67\nCalled from file \"[6]\", line 1, characters 55-67\nCalled from file \"[6]\", line 1, characters 55-67\nCalled from file \"[6]\", line 1, characters 55-67\nCalled from file \"[6]\", line 1, characters 55-67\nCalled from file \"[6]\", line 1, characters 55-67\nCalled from file \"[6]\", line 1, characters 55-67\nCalled from file \"[6]\", line 1, characters 55-67\nCalled from file \"[6]\", line 1, characters 55-67\nCalled from file \"[6]\", line 1, characters 55-67\nCalled from file \"[6]\", line 1, characters 55-67\nCalled from file \"[6]\", line 1, characters 55-67\nCalled from file \"[6]\", line 1, characters 55-67\nCalled from file \"[6]\", line 1, characters 55-67\nCalled from file \"[6]\", line 1, characters 55-67\nCalled from file \"[6]\", line 1, characters 55-67\nCalled from file \"[6]\", line 1, characters 55-67\nCalled from file \"[6]\", line 1, characters 55-67\nCalled from file \"[6]\", line 1, characters 55-67\nCalled from file \"[6]\", line 1, characters 55-67\nCalled from file \"[6]\", line 1, characters 55-67\nCalled from file \"[6]\", line 1, characters 55-67\nCalled from file \"[6]\", line 1, characters 55-67\nCalled from file \"[6]\", line 1, characters 55-67\nCalled from file \"[6]\", line 1, characters 55-67\nCalled from file \"[6]\", line 1, characters 55-67\nCalled from file \"[6]\", line 1, characters 55-67\nCalled from file \"[6]\", line 1, characters 55-67\nCalled from file \"[6]\", line 1, characters 55-67\nCalled from file \"[6]\", line 1, characters 55-67\nCalled from file \"[6]\", line 1, characters 55-67\nCalled from file \"[6]\", line 1, characters 55-67\nCalled from file \"[6]\", line 1, characters 55-67\nCalled from file \"[6]\", line 1, characters 55-67\nCalled from file \"[6]\", line 1, characters 55-67\nCalled from file \"[6]\", line 1, characters 55-67\nCalled from file \"[6]\", line 1, characters 55-67\nCalled from file \"[6]\", line 1, characters 55-67\nCalled from file \"[6]\", line 1, characters 55-67\nCalled from file \"[6]\", line 1, characters 55-67\nCalled from file \"[6]\", line 1, characters 55-67\nCalled from file \"[6]\", line 1, characters 55-67\nCalled from file \"[6]\", line 1, characters 55-67\nCalled from file \"[6]\", line 1, characters 55-67\nCalled from file \"[6]\", line 1, characters 55-67\nCalled from file \"[6]\", line 1, characters 55-67\nCalled from file \"[6]\", line 1, characters 55-67\nCalled from file \"[6]\", line 1, characters 55-67\nCalled from file \"[6]\", line 1, characters 55-67\nCalled from file \"[6]\", line 1, characters 55-67\nCalled from file \"[6]\", line 1, characters 55-67\nCalled from file \"[6]\", line 1, characters 55-67\nCalled from file \"[6]\", line 1, characters 55-67\nCalled from file \"[6]\", line 1, characters 55-67\nCalled from file \"[6]\", line 1, characters 55-67\nCalled from file \"[6]\", line 1, characters 55-67\nCalled from file \"[6]\", line 1, characters 55-67\nCalled from file \"[6]\", line 1, characters 55-67\nCalled from file \"[6]\", line 1, characters 55-67\nCalled from file \"[6]\", line 1, characters 55-67\nCalled from file \"[6]\", line 1, characters 55-67\nCalled from file \"[6]\", line 1, characters 55-67\nCalled from file \"[6]\", line 1, characters 55-67\nCalled from file \"[6]\", line 1, characters 55-67\nCalled from file \"[6]\", line 1, characters 55-67\nCalled from file \"[6]\", line 1, characters 55-67\nCalled from file \"[6]\", line 1, characters 55-67\nCalled from file \"[6]\", line 1, characters 55-67\nCalled from file \"[6]\", line 1, characters 55-67\nCalled from file \"[6]\", line 1, characters 55-67\nCalled from file \"[6]\", line 1, characters 55-67\nCalled from file \"[6]\", line 1, characters 55-67\nCalled from file \"[6]\", line 1, characters 55-67\nCalled from file \"[6]\", line 1, characters 55-67\nCalled from file \"[6]\", line 1, characters 55-67\nCalled from file \"[6]\", line 1, characters 55-67\nCalled from file \"[6]\", line 1, characters 55-67\nCalled from file \"[6]\", line 1, characters 55-67\nCalled from file \"[6]\", line 1, characters 55-67\nCalled from file \"[6]\", line 1, characters 55-67\nCalled from file \"[6]\", line 1, characters 55-67\nCalled from file \"[6]\", line 1, characters 55-67\nCalled from file \"[6]\", line 1, characters 55-67\nCalled from file \"[6]\", line 1, characters 55-67\nCalled from file \"[6]\", line 1, characters 55-67\nCalled from file \"[6]\", line 1, characters 55-67\nCalled from file \"[6]\", line 1, characters 55-67\nCalled from file \"[6]\", line 1, characters 55-67\nCalled from file \"[6]\", line 1, characters 55-67\nCalled from file \"[6]\", line 1, characters 55-67\nCalled from file \"[6]\", line 1, characters 55-67\nCalled from file \"[6]\", line 1, characters 55-67\nCalled from file \"[6]\", line 1, characters 55-67\nCalled from file \"[6]\", line 1, characters 55-67\nCalled from file \"[6]\", line 1, characters 55-67\nCalled from file \"[6]\", line 1, characters 55-67\nCalled from file \"[6]\", line 1, characters 55-67\nCalled from file \"[6]\", line 1, characters 55-67\nCalled from file \"[6]\", line 1, characters 55-67\nCalled from file \"[6]\", line 1, characters 55-67\nCalled from file \"[6]\", line 1, characters 55-67\nCalled from file \"[6]\", line 1, characters 55-67\nCalled from file \"[6]\", line 1, characters 55-67\nCalled from file \"[6]\", line 1, characters 55-67\nCalled from file \"[6]\", line 1, characters 55-67\nCalled from file \"[6]\", line 1, characters 55-67\nCalled from file \"[6]\", line 1, characters 55-67\nCalled from file \"[6]\", line 1, characters 55-67\nCalled from file \"[6]\", line 1, characters 55-67\nCalled from file \"[6]\", line 1, characters 55-67\nCalled from file \"[6]\", line 1, characters 55-67\nCalled from file \"[6]\", line 1, characters 55-67\nCalled from file \"[6]\", line 1, characters 55-67\nCalled from file \"[6]\", line 1, characters 55-67\nCalled from file \"[6]\", line 1, characters 55-67\nCalled from file \"[6]\", line 1, characters 55-67\nCalled from file \"[6]\", line 1, characters 55-67\nCalled from file \"[6]\", line 1, characters 55-67\nCalled from file \"[6]\", line 1, characters 55-67\nCalled from file \"[6]\", line 1, characters 55-67\nCalled from file \"[6]\", line 1, characters 55-67\nCalled from file \"[6]\", line 1, characters 55-67\nCalled from file \"[6]\", line 1, characters 55-67\nCalled from file \"[6]\", line 1, characters 55-67\nCalled from file \"[6]\", line 1, characters 55-67\nCalled from file \"[6]\", line 1, characters 55-67\nCalled from file \"[6]\", line 1, characters 55-67\nCalled from file \"[6]\", line 1, characters 55-67\nCalled from file \"[6]\", line 1, characters 55-67\nCalled from file \"[6]\", line 1, characters 55-67\nCalled from file \"[6]\", line 1, characters 55-67\nCalled from file \"[6]\", line 1, characters 55-67\nCalled from file \"[6]\", line 1, characters 55-67\nCalled from file \"[6]\", line 1, characters 55-67\nCalled from file \"[6]\", line 1, characters 55-67\nCalled from file \"[6]\", line 1, characters 55-67\nCalled from file \"[6]\", line 1, characters 55-67\nCalled from file \"[6]\", line 1, characters 55-67\nCalled from file \"[6]\", line 1, characters 55-67\nCalled from file \"[6]\", line 1, characters 55-67\nCalled from file \"[6]\", line 1, characters 55-67\nCalled from file \"[6]\", line 1, characters 55-67\nCalled from file \"[6]\", line 1, characters 55-67\nCalled from file \"[6]\", line 1, characters 55-67\nCalled from file \"[6]\", line 1, characters 55-67\nCalled from file \"[6]\", line 1, characters 55-67\nCalled from file \"[6]\", line 1, characters 55-67\nCalled from file \"[6]\", line 1, characters 55-67\nCalled from file \"[6]\", line 1, characters 55-67\nCalled from file \"[6]\", line 1, characters 55-67\nCalled from file \"[6]\", line 1, characters 55-67\nCalled from file \"[6]\", line 1, characters 55-67\nCalled from file \"[6]\", line 1, characters 55-67\nCalled from file \"[6]\", line 1, characters 55-67\nCalled from file \"[6]\", line 1, characters 55-67\nCalled from file \"[6]\", line 1, characters 55-67\nCalled from file \"[6]\", line 1, characters 55-67\nCalled from file \"[6]\", line 1, characters 55-67\nCalled from file \"[6]\", line 1, characters 55-67\nCalled from file \"[6]\", line 1, characters 55-67\nCalled from file \"[6]\", line 1, characters 55-67\nCalled from file \"[6]\", line 1, characters 55-67\nCalled from file \"[6]\", line 1, characters 55-67\nCalled from file \"[6]\", line 1, characters 55-67\nCalled from file \"[6]\", line 1, characters 55-67\nCalled from file \"[6]\", line 1, characters 55-67\nCalled from file \"[6]\", line 1, characters 55-67\nCalled from file \"[6]\", line 1, characters 55-67\nCalled from file \"[6]\", line 1, characters 55-67\nCalled from file \"[6]\", line 1, characters 55-67\nCalled from file \"[6]\", line 1, characters 55-67\nCalled from file \"[6]\", line 1, characters 55-67\nCalled from file \"[6]\", line 1, characters 55-67\nCalled from file \"[6]\", line 1, characters 55-67\nCalled from file \"[6]\", line 1, characters 55-67\nCalled from file \"[6]\", line 1, characters 55-67\nCalled from file \"[6]\", line 1, characters 55-67\nCalled from file \"[6]\", line 1, characters 55-67\nCalled from file \"[6]\", line 1, characters 55-67\nCalled from file \"[6]\", line 1, characters 55-67\nCalled from file \"[6]\", line 1, characters 55-67\nCalled from file \"[6]\", line 1, characters 55-67\nCalled from file \"[6]\", line 1, characters 55-67\nCalled from file \"[6]\", line 1, characters 55-67\nCalled from file \"[6]\", line 1, characters 55-67\nCalled from file \"[6]\", line 1, characters 55-67\nCalled from file \"[6]\", line 1, characters 55-67\nCalled from file \"[6]\", line 1, characters 55-67\nCalled from file \"[6]\", line 1, characters 55-67\nCalled from file \"[6]\", line 1, characters 55-67\nCalled from file \"[6]\", line 1, characters 55-67\nCalled from file \"[6]\", line 1, characters 55-67\nCalled from file \"[6]\", line 1, characters 55-67\nCalled from file \"[6]\", line 1, characters 55-67\nCalled from file \"[6]\", line 1, characters 55-67\nCalled from file \"[6]\", line 1, characters 55-67\nCalled from file \"[6]\", line 1, characters 55-67\nCalled from file \"[6]\", line 1, characters 55-67\nCalled from file \"[6]\", line 1, characters 55-67\nCalled from file \"[6]\", line 1, characters 55-67\nCalled from file \"[6]\", line 1, characters 55-67\nCalled from file \"[6]\", line 1, characters 55-67\nCalled from file \"[6]\", line 1, characters 55-67\nCalled from file \"[6]\", line 1, characters 55-67\nCalled from file \"[6]\", line 1, characters 55-67\nCalled from file \"[6]\", line 1, characters 55-67\nCalled from file \"[6]\", line 1, characters 55-67\nCalled from file \"[6]\", line 1, characters 55-67\nCalled from file \"[6]\", line 1, characters 55-67\nCalled from file \"[6]\", line 1, characters 55-67\nCalled from file \"[6]\", line 1, characters 55-67\nCalled from file \"[6]\", line 1, characters 55-67\nCalled from file \"[6]\", line 1, characters 55-67\nCalled from file \"[6]\", line 1, characters 55-67\nCalled from file \"[6]\", line 1, characters 55-67\nCalled from file \"[6]\", line 1, characters 55-67\nCalled from file \"[6]\", line 1, characters 55-67\nCalled from file \"[6]\", line 1, characters 55-67\nCalled from file \"[6]\", line 1, characters 55-67\nCalled from file \"[6]\", line 1, characters 55-67\nCalled from file \"[6]\", line 1, characters 55-67\nCalled from file \"[6]\", line 1, characters 55-67\nCalled from file \"[6]\", line 1, characters 55-67\nCalled from file \"[6]\", line 1, characters 55-67\nCalled from file \"[6]\", line 1, characters 55-67\nCalled from file \"[6]\", line 1, characters 55-67\nCalled from file \"[6]\", line 1, characters 55-67\nCalled from file \"[6]\", line 1, characters 55-67\nCalled from file \"[6]\", line 1, characters 55-67\nCalled from file \"[6]\", line 1, characters 55-67\nCalled from file \"[6]\", line 1, characters 55-67\nCalled from file \"[6]\", line 1, characters 55-67\nCalled from file \"[6]\", line 1, characters 55-67\nCalled from file \"[6]\", line 1, characters 55-67\nCalled from file \"[6]\", line 1, characters 55-67\nCalled from file \"[6]\", line 1, characters 55-67\nCalled from file \"[6]\", line 1, characters 55-67\nCalled from file \"[6]\", line 1, characters 55-67\nCalled from file \"[6]\", line 1, characters 55-67\nCalled from file \"[6]\", line 1, characters 55-67\nCalled from file \"[6]\", line 1, characters 55-67\nCalled from file \"[6]\", line 1, characters 55-67\nCalled from file \"[6]\", line 1, characters 55-67\nCalled from file \"[6]\", line 1, characters 55-67\nCalled from file \"[6]\", line 1, characters 55-67\nCalled from file \"[6]\", line 1, characters 55-67\nCalled from file \"[6]\", line 1, characters 55-67\nCalled from file \"[6]\", line 1, characters 55-67\nCalled from file \"[6]\", line 1, characters 55-67\nCalled from file \"[6]\", line 1, characters 55-67\nCalled from file \"[6]\", line 1, characters 55-67\nCalled from file \"[6]\", line 1, characters 55-67\nCalled from file \"[6]\", line 1, characters 55-67\nCalled from file \"[6]\", line 1, characters 55-67\nCalled from file \"[6]\", line 1, characters 55-67\nCalled from file \"[6]\", line 1, characters 55-67\nCalled from file \"[6]\", line 1, characters 55-67\nCalled from file \"[6]\", line 1, characters 55-67\nCalled from file \"[6]\", line 1, characters 55-67\nCalled from file \"[6]\", line 1, characters 55-67\nCalled from file \"[6]\", line 1, characters 55-67\nCalled from file \"[6]\", line 1, characters 55-67\nCalled from file \"[6]\", line 1, characters 55-67\nCalled from file \"[6]\", line 1, characters 55-67\nCalled from file \"[6]\", line 1, characters 55-67\nCalled from file \"[6]\", line 1, characters 55-67\nCalled from file \"[6]\", line 1, characters 55-67\nCalled from file \"[6]\", line 1, characters 55-67\nCalled from file \"[6]\", line 1, characters 55-67\nCalled from file \"[6]\", line 1, characters 55-67\nCalled from file \"[6]\", line 1, characters 55-67\nCalled from file \"[6]\", line 1, characters 55-67\nCalled from file \"[6]\", line 1, characters 55-67\nCalled from file \"[6]\", line 1, characters 55-67\nCalled from file \"[6]\", line 1, characters 55-67\nCalled from file \"[6]\", line 1, characters 55-67\nCalled from file \"[6]\", line 1, characters 55-67\nCalled from file \"[6]\", line 1, characters 55-67\nCalled from file \"[6]\", line 1, characters 55-67\nCalled from file \"[6]\", line 1, characters 55-67\nCalled from file \"[6]\", line 1, characters 55-67\nCalled from file \"[6]\", line 1, characters 55-67\nCalled from file \"[6]\", line 1, characters 55-67\nCalled from file \"[6]\", line 1, characters 55-67\nCalled from file \"[6]\", line 1, characters 55-67\nCalled from file \"[6]\", line 1, characters 55-67\nCalled from file \"[6]\", line 1, characters 55-67\nCalled from file \"[6]\", line 1, characters 55-67\nCalled from file \"[6]\", line 1, characters 55-67\nCalled from file \"[6]\", line 1, characters 55-67\nCalled from file \"[6]\", line 1, characters 55-67\nCalled from file \"[6]\", line 1, characters 55-67\nCalled from file \"[6]\", line 1, characters 55-67\nCalled from file \"[6]\", line 1, characters 55-67\nCalled from file \"[6]\", line 1, characters 55-67\nCalled from file \"[6]\", line 1, characters 55-67\nCalled from file \"[6]\", line 1, characters 55-67\nCalled from file \"[6]\", line 1, characters 55-67\nCalled from file \"[6]\", line 1, characters 55-67\nCalled from file \"[6]\", line 1, characters 55-67\nCalled from file \"[6]\", line 1, characters 55-67\nCalled from file \"[6]\", line 1, characters 55-67\nCalled from file \"[6]\", line 1, characters 55-67\nCalled from file \"[6]\", line 1, characters 55-67\nCalled from file \"[6]\", line 1, characters 55-67\nCalled from file \"[6]\", line 1, characters 55-67\nCalled from file \"[6]\", line 1, characters 55-67\nCalled from file \"[6]\", line 1, characters 55-67\nCalled from file \"[6]\", line 1, characters 55-67\nCalled from file \"[6]\", line 1, characters 55-67\nCalled from file \"[6]\", line 1, characters 55-67\nCalled from file \"[6]\", line 1, characters 55-67\nCalled from file \"[6]\", line 1, characters 55-67\nCalled from file \"[6]\", line 1, characters 55-67\nCalled from file \"[6]\", line 1, characters 55-67\nCalled from file \"[6]\", line 1, characters 55-67\nCalled from file \"[6]\", line 1, characters 55-67\nCalled from file \"[6]\", line 1, characters 55-67\nCalled from file \"[6]\", line 1, characters 55-67\nCalled from file \"[6]\", line 1, characters 55-67\nCalled from file \"[6]\", line 1, characters 55-67\nCalled from file \"[6]\", line 1, characters 55-67\nCalled from file \"[6]\", line 1, characters 55-67\nCalled from file \"[6]\", line 1, characters 55-67\nCalled from file \"[6]\", line 1, characters 55-67\nCalled from file \"[6]\", line 1, characters 55-67\nCalled from file \"[6]\", line 1, characters 55-67\nCalled from file \"[6]\", line 1, characters 55-67\nCalled from file \"[6]\", line 1, characters 55-67\nCalled from file \"[6]\", line 1, characters 55-67\nCalled from file \"[6]\", line 1, characters 55-67\nCalled from file \"[6]\", line 1, characters 55-67\nCalled from file \"[6]\", line 1, characters 55-67\nCalled from file \"[6]\", line 1, characters 55-67\nCalled from file \"[6]\", line 1, characters 55-67\nCalled from file \"[6]\", line 1, characters 55-67\nCalled from file \"[6]\", line 1, characters 55-67\nCalled from file \"[6]\", line 1, characters 55-67\nCalled from file \"[6]\", line 1, characters 55-67\nCalled from file \"[6]\", line 1, characters 55-67\nCalled from file \"[6]\", line 1, characters 55-67\nCalled from file \"[6]\", line 1, characters 55-67\nCalled from file \"[6]\", line 1, characters 55-67\nCalled from file \"[6]\", line 1, characters 55-67\nCalled from file \"[6]\", line 1, characters 55-67\nCalled from file \"[6]\", line 1, characters 55-67\nCalled from file \"[6]\", line 1, characters 55-67\nCalled from file \"[6]\", line 1, characters 55-67\nCalled from file \"[6]\", line 1, characters 55-67\nCalled from file \"[6]\", line 1, characters 55-67\nCalled from file \"[6]\", line 1, characters 55-67\nCalled from file \"[6]\", line 1, characters 55-67\nCalled from file \"[6]\", line 1, characters 55-67\nCalled from file \"[6]\", line 1, characters 55-67\nCalled from file \"[6]\", line 1, characters 55-67\nCalled from file \"[6]\", line 1, characters 55-67\nCalled from file \"[6]\", line 1, characters 55-67\nCalled from file \"[6]\", line 1, characters 55-67\nCalled from file \"[6]\", line 1, characters 55-67\nCalled from file \"[6]\", line 1, characters 55-67\nCalled from file \"[6]\", line 1, characters 55-67\nCalled from file \"[6]\", line 1, characters 55-67\nCalled from file \"[6]\", line 1, characters 55-67\nCalled from file \"[6]\", line 1, characters 55-67\nCalled from file \"[6]\", line 1, characters 55-67\nCalled from file \"[6]\", line 1, characters 55-67\nCalled from file \"[6]\", line 1, characters 55-67\nCalled from file \"[6]\", line 1, characters 55-67\nCalled from file \"[6]\", line 1, characters 55-67\nCalled from file \"[6]\", line 1, characters 55-67\nCalled from file \"[6]\", line 1, characters 55-67\nCalled from file \"[6]\", line 1, characters 55-67\nCalled from file \"[6]\", line 1, characters 55-67\nCalled from file \"[6]\", line 1, characters 55-67\nCalled from file \"[6]\", line 1, characters 55-67\nCalled from file \"[6]\", line 1, characters 55-67\nCalled from file \"[6]\", line 1, characters 55-67\nCalled from file \"[6]\", line 1, characters 55-67\nCalled from file \"[6]\", line 1, characters 55-67\nCalled from file \"[6]\", line 1, characters 55-67\nCalled from file \"[6]\", line 1, characters 55-67\nCalled from file \"[6]\", line 1, characters 55-67\nCalled from file \"[6]\", line 1, characters 55-67\nCalled from file \"[6]\", line 1, characters 55-67\nCalled from file \"[6]\", line 1, characters 55-67\nCalled from file \"[6]\", line 1, characters 55-67\nCalled from file \"[6]\", line 1, characters 55-67\nCalled from file \"[6]\", line 1, characters 55-67\nCalled from file \"[6]\", line 1, characters 55-67\nCalled from file \"[6]\", line 1, characters 55-67\nCalled from file \"[6]\", line 1, characters 55-67\nCalled from file \"[6]\", line 1, characters 55-67\nCalled from file \"[6]\", line 1, characters 55-67\nCalled from file \"[6]\", line 1, characters 55-67\nCalled from file \"[6]\", line 1, characters 55-67\nCalled from file \"[6]\", line 1, characters 55-67\nCalled from file \"[6]\", line 1, characters 55-67\nCalled from file \"[6]\", line 1, characters 55-67\nCalled from file \"[6]\", line 1, characters 55-67\nCalled from file \"[6]\", line 1, characters 55-67\nCalled from file \"[6]\", line 1, characters 55-67\nCalled from file \"[6]\", line 1, characters 55-67\nCalled from file \"[6]\", line 1, characters 55-67\nCalled from file \"[6]\", line 1, characters 55-67\nCalled from file \"[6]\", line 1, characters 55-67\nCalled from file \"[6]\", line 1, characters 55-67\nCalled from file \"[6]\", line 1, characters 55-67\nCalled from file \"[6]\", line 1, characters 55-67\nCalled from file \"[6]\", line 1, characters 55-67\nCalled from file \"[6]\", line 1, characters 55-67\nCalled from file \"[6]\", line 1, characters 55-67\nCalled from file \"[6]\", line 1, characters 55-67\nCalled from file \"[6]\", line 1, characters 55-67\nCalled from file \"[6]\", line 1, characters 55-67\nCalled from file \"[6]\", line 1, characters 55-67\nCalled from file \"[6]\", line 1, characters 55-67\nCalled from file \"[6]\", line 1, characters 55-67\nCalled from file \"[6]\", line 1, characters 55-67\nCalled from file \"[6]\", line 1, characters 55-67\nCalled from file \"[6]\", line 1, characters 55-67\nCalled from file \"[6]\", line 1, characters 55-67\nCalled from file \"[6]\", line 1, characters 55-67\nCalled from file \"[6]\", line 1, characters 55-67\nCalled from file \"[6]\", line 1, characters 55-67\nCalled from file \"[6]\", line 1, characters 55-67\nCalled from file \"[6]\", line 1, characters 55-67\nCalled from file \"[6]\", line 1, characters 55-67\nCalled from file \"[6]\", line 1, characters 55-67\nCalled from file \"[6]\", line 1, characters 55-67\nCalled from file \"[6]\", line 1, characters 55-67\nCalled from file \"[6]\", line 1, characters 55-67\nCalled from file \"[6]\", line 1, characters 55-67\nCalled from file \"[6]\", line 1, characters 55-67\nCalled from file \"[6]\", line 1, characters 55-67\nCalled from file \"[6]\", line 1, characters 55-67\nCalled from file \"[6]\", line 1, characters 55-67\nCalled from file \"[6]\", line 1, characters 55-67\nCalled from file \"[6]\", line 1, characters 55-67\nCalled from file \"[6]\", line 1, characters 55-67\nCalled from file \"[6]\", line 1, characters 55-67\nCalled from file \"[6]\", line 1, characters 55-67\nCalled from file \"[6]\", line 1, characters 55-67\nCalled from file \"[6]\", line 1, characters 55-67\nCalled from file \"[6]\", line 1, characters 55-67\nCalled from file \"[6]\", line 1, characters 55-67\nCalled from file \"[6]\", line 1, characters 55-67\nCalled from file \"[6]\", line 1, characters 55-67\nCalled from file \"[6]\", line 1, characters 55-67\nCalled from file \"[6]\", line 1, characters 55-67\nCalled from file \"[6]\", line 1, characters 55-67\nCalled from file \"[6]\", line 1, characters 55-67\nCalled from file \"[6]\", line 1, characters 55-67\nCalled from file \"[6]\", line 1, characters 55-67\nCalled from file \"[6]\", line 1, characters 55-67\nCalled from file \"[6]\", line 1, characters 55-67\nCalled from file \"[6]\", line 1, characters 55-67\nCalled from file \"[6]\", line 1, characters 55-67\nCalled from file \"[6]\", line 1, characters 55-67\nCalled from file \"[6]\", line 1, characters 55-67\nCalled from file \"[6]\", line 1, characters 55-67\nCalled from file \"[6]\", line 1, characters 55-67\nCalled from file \"[6]\", line 1, characters 55-67\nCalled from file \"[6]\", line 1, characters 55-67\nCalled from file \"[6]\", line 1, characters 55-67\nCalled from file \"[6]\", line 1, characters 55-67\nCalled from file \"[6]\", line 1, characters 55-67\nCalled from file \"[6]\", line 1, characters 55-67\nCalled from file \"[6]\", line 1, characters 55-67\nCalled from file \"[6]\", line 1, characters 55-67\nCalled from file \"[6]\", line 1, characters 55-67\nCalled from file \"[6]\", line 1, characters 55-67\nCalled from file \"[6]\", line 1, characters 55-67\nCalled from file \"[6]\", line 1, characters 55-67\nCalled from file \"[6]\", line 1, characters 55-67\nCalled from file \"[6]\", line 1, characters 55-67\nCalled from file \"[6]\", line 1, characters 55-67\nCalled from file \"[6]\", line 1, characters 55-67\nCalled from file \"[6]\", line 1, characters 55-67\nCalled from file \"[6]\", line 1, characters 55-67\nCalled from file \"[6]\", line 1, characters 55-67\nCalled from file \"[6]\", line 1, characters 55-67\nCalled from file \"[6]\", line 1, characters 55-67\nCalled from file \"[6]\", line 1, characters 55-67\nCalled from file \"[6]\", line 1, characters 55-67\nCalled from file \"[6]\", line 1, characters 55-67\nCalled from file \"[6]\", line 1, characters 55-67\nCalled from file \"[6]\", line 1, characters 55-67\nCalled from file \"[6]\", line 1, characters 55-67\nCalled from file \"[6]\", line 1, characters 55-67\nCalled from file \"[6]\", line 1, characters 55-67\nCalled from file \"[6]\", line 1, characters 55-67\nCalled from file \"[6]\", line 1, characters 55-67\nCalled from file \"[6]\", line 1, characters 55-67\nCalled from file \"[6]\", line 1, characters 55-67\nCalled from file \"[6]\", line 1, characters 55-67\nCalled from file \"[6]\", line 1, characters 55-67\nCalled from file \"[6]\", line 1, characters 55-67\nCalled from file \"[6]\", line 1, characters 55-67\nCalled from file \"[6]\", line 1, characters 55-67\nCalled from file \"[6]\", line 1, characters 55-67\nCalled from file \"[6]\", line 1, characters 55-67\nCalled from file \"[6]\", line 1, characters 55-67\nCalled from file \"[6]\", line 1, characters 55-67\nCalled from file \"[6]\", line 1, characters 55-67\nCalled from file \"[6]\", line 1, characters 55-67\nCalled from file \"[6]\", line 1, characters 55-67\nCalled from file \"[6]\", line 1, characters 55-67\nCalled from file \"[6]\", line 1, characters 55-67\nCalled from file \"[6]\", line 1, characters 55-67\nCalled from file \"[6]\", line 1, characters 55-67\nCalled from file \"[6]\", line 1, characters 55-67\nCalled from file \"[6]\", line 1, characters 55-67\nCalled from file \"[6]\", line 1, characters 55-67\nCalled from file \"[6]\", line 1, characters 55-67\nCalled from file \"[6]\", line 1, characters 55-67\nCalled from file \"[6]\", line 1, characters 55-67\nCalled from file \"[6]\", line 1, characters 55-67\nCalled from file \"[6]\", line 1, characters 55-67\nCalled from file \"[6]\", line 1, characters 55-67\nCalled from file \"[6]\", line 1, characters 55-67\nCalled from file \"[6]\", line 1, characters 55-67\nCalled from file \"[6]\", line 1, characters 55-67\nCalled from file \"[6]\", line 1, characters 55-67\nCalled from file \"[6]\", line 1, characters 55-67\nCalled from file \"[6]\", line 1, characters 55-67\nCalled from file \"[6]\", line 1, characters 55-67\nCalled from file \"[6]\", line 1, characters 55-67\nCalled from file \"[6]\", line 1, characters 55-67\n\u001b[0m"
     ]
    }
   ],
   "source": [
    "to_string zero_ones"
   ]
  },
  {
   "cell_type": "markdown",
   "metadata": {
    "slideshow": {
     "slide_type": "slide"
    }
   },
   "source": [
    "## Pausing the execution\n",
    "\n",
    "* We need a way to pause the execution at the tail position\n",
    "    + rather than recursively applying to the rest of the list. \n",
    "* Use **thunks**: `unit -> 'a` functions."
   ]
  },
  {
   "cell_type": "markdown",
   "metadata": {
    "slideshow": {
     "slide_type": "slide"
    }
   },
   "source": [
    "## Pausing the execution"
   ]
  },
  {
   "cell_type": "code",
   "execution_count": 8,
   "metadata": {
    "slideshow": {
     "slide_type": "-"
    }
   },
   "outputs": [
    {
     "ename": "error",
     "evalue": "runtime_error",
     "output_type": "error",
     "traceback": [
      "\u001b[31mException: Failure \"error\".\nRaised at file \"stdlib.ml\", line 29, characters 22-33\nCalled from unknown location\nCalled from file \"toplevel/toploop.ml\", line 212, characters 17-27\n\u001b[0m"
     ]
    }
   ],
   "source": [
    "let v = failwith \"error\""
   ]
  },
  {
   "cell_type": "code",
   "execution_count": 9,
   "metadata": {
    "slideshow": {
     "slide_type": "fragment"
    }
   },
   "outputs": [
    {
     "data": {
      "text/plain": [
       "val f : unit -> 'a = <fun>\n"
      ]
     },
     "execution_count": 9,
     "metadata": {},
     "output_type": "execute_result"
    }
   ],
   "source": [
    "let f = fun () -> failwith \"error\""
   ]
  },
  {
   "cell_type": "code",
   "execution_count": 10,
   "metadata": {},
   "outputs": [
    {
     "ename": "error",
     "evalue": "runtime_error",
     "output_type": "error",
     "traceback": [
      "\u001b[31mException: Failure \"error\".\nRaised at file \"stdlib.ml\", line 29, characters 22-33\nCalled from file \"toplevel/toploop.ml\", line 212, characters 17-27\n\u001b[0m"
     ]
    }
   ],
   "source": [
    "f ()"
   ]
  },
  {
   "cell_type": "markdown",
   "metadata": {
    "slideshow": {
     "slide_type": "slide"
    }
   },
   "source": [
    "## Streams again\n",
    "\n",
    "Use a thunk for the tail to pause execution"
   ]
  },
  {
   "cell_type": "code",
   "execution_count": 11,
   "metadata": {},
   "outputs": [
    {
     "data": {
      "text/plain": [
       "type 'a stream = Cons of 'a * (unit -> 'a stream)\n"
      ]
     },
     "execution_count": 11,
     "metadata": {},
     "output_type": "execute_result"
    }
   ],
   "source": [
    "type 'a stream = Cons of 'a * (unit -> 'a stream)"
   ]
  },
  {
   "cell_type": "code",
   "execution_count": 12,
   "metadata": {},
   "outputs": [
    {
     "data": {
      "text/plain": [
       "val zero_ones : int stream = Cons (0, <fun>)\n"
      ]
     },
     "execution_count": 12,
     "metadata": {},
     "output_type": "execute_result"
    }
   ],
   "source": [
    "let rec zero_ones = Cons (0, fun () -> Cons (1, fun () -> zero_ones))"
   ]
  },
  {
   "cell_type": "code",
   "execution_count": 13,
   "metadata": {},
   "outputs": [
    {
     "data": {
      "text/plain": [
       "val hd : 'a stream -> 'a = <fun>\n"
      ]
     },
     "execution_count": 13,
     "metadata": {},
     "output_type": "execute_result"
    }
   ],
   "source": [
    "let hd (Cons (x, _)) = x"
   ]
  },
  {
   "cell_type": "code",
   "execution_count": 14,
   "metadata": {},
   "outputs": [
    {
     "data": {
      "text/plain": [
       "val tl : 'a stream -> 'a stream = <fun>\n"
      ]
     },
     "execution_count": 14,
     "metadata": {},
     "output_type": "execute_result"
    }
   ],
   "source": [
    "let tl (Cons (_, xs)) = xs ()"
   ]
  },
  {
   "cell_type": "markdown",
   "metadata": {
    "slideshow": {
     "slide_type": "slide"
    }
   },
   "source": [
    "## More Stream functions"
   ]
  },
  {
   "cell_type": "code",
   "execution_count": 15,
   "metadata": {},
   "outputs": [
    {
     "data": {
      "text/plain": [
       "val take : int -> 'a stream -> 'a list = <fun>\n"
      ]
     },
     "execution_count": 15,
     "metadata": {},
     "output_type": "execute_result"
    }
   ],
   "source": [
    "(* [take n s] returns a list with the first [n] elements of the stream [s] *)\n",
    "let rec take n s = \n",
    "  if n = 0 then []\n",
    "  else (hd s)::(take (n-1) (tl s))"
   ]
  },
  {
   "cell_type": "code",
   "execution_count": 16,
   "metadata": {},
   "outputs": [
    {
     "data": {
      "text/plain": [
       "- : int list = [0; 1; 0; 1; 0; 1; 0; 1; 0; 1]\n"
      ]
     },
     "execution_count": 16,
     "metadata": {},
     "output_type": "execute_result"
    }
   ],
   "source": [
    "take 10 zero_ones"
   ]
  },
  {
   "cell_type": "code",
   "execution_count": 17,
   "metadata": {},
   "outputs": [
    {
     "data": {
      "text/plain": [
       "val drop : int -> 'a stream -> 'a stream = <fun>\n"
      ]
     },
     "execution_count": 17,
     "metadata": {},
     "output_type": "execute_result"
    }
   ],
   "source": [
    "(* [drop n s] returns a new stream with the first [n] elements of stream [s] dropped *)\n",
    "let rec drop n s =\n",
    "  if n = 0 then s\n",
    "  else drop (n-1) (tl s)"
   ]
  },
  {
   "cell_type": "code",
   "execution_count": 18,
   "metadata": {},
   "outputs": [
    {
     "data": {
      "text/plain": [
       "- : int stream = Cons (1, <fun>)\n"
      ]
     },
     "execution_count": 18,
     "metadata": {},
     "output_type": "execute_result"
    }
   ],
   "source": [
    "drop 1 zero_ones (* [1;0;1;0;...] *)"
   ]
  },
  {
   "cell_type": "markdown",
   "metadata": {
    "slideshow": {
     "slide_type": "slide"
    }
   },
   "source": [
    "## Higher order functions on streams"
   ]
  },
  {
   "cell_type": "code",
   "execution_count": 19,
   "metadata": {},
   "outputs": [
    {
     "data": {
      "text/plain": [
       "val map : ('a -> 'b) -> 'a stream -> 'b stream = <fun>\n"
      ]
     },
     "execution_count": 19,
     "metadata": {},
     "output_type": "execute_result"
    }
   ],
   "source": [
    "let rec map f s = Cons (f (hd s), fun () -> map f (tl s))"
   ]
  },
  {
   "cell_type": "code",
   "execution_count": 20,
   "metadata": {},
   "outputs": [
    {
     "data": {
      "text/plain": [
       "val zero_ones_str : string stream = Cons (\"0\", <fun>)\n"
      ]
     },
     "execution_count": 20,
     "metadata": {},
     "output_type": "execute_result"
    }
   ],
   "source": [
    "let zero_ones_str = map string_of_int zero_ones"
   ]
  },
  {
   "cell_type": "code",
   "execution_count": 21,
   "metadata": {},
   "outputs": [
    {
     "data": {
      "text/plain": [
       "- : string list = [\"0\"; \"1\"; \"0\"; \"1\"; \"0\"; \"1\"; \"0\"; \"1\"; \"0\"; \"1\"]\n"
      ]
     },
     "execution_count": 21,
     "metadata": {},
     "output_type": "execute_result"
    }
   ],
   "source": [
    "take 10 zero_ones_str"
   ]
  },
  {
   "cell_type": "markdown",
   "metadata": {
    "slideshow": {
     "slide_type": "slide"
    }
   },
   "source": [
    "## Higher order functions on streams"
   ]
  },
  {
   "cell_type": "code",
   "execution_count": 22,
   "metadata": {},
   "outputs": [
    {
     "data": {
      "text/plain": [
       "val filter : ('a -> bool) -> 'a stream -> 'a stream = <fun>\n"
      ]
     },
     "execution_count": 22,
     "metadata": {},
     "output_type": "execute_result"
    }
   ],
   "source": [
    "(** [filter p s] returns a new stream where every element [x] from [s] \n",
    "    such that [p x = true] is removed *)\n",
    "let rec filter p s =\n",
    "  if p (hd s) then filter p (tl s)\n",
    "  else Cons (hd s, fun () -> filter p (tl s))"
   ]
  },
  {
   "cell_type": "code",
   "execution_count": 23,
   "metadata": {},
   "outputs": [
    {
     "data": {
      "text/plain": [
       "- : int list = [1; 1; 1; 1; 1; 1; 1; 1; 1; 1]\n"
      ]
     },
     "execution_count": 23,
     "metadata": {},
     "output_type": "execute_result"
    }
   ],
   "source": [
    "let s' = filter ((=) 0) zero_ones in\n",
    "take 10 s'"
   ]
  },
  {
   "cell_type": "markdown",
   "metadata": {
    "slideshow": {
     "slide_type": "slide"
    }
   },
   "source": [
    "## Higher order functions on streams"
   ]
  },
  {
   "cell_type": "code",
   "execution_count": 24,
   "metadata": {},
   "outputs": [
    {
     "data": {
      "text/plain": [
       "val zip : ('a -> 'b -> 'c) -> 'a stream -> 'b stream -> 'c stream = <fun>\n"
      ]
     },
     "execution_count": 24,
     "metadata": {},
     "output_type": "execute_result"
    }
   ],
   "source": [
    "let rec zip f s1 s2 = Cons (f (hd s1) (hd s2), fun () -> zip f (tl s1) (tl s2))"
   ]
  },
  {
   "cell_type": "code",
   "execution_count": 25,
   "metadata": {},
   "outputs": [
    {
     "data": {
      "text/plain": [
       "- : (int * string) stream = Cons ((0, \"0\"), <fun>)\n"
      ]
     },
     "execution_count": 25,
     "metadata": {},
     "output_type": "execute_result"
    }
   ],
   "source": [
    "zip (fun x y -> (x,y)) zero_ones zero_ones_str"
   ]
  },
  {
   "cell_type": "markdown",
   "metadata": {
    "slideshow": {
     "slide_type": "slide"
    }
   },
   "source": [
    "## Higher order functions on streams"
   ]
  },
  {
   "cell_type": "code",
   "execution_count": 26,
   "metadata": {},
   "outputs": [
    {
     "data": {
      "text/plain": [
       "val s : int stream = Cons (1, <fun>)\n"
      ]
     },
     "execution_count": 26,
     "metadata": {},
     "output_type": "execute_result"
    }
   ],
   "source": [
    "(*\n",
    "[0;1;0;1;....]\n",
    "+\n",
    "[1;0;1;0;....]\n",
    "*)\n",
    "\n",
    "let s = zip (+) zero_ones (drop 1 zero_ones)"
   ]
  },
  {
   "cell_type": "code",
   "execution_count": 27,
   "metadata": {},
   "outputs": [
    {
     "data": {
      "text/plain": [
       "- : int list = [1; 1; 1; 1; 1; 1; 1; 1; 1; 1]\n"
      ]
     },
     "execution_count": 27,
     "metadata": {},
     "output_type": "execute_result"
    }
   ],
   "source": [
    "take 10 s"
   ]
  },
  {
   "cell_type": "markdown",
   "metadata": {
    "slideshow": {
     "slide_type": "slide"
    }
   },
   "source": [
    "## Primes\n",
    "\n",
    "* **Sieve of Eratosthenes**: Neat way to compute primes.\n",
    "* Start with a stream `s` of `[2;3;4;.....]`.\n",
    "* At each step, \n",
    "  + `p = hd s` is a prime.\n",
    "  + return a new stream `s'` such that $\\forall x \\in s.x \\text{ mod } p = 0 \\notin s'$"
   ]
  },
  {
   "cell_type": "markdown",
   "metadata": {
    "slideshow": {
     "slide_type": "slide"
    }
   },
   "source": [
    "## Primes\n",
    "\n",
    "* In the first step,\n",
    "  + `prime = 2`\n",
    "  + `new stream = [3;5;7;9;11;13;15;17;....]`\n",
    "* In the second step,\n",
    "  + `prime = 3`\n",
    "  + `new stream = [5;7;11;13;17;19;23;....]`"
   ]
  },
  {
   "cell_type": "markdown",
   "metadata": {
    "slideshow": {
     "slide_type": "slide"
    }
   },
   "source": [
    "## Primes"
   ]
  },
  {
   "cell_type": "code",
   "execution_count": 28,
   "metadata": {},
   "outputs": [
    {
     "data": {
      "text/plain": [
       "val from : int -> int stream = <fun>\n"
      ]
     },
     "execution_count": 28,
     "metadata": {},
     "output_type": "execute_result"
    },
    {
     "data": {
      "text/plain": [
       "- : int stream = Cons (2, <fun>)\n"
      ]
     },
     "execution_count": 28,
     "metadata": {},
     "output_type": "execute_result"
    }
   ],
   "source": [
    "(* [from n] returns a natural number stream from [n] *)\n",
    "let rec from n = Cons (n, fun () -> from (n+1));;\n",
    "from 2"
   ]
  },
  {
   "cell_type": "code",
   "execution_count": 29,
   "metadata": {},
   "outputs": [
    {
     "data": {
      "text/plain": [
       "val primes : int stream -> int stream = <fun>\n"
      ]
     },
     "execution_count": 29,
     "metadata": {},
     "output_type": "execute_result"
    },
    {
     "data": {
      "text/plain": [
       "val primes_stream : int stream = Cons (2, <fun>)\n"
      ]
     },
     "execution_count": 29,
     "metadata": {},
     "output_type": "execute_result"
    }
   ],
   "source": [
    "let rec primes s = \n",
    "  let p = hd s in\n",
    "  Cons (p, fun () -> primes @@ filter (fun x -> x mod p = 0) (tl s))\n",
    "\n",
    "let primes_stream = primes (from 2)"
   ]
  },
  {
   "cell_type": "code",
   "execution_count": 30,
   "metadata": {},
   "outputs": [
    {
     "data": {
      "text/plain": [
       "- : int list =\n",
       "[2; 3; 5; 7; 11; 13; 17; 19; 23; 29; 31; 37; 41; 43; 47; 53; 59; 61; 67; 71;\n",
       " 73; 79; 83; 89; 97; 101; 103; 107; 109; 113; 127; 131; 137; 139; 149; 151;\n",
       " 157; 163; 167; 173; 179; 181; 191; 193; 197; 199; 211; 223; 227; 229; 233;\n",
       " 239; 241; 251; 257; 263; 269; 271; 277; 281; 283; 293; 307; 311; 313; 317;\n",
       " 331; 337; 347; 349; 353; 359; 367; 373; 379; 383; 389; 397; 401; 409; 419;\n",
       " 421; 431; 433; 439; 443; 449; 457; 461; 463; 467; 479; 487; 491; 499; 503;\n",
       " 509; 521; 523; 541]\n"
      ]
     },
     "execution_count": 30,
     "metadata": {},
     "output_type": "execute_result"
    }
   ],
   "source": [
    "take 100 primes_stream"
   ]
  },
  {
   "cell_type": "markdown",
   "metadata": {
    "slideshow": {
     "slide_type": "slide"
    }
   },
   "source": [
    "## Fibonacci sequence\n",
    "\n",
    "* Let's consider Fibonacci sequence\n",
    "  + `s1 = [1;1;2;3;5;8;13;...]`\n",
    "* Let's consider the tail of `s1`\n",
    "  + `s2 = [1;2;3;5;8;13;....]`\n",
    "* Let's zip `s1` and `s2` by adding together the elements:\n",
    "  + `s3 = [2;3;5;8;13;21;...]`\n",
    "  + `s3` is nothing but the tail of tail of fibonacci sequence. \n",
    "* If we were to prepend `[1;1]` to `s3` we will have the fibonacci sequence.\n",
    "\n"
   ]
  },
  {
   "cell_type": "markdown",
   "metadata": {
    "slideshow": {
     "slide_type": "slide"
    }
   },
   "source": [
    "## Fibonacci sequence"
   ]
  },
  {
   "cell_type": "code",
   "execution_count": 31,
   "metadata": {},
   "outputs": [
    {
     "data": {
      "text/plain": [
       "val fibs : int stream = Cons (1, <fun>)\n"
      ]
     },
     "execution_count": 31,
     "metadata": {},
     "output_type": "execute_result"
    }
   ],
   "source": [
    "let rec fibs = \n",
    "  Cons (1, fun () -> \n",
    "    Cons (1, fun () -> \n",
    "      zip (+) fibs (tl fibs)))"
   ]
  },
  {
   "cell_type": "code",
   "execution_count": 32,
   "metadata": {},
   "outputs": [
    {
     "data": {
      "text/plain": [
       "- : int list =\n",
       "[1; 1; 2; 3; 5; 8; 13; 21; 34; 55; 89; 144; 233; 377; 610; 987; 1597; 2584;\n",
       " 4181; 6765; 10946; 17711; 28657; 46368; 75025; 121393; 196418; 317811;\n",
       " 514229; 832040]\n"
      ]
     },
     "execution_count": 32,
     "metadata": {},
     "output_type": "execute_result"
    }
   ],
   "source": [
    "take 30 fibs"
   ]
  },
  {
   "cell_type": "markdown",
   "metadata": {
    "slideshow": {
     "slide_type": "slide"
    }
   },
   "source": [
    "## Fibonacci sequence : Efficiency\n",
    "\n",
    "* Each time we force the computation of the next element, we compute the fibonacci of previous element twice.\n",
    "  + Not immediately apparent, but this is equivalent to:\n",
    "  \n",
    "```ocaml\n",
    "let rec fib n = \n",
    "  if n < 2 then 1 \n",
    "  else fib (n-1) + fib (n-2)\n",
    "```\n",
    "* There is an exponential increase in the running time of `fib(n)` for each increase in `n`."
   ]
  },
  {
   "cell_type": "markdown",
   "metadata": {
    "slideshow": {
     "slide_type": "slide"
    }
   },
   "source": [
    "## Lazy Values\n",
    "\n",
    "* It would be nice to **save** the results of the execution for previously seen values and reuse them.\n",
    "  + This is the idea behind lazy values in OCaml.\n",
    "* Lazy values are the opt-in, explicit, **call-by-need** reduction strategy for OCaml\n",
    "  + Rest of the language is strict i.e, call-by-value"
   ]
  },
  {
   "cell_type": "markdown",
   "metadata": {
    "slideshow": {
     "slide_type": "slide"
    }
   },
   "source": [
    "## Lazy Values\n",
    "\n",
    "* Lazy module in OCaml is:\n",
    "\n",
    "```ocaml\n",
    "module Lazy = struct\n",
    "  type 'a t = 'a lazy_t\n",
    "  val force : 'a t -> 'a\n",
    "end\n",
    "```\n",
    "\n",
    "OCaml has syntactic support for lazy values through the `lazy` keyword."
   ]
  },
  {
   "cell_type": "markdown",
   "metadata": {
    "slideshow": {
     "slide_type": "slide"
    }
   },
   "source": [
    "## Lazy values"
   ]
  },
  {
   "cell_type": "code",
   "execution_count": 33,
   "metadata": {},
   "outputs": [
    {
     "data": {
      "text/plain": [
       "val v : int lazy_t = <lazy>\n"
      ]
     },
     "execution_count": 33,
     "metadata": {},
     "output_type": "execute_result"
    }
   ],
   "source": [
    "let v = lazy (10 + (print_endline \"Hello\"; 20))"
   ]
  },
  {
   "cell_type": "code",
   "execution_count": 34,
   "metadata": {},
   "outputs": [
    {
     "data": {
      "text/plain": [
       "- : int = 30\n"
      ]
     },
     "execution_count": 34,
     "metadata": {},
     "output_type": "execute_result"
    }
   ],
   "source": [
    "Lazy.force v"
   ]
  },
  {
   "cell_type": "code",
   "execution_count": 35,
   "metadata": {},
   "outputs": [
    {
     "name": "stdout",
     "output_type": "stream",
     "text": [
      "Hello\n"
     ]
    },
    {
     "data": {
      "text/plain": [
       "- : int = 30\n"
      ]
     },
     "execution_count": 35,
     "metadata": {},
     "output_type": "execute_result"
    }
   ],
   "source": [
    "Lazy.force v"
   ]
  },
  {
   "cell_type": "markdown",
   "metadata": {
    "slideshow": {
     "slide_type": "slide"
    }
   },
   "source": [
    "## Time it\n",
    "\n",
    "Let us define a helper function for timing a function execution."
   ]
  },
  {
   "cell_type": "code",
   "execution_count": 36,
   "metadata": {},
   "outputs": [
    {
     "data": {
      "text/plain": [
       "val time_it : (unit -> 'a) -> 'a * float = <fun>\n"
      ]
     },
     "execution_count": 36,
     "metadata": {},
     "output_type": "execute_result"
    }
   ],
   "source": [
    "let time_it f =\n",
    "  let t = Unix.gettimeofday () in\n",
    "  let r = f () in\n",
    "  (r, (Unix.gettimeofday() -. t) *. 1000.)"
   ]
  },
  {
   "cell_type": "markdown",
   "metadata": {
    "slideshow": {
     "slide_type": "slide"
    }
   },
   "source": [
    "## Lazy fib"
   ]
  },
  {
   "cell_type": "code",
   "execution_count": 37,
   "metadata": {},
   "outputs": [
    {
     "data": {
      "text/plain": [
       "val fib30lazy : int lazy_t = <lazy>\n"
      ]
     },
     "execution_count": 37,
     "metadata": {},
     "output_type": "execute_result"
    }
   ],
   "source": [
    "(* 30th Fibonacci number *)\n",
    "let fib30lazy = lazy (take 30 fibs |> List.rev |> List.hd)"
   ]
  },
  {
   "cell_type": "code",
   "execution_count": 38,
   "metadata": {},
   "outputs": [
    {
     "name": "stdout",
     "output_type": "stream",
     "text": [
      "fib(30) = 832040, time = 2138.317108 milliseconds\n"
     ]
    },
    {
     "data": {
      "text/plain": [
       "- : unit = ()\n"
      ]
     },
     "execution_count": 38,
     "metadata": {},
     "output_type": "execute_result"
    }
   ],
   "source": [
    "let (r,d) = time_it (fun () -> Lazy.force fib30lazy) in\n",
    "Printf.printf \"fib(30) = %d, time = %f milliseconds\\n%!\" r d"
   ]
  },
  {
   "cell_type": "markdown",
   "metadata": {
    "slideshow": {
     "slide_type": "slide"
    }
   },
   "source": [
    "## Lazy fib"
   ]
  },
  {
   "cell_type": "code",
   "execution_count": 39,
   "metadata": {},
   "outputs": [
    {
     "data": {
      "text/plain": [
       "val fib31lazy : int lazy_t = <lazy>\n"
      ]
     },
     "execution_count": 39,
     "metadata": {},
     "output_type": "execute_result"
    }
   ],
   "source": [
    "let fib31lazy = lazy (take 31 fibs |> List.rev |> List.hd)"
   ]
  },
  {
   "cell_type": "code",
   "execution_count": 40,
   "metadata": {},
   "outputs": [
    {
     "data": {
      "text/plain": [
       "- : unit = ()\n"
      ]
     },
     "execution_count": 40,
     "metadata": {},
     "output_type": "execute_result"
    },
    {
     "name": "stdout",
     "output_type": "stream",
     "text": [
      "fib(31) = 1346269, time = 3946.481943 milliseconds\n"
     ]
    }
   ],
   "source": [
    "let (r,d) = time_it (fun () -> Lazy.force fib31lazy) in\n",
    "Printf.printf \"fib(31) = %d, time = %f milliseconds\\n%!\" r d"
   ]
  },
  {
   "cell_type": "markdown",
   "metadata": {
    "slideshow": {
     "slide_type": "-"
    }
   },
   "source": [
    "We're not reusing `fib(30)` in `fib(31)` :-("
   ]
  },
  {
   "cell_type": "markdown",
   "metadata": {
    "slideshow": {
     "slide_type": "slide"
    }
   },
   "source": [
    "## Lazy stream\n",
    "\n",
    "Let's redefine the stream using lazy values (instead of thunks)"
   ]
  },
  {
   "cell_type": "code",
   "execution_count": 41,
   "metadata": {},
   "outputs": [
    {
     "data": {
      "text/plain": [
       "type 'a stream = Cons of 'a * 'a stream Lazy.t\n"
      ]
     },
     "execution_count": 41,
     "metadata": {},
     "output_type": "execute_result"
    }
   ],
   "source": [
    "type 'a stream = Cons of 'a * 'a stream Lazy.t"
   ]
  },
  {
   "cell_type": "code",
   "execution_count": 42,
   "metadata": {},
   "outputs": [
    {
     "data": {
      "text/plain": [
       "val hd : 'a stream -> 'a = <fun>\n"
      ]
     },
     "execution_count": 42,
     "metadata": {},
     "output_type": "execute_result"
    },
    {
     "data": {
      "text/plain": [
       "val tl : 'a stream -> 'a stream = <fun>\n"
      ]
     },
     "execution_count": 42,
     "metadata": {},
     "output_type": "execute_result"
    },
    {
     "data": {
      "text/plain": [
       "val take : int -> 'a stream -> 'a list = <fun>\n"
      ]
     },
     "execution_count": 42,
     "metadata": {},
     "output_type": "execute_result"
    },
    {
     "data": {
      "text/plain": [
       "val zip : ('a -> 'b -> 'c) -> 'a stream -> 'b stream -> 'c stream = <fun>\n"
      ]
     },
     "execution_count": 42,
     "metadata": {},
     "output_type": "execute_result"
    }
   ],
   "source": [
    "let hd (Cons (x,l)) = x\n",
    "let tl (Cons (x,l)) = Lazy.force l\n",
    "let rec take n s = \n",
    "  if n = 0 then [] else (hd s)::(take (n-1) (tl s))\n",
    "let rec zip f s1 s2 = \n",
    "  Cons (f (hd s1) (hd s2), lazy (zip f (tl s1) (tl s2)))"
   ]
  },
  {
   "cell_type": "markdown",
   "metadata": {
    "slideshow": {
     "slide_type": "slide"
    }
   },
   "source": [
    "## Fibs Lazy Streams"
   ]
  },
  {
   "cell_type": "code",
   "execution_count": 43,
   "metadata": {},
   "outputs": [
    {
     "data": {
      "text/plain": [
       "val fibslazystream : int stream = Cons (1, <lazy>)\n"
      ]
     },
     "execution_count": 43,
     "metadata": {},
     "output_type": "execute_result"
    }
   ],
   "source": [
    "let rec fibslazystream = \n",
    "  Cons (1, lazy (\n",
    "    Cons (1, lazy (\n",
    "      zip (+) fibslazystream (tl fibslazystream)))))"
   ]
  },
  {
   "cell_type": "code",
   "execution_count": 44,
   "metadata": {},
   "outputs": [
    {
     "name": "stdout",
     "output_type": "stream",
     "text": [
      "fib(n) = 3736710778780434371, time = 0.087023 milliseconds\n"
     ]
    },
    {
     "data": {
      "text/plain": [
       "- : unit = ()\n"
      ]
     },
     "execution_count": 44,
     "metadata": {},
     "output_type": "execute_result"
    }
   ],
   "source": [
    "let f () = take 100 fibslazystream |> List.rev |> List.hd in\n",
    "let (r,d) = time_it f in\n",
    "Printf.printf \"fib(n) = %d, time = %f milliseconds\\n%!\" r d"
   ]
  },
  {
   "cell_type": "markdown",
   "metadata": {
    "slideshow": {
     "slide_type": "-"
    }
   },
   "source": [
    "You can see that this is fast!"
   ]
  },
  {
   "cell_type": "markdown",
   "metadata": {
    "slideshow": {
     "slide_type": "slide"
    }
   },
   "source": [
    "## Memoization\n",
    "\n",
    "* Lazy values in OCaml are a specific efficient implementation of the general idea of caching called **Memoization**.\n",
    "  + Add caching to functions to retrieve results fast. "
   ]
  },
  {
   "cell_type": "code",
   "execution_count": 45,
   "metadata": {},
   "outputs": [
    {
     "data": {
      "text/plain": [
       "val memo : ('a -> 'b) -> 'a -> 'b = <fun>\n"
      ]
     },
     "execution_count": 45,
     "metadata": {},
     "output_type": "execute_result"
    }
   ],
   "source": [
    "let memo f = \n",
    "  let cache = Hashtbl.create 16 in\n",
    "  fun v -> \n",
    "    match Hashtbl.find_opt cache v with\n",
    "    | None -> \n",
    "        let res = f v in \n",
    "        Hashtbl.add cache v res;\n",
    "        res\n",
    "    | Some res -> res"
   ]
  },
  {
   "cell_type": "markdown",
   "metadata": {
    "slideshow": {
     "slide_type": "slide"
    }
   },
   "source": [
    "## Expensive identity"
   ]
  },
  {
   "cell_type": "code",
   "execution_count": 46,
   "metadata": {},
   "outputs": [
    {
     "data": {
      "text/plain": [
       "val spin : int -> unit = <fun>\n"
      ]
     },
     "execution_count": 46,
     "metadata": {},
     "output_type": "execute_result"
    }
   ],
   "source": [
    "let rec spin n = if n = 0 then () else spin (n-1)"
   ]
  },
  {
   "cell_type": "code",
   "execution_count": 47,
   "metadata": {},
   "outputs": [
    {
     "data": {
      "text/plain": [
       "val expensive_id : 'a -> 'a = <fun>\n"
      ]
     },
     "execution_count": 47,
     "metadata": {},
     "output_type": "execute_result"
    }
   ],
   "source": [
    "let expensive_id x = spin 200000000; x"
   ]
  },
  {
   "cell_type": "code",
   "execution_count": 48,
   "metadata": {},
   "outputs": [
    {
     "name": "stdout",
     "output_type": "stream",
     "text": [
      "expensive_id(n) = 10, time = 3027.556181 milliseconds\n"
     ]
    },
    {
     "data": {
      "text/plain": [
       "- : unit = ()\n"
      ]
     },
     "execution_count": 48,
     "metadata": {},
     "output_type": "execute_result"
    }
   ],
   "source": [
    "let (r,d) = time_it (fun () -> expensive_id 10) in\n",
    "Printf.printf \"expensive_id(n) = %d, time = %f milliseconds\\n%!\" r d"
   ]
  },
  {
   "cell_type": "markdown",
   "metadata": {
    "slideshow": {
     "slide_type": "slide"
    }
   },
   "source": [
    "## Memoizing expensive identity"
   ]
  },
  {
   "cell_type": "code",
   "execution_count": 49,
   "metadata": {},
   "outputs": [
    {
     "data": {
      "text/plain": [
       "val memoized_expensive_id : '_weak1 -> '_weak1 = <fun>\n"
      ]
     },
     "execution_count": 49,
     "metadata": {},
     "output_type": "execute_result"
    }
   ],
   "source": [
    "let memoized_expensive_id = memo expensive_id"
   ]
  },
  {
   "cell_type": "code",
   "execution_count": 50,
   "metadata": {},
   "outputs": [
    {
     "name": "stdout",
     "output_type": "stream",
     "text": [
      "memoized_expensive_id(n) = 10, time = 2892.257929 milliseconds\n"
     ]
    },
    {
     "data": {
      "text/plain": [
       "- : unit = ()\n"
      ]
     },
     "execution_count": 50,
     "metadata": {},
     "output_type": "execute_result"
    }
   ],
   "source": [
    "let (r,d) = time_it (fun () -> memoized_expensive_id 10) in\n",
    "Printf.printf \"memoized_expensive_id(n) = %d, time = %f milliseconds\\n%!\" r d"
   ]
  },
  {
   "cell_type": "markdown",
   "metadata": {
    "slideshow": {
     "slide_type": "slide"
    }
   },
   "source": [
    "## Memoizing recursive functions\n",
    "\n",
    "* Memoizing recursive functions is a bit more tricky.\n",
    "  + We need to tie the **recursive knot**"
   ]
  },
  {
   "cell_type": "code",
   "execution_count": 51,
   "metadata": {},
   "outputs": [
    {
     "data": {
      "text/plain": [
       "val fib : int -> int = <fun>\n"
      ]
     },
     "execution_count": 51,
     "metadata": {},
     "output_type": "execute_result"
    }
   ],
   "source": [
    "let rec fib n = \n",
    "  if n < 2 then 1 else fib(n-2) + fib(n-1)"
   ]
  },
  {
   "cell_type": "code",
   "execution_count": 52,
   "metadata": {},
   "outputs": [
    {
     "name": "stdout",
     "output_type": "stream",
     "text": [
      "fib(n) = 165580141, time = 5972.566128 milliseconds\n"
     ]
    },
    {
     "data": {
      "text/plain": [
       "- : unit = ()\n"
      ]
     },
     "execution_count": 52,
     "metadata": {},
     "output_type": "execute_result"
    }
   ],
   "source": [
    "let (r,d) = time_it (fun () -> fib 40) in\n",
    "Printf.printf \"fib(n) = %d, time = %f milliseconds\\n%!\" r d"
   ]
  },
  {
   "cell_type": "markdown",
   "metadata": {
    "slideshow": {
     "slide_type": "slide"
    }
   },
   "source": [
    "## Memoizing recursive functions"
   ]
  },
  {
   "cell_type": "markdown",
   "metadata": {},
   "source": [
    "Simply doing `let memo_fib = memo fib` will only memoize the outer calls and not the recursive calls."
   ]
  },
  {
   "cell_type": "code",
   "execution_count": 53,
   "metadata": {},
   "outputs": [
    {
     "data": {
      "text/plain": [
       "val memo_fib : int -> int = <fun>\n"
      ]
     },
     "execution_count": 53,
     "metadata": {},
     "output_type": "execute_result"
    }
   ],
   "source": [
    "let memo_fib = memo fib"
   ]
  },
  {
   "cell_type": "code",
   "execution_count": 54,
   "metadata": {},
   "outputs": [
    {
     "name": "stdout",
     "output_type": "stream",
     "text": [
      "memo_fib(n) = 165580141, time = 5931.116104 milliseconds\n"
     ]
    },
    {
     "data": {
      "text/plain": [
       "- : unit = ()\n"
      ]
     },
     "execution_count": 54,
     "metadata": {},
     "output_type": "execute_result"
    }
   ],
   "source": [
    "let (r,d) = time_it (fun () -> memo_fib 40) in\n",
    "Printf.printf \"memo_fib(n) = %d, time = %f milliseconds\\n%!\" r d"
   ]
  },
  {
   "cell_type": "code",
   "execution_count": 55,
   "metadata": {},
   "outputs": [
    {
     "name": "stdout",
     "output_type": "stream",
     "text": [
      "memo_fib(n) = 102334155, time = 3723.845005 milliseconds\n"
     ]
    },
    {
     "data": {
      "text/plain": [
       "- : unit = ()\n"
      ]
     },
     "execution_count": 55,
     "metadata": {},
     "output_type": "execute_result"
    }
   ],
   "source": [
    "let (r,d) = time_it (fun () -> memo_fib 39) in\n",
    "Printf.printf \"memo_fib(n) = %d, time = %f milliseconds\\n%!\" r d"
   ]
  },
  {
   "cell_type": "markdown",
   "metadata": {
    "slideshow": {
     "slide_type": "slide"
    }
   },
   "source": [
    "## Tying the recursive knot\n",
    "\n",
    "This function should remind you of the definition we used for Y combinator."
   ]
  },
  {
   "cell_type": "code",
   "execution_count": 56,
   "metadata": {},
   "outputs": [
    {
     "data": {
      "text/plain": [
       "val fib_norec : (int -> int) -> int -> int = <fun>\n"
      ]
     },
     "execution_count": 56,
     "metadata": {},
     "output_type": "execute_result"
    }
   ],
   "source": [
    "let fib_norec f n = if n < 2 then 1 else f (n-1) + f (n-2)"
   ]
  },
  {
   "cell_type": "markdown",
   "metadata": {},
   "source": [
    "The idea is to provide an `f` which is the memoized version of the usual recursive `fib` function:\n",
    "\n",
    "```ocaml\n",
    "let rec fib n = if n < 2 then 1 else fib (n-1) + fib (n-2)\n",
    "```\n",
    "\n",
    "We will use a **reference** to tie the knot."
   ]
  },
  {
   "cell_type": "markdown",
   "metadata": {
    "slideshow": {
     "slide_type": "slide"
    }
   },
   "source": [
    "## Tying the recursive knot\n",
    "\n",
    "`memo_rec` will memoize recursive function that take an explicit recursive function argument such as `fib_norec`."
   ]
  },
  {
   "cell_type": "code",
   "execution_count": 57,
   "metadata": {},
   "outputs": [
    {
     "data": {
      "text/plain": [
       "val memo_rec : (('a -> 'b) -> 'a -> 'b) -> 'a -> 'b = <fun>\n"
      ]
     },
     "execution_count": 57,
     "metadata": {},
     "output_type": "execute_result"
    }
   ],
   "source": [
    "let memo_rec f_norec =\n",
    "  (* 1: Reference [f_ref] to a dummy function *)\n",
    "  let f_ref = ref (fun _ -> assert false) in\n",
    "  (* 2: memoize the \"eta-expanded\" [f_norec] function by dereferencing [f]. *)\n",
    "  let f_rec_memo = memo (fun x -> f_norec !f_ref x) in\n",
    "                                          (* not dereferencing [!f_ref] yet *)\n",
    "  (* 3: update [f_ref] to the recursive memoized function *)\n",
    "  f_ref := f_rec_memo;\n",
    "\n",
    "  f_rec_memo"
   ]
  },
  {
   "cell_type": "markdown",
   "metadata": {},
   "source": [
    "<center>\n",
    "    \n",
    "<img src=\"rec_knot.svg\">\n",
    "</center>"
   ]
  },
  {
   "cell_type": "markdown",
   "metadata": {
    "slideshow": {
     "slide_type": "slide"
    }
   },
   "source": [
    "## Memoized fib"
   ]
  },
  {
   "cell_type": "code",
   "execution_count": 58,
   "metadata": {},
   "outputs": [
    {
     "data": {
      "text/plain": [
       "val fib_memo : int -> int = <fun>\n"
      ]
     },
     "execution_count": 58,
     "metadata": {},
     "output_type": "execute_result"
    }
   ],
   "source": [
    "let fib_memo = memo_rec fib_norec"
   ]
  },
  {
   "cell_type": "code",
   "execution_count": 59,
   "metadata": {},
   "outputs": [
    {
     "name": "stdout",
     "output_type": "stream",
     "text": [
      "memo_fib(n) = 165580141, time = 0.073910 milliseconds\n"
     ]
    },
    {
     "data": {
      "text/plain": [
       "- : unit = ()\n"
      ]
     },
     "execution_count": 59,
     "metadata": {},
     "output_type": "execute_result"
    }
   ],
   "source": [
    "let r,d = time_it (fun () -> fib_memo 40) in\n",
    "Printf.printf \"memo_fib(n) = %d, time = %f milliseconds\\n%!\" r d"
   ]
  },
  {
   "cell_type": "code",
   "execution_count": 60,
   "metadata": {},
   "outputs": [
    {
     "name": "stdout",
     "output_type": "stream",
     "text": [
      "memo_fib(n) = 267914296, time = 0.012159 milliseconds\n"
     ]
    },
    {
     "data": {
      "text/plain": [
       "- : unit = ()\n"
      ]
     },
     "execution_count": 60,
     "metadata": {},
     "output_type": "execute_result"
    }
   ],
   "source": [
    "let r,d = time_it (fun () -> fib_memo 41) in\n",
    "Printf.printf \"memo_fib(n) = %d, time = %f milliseconds\\n%!\" r d"
   ]
  },
  {
   "cell_type": "markdown",
   "metadata": {
    "slideshow": {
     "slide_type": "slide"
    }
   },
   "source": [
    "## Edit distance\n",
    "\n",
    "* Memoization is a general solution for **dynamic programming**.\n",
    "* Let's compute **edit distance** (aka **Levenshtein distance**) between two strings.\n",
    "    + Cost: 1 each for insert, delete and replace.\n",
    "* Example: \n",
    "   * edit_distance(\"kitten\",\"sitting\") = 3\n",
    "   * $\\colorred{k}$itten -> $\\colorred{s}$itten\n",
    "   * sitt$\\colorred{e}$n -> sitt$\\colorred{i}$n\n",
    "   * sittin -> sittin$\\colorred{g}$"
   ]
  },
  {
   "cell_type": "markdown",
   "metadata": {
    "slideshow": {
     "slide_type": "slide"
    }
   },
   "source": [
    "## Edit distance"
   ]
  },
  {
   "cell_type": "code",
   "execution_count": 61,
   "metadata": {
    "slideshow": {
     "slide_type": "-"
    }
   },
   "outputs": [
    {
     "data": {
      "text/plain": [
       "val edit_distance : ?log:bool -> string * string -> int = <fun>\n"
      ]
     },
     "execution_count": 61,
     "metadata": {},
     "output_type": "execute_result"
    }
   ],
   "source": [
    "(* See Real World OCaml book : https://dev.realworldocaml.org/imperative-programming.html#scrollNav-5 *)\n",
    "let rec edit_distance ?log (s,t) = \n",
    "  let open String in\n",
    "  if log = Some true then print_endline (\"s=\\\"\" ^ s ^ \"\\\" \" ^ \"t=\\\"\" ^ t ^ \"\\\"\");\n",
    "  match String.length s, String.length t with\n",
    "  | 0,x | x,0 -> x\n",
    "  | len_s, len_t ->\n",
    "    let s' = sub s 0 (len_s - 1) in\n",
    "    let t' = sub t 0 (len_t - 1) in\n",
    "    (* Minimum of three possibilities *)\n",
    "    List.fold_left (fun acc v -> min acc v) max_int [\n",
    "      edit_distance ?log (s',t) + 1 (* delete last char of s to get s' *);\n",
    "      edit_distance ?log (s,t') + 1 (* insert last char to t' to get t *);\n",
    "      edit_distance ?log (s',t') +   \n",
    "        if get s (len_s-1) = get t (len_t-1) then 0 (* no change: last character same in s and t *)\n",
    "        else 1 (* replace last character in s to match the last character in t *)\n",
    "    ]"
   ]
  },
  {
   "cell_type": "markdown",
   "metadata": {
    "slideshow": {
     "slide_type": "slide"
    }
   },
   "source": [
    "## Edit distance"
   ]
  },
  {
   "cell_type": "code",
   "execution_count": 64,
   "metadata": {
    "scrolled": true
   },
   "outputs": [
    {
     "data": {
      "text/plain": [
       "- : int * float = (2, 2.08997726440429688)\n"
      ]
     },
     "execution_count": 64,
     "metadata": {},
     "output_type": "execute_result"
    }
   ],
   "source": [
    "time_it (fun () -> (edit_distance ~log:false) (\"OCaml\", \"ocaml\"))"
   ]
  },
  {
   "cell_type": "markdown",
   "metadata": {
    "slideshow": {
     "slide_type": "slide"
    }
   },
   "source": [
    "## Edit distance"
   ]
  },
  {
   "cell_type": "code",
   "execution_count": 65,
   "metadata": {},
   "outputs": [
    {
     "data": {
      "text/plain": [
       "- : int * float = (2, 14428.8139343261719)\n"
      ]
     },
     "execution_count": 65,
     "metadata": {},
     "output_type": "execute_result"
    }
   ],
   "source": [
    "time_it (fun () -> (edit_distance ~log:false) (\"OCaml 4.08\", \"ocaml 4.08\"))"
   ]
  },
  {
   "cell_type": "markdown",
   "metadata": {
    "slideshow": {
     "slide_type": "slide"
    }
   },
   "source": [
    "## Memoize edit distance"
   ]
  },
  {
   "cell_type": "code",
   "execution_count": 66,
   "metadata": {},
   "outputs": [
    {
     "data": {
      "text/plain": [
       "val edit_distance_norec :\n",
       "  ?log:bool -> (string * string -> int) -> string * string -> int = <fun>\n"
      ]
     },
     "execution_count": 66,
     "metadata": {},
     "output_type": "execute_result"
    }
   ],
   "source": [
    "let edit_distance_norec ?log f (s,t) = \n",
    "  let open String in\n",
    "  if log = Some true then print_endline (\"s=\\\"\" ^ s ^ \"\\\" \" ^ \"t=\\\"\" ^ t ^ \"\\\"\");\n",
    "  match String.length s, String.length t with\n",
    "  | 0,x | x,0 -> x\n",
    "  | len_s, len_t ->\n",
    "    let s' = sub s 0 (len_s - 1) in\n",
    "    let t' = sub t 0 (len_t - 1) in\n",
    "    List.fold_left (fun acc v -> min acc v) max_int [\n",
    "      f (s',t) + 1 (* delete last char of s to get s' *);\n",
    "      f (s,t') + 1 (* insert last char to t' to get t *);\n",
    "      f (s',t') +   \n",
    "        if get s (len_s-1) = get t (len_t-1) then 0 (* no change: last character same in s and t *)\n",
    "        else 1 (* replace last character in s to match the last character in t *)\n",
    "    ]"
   ]
  },
  {
   "cell_type": "markdown",
   "metadata": {
    "slideshow": {
     "slide_type": "slide"
    }
   },
   "source": [
    "## Memoize edit distance"
   ]
  },
  {
   "cell_type": "code",
   "execution_count": 69,
   "metadata": {},
   "outputs": [
    {
     "data": {
      "text/plain": [
       "val memo_edit_distance : string * string -> int = <fun>\n"
      ]
     },
     "execution_count": 69,
     "metadata": {},
     "output_type": "execute_result"
    }
   ],
   "source": [
    "let memo_edit_distance = memo_rec (edit_distance_norec ~log:true)"
   ]
  },
  {
   "cell_type": "code",
   "execution_count": 70,
   "metadata": {
    "scrolled": true
   },
   "outputs": [
    {
     "data": {
      "text/plain": [
       "- : int * float = (2, 1.05977058410644531)\n"
      ]
     },
     "execution_count": 70,
     "metadata": {},
     "output_type": "execute_result"
    },
    {
     "name": "stdout",
     "output_type": "stream",
     "text": [
      "s=\"OCaml 4.08\" t=\"ocaml 4.08\"\n",
      "s=\"OCaml 4.0\" t=\"ocaml 4.0\"\n",
      "s=\"OCaml 4.\" t=\"ocaml 4.\"\n",
      "s=\"OCaml 4\" t=\"ocaml 4\"\n",
      "s=\"OCaml \" t=\"ocaml \"\n",
      "s=\"OCaml\" t=\"ocaml\"\n",
      "s=\"OCam\" t=\"ocam\"\n",
      "s=\"OCa\" t=\"oca\"\n",
      "s=\"OC\" t=\"oc\"\n",
      "s=\"O\" t=\"o\"\n",
      "s=\"\" t=\"\"\n",
      "s=\"O\" t=\"\"\n",
      "s=\"\" t=\"o\"\n",
      "s=\"OC\" t=\"o\"\n",
      "s=\"OC\" t=\"\"\n",
      "s=\"O\" t=\"oc\"\n",
      "s=\"\" t=\"oc\"\n",
      "s=\"OCa\" t=\"oc\"\n",
      "s=\"OCa\" t=\"o\"\n",
      "s=\"OCa\" t=\"\"\n",
      "s=\"OC\" t=\"oca\"\n",
      "s=\"O\" t=\"oca\"\n",
      "s=\"\" t=\"oca\"\n",
      "s=\"OCam\" t=\"oca\"\n",
      "s=\"OCam\" t=\"oc\"\n",
      "s=\"OCam\" t=\"o\"\n",
      "s=\"OCam\" t=\"\"\n",
      "s=\"OCa\" t=\"ocam\"\n",
      "s=\"OC\" t=\"ocam\"\n",
      "s=\"O\" t=\"ocam\"\n",
      "s=\"\" t=\"ocam\"\n",
      "s=\"OCaml\" t=\"ocam\"\n",
      "s=\"OCaml\" t=\"oca\"\n",
      "s=\"OCaml\" t=\"oc\"\n",
      "s=\"OCaml\" t=\"o\"\n",
      "s=\"OCaml\" t=\"\"\n",
      "s=\"OCam\" t=\"ocaml\"\n",
      "s=\"OCa\" t=\"ocaml\"\n",
      "s=\"OC\" t=\"ocaml\"\n",
      "s=\"O\" t=\"ocaml\"\n",
      "s=\"\" t=\"ocaml\"\n",
      "s=\"OCaml \" t=\"ocaml\"\n",
      "s=\"OCaml \" t=\"ocam\"\n",
      "s=\"OCaml \" t=\"oca\"\n",
      "s=\"OCaml \" t=\"oc\"\n",
      "s=\"OCaml \" t=\"o\"\n",
      "s=\"OCaml \" t=\"\"\n",
      "s=\"OCaml\" t=\"ocaml \"\n",
      "s=\"OCam\" t=\"ocaml \"\n",
      "s=\"OCa\" t=\"ocaml \"\n",
      "s=\"OC\" t=\"ocaml \"\n",
      "s=\"O\" t=\"ocaml \"\n",
      "s=\"\" t=\"ocaml \"\n",
      "s=\"OCaml 4\" t=\"ocaml \"\n",
      "s=\"OCaml 4\" t=\"ocaml\"\n",
      "s=\"OCaml 4\" t=\"ocam\"\n",
      "s=\"OCaml 4\" t=\"oca\"\n",
      "s=\"OCaml 4\" t=\"oc\"\n",
      "s=\"OCaml 4\" t=\"o\"\n",
      "s=\"OCaml 4\" t=\"\"\n",
      "s=\"OCaml \" t=\"ocaml 4\"\n",
      "s=\"OCaml\" t=\"ocaml 4\"\n",
      "s=\"OCam\" t=\"ocaml 4\"\n",
      "s=\"OCa\" t=\"ocaml 4\"\n",
      "s=\"OC\" t=\"ocaml 4\"\n",
      "s=\"O\" t=\"ocaml 4\"\n",
      "s=\"\" t=\"ocaml 4\"\n",
      "s=\"OCaml 4.\" t=\"ocaml 4\"\n",
      "s=\"OCaml 4.\" t=\"ocaml \"\n",
      "s=\"OCaml 4.\" t=\"ocaml\"\n",
      "s=\"OCaml 4.\" t=\"ocam\"\n",
      "s=\"OCaml 4.\" t=\"oca\"\n",
      "s=\"OCaml 4.\" t=\"oc\"\n",
      "s=\"OCaml 4.\" t=\"o\"\n",
      "s=\"OCaml 4.\" t=\"\"\n",
      "s=\"OCaml 4\" t=\"ocaml 4.\"\n",
      "s=\"OCaml \" t=\"ocaml 4.\"\n",
      "s=\"OCaml\" t=\"ocaml 4.\"\n",
      "s=\"OCam\" t=\"ocaml 4.\"\n",
      "s=\"OCa\" t=\"ocaml 4.\"\n",
      "s=\"OC\" t=\"ocaml 4.\"\n",
      "s=\"O\" t=\"ocaml 4.\"\n",
      "s=\"\" t=\"ocaml 4.\"\n",
      "s=\"OCaml 4.0\" t=\"ocaml 4.\"\n",
      "s=\"OCaml 4.0\" t=\"ocaml 4\"\n",
      "s=\"OCaml 4.0\" t=\"ocaml \"\n",
      "s=\"OCaml 4.0\" t=\"ocaml\"\n",
      "s=\"OCaml 4.0\" t=\"ocam\"\n",
      "s=\"OCaml 4.0\" t=\"oca\"\n",
      "s=\"OCaml 4.0\" t=\"oc\"\n",
      "s=\"OCaml 4.0\" t=\"o\"\n",
      "s=\"OCaml 4.0\" t=\"\"\n",
      "s=\"OCaml 4.\" t=\"ocaml 4.0\"\n",
      "s=\"OCaml 4\" t=\"ocaml 4.0\"\n",
      "s=\"OCaml \" t=\"ocaml 4.0\"\n",
      "s=\"OCaml\" t=\"ocaml 4.0\"\n",
      "s=\"OCam\" t=\"ocaml 4.0\"\n",
      "s=\"OCa\" t=\"ocaml 4.0\"\n",
      "s=\"OC\" t=\"ocaml 4.0\"\n",
      "s=\"O\" t=\"ocaml 4.0\"\n",
      "s=\"\" t=\"ocaml 4.0\"\n",
      "s=\"OCaml 4.08\" t=\"ocaml 4.0\"\n",
      "s=\"OCaml 4.08\" t=\"ocaml 4.\"\n",
      "s=\"OCaml 4.08\" t=\"ocaml 4\"\n",
      "s=\"OCaml 4.08\" t=\"ocaml \"\n",
      "s=\"OCaml 4.08\" t=\"ocaml\"\n",
      "s=\"OCaml 4.08\" t=\"ocam\"\n",
      "s=\"OCaml 4.08\" t=\"oca\"\n",
      "s=\"OCaml 4.08\" t=\"oc\"\n",
      "s=\"OCaml 4.08\" t=\"o\"\n",
      "s=\"OCaml 4.08\" t=\"\"\n",
      "s=\"OCaml 4.0\" t=\"ocaml 4.08\"\n",
      "s=\"OCaml 4.\" t=\"ocaml 4.08\"\n",
      "s=\"OCaml 4\" t=\"ocaml 4.08\"\n",
      "s=\"OCaml \" t=\"ocaml 4.08\"\n",
      "s=\"OCaml\" t=\"ocaml 4.08\"\n",
      "s=\"OCam\" t=\"ocaml 4.08\"\n",
      "s=\"OCa\" t=\"ocaml 4.08\"\n",
      "s=\"OC\" t=\"ocaml 4.08\"\n",
      "s=\"O\" t=\"ocaml 4.08\"\n",
      "s=\"\" t=\"ocaml 4.08\"\n"
     ]
    }
   ],
   "source": [
    "time_it (fun () -> memo_edit_distance (\"OCaml 4.08\", \"ocaml 4.08\"))"
   ]
  },
  {
   "cell_type": "markdown",
   "metadata": {
    "slideshow": {
     "slide_type": "slide"
    }
   },
   "source": [
    "## Summary\n",
    "\n",
    "* Laziness and Memoization make sense only in a **pure** setting\n",
    "  + If your programs contains side-effects, laziness and memoization will not duplicate it.\n",
    "* OCaml doesn't prevent you from performing side-effects in your program\n",
    "  + Same as C, C++, Java, Python, Rust, Swift, JavaScript, etc. \n",
    "  + Haskell tracks side-effects in the type system and compartmentalizes pure from side-effecting code. \n",
    "* Using purity in your program helps you take advantage of lazy evalution, memoization, etc, in **any** lanugage. "
   ]
  },
  {
   "cell_type": "markdown",
   "metadata": {
    "slideshow": {
     "slide_type": "slide"
    }
   },
   "source": [
    "<center>\n",
    "\n",
    "<h1 style=\"text-align:center\"> Fin. </h1>\n",
    "</center>"
   ]
  }
 ],
 "metadata": {
  "celltoolbar": "Slideshow",
  "kernelspec": {
   "display_name": "OCaml 4.12.0",
   "language": "OCaml",
   "name": "ocaml-jupyter"
  },
  "language_info": {
   "codemirror_mode": "text/x-ocaml",
   "file_extension": ".ml",
   "mimetype": "text/x-ocaml",
   "name": "OCaml",
   "nbconverter_exporter": null,
   "pygments_lexer": "OCaml",
   "version": "4.12.0"
  }
 },
 "nbformat": 4,
 "nbformat_minor": 4
}
