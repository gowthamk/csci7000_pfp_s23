{
 "cells": [
  {
   "cell_type": "markdown",
   "id": "805c7dab-7957-4d22-a445-c9b738b8514f",
   "metadata": {},
   "source": [
    "<div style=\"text-align:center\">\n",
    "    <h1> Functions </h1>\n",
    "    <h2> CSCI7000-11 S23: Principles of Functional Programming </h2>\n",
    "</div>"
   ]
  },
  {
   "cell_type": "markdown",
   "id": "9ada339e-5fdb-47ad-979f-ae1b98a892af",
   "metadata": {},
   "source": [
    "## Review\n",
    "\n",
    "* Syntax and Semantics\n",
    "* Expressions: if, let\n",
    "* Definitions: let\n",
    "\n",
    "Today\n",
    "\n",
    "* Functions"
   ]
  },
  {
   "cell_type": "code",
   "execution_count": 2,
   "id": "b8686997-5270-43ad-a2fa-55924849ad12",
   "metadata": {},
   "outputs": [
    {
     "data": {
      "text/plain": [
       "val x : int = 2\n"
      ]
     },
     "execution_count": 2,
     "metadata": {},
     "output_type": "execute_result"
    }
   ],
   "source": [
    "let x = 2 "
   ]
  },
  {
   "cell_type": "code",
   "execution_count": 3,
   "id": "fb41ddba-4f25-40dd-8035-f19c84f29700",
   "metadata": {},
   "outputs": [
    {
     "data": {
      "text/plain": [
       "val abs : int -> int = <fun>\n"
      ]
     },
     "execution_count": 3,
     "metadata": {},
     "output_type": "execute_result"
    }
   ],
   "source": [
    "let abs = fun x -> if x<0 then -1*x else x"
   ]
  },
  {
   "cell_type": "code",
   "execution_count": 4,
   "id": "b140063f-0f29-4d4a-8ca6-332b17086b35",
   "metadata": {},
   "outputs": [
    {
     "data": {
      "text/plain": [
       "- : int -> int = <fun>\n"
      ]
     },
     "execution_count": 4,
     "metadata": {},
     "output_type": "execute_result"
    }
   ],
   "source": [
    "abs"
   ]
  },
  {
   "cell_type": "code",
   "execution_count": 5,
   "id": "56908e43-3cac-407d-93a9-27bae6ce4eb9",
   "metadata": {},
   "outputs": [
    {
     "data": {
      "text/plain": [
       "- : int = 10\n"
      ]
     },
     "execution_count": 5,
     "metadata": {},
     "output_type": "execute_result"
    }
   ],
   "source": [
    "abs(-10)"
   ]
  },
  {
   "cell_type": "code",
   "execution_count": 6,
   "id": "29d0bb0e-b071-4298-b89e-a58d56496dbb",
   "metadata": {},
   "outputs": [
    {
     "data": {
      "text/plain": [
       "- : int = 3\n"
      ]
     },
     "execution_count": 6,
     "metadata": {},
     "output_type": "execute_result"
    }
   ],
   "source": [
    "abs 3"
   ]
  },
  {
   "cell_type": "code",
   "execution_count": 7,
   "id": "e4d03bee-8935-484a-8d2e-357ddca2ed57",
   "metadata": {},
   "outputs": [
    {
     "data": {
      "text/plain": [
       "- : int = 9\n"
      ]
     },
     "execution_count": 7,
     "metadata": {},
     "output_type": "execute_result"
    }
   ],
   "source": [
    "(* f e *)\n",
    "abs 9"
   ]
  },
  {
   "cell_type": "code",
   "execution_count": 8,
   "id": "0307dc9b-a62f-48e3-839f-df6309da028a",
   "metadata": {},
   "outputs": [
    {
     "data": {
      "text/plain": [
       "- : int = 10\n"
      ]
     },
     "execution_count": 8,
     "metadata": {},
     "output_type": "execute_result"
    }
   ],
   "source": [
    "abs (-10)"
   ]
  },
  {
   "cell_type": "code",
   "execution_count": 9,
   "id": "c487c5ee-0778-49da-bf77-e21f2996e469",
   "metadata": {},
   "outputs": [
    {
     "data": {
      "text/plain": [
       "val div_by_zero : 'a -> int = <fun>\n"
      ]
     },
     "execution_count": 9,
     "metadata": {},
     "output_type": "execute_result"
    }
   ],
   "source": [
    "(* Functions are values => they cannot be reduced further *)\n",
    "let div_by_zero = fun x -> 4/0"
   ]
  },
  {
   "cell_type": "code",
   "execution_count": 10,
   "id": "3903f903-eb16-4db4-a683-1a243745d5b8",
   "metadata": {},
   "outputs": [
    {
     "ename": "error",
     "evalue": "runtime_error",
     "output_type": "error",
     "traceback": [
      "\u001b[31mException: Division_by_zero.\nRaised by primitive operation at unknown location\nCalled from Stdlib__fun.protect in file \"fun.ml\", line 33, characters 8-15\nRe-raised at Stdlib__fun.protect in file \"fun.ml\", line 38, characters 6-52\nCalled from Toploop.load_lambda in file \"toplevel/toploop.ml\", line 212, characters 4-150\n\u001b[0m"
     ]
    }
   ],
   "source": [
    "div_by_zero 100"
   ]
  },
  {
   "cell_type": "code",
   "execution_count": 11,
   "id": "1f96a45e-2130-4539-8c53-c2530e83aa67",
   "metadata": {},
   "outputs": [
    {
     "data": {
      "text/plain": [
       "- : unit = ()\n"
      ]
     },
     "execution_count": 11,
     "metadata": {},
     "output_type": "execute_result"
    }
   ],
   "source": [
    "(* Values in OCaml include a special value called unit. Denoted `()`. *)\n",
    "()"
   ]
  },
  {
   "cell_type": "code",
   "execution_count": 12,
   "id": "fe5a69d4-e22b-49e4-b02c-1dcca90ad24a",
   "metadata": {},
   "outputs": [
    {
     "data": {
      "text/plain": [
       "val mul_by_zero : unit -> int = <fun>\n"
      ]
     },
     "execution_count": 12,
     "metadata": {},
     "output_type": "execute_result"
    }
   ],
   "source": [
    "let mul_by_zero = fun () -> 4 * 0"
   ]
  },
  {
   "cell_type": "code",
   "execution_count": 13,
   "id": "457fdc67-5a98-4636-bd06-4d1e875e7165",
   "metadata": {},
   "outputs": [
    {
     "data": {
      "text/plain": [
       "- : int = 0\n"
      ]
     },
     "execution_count": 13,
     "metadata": {},
     "output_type": "execute_result"
    }
   ],
   "source": [
    "mul_by_zero ()"
   ]
  },
  {
   "cell_type": "code",
   "execution_count": 14,
   "id": "859c5e2f-fb13-4fcd-a0ae-13f63b70134b",
   "metadata": {},
   "outputs": [
    {
     "data": {
      "text/plain": [
       "- : unit = ()\n"
      ]
     },
     "execution_count": 14,
     "metadata": {},
     "output_type": "execute_result"
    }
   ],
   "source": [
    "() "
   ]
  },
  {
   "cell_type": "code",
   "execution_count": 15,
   "id": "697e27c8-e087-4966-97a5-c469d84532ed",
   "metadata": {},
   "outputs": [
    {
     "ename": "error",
     "evalue": "compile_error",
     "output_type": "error",
     "traceback": [
      "File \"[15]\", line 1, characters 19-21:\n1 | let (x:int list) = ()\n                       ^^\nError: This variant expression is expected to have type int list\n       The constructor () does not belong to type list\n"
     ]
    }
   ],
   "source": [
    "let (x:int list) = ()"
   ]
  },
  {
   "cell_type": "code",
   "execution_count": 16,
   "id": "7c23bd16-016c-48dd-8f7d-cc6b7d27c257",
   "metadata": {},
   "outputs": [
    {
     "data": {
      "text/plain": [
       "- : int list = [1; 2; 3]\n"
      ]
     },
     "execution_count": 16,
     "metadata": {},
     "output_type": "execute_result"
    }
   ],
   "source": [
    "[1;2;3]\n"
   ]
  },
  {
   "cell_type": "code",
   "execution_count": 17,
   "id": "0374a0c5-85c9-4ef8-87ea-ed7e1efe21ac",
   "metadata": {},
   "outputs": [
    {
     "data": {
      "text/plain": [
       "val add_two : int -> int = <fun>\n"
      ]
     },
     "execution_count": 17,
     "metadata": {},
     "output_type": "execute_result"
    }
   ],
   "source": [
    "let add_two =\n",
    "    let x = 2 in\n",
    "    (fun (y:int) -> y + x)"
   ]
  },
  {
   "cell_type": "code",
   "execution_count": 18,
   "id": "52fc2a3f-74ce-4fd7-a3cc-2be4f91293d7",
   "metadata": {},
   "outputs": [
    {
     "data": {
      "text/plain": [
       "- : int = 6\n"
      ]
     },
     "execution_count": 18,
     "metadata": {},
     "output_type": "execute_result"
    }
   ],
   "source": [
    "add_two 4"
   ]
  },
  {
   "cell_type": "code",
   "execution_count": 19,
   "id": "1c88090f-52ad-47fa-bd1b-aefc87a455d3",
   "metadata": {},
   "outputs": [
    {
     "data": {
      "text/plain": [
       "- : int * string = (2, \"Hello\")\n"
      ]
     },
     "execution_count": 19,
     "metadata": {},
     "output_type": "execute_result"
    }
   ],
   "source": [
    "(2,\"Hello\")"
   ]
  },
  {
   "cell_type": "code",
   "execution_count": 20,
   "id": "0567eb2c-20ad-445b-9f50-85226deff054",
   "metadata": {},
   "outputs": [
    {
     "data": {
      "text/plain": [
       "val encrypt : int -> int = <fun>\n",
       "val decrypt : int -> int = <fun>\n",
       "val p : (int -> int) * (int -> int) = (<fun>, <fun>)\n"
      ]
     },
     "execution_count": 20,
     "metadata": {},
     "output_type": "execute_result"
    }
   ],
   "source": [
    "(*\n",
    "k xor (k xor msg) = msg\n",
    "*)\n",
    "let (encrypt,decrypt) as p = \n",
    "    let k = 0x1A2B3C4D in\n",
    "    let enc = fun msg -> k lxor msg in\n",
    "    let dec = fun cipher -> k lxor cipher in\n",
    "    (enc,dec)"
   ]
  },
  {
   "cell_type": "code",
   "execution_count": 21,
   "id": "d113c071-462a-4e89-b508-d323cc48c2cc",
   "metadata": {},
   "outputs": [
    {
     "data": {
      "text/plain": [
       "- : int -> int = <fun>\n"
      ]
     },
     "execution_count": 21,
     "metadata": {},
     "output_type": "execute_result"
    }
   ],
   "source": [
    "encrypt"
   ]
  },
  {
   "cell_type": "code",
   "execution_count": 22,
   "id": "4a3fa179-4068-4b47-9956-cf7676997b16",
   "metadata": {},
   "outputs": [
    {
     "data": {
      "text/plain": [
       "- : int -> int = <fun>\n"
      ]
     },
     "execution_count": 22,
     "metadata": {},
     "output_type": "execute_result"
    }
   ],
   "source": [
    "decrypt"
   ]
  },
  {
   "cell_type": "code",
   "execution_count": 23,
   "id": "edea2cb4-427b-4ff0-b6ba-832bb0b55e96",
   "metadata": {},
   "outputs": [
    {
     "ename": "error",
     "evalue": "compile_error",
     "output_type": "error",
     "traceback": [
      "File \"[23]\", line 1, characters 0-1:\n1 | k\n    ^\nError: Unbound value k\n"
     ]
    }
   ],
   "source": [
    "k"
   ]
  },
  {
   "cell_type": "code",
   "execution_count": 24,
   "id": "f031c13a-ffe0-47bb-91a4-d07419ac93d3",
   "metadata": {},
   "outputs": [
    {
     "data": {
      "text/plain": [
       "val cipher : int = 439041065\n"
      ]
     },
     "execution_count": 24,
     "metadata": {},
     "output_type": "execute_result"
    }
   ],
   "source": [
    "let cipher = encrypt 100"
   ]
  },
  {
   "cell_type": "code",
   "execution_count": 25,
   "id": "2c073950-9914-4a44-9608-53791d72b58f",
   "metadata": {},
   "outputs": [
    {
     "data": {
      "text/plain": [
       "val plaintext : int = 100\n"
      ]
     },
     "execution_count": 25,
     "metadata": {},
     "output_type": "execute_result"
    }
   ],
   "source": [
    "let plaintext = decrypt cipher"
   ]
  },
  {
   "cell_type": "code",
   "execution_count": 26,
   "id": "76dbe9e8-4e4f-4df4-9659-20bdc793b562",
   "metadata": {},
   "outputs": [
    {
     "data": {
      "text/plain": [
       "- : int -> int -> int = <fun>\n"
      ]
     },
     "execution_count": 26,
     "metadata": {},
     "output_type": "execute_result"
    }
   ],
   "source": [
    "(lxor)"
   ]
  },
  {
   "cell_type": "code",
   "execution_count": 27,
   "id": "6c9c7413-7f58-424f-b243-9bf2cd8931e5",
   "metadata": {},
   "outputs": [
    {
     "ename": "error",
     "evalue": "compile_error",
     "output_type": "error",
     "traceback": [
      "File \"[27]\", line 1, characters 1-8:\n1 | (\"Hello\":int) lxor 123\n     ^^^^^^^\nError: This expression has type string but an expression was expected of type\n         int\n"
     ]
    }
   ],
   "source": [
    "(\"Hello\":int) lxor 123"
   ]
  },
  {
   "cell_type": "code",
   "execution_count": 28,
   "id": "4d565d11-dfbd-4e02-8e7f-ea690c2f871b",
   "metadata": {},
   "outputs": [
    {
     "data": {
      "text/plain": [
       "val mult : int -> int -> int = <fun>\n"
      ]
     },
     "execution_count": 28,
     "metadata": {},
     "output_type": "execute_result"
    }
   ],
   "source": [
    "(*\n",
    " mult takes an integer returns a function that takes an integer and returns an integer\n",
    " mult is curried function.\n",
    "*)\n",
    "let mult = fun a -> fun b -> a*b"
   ]
  },
  {
   "cell_type": "code",
   "execution_count": 29,
   "id": "566d2986-f886-486e-828e-e0b05728f24d",
   "metadata": {},
   "outputs": [
    {
     "data": {
      "text/plain": [
       "- : int = 6\n"
      ]
     },
     "execution_count": 29,
     "metadata": {},
     "output_type": "execute_result"
    }
   ],
   "source": [
    "mult 2 3"
   ]
  },
  {
   "cell_type": "code",
   "execution_count": 30,
   "id": "19ee1f6b-638b-470c-bcb7-191863211521",
   "metadata": {},
   "outputs": [
    {
     "data": {
      "text/plain": [
       "- : int -> int = <fun>\n"
      ]
     },
     "execution_count": 30,
     "metadata": {},
     "output_type": "execute_result"
    }
   ],
   "source": [
    "mult 2"
   ]
  },
  {
   "cell_type": "code",
   "execution_count": 31,
   "id": "8d7202e7-9f78-4c4e-882f-df9c2a048f57",
   "metadata": {},
   "outputs": [],
   "source": [
    "(*\n",
    "    Right Associative\n",
    " int -> int -> int  === int -> (int -> int)\n",
    "*)"
   ]
  },
  {
   "cell_type": "code",
   "execution_count": 32,
   "id": "627e1626-185d-42c3-8070-e6e41dd6d08f",
   "metadata": {},
   "outputs": [
    {
     "data": {
      "text/plain": [
       "val uncurried_mult : int * int -> int = <fun>\n"
      ]
     },
     "execution_count": 32,
     "metadata": {},
     "output_type": "execute_result"
    }
   ],
   "source": [
    "let uncurried_mult (a,b) = a*b"
   ]
  },
  {
   "cell_type": "code",
   "execution_count": 33,
   "id": "7a9e52bf-6876-40ef-b584-b1cb84e9d843",
   "metadata": {},
   "outputs": [
    {
     "ename": "error",
     "evalue": "compile_error",
     "output_type": "error",
     "traceback": [
      "File \"[33]\", line 1, characters 15-16:\n1 | uncurried_mult 2\n                   ^\nError: This expression has type int but an expression was expected of type\n         int * int\n"
     ]
    }
   ],
   "source": [
    "uncurried_mult 2"
   ]
  },
  {
   "cell_type": "code",
   "execution_count": 34,
   "id": "c181d9dc-3810-4a15-8292-0025a73f3e08",
   "metadata": {},
   "outputs": [
    {
     "data": {
      "text/plain": [
       "- : int -> int = <fun>\n"
      ]
     },
     "execution_count": 34,
     "metadata": {},
     "output_type": "execute_result"
    }
   ],
   "source": [
    "mult 2"
   ]
  },
  {
   "cell_type": "code",
   "execution_count": 35,
   "id": "7f6e931f-7b0d-46a5-ba73-a846376a2f44",
   "metadata": {},
   "outputs": [
    {
     "data": {
      "text/plain": [
       "val twice : int -> int = <fun>\n"
      ]
     },
     "execution_count": 35,
     "metadata": {},
     "output_type": "execute_result"
    }
   ],
   "source": [
    "let twice = mult 2"
   ]
  },
  {
   "cell_type": "code",
   "execution_count": 36,
   "id": "61ab15bc-13eb-4ae9-b6bb-b3dc0e8d8b01",
   "metadata": {},
   "outputs": [
    {
     "data": {
      "text/plain": [
       "- : int = 6\n"
      ]
     },
     "execution_count": 36,
     "metadata": {},
     "output_type": "execute_result"
    }
   ],
   "source": [
    "twice 3"
   ]
  },
  {
   "cell_type": "code",
   "execution_count": 37,
   "id": "f02bf501-ed55-4a09-99b8-98cebedd07e2",
   "metadata": {},
   "outputs": [
    {
     "data": {
      "text/plain": [
       "- : int = 6\n"
      ]
     },
     "execution_count": 37,
     "metadata": {},
     "output_type": "execute_result"
    }
   ],
   "source": [
    "(mult 2) 3"
   ]
  },
  {
   "cell_type": "code",
   "execution_count": 39,
   "id": "04369b29-896a-4876-b8fd-769e22ee7944",
   "metadata": {},
   "outputs": [
    {
     "data": {
      "text/plain": [
       "- : unit = ()\n"
      ]
     },
     "execution_count": 39,
     "metadata": {},
     "output_type": "execute_result"
    }
   ],
   "source": [
    "(* Function application is left associative\n",
    "mult 2 3 == (mult 2) 3\n",
    "*)\n",
    "assert (mult 2 3 = (mult 2) 3)"
   ]
  },
  {
   "cell_type": "code",
   "execution_count": 40,
   "id": "a821d257-f583-46e3-a0ff-402008ea2b93",
   "metadata": {},
   "outputs": [
    {
     "data": {
      "text/plain": [
       "val mult : int -> int -> int = <fun>\n"
      ]
     },
     "execution_count": 40,
     "metadata": {},
     "output_type": "execute_result"
    }
   ],
   "source": [
    "(*\n",
    " mult takes an integer returns a function that takes an integer and returns an integer\n",
    " mult is curried function.\n",
    "*)\n",
    "let mult a b = a*b"
   ]
  },
  {
   "cell_type": "code",
   "execution_count": 41,
   "id": "fea3fb54-ecb0-412c-88ef-3ae3ad3204e9",
   "metadata": {},
   "outputs": [
    {
     "data": {
      "text/plain": [
       "- : int -> int = <fun>\n"
      ]
     },
     "execution_count": 41,
     "metadata": {},
     "output_type": "execute_result"
    }
   ],
   "source": [
    "mult 2"
   ]
  },
  {
   "cell_type": "code",
   "execution_count": 42,
   "id": "de77c3a3-a12a-4351-8c1e-11a7aebccfc5",
   "metadata": {},
   "outputs": [
    {
     "data": {
      "text/plain": [
       "val double : int -> int = <fun>\n"
      ]
     },
     "execution_count": 42,
     "metadata": {},
     "output_type": "execute_result"
    }
   ],
   "source": [
    "let double = mult 2"
   ]
  },
  {
   "cell_type": "code",
   "execution_count": 43,
   "id": "04c4840a-57c8-4c0b-8c92-6ed8490f08d8",
   "metadata": {},
   "outputs": [
    {
     "data": {
      "text/plain": [
       "val triple : int -> int = <fun>\n"
      ]
     },
     "execution_count": 43,
     "metadata": {},
     "output_type": "execute_result"
    }
   ],
   "source": [
    "let triple = mult 3"
   ]
  },
  {
   "cell_type": "code",
   "execution_count": 46,
   "id": "05bd7629-adf5-4132-85fe-b3485efe731c",
   "metadata": {},
   "outputs": [
    {
     "data": {
      "text/plain": [
       "val compose : ('a -> 'b) -> ('c -> 'a) -> 'c -> 'b = <fun>\n"
      ]
     },
     "execution_count": 46,
     "metadata": {},
     "output_type": "execute_result"
    }
   ],
   "source": [
    "(*\n",
    "    Higher-Order functions\n",
    "    \n",
    "    f o g\n",
    "*)\n",
    "\n",
    "let compose f g x = f (g x)"
   ]
  },
  {
   "cell_type": "code",
   "execution_count": null,
   "id": "6ed7dfbd-0b69-462c-9328-ace644c4fe22",
   "metadata": {},
   "outputs": [],
   "source": [
    "let mult3 a b c = (a * b) * c"
   ]
  },
  {
   "cell_type": "code",
   "execution_count": 48,
   "id": "2783b016-1a69-4461-80af-68e27dc4fb30",
   "metadata": {},
   "outputs": [
    {
     "data": {
      "text/plain": [
       "val apply_twice : ('a -> 'a) -> 'a -> 'a = <fun>\n"
      ]
     },
     "execution_count": 48,
     "metadata": {},
     "output_type": "execute_result"
    }
   ],
   "source": [
    "let apply_twice f = compose f f"
   ]
  },
  {
   "cell_type": "code",
   "execution_count": 51,
   "id": "2f92442b-dd63-447d-89ad-56c908983baa",
   "metadata": {},
   "outputs": [
    {
     "data": {
      "text/plain": [
       "val quadruple : int -> int = <fun>\n"
      ]
     },
     "execution_count": 51,
     "metadata": {},
     "output_type": "execute_result"
    }
   ],
   "source": [
    "let quadruple = apply_twice twice"
   ]
  },
  {
   "cell_type": "code",
   "execution_count": 52,
   "id": "33a4378e-c9ee-4c5e-a906-e05ee4940749",
   "metadata": {},
   "outputs": [
    {
     "data": {
      "text/plain": [
       "- : int = 8\n"
      ]
     },
     "execution_count": 52,
     "metadata": {},
     "output_type": "execute_result"
    }
   ],
   "source": [
    "quadruple 2"
   ]
  },
  {
   "cell_type": "code",
   "execution_count": 53,
   "id": "4cd5d82a-b0a8-4d5a-b33f-26cd912e9e91",
   "metadata": {},
   "outputs": [
    {
     "data": {
      "text/plain": [
       "- : int * int = (1, 2)\n"
      ]
     },
     "execution_count": 53,
     "metadata": {},
     "output_type": "execute_result"
    }
   ],
   "source": [
    "(1,2)"
   ]
  },
  {
   "cell_type": "code",
   "execution_count": 56,
   "id": "593540e0-833d-4c57-a6df-e859cc0a1402",
   "metadata": {},
   "outputs": [
    {
     "data": {
      "text/plain": [
       "val map_int_pair : (int -> int) -> int * int -> int * int = <fun>\n"
      ]
     },
     "execution_count": 56,
     "metadata": {},
     "output_type": "execute_result"
    }
   ],
   "source": [
    "let map_int_pair (f:int -> int) ((x,y):int*int) = (f x, f y)"
   ]
  },
  {
   "cell_type": "code",
   "execution_count": 57,
   "id": "7cd9b53a-8fc5-4535-ac4c-277bff532615",
   "metadata": {},
   "outputs": [
    {
     "data": {
      "text/plain": [
       "val map_pair : ('a -> 'b) -> 'a * 'a -> 'b * 'b = <fun>\n"
      ]
     },
     "execution_count": 57,
     "metadata": {},
     "output_type": "execute_result"
    }
   ],
   "source": [
    "(*\n",
    "    1. map_pair is a higher-order function (combinator).\n",
    "    2. Takes a function `f` as argument.\n",
    "    3. Also takes a pair `(x,y)` as an argument.\n",
    "     ('a -> 'c) ->'a*'a -> 'c*'c\n",
    "*)\n",
    "let map_pair f (x,y) = \n",
    "    let a = f x in\n",
    "    let b = f y in\n",
    "    (a,b)"
   ]
  },
  {
   "cell_type": "code",
   "execution_count": 60,
   "id": "380a375c-467e-403c-aabf-54b8ee699f30",
   "metadata": {},
   "outputs": [
    {
     "data": {
      "text/plain": [
       "- : int * int = (2, 4)\n"
      ]
     },
     "execution_count": 60,
     "metadata": {},
     "output_type": "execute_result"
    }
   ],
   "source": [
    "map_pair twice (1,2)"
   ]
  },
  {
   "cell_type": "code",
   "execution_count": 62,
   "id": "f721c52b-513d-4c0a-ad9f-b75126513be2",
   "metadata": {},
   "outputs": [
    {
     "data": {
      "text/plain": [
       "- : string * string = (\"HELLO\", \"WORLD\")\n"
      ]
     },
     "execution_count": 62,
     "metadata": {},
     "output_type": "execute_result"
    }
   ],
   "source": [
    "map_pair (fun s -> String.uppercase_ascii s) (\"hello\", \"world\")"
   ]
  },
  {
   "cell_type": "code",
   "execution_count": null,
   "id": "110b19ad-6365-4dbd-98b4-bc39b6bd8d53",
   "metadata": {},
   "outputs": [],
   "source": [
    "Pair<T2,T2> map_pair(f:Func<T1,T2>, p:Pair<T1,T1>)"
   ]
  },
  {
   "cell_type": "code",
   "execution_count": 63,
   "id": "8602c4f7-8f4c-442a-ae0a-1e0d8dcb6d15",
   "metadata": {},
   "outputs": [
    {
     "data": {
      "text/plain": [
       "val foo : int * int -> int * int = <fun>\n"
      ]
     },
     "execution_count": 63,
     "metadata": {},
     "output_type": "execute_result"
    }
   ],
   "source": [
    "let foo = fun (x,y) -> (twice x, twice y)"
   ]
  },
  {
   "cell_type": "code",
   "execution_count": 65,
   "id": "49ae0f7f-9c66-4de4-87d7-6fce4f4ef975",
   "metadata": {},
   "outputs": [
    {
     "data": {
      "text/plain": [
       "val map_pair_polymorphic : ('a -> 'b) -> ('c -> 'd) -> 'a * 'c -> 'b * 'd =\n",
       "  <fun>\n"
      ]
     },
     "execution_count": 65,
     "metadata": {},
     "output_type": "execute_result"
    }
   ],
   "source": [
    "let map_pair_polymorphic f g (x,y) = \n",
    "    let a = f x in\n",
    "    let b = g y in\n",
    "    (a,b)"
   ]
  },
  {
   "cell_type": "code",
   "execution_count": null,
   "id": "9770e2a9-3499-4a38-8d2e-92b461a14360",
   "metadata": {},
   "outputs": [],
   "source": [
    "(*\n",
    "\n",
    "(a,c)              (b,d)\n",
    "       a ----> b\n",
    "       c ----> d\n",
    "*)"
   ]
  },
  {
   "cell_type": "code",
   "execution_count": 66,
   "id": "e82576e4-4f01-42f5-aaa6-d66be00680d5",
   "metadata": {},
   "outputs": [
    {
     "data": {
      "text/plain": [
       "val factorial : int -> int = <fun>\n"
      ]
     },
     "execution_count": 66,
     "metadata": {},
     "output_type": "execute_result"
    }
   ],
   "source": [
    "let rec factorial (n:int) = \n",
    "    if n = 0 then 1 \n",
    "    else \n",
    "        let m = factorial (n-1) in\n",
    "        n*m"
   ]
  },
  {
   "cell_type": "code",
   "execution_count": 67,
   "id": "557ccd1c-1ddc-49f2-92a2-f8ee5d7a4877",
   "metadata": {},
   "outputs": [
    {
     "data": {
      "text/plain": [
       "val factorial_tail : int -> int -> int = <fun>\n"
      ]
     },
     "execution_count": 67,
     "metadata": {},
     "output_type": "execute_result"
    }
   ],
   "source": [
    "let rec factorial_tail (acc: int) n = \n",
    "    if n = 0 then acc \n",
    "    else \n",
    "        let a = n*acc in\n",
    "        let b = n-1 in\n",
    "        factorial_tail a b"
   ]
  },
  {
   "cell_type": "code",
   "execution_count": 69,
   "id": "7da8c07c-3921-4335-af9e-47f93cd61bfa",
   "metadata": {},
   "outputs": [
    {
     "data": {
      "text/plain": [
       "val factorial : int -> int = <fun>\n"
      ]
     },
     "execution_count": 69,
     "metadata": {},
     "output_type": "execute_result"
    }
   ],
   "source": [
    "let factorial n = \n",
    "    let rec factorial_tail (acc: int) n = \n",
    "        if n = 0 then acc \n",
    "        else \n",
    "            let a = n*acc in\n",
    "            let b = n-1 in\n",
    "            factorial_tail a b in\n",
    "    factorial_tail 1 n"
   ]
  },
  {
   "cell_type": "code",
   "execution_count": null,
   "id": "63239028-998b-4bd6-9a09-81fb7ddfbd9e",
   "metadata": {},
   "outputs": [],
   "source": [
    "(*\n",
    "    ** Variant type (or algebraic type) of a list\n",
    "   * Empty list [] is always a list\n",
    "   * If xs is a list and x is an element x::xs is a list\n",
    "*)"
   ]
  },
  {
   "cell_type": "code",
   "execution_count": 71,
   "id": "c5e79d06-aa82-4bbb-bffd-363776728bbe",
   "metadata": {},
   "outputs": [
    {
     "data": {
      "text/plain": [
       "type color = Red | Green | Blue\n"
      ]
     },
     "execution_count": 71,
     "metadata": {},
     "output_type": "execute_result"
    }
   ],
   "source": [
    "(*\n",
    " Color a variant type (a simple one)\n",
    "*)\n",
    "type color = \n",
    " | Red\n",
    " | Green\n",
    " | Blue\n",
    " "
   ]
  },
  {
   "cell_type": "code",
   "execution_count": 74,
   "id": "78b178ff-19aa-4e6f-9b3a-4fffb82903dc",
   "metadata": {},
   "outputs": [
    {
     "data": {
      "text/plain": [
       "type point = float * float\n"
      ]
     },
     "execution_count": 74,
     "metadata": {},
     "output_type": "execute_result"
    },
    {
     "data": {
      "text/plain": [
       "type shape =\n",
       "    Circle of point * float\n",
       "  | Square of point * float\n",
       "  | Rectangle of point * point\n"
      ]
     },
     "execution_count": 74,
     "metadata": {},
     "output_type": "execute_result"
    }
   ],
   "source": [
    "type point = float * float (* type alias *)\n",
    "\n",
    "(*\n",
    " Shape is a variant type\n",
    "     Circle, Square, Rectangle are constructors of type shape\n",
    "*)\n",
    "type shape = \n",
    "  | Circle of point (* center of the circle *) * float (* radius *)\n",
    "  | Square of point (* left bottom point*) * float (* lenght of the side *)\n",
    "  | Rectangle of point (* left bottom *) * point (* right top *)\n"
   ]
  },
  {
   "cell_type": "code",
   "execution_count": null,
   "id": "b886cc52-0149-440f-89a5-72aee1996c26",
   "metadata": {},
   "outputs": [],
   "source": []
  }
 ],
 "metadata": {
  "kernelspec": {
   "display_name": "OCaml 4.12.0",
   "language": "OCaml",
   "name": "ocaml-jupyter"
  },
  "language_info": {
   "codemirror_mode": "text/x-ocaml",
   "file_extension": ".ml",
   "mimetype": "text/x-ocaml",
   "name": "OCaml",
   "nbconverter_exporter": null,
   "pygments_lexer": "OCaml",
   "version": "4.12.0"
  }
 },
 "nbformat": 4,
 "nbformat_minor": 5
}
