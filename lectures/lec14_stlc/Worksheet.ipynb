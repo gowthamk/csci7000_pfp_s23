{
 "cells": [
  {
   "cell_type": "markdown",
   "id": "e33b2a29-4b68-4a66-a791-594b633bba1f",
   "metadata": {},
   "source": [
    "<center> \n",
    "\n",
    "<h1 style=\"text-align:center\"> Simply Typed Lambda Calculus </h1>\n",
    "<h2 style=\"text-align:center\"> CSCI7000-11 S23: Principles of Functional Programming </h2>\n",
    "</center>"
   ]
  },
  {
   "cell_type": "markdown",
   "id": "4a04ae5b-ff9f-49c5-9db2-992d354cca08",
   "metadata": {},
   "source": [
    "Let's implement a version of STLC. The syntax of types is as following:\n",
    "\n",
    "\\\\[\n",
    "\\begin{array}{rcll}\n",
    "A,B & ≔ & Bool & \\text{(Booleans)} \\\\\n",
    "    & \\mid & Int & \\text{(integers)} \\\\\n",
    "    & \\mid & A \\rightarrow B & \\text{(functions)} \\\\\n",
    "\\end{array}\n",
    "\\\\]\n",
    "\n",
    "\n",
    "$\n",
    "\\require{color}\n",
    "\\newcommand{\\cr}[1]{{\\color{\\red}{#1}}}\n",
    "\\newcommand{\\pair}[2]{\\langle #1, #2 \\rangle}\n",
    "\\newcommand{\\fst}[1]{{\\sf fst} ~#1}\n",
    "\\newcommand{\\snd}[1]{{\\sf snd} ~#1}\n",
    "\\newcommand{\\inl}[2]{{\\sf inl} ~[#1] ~#2}\n",
    "\\newcommand{\\inr}[2]{{\\sf inr} ~[#1] ~#2}\n",
    "\\newcommand{\\case}[5]{{\\sf match} ~#1~ {\\sf of} ~{\\sf inl}~#2 \\Rightarrow #3 ~|~ {\\sf inr}~#4 \\Rightarrow #5}\n",
    "\\newcommand{\\unitv}{{\\tt (~)}}\n",
    "\\newcommand{\\inferrule}[3]{\\displaystyle{\\frac{#1}{#2}~~{\\small #3}}}\n",
    "\\newcommand{\\infrl}[3]{\\displaystyle{\\frac{#1}{#2}}}\n",
    "\\newcommand{\\yb}[1]{\\colorbox{yellow}{$#1$}}\n",
    "\\newcommand{\\bb}[1]{\\colorbox{lightblue}{$#1$}}\n",
    "$\n",
    "\n",
    "The syntax of expressions:\n",
    "\n",
    "\\\\[\n",
    "\\begin{array}{rcll}\n",
    "M,N & ≔ & x & \\text{(variable)} \\\\\n",
    "    & \\mid & M~N & \\text{(application)} \\\\\n",
    "    & \\mid & \\lambda x:A.M & \\text{(abstraction)}\\\\\n",
    "    & \\mid & 1,2,3,\\ldots & \\text{(Numbers)}\\\\\n",
    "    & \\mid & True,False & \\text{(Booleans)}\\\\\n",
    "    & \\mid & e_1 + e_2 & \\text{(plus)}\\\\\n",
    "    & \\mid & e_1 - e_2 & \\text{(Minus)}\\\\\n",
    "    & \\mid & e_1 * e_2 & \\text{(Mult)}\\\\\n",
    "    & \\mid & e_1 = e_2 & \\text{(Equality)}\\\\\n",
    "    & \\mid & \\text{if} ~e_1~ \\text{then} ~e_2~ \\text{else} ~e_3~ & \\text{(If-Then-Else)}\\\\\n",
    "    & \\mid & \\text{fix}~e & \\text{(Fixpoint operator)}\\\\\n",
    "\\end{array}\n",
    "\\\\]"
   ]
  },
  {
   "cell_type": "code",
   "execution_count": 1,
   "id": "20818d63-94a4-46af-a1a8-ed72f37c5d72",
   "metadata": {},
   "outputs": [
    {
     "data": {
      "text/plain": [
       "type typ = TInt | TBool | TArr of typ * typ\n"
      ]
     },
     "execution_count": 1,
     "metadata": {},
     "output_type": "execute_result"
    }
   ],
   "source": [
    "type typ =\n",
    "  | TInt\n",
    "  | TBool\n",
    "  | TArr of typ * typ"
   ]
  },
  {
   "cell_type": "code",
   "execution_count": 2,
   "id": "ed7825fd-5cf5-419d-9332-3b5dcf71ab9d",
   "metadata": {},
   "outputs": [
    {
     "data": {
      "text/plain": [
       "type exp =\n",
       "    Var of string\n",
       "  | App of exp * exp\n",
       "  | Lam of string * typ * exp\n",
       "  | IntConst of int\n",
       "  | True\n",
       "  | False\n",
       "  | Plus of exp * exp\n",
       "  | Minus of exp * exp\n",
       "  | Mult of exp * exp\n",
       "  | Eq of exp * exp\n",
       "  | Ite of exp * exp * exp\n",
       "  | Fix of exp\n"
      ]
     },
     "execution_count": 2,
     "metadata": {},
     "output_type": "execute_result"
    }
   ],
   "source": [
    "type exp =\n",
    "  | Var of string\n",
    "  | App of exp * exp\n",
    "  | Lam of string * typ * exp (* \\(x:T).e *)\n",
    "  | IntConst of int\n",
    "  | True\n",
    "  | False\n",
    "  | Plus of exp * exp\n",
    "  | Minus of exp * exp\n",
    "  | Mult of exp * exp\n",
    "  | Eq of exp * exp\n",
    "  | Ite of exp * exp * exp\n",
    "  | Fix of exp"
   ]
  },
  {
   "cell_type": "code",
   "execution_count": 3,
   "id": "9979cae3-bbc2-47b0-89f9-c99b5a1faf32",
   "metadata": {},
   "outputs": [
    {
     "data": {
      "text/plain": [
       "module Gamma : sig type t = (string * typ) list end\n"
      ]
     },
     "execution_count": 3,
     "metadata": {},
     "output_type": "execute_result"
    }
   ],
   "source": [
    "(*\n",
    " * \\Gamma |- e: T\n",
    " * \\Gamma = []\n",
    "          | (x,T):\\Gamma,\n",
    " *)\n",
    "module Gamma = struct\n",
    "  type t = (string*typ) list\n",
    "end\n"
   ]
  },
  {
   "cell_type": "markdown",
   "id": "9a680049-605f-4d09-ac52-9e224d000540",
   "metadata": {},
   "source": [
    "Type rules\n",
    "\n",
    "\\\\[\n",
    "\\begin{array}{cc}\n",
    "\\inferrule{\\Gamma(x) ~=~ A}{\\Gamma \\vdash x:A}{(var)} &\n",
    "\\inferrule{\\Gamma \\vdash M : A \\rightarrow B \\quad \\Gamma \\vdash N : A}{\\Gamma \\vdash M~N : B}{(\\rightarrow elim)} &\n",
    "\\inferrule{\\Gamma,x:A \\vdash M : B}{\\Gamma \\vdash \\lambda x:A.M : A \\rightarrow B}{(\\rightarrow intro)} \\\\  \n",
    "\\end{array}\n",
    "\\\\]\n",
    "\n",
    "\\\\[\n",
    "\\begin{array}{cc}\n",
    " \\inferrule{}\n",
    "           {\\texttt{True}: \\texttt{Bool}}\n",
    "           {} & \n",
    " \\inferrule{}\n",
    "           {n: \\texttt{Int}}\n",
    "           {} &\n",
    " \\inferrule{\\Gamma \\vdash e_1: \\texttt{Int} \\quad \\Gamma \\vdash e_2: \\texttt{Int} \\quad \\otimes \\in \\{+, \\times, - \\}}\n",
    "           {e1 \\otimes e_2: \\texttt{Int}}\n",
    "           {} \\\\          \n",
    "\\end{array}\n",
    "\\\\]\n",
    "\n",
    "\\\\[\n",
    "\\begin{array}{cc}\n",
    "\\inferrule{\\Gamma \\vdash e_1: A \\quad \\Gamma \\vdash e_2: A \\quad A \\in \\{\\texttt{Int}, \\texttt{Bool}\\}}\n",
    "           {e1 = e_2: \\texttt{Bool}}\n",
    "           {} &\n",
    "\\inferrule{\\Gamma \\vdash e_1: \\texttt{Bool} \\quad \\Gamma \\vdash e_2: A \\quad \\Gamma \\vdash e_3: A}\n",
    "           {\\texttt{if}\\; e_1 \\; \\texttt{then}\\; e_2 \\; \\texttt{else} \\; e_3: \\texttt{A}}\n",
    "           {} \\\\\n",
    "\\end{array}\n",
    "\\\\]\n",
    "\n",
    "---\n",
    "\n",
    "\\\\[\n",
    "\\begin{array}{cc}\n",
    "\\inferrule{\\Gamma \\vdash e: (A \\rightarrow A) \\rightarrow A \\rightarrow A}\n",
    "           {\\Gamma \\vdash \\texttt{fix}\\;e: A \\rightarrow A}\n",
    "           {} \\\\\n",
    "\\end{array}\n",
    "\\\\]\n"
   ]
  },
  {
   "cell_type": "code",
   "execution_count": 23,
   "id": "47f37ece-86d1-4e5d-9262-0501cd504f66",
   "metadata": {},
   "outputs": [
    {
     "data": {
      "text/plain": [
       "exception TypeError\n"
      ]
     },
     "execution_count": 23,
     "metadata": {},
     "output_type": "execute_result"
    },
    {
     "data": {
      "text/plain": [
       "val type_of : Gamma.t -> exp -> typ = <fun>\n"
      ]
     },
     "execution_count": 23,
     "metadata": {},
     "output_type": "execute_result"
    }
   ],
   "source": [
    "exception TypeError\n",
    "\n",
    "(*\n",
    " * Int -> (Int -> Int)\n",
    " * \\(x:Int).\\(y:Int). x+y\n",
    " *)\n",
    "let rec type_of (env: Gamma.t) (e: exp) : typ = match e with\n",
    "  | Var x -> (try List.assoc x env with Not_found -> raise TypeError)\n",
    "  | Lam(x,t2,e2) -> \n",
    "    let env' = (x,t2)::env in\n",
    "    let t3 = type_of env' e2 in\n",
    "    (match t3 with \n",
    "      | TArr (t31, t32) -> TArr (TArr (t2,t31), t32)\n",
    "      | _ -> TArr (t2,t3))\n",
    "  | App (e1,e2) -> \n",
    "    (* e1 : t11 -> t12  e : t2 *)\n",
    "    let t1 = type_of env e1 in\n",
    "    let t2 = type_of env e2 in\n",
    "    (match t1 with\n",
    "    | TArr(t11,t12) when t11 = t2 -> t12\n",
    "    | _ -> raise TypeError)\n",
    "  | Plus (e1,e2) | Mult (e1,e2) | Minus (e1,e2) -> \n",
    "    let t1 = type_of env e1 in\n",
    "    let t2 = type_of env e2 in\n",
    "    (match (t1,t2) with\n",
    "      | (TInt,TInt) -> TInt\n",
    "      | _ -> raise TypeError)\n",
    "  | Eq (e1, e2) -> \n",
    "    let t1 = type_of env e1 in\n",
    "    let t2 = type_of env e2 in\n",
    "    (match (t1,t2) with\n",
    "      | (TInt,TInt) -> TBool\n",
    "      | (TBool,TBool) -> TBool\n",
    "      | _ -> raise TypeError)\n",
    "  (* if e1 then e2 else e3 *)\n",
    "  | Ite (e1,e2,e3) -> \n",
    "    let t1 = type_of env e1 in\n",
    "    let t2 = type_of env e2 in\n",
    "    let t3 = type_of env e3 in\n",
    "    (match (t1,t2,t3) with \n",
    "      | (TBool, _ , _) when t2 = t3 -> t2\n",
    "      | _ -> raise TypeError)\n",
    "  | Fix e -> \n",
    "    let t = type_of env e in\n",
    "    (match t with\n",
    "     (* (t1 -> t2) -> t3 -> t4  *)\n",
    "     | TArr (TArr (TArr (t1,t2),t3),t4) when t1 = t2 && t2 = t3 && t3 = t4 -> TArr (t1,t2)\n",
    "     | _ -> raise TypeError)\n",
    "  | True | False -> TBool\n",
    "  | IntConst _ -> TInt"
   ]
  },
  {
   "cell_type": "code",
   "execution_count": null,
   "id": "79c53562-c4ed-4433-b1a4-ec23b4ccb9c7",
   "metadata": {},
   "outputs": [],
   "source": [
    "exception NotClosed\n",
    "\n",
    "type valu = \n",
    " | IntVal of int\n",
    " | TrueVal\n",
    " | FalseVal\n",
    " | LamVal of string * typ * exp\n",
    "\n",
    "let eval (e:exp) : valu = match e with\n",
    "  | Var _ -> raise NotClosed\n",
    "  | _ -> failwith \"Not. Impl\"\n",
    "  \n",
    "type valenv = (string * valu) list\n",
    "\n",
    "let eval (e:exp) (env: valenv) : valu = \n",
    "  | Var x -> (try List.assoc x env with Not_found -> raise NotClosed)\n",
    "  | _ -> .."
   ]
  },
  {
   "cell_type": "code",
   "execution_count": 26,
   "id": "5ba37c77-ced4-4fca-871e-83c76182ab67",
   "metadata": {},
   "outputs": [
    {
     "data": {
      "text/plain": [
       "- : typ = TArr (TInt, TInt)\n"
      ]
     },
     "execution_count": 26,
     "metadata": {},
     "output_type": "execute_result"
    }
   ],
   "source": [
    "(*\n",
    " * myfact : (Int -> Int) -> Int -> Int\n",
    " * myfact = \\(f: Int -> Int).\\(n: Int). if n=0 then 1 else n * f(n-1)\n",
    " * (fix myfact) : Int -> Int\n",
    " *)\n",
    " let else_e = Mult(Var \"n\", App (Var \"f\", Minus(Var \"n\", IntConst 1))) in\n",
    " let bool_e = Eq(Var \"n\", IntConst 0) in\n",
    " let ite_e = Ite(bool_e, IntConst 1, else_e) in\n",
    " let _ = type_of [(\"f\",TArr(TInt,TInt)); (\"n\", TInt)] ite_e in\n",
    " let inner_lam_e = Lam (\"n\",TInt,ite_e) in\n",
    " let _ = type_of [(\"f\",TArr(TInt,TInt))] inner_lam_e in\n",
    " let outer_lam_e = Lam (\"f\", TArr(TInt, TInt), inner_lam_e) in\n",
    " let _ = type_of [] outer_lam_e in\n",
    " let fact = Fix outer_lam_e in\n",
    " type_of [] fact"
   ]
  },
  {
   "cell_type": "code",
   "execution_count": null,
   "id": "351ff0f1-a0fc-4c98-b4ee-fa48449c7bb4",
   "metadata": {},
   "outputs": [],
   "source": [
    "type_of [] "
   ]
  },
  {
   "cell_type": "code",
   "execution_count": 8,
   "id": "09a3ed18-362d-4a9d-982f-202baa31365c",
   "metadata": {},
   "outputs": [
    {
     "ename": "error",
     "evalue": "compile_error",
     "output_type": "error",
     "traceback": [
      "File \"[8]\", line 3, characters 7-16:\n3 |      | Lam (x,e) -> List.filter (fun y -> x <> y) (free_vars e)\n           ^^^^^^^^^\nError: The constructor Lam expects 3 argument(s),\n       but is applied here to 2 argument(s)\n"
     ]
    }
   ],
   "source": [
    "let rec free_vars (e:exp) : string list = match e with\n",
    "     | Var x -> [x]\n",
    "     | Lam (x,e) -> List.filter (fun y -> x <> y) (free_vars e)\n",
    "     | App (e1,e2) -> (free_vars e1) @ (free_vars e2)"
   ]
  },
  {
   "cell_type": "code",
   "execution_count": null,
   "id": "5aa93503-d3d2-47c9-a6ac-82962f5be360",
   "metadata": {},
   "outputs": [],
   "source": [
    "let rec subst (e:exp) (y:string) (m:exp) : exp = match e with\n",
    "  | Var x ->\n",
    "       if y = x then m (* replace x with m *)\n",
    "       else e (* variables don't match: leave x alone *)\n",
    "  | App (e1,e2) -> App (subst e1 y m, subst e2 y m)\n",
    "  | Lam (x,e) ->\n",
    "       if y = x then (* don't substitute under the variable binder *)\n",
    "           Lam(x,e)\n",
    "       else if not (List.mem x (fvs m)) then (* no need to alpha convert *)\n",
    "           Lam (x, subst e y m)\n",
    "       else (* need to alpha convert *)\n",
    "           let z = fresh () in (* assumed to be \"fresh\" *)\n",
    "           let e' = subst e x (Var z) in (* replace x with z in e *)\n",
    "           Lam (z,subst e' y m) (* substitute for y in the adjusted term, e' *)"
   ]
  },
  {
   "cell_type": "code",
   "execution_count": null,
   "id": "e348912b-18fe-4d10-a4cf-0ba176b259a7",
   "metadata": {},
   "outputs": [],
   "source": [
    "let rec eval (e:exp) : exp = match e with\n",
    "  | App (e1, e2) -> (match eval e1, eval e2 with\n",
    "      | Lam (x,e), v -> eval @@ subst e x v\n",
    "      | _,_ -> App (e1,e2))\n",
    "  | _ -> e "
   ]
  }
 ],
 "metadata": {
  "kernelspec": {
   "display_name": "OCaml 4.12.0",
   "language": "OCaml",
   "name": "ocaml-jupyter"
  },
  "language_info": {
   "codemirror_mode": "text/x-ocaml",
   "file_extension": ".ml",
   "mimetype": "text/x-ocaml",
   "name": "OCaml",
   "nbconverter_exporter": null,
   "pygments_lexer": "OCaml",
   "version": "4.12.0"
  }
 },
 "nbformat": 4,
 "nbformat_minor": 5
}
