{
 "cells": [
  {
   "cell_type": "markdown",
   "id": "d0c98620-d0a8-4600-a7cb-b780a34d53e7",
   "metadata": {},
   "source": [
    "<div style=\"text-align:center\">\n",
    "    <h1> Datatypes </h1>\n",
    "    <h2> CSCI7000-11 S23: Principles of Functional Programming </h2>\n",
    "</div>"
   ]
  },
  {
   "cell_type": "markdown",
   "id": "6078fbfa-32b0-4351-aeac-2aae2ede5e86",
   "metadata": {},
   "source": [
    "## Review\n",
    "\n",
    "Previously\n",
    "\n",
    "* Function definition and application\n",
    "* Anonymous and recursive functions\n",
    "* Tail call optimisation\n",
    "\n",
    "This lecture,\n",
    "\n",
    "* Data types"
   ]
  },
  {
   "cell_type": "code",
   "execution_count": 5,
   "id": "c64061c6-d5ab-4213-97ed-3081869e7a91",
   "metadata": {},
   "outputs": [
    {
     "data": {
      "text/plain": [
       "type color = Red | Green | Blue\n"
      ]
     },
     "execution_count": 5,
     "metadata": {},
     "output_type": "execute_result"
    }
   ],
   "source": [
    "(*\n",
    " Color a variant type (a simple one)\n",
    "*)\n",
    "type color = \n",
    " | Red\n",
    " | Green\n",
    " | Blue\n",
    " "
   ]
  },
  {
   "cell_type": "code",
   "execution_count": 6,
   "id": "cd5a0d87-e583-4554-9a1e-54417210cf8d",
   "metadata": {},
   "outputs": [
    {
     "data": {
      "text/plain": [
       "type point = float * float\n"
      ]
     },
     "execution_count": 6,
     "metadata": {},
     "output_type": "execute_result"
    },
    {
     "data": {
      "text/plain": [
       "type shape =\n",
       "    Circle of point * float\n",
       "  | Square of point * float\n",
       "  | Rectangle of point * point\n"
      ]
     },
     "execution_count": 6,
     "metadata": {},
     "output_type": "execute_result"
    }
   ],
   "source": [
    "type point = float * float (* type alias *)\n",
    "\n",
    "(*\n",
    " Shape is a variant type\n",
    "     Circle, Square, Rectangle are constructors which construct values of type shape.\n",
    "*)\n",
    "type shape = \n",
    "  | Circle of point (* center of the circle *) * float (* radius *)\n",
    "  | Square of point (* left bottom point*) * float (* lenght of the side *)\n",
    "  | Rectangle of point (* left bottom *) * point (* right top *)\n"
   ]
  },
  {
   "cell_type": "code",
   "execution_count": 7,
   "id": "8cdea824-6c0b-4f3a-b8df-ce9f53a5f875",
   "metadata": {},
   "outputs": [
    {
     "data": {
      "text/plain": [
       "- : unit = ()\n"
      ]
     },
     "execution_count": 7,
     "metadata": {},
     "output_type": "execute_result"
    }
   ],
   "source": [
    "print_string \"Hello\""
   ]
  },
  {
   "cell_type": "code",
   "execution_count": 8,
   "id": "609ea074-371b-46ed-b836-8e5df622e1ce",
   "metadata": {},
   "outputs": [
    {
     "data": {
      "text/plain": [
       "- : unit = ()\n"
      ]
     },
     "execution_count": 8,
     "metadata": {},
     "output_type": "execute_result"
    }
   ],
   "source": [
    "Printf.printf \"Hello\\n\""
   ]
  },
  {
   "cell_type": "code",
   "execution_count": 9,
   "id": "a639d92d-a3b3-41a9-9528-f8d856828d38",
   "metadata": {},
   "outputs": [
    {
     "ename": "error",
     "evalue": "compile_error",
     "output_type": "error",
     "traceback": [
      "File \"[9]\", line 1, characters 0-6:\n1 | fflush stdout\n    ^^^^^^\nError: Unbound value fflush\nHint: Did you mean flush?\n"
     ]
    }
   ],
   "source": [
    "fflush stdout"
   ]
  },
  {
   "cell_type": "code",
   "execution_count": 10,
   "id": "96ef1296-43df-44db-a2e7-fdd2bc67d95c",
   "metadata": {},
   "outputs": [
    {
     "name": "stdout",
     "output_type": "stream",
     "text": [
      "HelloHello\n"
     ]
    },
    {
     "data": {
      "text/plain": [
       "- : unit = ()\n"
      ]
     },
     "execution_count": 10,
     "metadata": {},
     "output_type": "execute_result"
    }
   ],
   "source": [
    "flush stdout"
   ]
  },
  {
   "cell_type": "code",
   "execution_count": 11,
   "id": "c13b9105-5e43-425d-89e7-d135be73d17b",
   "metadata": {},
   "outputs": [
    {
     "data": {
      "text/plain": [
       "val origin_circle : shape = Circle ((0., 0.), 3.)\n"
      ]
     },
     "execution_count": 11,
     "metadata": {},
     "output_type": "execute_result"
    }
   ],
   "source": [
    "let origin_circle = \n",
    "let origin = (0.0,0.0) in\n",
    "let radius = 3.0 in\n",
    "Circle(origin, radius)"
   ]
  },
  {
   "cell_type": "code",
   "execution_count": 12,
   "id": "72f6f314-1fed-4a70-b08b-91b27c11c0c6",
   "metadata": {},
   "outputs": [
    {
     "data": {
      "text/plain": [
       "val origin : float * float = (0., 0.)\n"
      ]
     },
     "execution_count": 12,
     "metadata": {},
     "output_type": "execute_result"
    }
   ],
   "source": [
    "let origin = (0.0,0.0)"
   ]
  },
  {
   "cell_type": "code",
   "execution_count": 13,
   "id": "0613dd84-4d5b-4249-89cf-0b1c22bef37d",
   "metadata": {},
   "outputs": [
    {
     "data": {
      "text/plain": [
       "- : shape = Square ((0., 0.), 2.)\n"
      ]
     },
     "execution_count": 13,
     "metadata": {},
     "output_type": "execute_result"
    }
   ],
   "source": [
    "Square(origin, 2.0)"
   ]
  },
  {
   "cell_type": "markdown",
   "id": "00a26a5a-c55d-4fe1-93f4-4a1ab4efff1f",
   "metadata": {},
   "source": [
    "## General form of variant type (algebraic data type) in OCaml\n",
    "\n",
    "```ocaml\n",
    "type t = \n",
    "    | C1 of ...\n",
    "    | C2 of ...\n",
    "    | C3 of ...\n",
    "```\n",
    "\n",
    "where C1, C2, and C3 are (value) constructors of type t."
   ]
  },
  {
   "cell_type": "markdown",
   "id": "2445fb74-b9f9-42c3-86d1-92d2fcea574f",
   "metadata": {},
   "source": [
    "$\\Sigma_i (Ci ..)$"
   ]
  },
  {
   "cell_type": "code",
   "execution_count": 14,
   "id": "82932fa6-6dfd-498a-b040-77eb38a8cd2e",
   "metadata": {},
   "outputs": [
    {
     "data": {
      "text/plain": [
       "val x : int * float = (1, 2.)\n"
      ]
     },
     "execution_count": 14,
     "metadata": {},
     "output_type": "execute_result"
    }
   ],
   "source": [
    "let (x:int*float) = (1,2.0)\n"
   ]
  },
  {
   "cell_type": "code",
   "execution_count": 15,
   "id": "35cc6f5a-45d2-4295-808a-3ab4126c3de0",
   "metadata": {},
   "outputs": [
    {
     "data": {
      "text/plain": [
       "type intlist = Nil | Cons of int * intlist\n"
      ]
     },
     "execution_count": 15,
     "metadata": {},
     "output_type": "execute_result"
    }
   ],
   "source": [
    "type intlist = \n",
    "    | Nil (* [] *)\n",
    "    | Cons (* (::) *)of int * intlist"
   ]
  },
  {
   "cell_type": "code",
   "execution_count": 16,
   "id": "e5dc357b-362b-4e0e-b354-2ae7a47023d0",
   "metadata": {},
   "outputs": [
    {
     "data": {
      "text/plain": [
       "- : intlist = Cons (1, Cons (2, Cons (3, Nil)))\n"
      ]
     },
     "execution_count": 16,
     "metadata": {},
     "output_type": "execute_result"
    }
   ],
   "source": [
    "(*\n",
    " [1;2;3]\n",
    "*)\n",
    "Cons(1, Cons (2, Cons (3, Nil)))"
   ]
  },
  {
   "cell_type": "code",
   "execution_count": 17,
   "id": "f06e2ba0-1b05-40e6-b5f1-0b25d5d4f90a",
   "metadata": {},
   "outputs": [
    {
     "data": {
      "text/plain": [
       "- : int list = [1; 2; 3]\n"
      ]
     },
     "execution_count": 17,
     "metadata": {},
     "output_type": "execute_result"
    }
   ],
   "source": [
    "(*\n",
    " [1;2;3]\n",
    "*)\n",
    "1::2::3::[]"
   ]
  },
  {
   "cell_type": "code",
   "execution_count": 18,
   "id": "55e1e8e0-a6a3-40e3-83e3-8d9f6358c2e6",
   "metadata": {},
   "outputs": [
    {
     "data": {
      "text/plain": [
       "- : 'a * 'a list -> 'a list = <fun>\n"
      ]
     },
     "execution_count": 18,
     "metadata": {},
     "output_type": "execute_result"
    }
   ],
   "source": [
    "fun (x,y) -> (::) (x,y)"
   ]
  },
  {
   "cell_type": "code",
   "execution_count": 19,
   "id": "e3e95285-35da-4f2e-b195-a07114073745",
   "metadata": {},
   "outputs": [
    {
     "data": {
      "text/plain": [
       "type stringlist = SNil | SCons of string * stringlist\n"
      ]
     },
     "execution_count": 19,
     "metadata": {},
     "output_type": "execute_result"
    }
   ],
   "source": [
    "type stringlist = \n",
    "  | SNil\n",
    "  | SCons of string * stringlist"
   ]
  },
  {
   "cell_type": "code",
   "execution_count": 20,
   "id": "ea5f24be-548e-4394-b544-938387eaa6dd",
   "metadata": {},
   "outputs": [
    {
     "data": {
      "text/plain": [
       "type 'a list_ = Nil | Cons of 'a * 'a list_\n"
      ]
     },
     "execution_count": 20,
     "metadata": {},
     "output_type": "execute_result"
    }
   ],
   "source": [
    "(*\n",
    "  -> 'a is read \"quote a\" or sometime alpha\n",
    "  -> 'a is a type parameter (or type variable).\n",
    "  -> 'a can be \"instantiated\" with any type (e.g., int or string)\n",
    "*)\n",
    "type 'a list_ = \n",
    "  | Nil\n",
    "  | Cons of 'a * 'a list_\n",
    "  \n",
    "(*\n",
    "  class List<T> {\n",
    "    List<T>(...)\n",
    "  }\n",
    "*)"
   ]
  },
  {
   "cell_type": "code",
   "execution_count": 21,
   "id": "c0976b45-ad24-4dab-aeba-3246f992731a",
   "metadata": {},
   "outputs": [
    {
     "data": {
      "text/plain": [
       "- : int list_ = Cons (1, Nil)\n"
      ]
     },
     "execution_count": 21,
     "metadata": {},
     "output_type": "execute_result"
    }
   ],
   "source": [
    "Cons(1,Nil)"
   ]
  },
  {
   "cell_type": "code",
   "execution_count": 22,
   "id": "e9f38668-78d6-4dd7-9618-0bd9d83918db",
   "metadata": {},
   "outputs": [
    {
     "data": {
      "text/plain": [
       "- : float list_ = Cons (2., Nil)\n"
      ]
     },
     "execution_count": 22,
     "metadata": {},
     "output_type": "execute_result"
    }
   ],
   "source": [
    "Cons(2.0, Nil)"
   ]
  },
  {
   "cell_type": "code",
   "execution_count": 23,
   "id": "aceb5f21-3d25-420e-8299-44608c633405",
   "metadata": {},
   "outputs": [
    {
     "data": {
      "text/plain": [
       "- : shape list_ =\n",
       "Cons (Circle ((0., 0.), 3.), Cons (Square ((0., 0.), 2.), Nil))\n"
      ]
     },
     "execution_count": 23,
     "metadata": {},
     "output_type": "execute_result"
    }
   ],
   "source": [
    "Cons(origin_circle, Cons(Square(origin, 2.0),Nil))"
   ]
  },
  {
   "cell_type": "code",
   "execution_count": 24,
   "id": "4e214619-ea77-4e46-9ab9-bab2c5087c04",
   "metadata": {},
   "outputs": [
    {
     "data": {
      "text/plain": [
       "- : shape list = [Circle ((0., 0.), 3.); Square ((0., 0.), 2.)]\n"
      ]
     },
     "execution_count": 24,
     "metadata": {},
     "output_type": "execute_result"
    }
   ],
   "source": [
    "origin_circle::(Square(origin, 2.0))::[]"
   ]
  },
  {
   "cell_type": "code",
   "execution_count": 25,
   "id": "8206b0ea-267d-4fd7-b9ad-91b9376297c1",
   "metadata": {},
   "outputs": [
    {
     "data": {
      "text/plain": [
       "- : shape list = [Circle ((0., 0.), 3.); Square ((0., 0.), 2.)]\n"
      ]
     },
     "execution_count": 25,
     "metadata": {},
     "output_type": "execute_result"
    }
   ],
   "source": [
    "[origin_circle; Square(origin, 2.0)]"
   ]
  },
  {
   "cell_type": "code",
   "execution_count": 26,
   "id": "8d0db33f-34da-4c2c-be8e-4821c7ca9306",
   "metadata": {},
   "outputs": [
    {
     "data": {
      "text/plain": [
       "type intbtree = Leaf of int | Branch of intbtree * int * intbtree\n"
      ]
     },
     "execution_count": 26,
     "metadata": {},
     "output_type": "execute_result"
    }
   ],
   "source": [
    "(* How would you define a int binary tree in ocaml? *)\n",
    "type intbtree = \n",
    "  | Leaf of int\n",
    "  | Branch of intbtree * int * intbtree"
   ]
  },
  {
   "cell_type": "code",
   "execution_count": 27,
   "id": "ad5ffedb-e51d-4f15-90c9-fc6b11a24a05",
   "metadata": {},
   "outputs": [
    {
     "data": {
      "text/plain": [
       "- : intbtree = Branch (Leaf 1, 2, Leaf 3)\n"
      ]
     },
     "execution_count": 27,
     "metadata": {},
     "output_type": "execute_result"
    }
   ],
   "source": [
    "(*\n",
    "      2\n",
    "     / \\\n",
    "    1   3\n",
    "*)\n",
    "\n",
    "let ltree = Leaf 1 in \n",
    "let rtree = Leaf 3 in\n",
    "let top_level_tree = Branch(ltree, 2, rtree) in\n",
    "top_level_tree"
   ]
  },
  {
   "cell_type": "code",
   "execution_count": 28,
   "id": "0954d29f-46d2-47dd-9d1e-46cad6cace41",
   "metadata": {},
   "outputs": [
    {
     "data": {
      "text/plain": [
       "type 'a btree = Leaf of 'a | Branch of 'a btree * 'a * 'a btree\n"
      ]
     },
     "execution_count": 28,
     "metadata": {},
     "output_type": "execute_result"
    }
   ],
   "source": [
    "(*\n",
    "  polymorphic binary tree\n",
    "*)\n",
    "\n",
    "type 'a btree =\n",
    " | Leaf of 'a\n",
    " | Branch of 'a btree * 'a * 'a btree"
   ]
  },
  {
   "cell_type": "code",
   "execution_count": 29,
   "id": "7a284007-4299-4584-bc37-7b8186ed03fd",
   "metadata": {},
   "outputs": [
    {
     "data": {
      "text/plain": [
       "type 'a option = Nothing | Something of 'a\n"
      ]
     },
     "execution_count": 29,
     "metadata": {},
     "output_type": "execute_result"
    },
    {
     "data": {
      "text/plain": [
       "val div : int -> int -> int option = <fun>\n"
      ]
     },
     "execution_count": 29,
     "metadata": {},
     "output_type": "execute_result"
    }
   ],
   "source": [
    "(*\n",
    "  option type\n",
    "*)\n",
    "\n",
    "type 'a option = \n",
    " | Nothing\n",
    " | Something of 'a\n",
    "\n",
    "let div a b = if b <> 0 then Something(a/b) else Nothing"
   ]
  },
  {
   "cell_type": "code",
   "execution_count": 30,
   "id": "533387bd-d7a9-49ca-b0ce-22c90b3b0d3d",
   "metadata": {},
   "outputs": [
    {
     "data": {
      "text/plain": [
       "- : int option = Nothing\n"
      ]
     },
     "execution_count": 30,
     "metadata": {},
     "output_type": "execute_result"
    }
   ],
   "source": [
    "div 12 0"
   ]
  },
  {
   "cell_type": "code",
   "execution_count": 31,
   "id": "2fc39513-3b12-4ece-973c-8349504473f4",
   "metadata": {},
   "outputs": [
    {
     "name": "stderr",
     "output_type": "stream",
     "text": [
      "File \"[31]\", lines 9-10, characters 4-72:\n",
      " 9 | ....match res with\n",
      "10 |     | Something(x) -> Printf.printf \"I got succesful result! %d\\n\" (x+2)\n",
      "Warning 8 [partial-match]: this pattern-matching is not exhaustive.\n",
      "Here is an example of a case that is not matched:\n",
      "Nothing\n"
     ]
    },
    {
     "data": {
      "text/plain": [
       "val do_diff_things : int -> int -> unit = <fun>\n"
      ]
     },
     "execution_count": 31,
     "metadata": {},
     "output_type": "execute_result"
    }
   ],
   "source": [
    "(*\n",
    "   !!!PATTERN MATCHING!!!\n",
    "   1. Has to be exhaustive: You NEED to handle all the cases corresponding to various ways in which the value can be constructed.\n",
    "   2. Has to be non-redundant: You only need to handle cases corresponding to various ways in which the value can be constructed.\n",
    "*)\n",
    "let do_diff_things (a:int) (b:int) = \n",
    "    let res = div a b in\n",
    "    (* Invalid: res + 2 *)\n",
    "    match res with\n",
    "    | Something(x) -> Printf.printf \"I got succesful result! %d\\n\" (x+2)\n",
    "    (*| Nothing -> Printf.printf \"Invalid division. Terminating\\n\"*)\n",
    "    "
   ]
  },
  {
   "cell_type": "code",
   "execution_count": 32,
   "id": "c5531308-737f-4ffb-b3a5-69dc2c996141",
   "metadata": {},
   "outputs": [
    {
     "ename": "error",
     "evalue": "runtime_error",
     "output_type": "error",
     "traceback": [
      "\u001b[31mException: Match_failure (\"[31]\", 9, 4).\nRaised at do_diff_things in file \"[31]\", line 9, characters 4-91\nCalled from unknown location\nCalled from Stdlib__fun.protect in file \"fun.ml\", line 33, characters 8-15\nRe-raised at Stdlib__fun.protect in file \"fun.ml\", line 38, characters 6-52\nCalled from Toploop.load_lambda in file \"toplevel/toploop.ml\", line 212, characters 4-150\n\u001b[0m"
     ]
    }
   ],
   "source": [
    "do_diff_things 8 0;\n",
    "flush stdout"
   ]
  },
  {
   "cell_type": "code",
   "execution_count": 33,
   "id": "939c17fa-fc4c-4daa-b5f6-4a651b55ffc4",
   "metadata": {},
   "outputs": [
    {
     "data": {
      "text/plain": [
       "val is_empty : int list -> bool = <fun>\n"
      ]
     },
     "execution_count": 33,
     "metadata": {},
     "output_type": "execute_result"
    }
   ],
   "source": [
    "let is_empty (l: int list) = match l with\n",
    "    | [] -> true\n",
    "    | x::xs -> false\n"
   ]
  },
  {
   "cell_type": "code",
   "execution_count": 34,
   "id": "ed002c00-3ee5-4904-851a-0682428167bf",
   "metadata": {},
   "outputs": [
    {
     "data": {
      "text/plain": [
       "- : bool = false\n"
      ]
     },
     "execution_count": 34,
     "metadata": {},
     "output_type": "execute_result"
    }
   ],
   "source": [
    "is_empty [1;2]"
   ]
  },
  {
   "cell_type": "code",
   "execution_count": 35,
   "id": "b748343d-3da5-496a-b292-ced17121aad9",
   "metadata": {},
   "outputs": [
    {
     "data": {
      "text/plain": [
       "val sum_of_list : int list -> int = <fun>\n"
      ]
     },
     "execution_count": 35,
     "metadata": {},
     "output_type": "execute_result"
    }
   ],
   "source": [
    "let rec sum_of_list (l: int list) = match l with\n",
    "    | [] -> 0\n",
    "    | h::t -> h + (sum_of_list t)"
   ]
  },
  {
   "cell_type": "code",
   "execution_count": 36,
   "id": "223ce702-b0d5-4c33-a557-d0fff6606462",
   "metadata": {},
   "outputs": [
    {
     "data": {
      "text/plain": [
       "- : int = 15\n"
      ]
     },
     "execution_count": 36,
     "metadata": {},
     "output_type": "execute_result"
    }
   ],
   "source": [
    "sum_of_list [1;2;3;4;5]"
   ]
  },
  {
   "cell_type": "code",
   "execution_count": 37,
   "id": "767d49dd-2e57-40c5-b72f-854c72824ad5",
   "metadata": {},
   "outputs": [
    {
     "data": {
      "text/plain": [
       "val sum_of_list_2 : int list -> int = <fun>\n"
      ]
     },
     "execution_count": 37,
     "metadata": {},
     "output_type": "execute_result"
    }
   ],
   "source": [
    "let rec sum_of_list_2 (l: int list) = match l with\n",
    "    | [] -> 0\n",
    "    | h1::h2::t -> h1 + h2 + (sum_of_list_2 t)\n",
    "    | h::t -> h + (sum_of_list_2 t)"
   ]
  },
  {
   "cell_type": "code",
   "execution_count": 38,
   "id": "3658140d-3716-4439-9b7f-2a688690006d",
   "metadata": {},
   "outputs": [
    {
     "data": {
      "text/plain": [
       "- : int = 15\n"
      ]
     },
     "execution_count": 38,
     "metadata": {},
     "output_type": "execute_result"
    }
   ],
   "source": [
    "sum_of_list_2 [1;2;3;4;5]"
   ]
  },
  {
   "cell_type": "markdown",
   "id": "914415b3-ee56-495c-8c38-bd8d792ddc2a",
   "metadata": {},
   "source": [
    "```ocaml\n",
    "type t = \n",
    "    | C1 of ...\n",
    "    | C2 of ...\n",
    "    | C3 of ...\n",
    "```\n",
    "\n",
    "where C1, C2, and C3 are (value) constructors of type t.\n",
    "\n",
    "\n",
    "```ocaml\n",
    "match (v:t) with\n",
    "    | C1(...) -> ...\n",
    "    | C2(...) -> ...        \n",
    "    | C3(...) -> ...\n",
    "```"
   ]
  },
  {
   "cell_type": "code",
   "execution_count": 39,
   "id": "85137801-0abc-48c7-b80a-5fec9277021e",
   "metadata": {},
   "outputs": [
    {
     "data": {
      "text/plain": [
       "val print_1_2_3 : int -> unit = <fun>\n"
      ]
     },
     "execution_count": 39,
     "metadata": {},
     "output_type": "execute_result"
    }
   ],
   "source": [
    "let print_1_2_3 (x:int) = match x with\n",
    " | 1 -> print_string \"1\"\n",
    " | 2 -> print_string \"2\"\n",
    " | 3 -> print_string \"3\"\n",
    " | _ -> ()"
   ]
  },
  {
   "cell_type": "code",
   "execution_count": 40,
   "id": "d0830355-501e-4906-8783-7684e93986bc",
   "metadata": {},
   "outputs": [
    {
     "data": {
      "text/plain": [
       "val length : 'a list -> int = <fun>\n"
      ]
     },
     "execution_count": 40,
     "metadata": {},
     "output_type": "execute_result"
    }
   ],
   "source": [
    "let rec length (l: 'a list) = match l with\n",
    "  | [] -> 0\n",
    "  | _::t -> 1 + (length t)"
   ]
  },
  {
   "cell_type": "code",
   "execution_count": 41,
   "id": "2a96f0a1-7b6e-45ee-9d23-073da3178ad0",
   "metadata": {},
   "outputs": [
    {
     "data": {
      "text/plain": [
       "- : int = 2\n"
      ]
     },
     "execution_count": 41,
     "metadata": {},
     "output_type": "execute_result"
    }
   ],
   "source": [
    "length [\"Hello\"; \"world\"]"
   ]
  },
  {
   "cell_type": "code",
   "execution_count": 42,
   "id": "202d5c2a-db09-41f7-a0e2-271d014a5475",
   "metadata": {},
   "outputs": [
    {
     "data": {
      "text/plain": [
       "- : shape list = [Circle ((0., 0.), 2.); Square ((0., 0.), 3.)]\n"
      ]
     },
     "execution_count": 42,
     "metadata": {},
     "output_type": "execute_result"
    }
   ],
   "source": [
    "(*\n",
    "  [Circle(origin_point, 2.0); Square(origin_point, 3.0)]\n",
    "*)\n",
    "[Circle(origin, 2.0); Square(origin, 3.0)]"
   ]
  },
  {
   "cell_type": "code",
   "execution_count": 43,
   "id": "320d7613-b4da-4805-93d1-04c1222b5bfe",
   "metadata": {},
   "outputs": [
    {
     "data": {
      "text/plain": [
       "val fst : 'a * 'b -> 'a = <fun>\n"
      ]
     },
     "execution_count": 43,
     "metadata": {},
     "output_type": "execute_result"
    },
    {
     "data": {
      "text/plain": [
       "val snd : 'a * 'b -> 'b = <fun>\n"
      ]
     },
     "execution_count": 43,
     "metadata": {},
     "output_type": "execute_result"
    }
   ],
   "source": [
    "(*\n",
    " fst (2,3) = 2\n",
    "*)\n",
    "\n",
    "(*\n",
    "  int*int == 'IntPair with constructor (x,y) \n",
    "*)\n",
    "let fst (p:'a*'b) : 'a = match p with\n",
    " | (x,y) -> x\n",
    "let snd (p:'a*'b) : 'b = match p with\n",
    " | (x,y) -> y"
   ]
  },
  {
   "cell_type": "code",
   "execution_count": 46,
   "id": "a107ee24-1956-4411-a7bd-6d6363a429b4",
   "metadata": {},
   "outputs": [
    {
     "data": {
      "text/plain": [
       "val to_string : shape list -> string = <fun>\n"
      ]
     },
     "execution_count": 46,
     "metadata": {},
     "output_type": "execute_result"
    },
    {
     "data": {
      "text/plain": [
       "val to_string : shape list -> string = <fun>\n"
      ]
     },
     "execution_count": 46,
     "metadata": {},
     "output_type": "execute_result"
    }
   ],
   "source": [
    "(*\n",
    "  \"[Circle with origin as (0,0) and radius as 2; Square with left bottom as (0,0) and side as 3.0; ]\"\n",
    "*)\n",
    "let rec to_string (l: shape list) = (match l with\n",
    "  | [] -> \"\"\n",
    "  | h::t -> (match h with\n",
    "                | Circle(o,r) -> Printf.sprintf \"Circle with origin as (%f,%f) and radius as %f\" (fst o) (snd o) r\n",
    "                | Square(lb,s) -> Printf.sprintf \"Square with left bottom as (%f,%f) and side as %f\" (fst lb) (snd lb) s\n",
    "                | _ -> \"some rectangle\") ^\"; \"^ (to_string t))\n",
    "                \n",
    "let to_string (l: shape list) = \"[\"^(to_string l)^\"]\""
   ]
  },
  {
   "cell_type": "code",
   "execution_count": 45,
   "id": "1567136b-9416-4d15-a0c2-718121cbd7e0",
   "metadata": {},
   "outputs": [
    {
     "data": {
      "text/plain": [
       "- : string =\n",
       "\"[Circle with origin as (0.000000,0.000000) and radius as 2.000000; Square with left bottom as (0.000000,0.000000) and side as 3.000000; ]\"\n"
      ]
     },
     "execution_count": 45,
     "metadata": {},
     "output_type": "execute_result"
    }
   ],
   "source": [
    "to_string [Circle(origin, 2.0); Square(origin, 3.0)]"
   ]
  },
  {
   "cell_type": "code",
   "execution_count": 47,
   "id": "23fe2d8a-6f1d-48f6-8572-411d349c73a8",
   "metadata": {},
   "outputs": [
    {
     "data": {
      "text/plain": [
       "val int_list_to_string : int list -> string = <fun>\n"
      ]
     },
     "execution_count": 47,
     "metadata": {},
     "output_type": "execute_result"
    }
   ],
   "source": [
    "(*\n",
    "  to_string but for integers\n",
    "*)\n",
    "\n",
    "let rec int_list_to_string (l: int list) : string = match l with\n",
    "  | [] -> \"\"\n",
    "  | h::t -> (string_of_int h)^\"; \"^(int_list_to_string t)"
   ]
  },
  {
   "cell_type": "code",
   "execution_count": 48,
   "id": "603a7aa2-4d7e-4ae2-99bf-487253c114ee",
   "metadata": {},
   "outputs": [
    {
     "data": {
      "text/plain": [
       "- : string = \"1; 2; 3; 4; \"\n"
      ]
     },
     "execution_count": 48,
     "metadata": {},
     "output_type": "execute_result"
    }
   ],
   "source": [
    "int_list_to_string [1;2;3;4]"
   ]
  },
  {
   "cell_type": "code",
   "execution_count": 49,
   "id": "94d8fde9-bdcf-43d8-b56d-48bb0b5f99a0",
   "metadata": {},
   "outputs": [
    {
     "data": {
      "text/plain": [
       "val to_string : 'a list -> ('a -> string) -> string = <fun>\n"
      ]
     },
     "execution_count": 49,
     "metadata": {},
     "output_type": "execute_result"
    }
   ],
   "source": [
    "let rec to_string (l: 'a list) (f: 'a -> string) : string = match l with\n",
    "  | [] -> \"\"\n",
    "  | h::t -> (f h)^\"; \"^(to_string t f)"
   ]
  },
  {
   "cell_type": "code",
   "execution_count": 51,
   "id": "27ee4123-fbcb-4ed7-a03a-6286bf61c2ad",
   "metadata": {},
   "outputs": [
    {
     "data": {
      "text/plain": [
       "val to_string_list : 'a list -> ('a -> string) -> string list = <fun>\n"
      ]
     },
     "execution_count": 51,
     "metadata": {},
     "output_type": "execute_result"
    }
   ],
   "source": [
    "let rec to_string_list (l: 'a list) (f: 'a -> string) : string list = match l with\n",
    "  | [] -> []\n",
    "  | h::t -> (f h)::(to_string_list t f)"
   ]
  },
  {
   "cell_type": "code",
   "execution_count": 52,
   "id": "c1166eb4-6e5c-4c7d-9f52-afd7e2f8090a",
   "metadata": {},
   "outputs": [
    {
     "data": {
      "text/plain": [
       "- : string list = [\"1\"; \"2\"; \"3\"; \"4\"; \"5\"]\n"
      ]
     },
     "execution_count": 52,
     "metadata": {},
     "output_type": "execute_result"
    }
   ],
   "source": [
    "to_string_list [1;2;3;4;5] string_of_int"
   ]
  },
  {
   "cell_type": "code",
   "execution_count": 53,
   "id": "d4595069-843f-40fc-bf72-9531c9e330d1",
   "metadata": {},
   "outputs": [
    {
     "data": {
      "text/plain": [
       "- : string list = [\"1.\"; \"2.\"; \"3.\"]\n"
      ]
     },
     "execution_count": 53,
     "metadata": {},
     "output_type": "execute_result"
    }
   ],
   "source": [
    "to_string_list [1.0; 2.0; 3.0] string_of_float"
   ]
  },
  {
   "cell_type": "code",
   "execution_count": 55,
   "id": "7dba5e8a-7499-42f4-856a-457dba5c1bae",
   "metadata": {},
   "outputs": [
    {
     "data": {
      "text/plain": [
       "- : string = \"[1.;2.;3.]\"\n"
      ]
     },
     "execution_count": 55,
     "metadata": {},
     "output_type": "execute_result"
    }
   ],
   "source": [
    "\"[\"^(String.concat \";\" (to_string_list [1.0; 2.0; 3.0] string_of_float))^\"]\""
   ]
  },
  {
   "cell_type": "code",
   "execution_count": 56,
   "id": "e26eb63f-27a9-486e-a25d-ebe4837340b1",
   "metadata": {},
   "outputs": [
    {
     "data": {
      "text/plain": [
       "val to_float_list : 'a list -> ('a -> float) -> float list = <fun>\n"
      ]
     },
     "execution_count": 56,
     "metadata": {},
     "output_type": "execute_result"
    }
   ],
   "source": [
    "(*\n",
    "[1;2;3;4] --> [1.0;2.0;3.0;4.0]\n",
    "*)\n",
    "let rec to_float_list (l: 'a list) (f: 'a -> float) : float list = match l with\n",
    "  | [] -> []\n",
    "  | h::t -> (f h)::(to_float_list t f)"
   ]
  },
  {
   "cell_type": "code",
   "execution_count": 57,
   "id": "9d6f7912-6f67-434a-bf3d-97897551c946",
   "metadata": {},
   "outputs": [
    {
     "data": {
      "text/plain": [
       "val to_any_list : 'a list -> ('a -> 'b) -> 'b list = <fun>\n"
      ]
     },
     "execution_count": 57,
     "metadata": {},
     "output_type": "execute_result"
    }
   ],
   "source": [
    "let rec to_any_list (l: 'a list) (f: 'a -> 'b) : 'b list = match l with\n",
    "  | [] -> []\n",
    "  | h::t -> (f h)::(to_any_list t f)"
   ]
  },
  {
   "cell_type": "code",
   "execution_count": 58,
   "id": "34074203-2bfc-4e00-9fc0-b13f76873b86",
   "metadata": {},
   "outputs": [
    {
     "data": {
      "text/plain": [
       "- : ('a -> 'b) -> 'a list -> 'b list = <fun>\n"
      ]
     },
     "execution_count": 58,
     "metadata": {},
     "output_type": "execute_result"
    }
   ],
   "source": [
    "List.map"
   ]
  },
  {
   "cell_type": "code",
   "execution_count": 61,
   "id": "50d8209c-62fb-4b66-b04c-39dd0285331c",
   "metadata": {},
   "outputs": [
    {
     "data": {
      "text/plain": [
       "val prod_of_int_list : int list -> int = <fun>\n"
      ]
     },
     "execution_count": 61,
     "metadata": {},
     "output_type": "execute_result"
    }
   ],
   "source": [
    "let rec prod_of_int_list (l: int list) : int = match l with\n",
    "  | [] -> 1\n",
    "  | h::t -> h * (prod_of_int_list t)"
   ]
  },
  {
   "cell_type": "code",
   "execution_count": 65,
   "id": "b63b5b50-3b9e-4b1b-b435-ab38471441e1",
   "metadata": {},
   "outputs": [
    {
     "data": {
      "text/plain": [
       "val fold_right : (int -> int -> int) -> int -> int list -> int = <fun>\n"
      ]
     },
     "execution_count": 65,
     "metadata": {},
     "output_type": "execute_result"
    }
   ],
   "source": [
    "let rec fold_right (f: int -> int -> int) (b: int) (l: int list) : int = match l with\n",
    "  | [] -> b\n",
    "  | h::t -> f h (fold f b t)"
   ]
  },
  {
   "cell_type": "code",
   "execution_count": 66,
   "id": "dacb8fb0-fb3e-47fc-9680-56d08d6e2378",
   "metadata": {},
   "outputs": [
    {
     "data": {
      "text/plain": [
       "- : int = 15\n"
      ]
     },
     "execution_count": 66,
     "metadata": {},
     "output_type": "execute_result"
    }
   ],
   "source": [
    "fold_right (fun acc x -> acc+x) 0 [1;2;3;4;5]"
   ]
  },
  {
   "cell_type": "code",
   "execution_count": 68,
   "id": "6f2e0b15-da07-44ef-ac28-01d9d9c06209",
   "metadata": {},
   "outputs": [
    {
     "data": {
      "text/plain": [
       "- : int = 120\n"
      ]
     },
     "execution_count": 68,
     "metadata": {},
     "output_type": "execute_result"
    }
   ],
   "source": [
    "fold_right (fun acc x -> acc*x) 1 [1;2;3;4;5]"
   ]
  },
  {
   "cell_type": "code",
   "execution_count": 69,
   "id": "6ccddda2-d919-487b-b94c-003601de5137",
   "metadata": {},
   "outputs": [
    {
     "data": {
      "text/plain": [
       "val fold_right : (int -> int -> int) -> int -> int list -> int = <fun>\n"
      ]
     },
     "execution_count": 69,
     "metadata": {},
     "output_type": "execute_result"
    }
   ],
   "source": [
    "(*\n",
    "  Help me write a general form of fold_right\n",
    "*)\n",
    "let rec fold_right (f: 'a -> 'b -> 'b) (b: 'b) (l: 'a list) : 'b = match l with\n",
    "  | [] -> b\n",
    "  | h::t -> f h (fold f b t)\n",
    "\n"
   ]
  },
  {
   "cell_type": "code",
   "execution_count": 70,
   "id": "6fa146f7-ffa0-423e-a09d-6241a24ee3af",
   "metadata": {},
   "outputs": [
    {
     "data": {
      "text/plain": [
       "val fold_left : ('a -> 'b -> 'b) -> 'b -> 'a list -> 'b = <fun>\n"
      ]
     },
     "execution_count": 70,
     "metadata": {},
     "output_type": "execute_result"
    }
   ],
   "source": [
    "(*\n",
    "  fold_right f b [a1; a2; ...; an] = f a1 (....(f a_{n-1}(f an b)))\n",
    "*)\n",
    "(*\n",
    "  fold_left f b [a1; a2; ...; an] = f an (...(f a3 (f a2 (f a1 b))))\n",
    "*)\n",
    "let rec fold_left (f: 'a -> 'b -> 'b) (b: 'b) (l: 'a list) : 'b = match l with\n",
    "  | [] -> b\n",
    "  | h::t -> fold_left f (f h b) t\n"
   ]
  },
  {
   "cell_type": "code",
   "execution_count": 71,
   "id": "4e2afb90-9583-4096-823e-94ca582f4077",
   "metadata": {},
   "outputs": [
    {
     "data": {
      "text/plain": [
       "val l1 : int list = [1; 2; 3; 4; 5]\n"
      ]
     },
     "execution_count": 71,
     "metadata": {},
     "output_type": "execute_result"
    }
   ],
   "source": [
    "let l1 = [1;2;3;4;5]"
   ]
  },
  {
   "cell_type": "code",
   "execution_count": 72,
   "id": "9d1c4faa-f6ed-4c7e-8301-46f7c17eb407",
   "metadata": {},
   "outputs": [
    {
     "data": {
      "text/plain": [
       "- : int list = [5; 4; 3; 2; 1]\n"
      ]
     },
     "execution_count": 72,
     "metadata": {},
     "output_type": "execute_result"
    }
   ],
   "source": [
    "List.rev l1"
   ]
  },
  {
   "cell_type": "code",
   "execution_count": 73,
   "id": "ec73ad4e-3027-4bd6-8783-447b2ec806e5",
   "metadata": {},
   "outputs": [
    {
     "data": {
      "text/plain": [
       "- : ('a -> 'b -> 'a) -> 'a -> 'b list -> 'a = <fun>\n"
      ]
     },
     "execution_count": 73,
     "metadata": {},
     "output_type": "execute_result"
    }
   ],
   "source": [
    "List.fold_left"
   ]
  },
  {
   "cell_type": "code",
   "execution_count": 77,
   "id": "53187101-1cf4-4fbe-ae2a-71d82b28064d",
   "metadata": {},
   "outputs": [
    {
     "data": {
      "text/plain": [
       "val my_rev : 'a list -> 'a list = <fun>\n"
      ]
     },
     "execution_count": 77,
     "metadata": {},
     "output_type": "execute_result"
    }
   ],
   "source": [
    "let my_rev (l : 'a list) : 'a list = \n",
    "  List.fold_left (fun acc x -> x::acc) [] l"
   ]
  },
  {
   "cell_type": "code",
   "execution_count": 78,
   "id": "e0b0989e-878d-4db4-b9f3-7ebbb663798b",
   "metadata": {},
   "outputs": [
    {
     "data": {
      "text/plain": [
       "- : int list = [5; 4; 3; 2; 1]\n"
      ]
     },
     "execution_count": 78,
     "metadata": {},
     "output_type": "execute_result"
    }
   ],
   "source": [
    "my_rev l1"
   ]
  },
  {
   "cell_type": "code",
   "execution_count": 79,
   "id": "1d6d9f47-5a30-4be9-92d5-dd9a1be585d0",
   "metadata": {},
   "outputs": [
    {
     "data": {
      "text/plain": [
       "- : 'a btree * 'a * 'a btree -> 'a btree = <fun>\n"
      ]
     },
     "execution_count": 79,
     "metadata": {},
     "output_type": "execute_result"
    }
   ],
   "source": [
    "fun (a,b,c) -> Branch(a,b,c)"
   ]
  },
  {
   "cell_type": "code",
   "execution_count": 80,
   "id": "162b5af5-64ce-45ad-82d3-deab59535f77",
   "metadata": {},
   "outputs": [
    {
     "data": {
      "text/plain": [
       "type 'a btree = Leaf of 'a | Branch of 'a btree * 'a * 'a btree\n"
      ]
     },
     "execution_count": 80,
     "metadata": {},
     "output_type": "execute_result"
    }
   ],
   "source": [
    "(*\n",
    "  polymorphic binary tree\n",
    "*)\n",
    "\n",
    "type 'a btree =\n",
    " | Leaf of 'a\n",
    " | Branch of 'a btree * 'a * 'a btree"
   ]
  },
  {
   "cell_type": "code",
   "execution_count": 83,
   "id": "84e4d4f1-ae67-4b5e-9fc7-d180c6017f4d",
   "metadata": {},
   "outputs": [
    {
     "data": {
      "text/plain": [
       "val fold_left : ('a -> 'b -> 'a) -> 'a -> 'b btree -> 'a = <fun>\n"
      ]
     },
     "execution_count": 83,
     "metadata": {},
     "output_type": "execute_result"
    }
   ],
   "source": [
    "let rec fold_left (f: 'a -> 'b -> 'a) (acc: 'a) (t: 'b btree) = match t with\n",
    "  | Leaf(x) -> f acc x\n",
    "  | Branch(lt, x, rt) -> \n",
    "    let v1 = fold_left f acc lt in\n",
    "    let v2 = f v1 x in\n",
    "    let v3 = fold_left f v2 rt in \n",
    "    v3"
   ]
  },
  {
   "cell_type": "code",
   "execution_count": 84,
   "id": "35f9e55b-688e-4382-b39f-79d7b93c32bd",
   "metadata": {},
   "outputs": [
    {
     "data": {
      "text/plain": [
       "type 'a queue = 'a list\n"
      ]
     },
     "execution_count": 84,
     "metadata": {},
     "output_type": "execute_result"
    }
   ],
   "source": [
    "type 'a queue = 'a list"
   ]
  },
  {
   "cell_type": "code",
   "execution_count": 85,
   "id": "0519664d-72c4-43df-9473-8c6f7127ead2",
   "metadata": {},
   "outputs": [
    {
     "data": {
      "text/plain": [
       "val push : 'a -> 'a queue -> 'a queue = <fun>\n"
      ]
     },
     "execution_count": 85,
     "metadata": {},
     "output_type": "execute_result"
    }
   ],
   "source": [
    "let rec push (x:'a) (q: 'a queue) : 'a queue = q@[x] "
   ]
  },
  {
   "cell_type": "code",
   "execution_count": 89,
   "id": "f190b652-b4c1-4311-abb3-0934f558e0fc",
   "metadata": {},
   "outputs": [
    {
     "data": {
      "text/plain": [
       "val pop : 'a queue -> 'a * 'a queue = <fun>\n"
      ]
     },
     "execution_count": 89,
     "metadata": {},
     "output_type": "execute_result"
    }
   ],
   "source": [
    "let rec pop (q: 'a queue) : ('a*'a queue) = match q with\n",
    "  | [] -> raise (Invalid_argument \"queue is empty!\")\n",
    "  | h::t -> (h,t)"
   ]
  },
  {
   "cell_type": "code",
   "execution_count": 91,
   "id": "eedb1b7e-d357-45bb-b217-79f3a29ac791",
   "metadata": {},
   "outputs": [
    {
     "data": {
      "text/plain": [
       "type 'a queue = QNil | QCons of 'a queue * 'a\n"
      ]
     },
     "execution_count": 91,
     "metadata": {},
     "output_type": "execute_result"
    }
   ],
   "source": [
    "type 'a queue = \n",
    " | QNil\n",
    " | QCons of 'a queue * 'a"
   ]
  },
  {
   "cell_type": "code",
   "execution_count": 92,
   "id": "49818edd-9b6e-4ba7-96e0-2d9ff27e8642",
   "metadata": {},
   "outputs": [
    {
     "data": {
      "text/plain": [
       "val push : 'a -> 'a queue -> 'a queue = <fun>\n"
      ]
     },
     "execution_count": 92,
     "metadata": {},
     "output_type": "execute_result"
    }
   ],
   "source": [
    "let rec push (x:'a) (q: 'a queue) : 'a queue = QCons(q,x)"
   ]
  },
  {
   "cell_type": "code",
   "execution_count": null,
   "id": "519e424c-e418-4d27-a091-a90d7ee4673a",
   "metadata": {},
   "outputs": [],
   "source": []
  }
 ],
 "metadata": {
  "kernelspec": {
   "display_name": "OCaml 4.12.0",
   "language": "OCaml",
   "name": "ocaml-jupyter"
  },
  "language_info": {
   "codemirror_mode": "text/x-ocaml",
   "file_extension": ".ml",
   "mimetype": "text/x-ocaml",
   "name": "OCaml",
   "nbconverter_exporter": null,
   "pygments_lexer": "OCaml",
   "version": "4.12.0"
  }
 },
 "nbformat": 4,
 "nbformat_minor": 5
}
