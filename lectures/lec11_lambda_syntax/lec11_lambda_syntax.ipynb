{
 "cells": [
  {
   "cell_type": "markdown",
   "metadata": {
    "slideshow": {
     "slide_type": "slide"
    }
   },
   "source": [
    "<center>\n",
    "\n",
    "<h1 style=\"text-align:center\"> Lambda Calculus: Syntax</h1>\n",
    "<h2 style=\"text-align:center\"> CSCI7000-11 S23: Principles of Functional Programming </h2>\n",
    "</center>"
   ]
  },
  {
   "cell_type": "markdown",
   "metadata": {
    "slideshow": {
     "slide_type": "slide"
    }
   },
   "source": [
    "## Review\n",
    "\n",
    "### Last time\n",
    "\n",
    "* Modules, functors, and data structures\n",
    "\n",
    "### Today\n",
    "\n",
    "* Lambda Calculus: Basis of FP!\n",
    "  + Origin, Syntax, substitution, alpha equivalence"
   ]
  },
  {
   "cell_type": "markdown",
   "metadata": {
    "slideshow": {
     "slide_type": "slide"
    }
   },
   "source": [
    "## Computability\n",
    "\n",
    "<h3> In 1930s </h3>\n",
    "\n",
    "* What does it mean for the function $f : \\mathbb{N} \\rightarrow \\mathbb{N}$ to be *computable*?\n",
    "* **Informal definition:** A function is computable if using pencil-and-paper you can compute $f(n)$ for any $n$.\n",
    "* Three different researchers attempted to formalise *computability*."
   ]
  },
  {
   "cell_type": "markdown",
   "metadata": {
    "slideshow": {
     "slide_type": "slide"
    }
   },
   "source": [
    "## Alan Turning\n",
    "\n",
    "<img src=\"images/turing.jpg\" style=\"float:left\" width=\"200\">\n",
    "\n",
    "<div style=\"float:left;width:75%\">\n",
    "    \n",
    "* Defined an idealised computer -- **The Turing Machine** (1935)\n",
    "* A function is computable if and only if it can be computed by a turning machine\n",
    "* A programming language is turing complete if:\n",
    "  + It can map every turing machine to a program.\n",
    "  + A program can be written to simulate a universal turing machine. \n",
    "  + It is a superset of a known turning complete language.\n",
    "\n",
    "</div>"
   ]
  },
  {
   "cell_type": "markdown",
   "metadata": {
    "slideshow": {
     "slide_type": "slide"
    }
   },
   "source": [
    "## Alonzo Church\n",
    "\n",
    "<img src=\"images/church.jpg\" style=\"float:left\" width=\"200\">\n",
    "\n",
    "<div style=\"float:left;width:75%\">\n",
    "    \n",
    "* Developed the **λ-calculus** as a formal system for mathematical logic (1929 - 1932).\n",
    "* Postulated that a function is computable (in the intuitive sense) if and only if it can be written as a lambda term (1935).\n",
    "* Church was Turing's PhD advisor!\n",
    "* Turing showed that the systems defined by Church and his system were equivalent.\n",
    "  + **Church-Turing Thesis** \n",
    "\n",
    "</div>"
   ]
  },
  {
   "cell_type": "markdown",
   "metadata": {
    "slideshow": {
     "slide_type": "slide"
    }
   },
   "source": [
    "## Kurt Gödel\n",
    "\n",
    "<img src=\"images/godel.jpg\" style=\"float:left\" width=\"200\">\n",
    "\n",
    "<div style=\"float:left;width:75%\">\n",
    "    \n",
    "* Defined the class of **general recursive functions** as the smallest set of functions containing \n",
    "  + all the constant functions\n",
    "  + the successor function and \n",
    "  + closed under certain operations (such as compositions and recursion). \n",
    "* He postulated that a function is computable (in the intuitive sense) if and only if it is general recursive.\n",
    "\n",
    "</div>"
   ]
  },
  {
   "cell_type": "markdown",
   "metadata": {
    "slideshow": {
     "slide_type": "slide"
    }
   },
   "source": [
    "## Impact of Church-Turing thesis\n",
    "\n",
    "* The **“Church-Turing Thesis”** is by itself is one of the most important ideas on computer science\n",
    "  + The impact of Church and Turing’s models goes far beyond the thesis itself."
   ]
  },
  {
   "cell_type": "markdown",
   "metadata": {
    "slideshow": {
     "slide_type": "slide"
    }
   },
   "source": [
    "## Impact of Church-Turing thesis\n",
    "\n",
    "* Oddly, however, the impact of each has been in almost completely separate communities\n",
    "  + Turing Machines $\\Rightarrow$ Algorithms & Complexity\n",
    "  + Lambda Calculus $\\Rightarrow$ Programming Languages\n",
    "* Not accidental\n",
    "  + Turing machines are quite low level $\\Rightarrow$ well suited for measuring resources (**efficiency**).\n",
    "  + Lambda Calculus is quite high level $\\Rightarrow$ well suited for abstraction and composition (**structure**)."
   ]
  },
  {
   "cell_type": "markdown",
   "metadata": {
    "slideshow": {
     "slide_type": "slide"
    }
   },
   "source": [
    "## Programming Language Expressiveness\n",
    "\n",
    "* So what language features are needed to express all computable functions?\n",
    "  + *What's the minimal language that is Turing Complete?*\n",
    "* Observe that many features that we have seen in this class were syntactic sugar\n",
    "  + **Multi-argument functions** - simulate using partial application\n",
    "  + **For loop, while loop** - simulate using recursive functions\n",
    "  + **Mutable heaps** - simulate using functional maps and pass around. "
   ]
  },
  {
   "cell_type": "markdown",
   "metadata": {
    "slideshow": {
     "slide_type": "fragment"
    }
   },
   "source": [
    "<center>\n",
    "\n",
    "<h1 style=\"text-align:center\"> All you need is Functions. </h1>\n",
    "</center>"
   ]
  },
  {
   "cell_type": "markdown",
   "metadata": {
    "slideshow": {
     "slide_type": "slide"
    }
   },
   "source": [
    "## Lambda Calculus : Syntax\n",
    "\n",
    "\\\\[\n",
    "\\begin{array}{rcll}\n",
    "e & ::=  & x & \\text{(Variable)} \\\\\n",
    "  & \\mid & \\lambda x.e & \\text{(Abstraction)} \\\\\n",
    "  & \\mid & e~e & \\text{(Application)}\n",
    "\\end{array}\n",
    "\\\\]"
   ]
  },
  {
   "cell_type": "markdown",
   "metadata": {
    "slideshow": {
     "slide_type": "fragment"
    }
   },
   "source": [
    "* This grammar describes ASTs; not for parsing (ambiguous!)\n",
    "* Lambda expressions also known as lambda **terms**\n",
    "* $\\lambda x.e$ is like `fun x -> e`"
   ]
  },
  {
   "cell_type": "markdown",
   "metadata": {
    "slideshow": {
     "slide_type": "fragment"
    }
   },
   "source": [
    "<center>\n",
    "    \n",
    "<h2 style=\"text-align:center\"> That's it! Nothing but higher order functions </h2>\n",
    "</center>"
   ]
  },
  {
   "cell_type": "markdown",
   "metadata": {
    "slideshow": {
     "slide_type": "slide"
    }
   },
   "source": [
    "## Why Study Lambda Calculus?\n",
    "\n",
    "* It is a \"core\" language\n",
    "  + Very small but still Turing complete\n",
    "* But with it can explore general ideas\n",
    "  + Language features, semantics, proof systems, algorithms, ...\n",
    "* Plus, higher-order, anonymous functions (aka lambdas) are now very popular!\n",
    "  + C++ (C++11), PHP (PHP 5.3.0), C# (C# v2.0), Delphi (since 2009), Objective C, Java 8, Swift, Python, Ruby (Procs), ...\n",
    "  + and functional languages like OCaml, Haskell, F#, ..."
   ]
  },
  {
   "cell_type": "markdown",
   "metadata": {
    "slideshow": {
     "slide_type": "slide"
    }
   },
   "source": [
    "## Two Conventions\n",
    "\n",
    "1. Scope of $\\lambda$ extends as far right as possible\n",
    "  + Subject to scope delimited by parentheses\n",
    "  + $\\lambda x. \\lambda y.x~y~$ is the same as $\\lambda x.(\\lambda y.(x~y))$"
   ]
  },
  {
   "cell_type": "markdown",
   "metadata": {
    "slideshow": {
     "slide_type": "fragment"
    }
   },
   "source": [
    "2. Function Application is left-associative\n",
    "  + `x y z` is `(x y) z`\n",
    "  + Same rule as OCaml"
   ]
  },
  {
   "cell_type": "markdown",
   "metadata": {
    "jp-MarkdownHeadingCollapsed": true,
    "slideshow": {
     "slide_type": "slide"
    },
    "tags": []
   },
   "source": [
    "## Lambda calculus interpreter in OCaml\n",
    "\n",
    "* What is the Abstract Syntax Tree (AST)?\n",
    "\n",
    "```ocaml\n",
    "type expr = \n",
    "  | Var of string\n",
    "  | Lam of string * expr\n",
    "  | App of expr * expr\n",
    "```"
   ]
  },
  {
   "cell_type": "markdown",
   "metadata": {
    "slideshow": {
     "slide_type": "slide"
    }
   },
   "source": [
    "## Lambda expressions in OCaml\n",
    "\n",
    "* $y~$ is `Var \"y\"`\n",
    "* $\\lambda x.x~$ is `Lam (\"x\", Var \"x\")`\n",
    "* $\\lambda x. \\lambda y.x ~y~$ is `Lam (\"x\",(Lam(\"y\",App (Var \"x\", Var \"y\"))))`\n",
    "* $(\\lambda x.\\lambda y.x ~y) ~(\\lambda x.x ~x~)$ is\n",
    "\n",
    "```ocaml\n",
    "App\n",
    "  (Lam (\"x\", Lam (\"y\",App (Var \"x\", Var \"y\"))),\n",
    "   Lam (\"x\", App (Var \"x\", Var \"x\")))\n",
    "```"
   ]
  },
  {
   "cell_type": "code",
   "execution_count": 2,
   "metadata": {
    "collapsed": true,
    "jupyter": {
     "outputs_hidden": true
    },
    "slideshow": {
     "slide_type": "slide"
    },
    "tags": []
   },
   "outputs": [
    {
     "name": "stdout",
     "output_type": "stream",
     "text": [
      "type var = string\n",
      "type exp = Var of var | Lam of var * exp | App of exp * exp\n",
      "type token = LPAREN | RPAREN | EOL | APP | DOT | LAMBDA | VAR | ID of char\n",
      "val print_token : token -> string = <fun>\n",
      "exception Eof\n",
      "val __ocaml_lex_tables : Lexing.lex_tables =\n",
      "  {Lexing.lex_base = \"\\000\\000����������������\";\n",
      "   lex_backtrk = \"������������������\";\n",
      "   lex_default =\n",
      "    \"��\\000\\000\\000\\000\\000\\000\\000\\000\\000\\000\\000\\000\\000\\000\\000\\000\";\n",
      "   lex_trans =\n",
      "    \"\\000\\000\\000\\000\\000\\000\\000\\000\\000\\000\\000\\000\\000\\000\\000\\000\\000\\000\\b\\000\\007\\000\\000\\000\\000\\000\\000\\000\\000\\000\\000\\000\\000\\000\\000\\000\\000\\000\\000\\000\\000\\000\\000\\000\\000\\000\\000\\000\\000\\000\\000\\000\\000\\000\\000\\000\\000\\000\\000\\000\\000\\000\\000\\000\\b\\000\\000\\000\\000\\000\\000\\000\\000\\000\\000\\000\\000\\000\\000\\000\\006\\000\\005\\000\\000\\000\\000\\000\\000\\000\\000\\000\\002\\000\\000\\000\\000\\000\\000\\000\\000\\000\\000\\000\\000\\000\\000\\000\\000\\000\\000\\000\\000\\000\\000\\000\\000\\000\\000\\000\\000\\000\\000\\000\\000\\000\\000\\000\\000\\000\\000\\000\\000\\000\\000\\000\\000\\000\\000\\000\\000\\000\\000\\000\\000\\000\\000\\000\\000\\000\\000\\000\\003\\000\\000\\000\\000\\000\\000\\000\\000\\000\\000\\000\\000\\000\\000\\000\\000\\000\\000\\000\\000\\000\\000\\000\\000\\000\\000\\000\\000\\000\\000\\000\\000\\000\\000\\000\\000\\000\\000\\000\\000\\000\\004\\000\\004\\000\\004\\000\\004\\000\\004\\000\\004\\000\\004\\000\\004\\000\\004\\000\\004\\000\\004\\000\\004\\000\\004\\000\\004\\000\\004\\000\\004\\000\\004\\000\\004\\000\\004\\000\\004\\000\\004\\000\\004\\000\\004\\000\\004\\000\\004\\000\\004\\000\\000\\000\\000\\000\\000\\000\\000\\000\\000\\000\\000\\000\\000\\000\\000\\000\\000\\000\\000\\000\\000\\000\\000\\000\\000\\000\\000\\000\\000\\000\\000\\000\\000\\000\\000\\000\\000\\000\\000\\000\\000\\000\\000\\000\\000\\000\\000\\000\\000\"... (* string length 514; truncated *);\n",
      "   lex_check =\n",
      "    \"������������������\\000\\000\\000\\000������������������������������������������\\000\\000��������������\\000\\000\\000\\000��������\\000\\000����������������������������������������������������������\\000\\000����������������������������������������\\000\\000\\000\\000\\000\\000\\000\\000\\000\\000\\000\\000\\000\\000\\000\\000\\000\\000\\000\\000\\000\\000\\000\\000\\000\\000\\000\\000\\000\\000\\000\\000\\000\\000\\000\\000\\000\\000\\000\\000\\000\\000\\000\\000\\000\\000\\000\\000\\000\\000\\000\\000������������������������������������������������\"... (* string length 514; truncated *);\n",
      "   lex_base_code = \"\"; lex_backtrk_code = \"\"; lex_default_code = \"\";\n",
      "   lex_trans_code = \"\"; lex_check_code = \"\"; lex_code = \"\"}\n",
      "val token : Lexing.lexbuf -> token = <fun>\n",
      "val __ocaml_lex_token_rec : Lexing.lexbuf -> int -> token = <fun>\n",
      "exception Error\n",
      "val _eRR : exn = Error\n",
      "type _menhir_env = {\n",
      "  _menhir_lexer : Lexing.lexbuf -> token;\n",
      "  _menhir_lexbuf : Lexing.lexbuf;\n",
      "  _menhir_token : token;\n",
      "  mutable _menhir_error : bool;\n",
      "}\n",
      "and _menhir_state =\n",
      "    MenhirState12\n",
      "  | MenhirState9\n",
      "  | MenhirState7\n",
      "  | MenhirState4\n",
      "  | MenhirState1\n",
      "  | MenhirState0\n",
      "val _menhir_goto_expr :\n",
      "  _menhir_env -> 'ttv_tail -> _menhir_state -> exp -> 'freshtv2 = <fun>\n",
      "val _menhir_goto_t :\n",
      "  _menhir_env -> 'ttv_tail -> _menhir_state -> exp -> 'freshtv2 = <fun>\n",
      "val _menhir_errorcase :\n",
      "  _menhir_env -> 'ttv_tail -> _menhir_state -> 'freshtv2 = <fun>\n",
      "val _menhir_run1 : _menhir_env -> 'ttv_tail -> _menhir_state -> 'freshtv2 =\n",
      "  <fun>\n",
      "val _menhir_run2 : _menhir_env -> 'ttv_tail -> _menhir_state -> 'freshtv2 =\n",
      "  <fun>\n",
      "val _menhir_run5 :\n",
      "  _menhir_env -> 'ttv_tail -> _menhir_state -> char -> 'freshtv2 = <fun>\n",
      "val _menhir_discard : _menhir_env -> _menhir_env = <fun>\n",
      "val main : (Lexing.lexbuf -> token) -> Lexing.lexbuf -> exp = <fun>\n",
      "val newvar : unit -> string = <fun>\n",
      "val fvs : exp -> var list = <fun>\n",
      "val subst : exp -> var -> exp -> exp = <fun>\n",
      "val reduce : exp -> exp = <fun>\n",
      "val ident : string -> unit = <fun>\n",
      "val kwd : string -> unit = <fun>\n",
      "val print_exp0 : exp -> unit = <fun>\n",
      "val print_app : exp -> unit = <fun>\n",
      "val print_other_applications : exp -> unit = <fun>\n",
      "val print_lambda : exp -> unit = <fun>\n",
      "val lambda_exp_2_str : exp -> string = <fun>\n",
      "val next : unit -> int = <fun>\n",
      "val reduce_multi : exp -> exp = <fun>\n",
      "val lex : string -> Lexing.lexbuf = <fun>\n",
      "val parse : string -> exp = <fun>\n",
      "val to_int : exp -> int = <fun>\n",
      "val myzero : exp = Lam (\"f\", Lam (\"x\", Var \"x\"))\n",
      "val myone : exp = Lam (\"f\", Lam (\"x\", App (Var \"f\", Var \"x\")))\n",
      "val mytwo : exp = Lam (\"f\", Lam (\"x\", App (Var \"f\", App (Var \"f\", Var \"x\"))))\n",
      "val mythree : exp =\n",
      "  Lam (\"f\", Lam (\"x\", App (Var \"f\", App (Var \"f\", App (Var \"f\", Var \"x\")))))\n",
      "val mysucc : exp =\n",
      "  Lam (\"n\",\n",
      "   Lam (\"f\", Lam (\"x\", App (Var \"f\", App (App (Var \"n\", Var \"f\"), Var \"x\")))))\n",
      "val myplus : exp =\n",
      "  Lam (\"m\",\n",
      "   Lam (\"n\",\n",
      "    Lam (\"f\",\n",
      "     Lam (\"x\",\n",
      "      App (App (Var \"m\", Var \"f\"), App (App (Var \"n\", Var \"f\"), Var \"x\"))))))\n",
      "val mymult : exp =\n",
      "  Lam (\"m\", Lam (\"n\", Lam (\"f\", App (Var \"m\", App (Var \"n\", Var \"f\")))))\n",
      "val mytrue : exp = Lam (\"x\", Lam (\"y\", Var \"x\"))\n",
      "val myfalse : exp = Lam (\"x\", Lam (\"y\", Var \"y\"))\n",
      "val myif : exp =\n",
      "  Lam (\"a\", Lam (\"b\", Lam (\"c\", App (App (Var \"a\", Var \"b\"), Var \"c\"))))\n",
      "val mynot : exp =\n",
      "  Lam (\"b\", Lam (\"x\", Lam (\"y\", App (App (Var \"b\", Var \"y\"), Var \"x\"))))\n",
      "val myand : exp =\n",
      "  Lam (\"a\",\n",
      "   Lam (\"b\",\n",
      "    Lam (\"x\",\n",
      "     Lam (\"y\",\n",
      "      App (App (Var \"b\", App (App (Var \"a\", Var \"x\"), Var \"y\")), Var \"y\")))))\n",
      "val myor : exp =\n",
      "  Lam (\"a\",\n",
      "   Lam (\"b\",\n",
      "    Lam (\"x\",\n",
      "     Lam (\"y\",\n",
      "      App (App (Var \"b\", Var \"x\"), App (App (Var \"a\", Var \"x\"), Var \"y\"))))))\n",
      "val iszero : exp =\n",
      "  Lam (\"n\",\n",
      "   App (App (Var \"n\", Lam (\"x\", Lam (\"x\", Lam (\"y\", Var \"y\")))),\n",
      "    Lam (\"x\", Lam (\"y\", Var \"x\"))))\n",
      "val mypred : exp =\n",
      "  Lam (\"n\",\n",
      "   Lam (\"f\",\n",
      "    Lam (\"x\",\n",
      "     App\n",
      "      (App\n",
      "        (App (Var \"n\",\n",
      "          Lam (\"g\", Lam (\"h\", App (Var \"h\", App (Var \"g\", Var \"f\"))))),\n",
      "        Lam (\"u\", Var \"x\")),\n",
      "      Lam (\"u\", Var \"u\")))))\n",
      "val myminus : exp =\n",
      "  Lam (\"m\",\n",
      "   Lam (\"n\",\n",
      "    App\n",
      "     (App (Var \"n\",\n",
      "       Lam (\"n\",\n",
      "        Lam (\"f\",\n",
      "         Lam (\"x\",\n",
      "          App\n",
      "           (App\n",
      "             (App (Var \"n\",\n",
      "               Lam (\"g\", Lam (\"h\", App (Var \"h\", App (Var \"g\", Var \"f\"))))),\n",
      "             Lam (\"u\", Var \"x\")),\n",
      "           Lam (\"u\", Var \"u\")))))),\n",
      "     Var \"m\")))\n",
      "val mydiv : exp =\n",
      "  Lam (\"n\",\n",
      "   App\n",
      "    (App\n",
      "      (Lam (\"f\",\n",
      "        App (Lam (\"x\", App (Var \"x\", Var \"x\")),\n",
      "         Lam (\"x\", App (Var \"f\", App (Var \"x\", Var \"x\"))))),\n",
      "      Lam (\"c\",\n",
      "       Lam (\"n\",\n",
      "        Lam (\"m\",\n",
      "         Lam (\"f\",\n",
      "          Lam (\"x\",\n",
      "           App\n",
      "            (Lam (\"d\",\n",
      "              App\n",
      "               (App\n",
      "                 (App\n",
      "                   (Lam (\"n\",\n",
      "                     App\n",
      "                      (App (Var \"n\",\n",
      "                        Lam (\"x\", Lam (\"a\", Lam (\"b\", Var \"b\")))),\n",
      "                      Lam (\"a\", Lam (\"b\", Var \"a\")))),\n",
      "                   Var \"d\"),\n",
      "                 App (App (Lam (\"f\", Lam (\"x\", Var \"x\")), Var \"f\"), Var \"x\")),\n",
      "               App (Var \"f\",\n",
      "                App (App (App (App (Var \"c\", Var \"d\"), Var \"m\"), Var \"f\"),\n",
      "                 Var \"x\")))),\n",
      "            App\n",
      "             (App\n",
      "               (Lam (\"m\",\n",
      "                 Lam (\"n\",\n",
      "                  App\n",
      "                   (App (Var \"n\",\n",
      "                     Lam (\"n\",\n",
      "                      Lam (\"f\",\n",
      "                       Lam (\"x\",\n",
      "                        App\n",
      "                         (App\n",
      "                           (App (Var \"n\",\n",
      "                             Lam (\"g\",\n",
      "                              Lam (\"h\",\n",
      "                               App (Var \"h\", App (Var \"g\", Var \"f\"))))),\n",
      "                           Lam (\"u\", Var \"x\")),\n",
      "                         Lam (\"u\", Var \"u\")))))),\n",
      "                   Var \"m\"))),\n",
      "               Var \"n\"),\n",
      "             Var \"m\")))))))),\n",
      "    App\n",
      "     (Lam (\"n\",\n",
      "       Lam (\"f\",\n",
      "        Lam (\"x\", App (Var \"f\", App (App (Var \"n\", Var \"f\"), Var \"x\"))))),\n",
      "     Var \"n\")))\n"
     ]
    }
   ],
   "source": [
    "#use \"init.ml\";;"
   ]
  },
  {
   "cell_type": "code",
   "execution_count": 3,
   "metadata": {},
   "outputs": [
    {
     "data": {
      "text/plain": [
       "- : string -> exp = <fun>\n"
      ]
     },
     "execution_count": 3,
     "metadata": {},
     "output_type": "execute_result"
    }
   ],
   "source": [
    "parse"
   ]
  },
  {
   "cell_type": "code",
   "execution_count": 4,
   "metadata": {},
   "outputs": [
    {
     "data": {
      "text/plain": [
       "- : exp = Var \"y\"\n"
      ]
     },
     "execution_count": 4,
     "metadata": {},
     "output_type": "execute_result"
    },
    {
     "data": {
      "text/plain": [
       "- : exp = Lam (\"x\", Var \"x\")\n"
      ]
     },
     "execution_count": 4,
     "metadata": {},
     "output_type": "execute_result"
    },
    {
     "data": {
      "text/plain": [
       "- : exp = Lam (\"x\", Lam (\"y\", App (Var \"x\", Var \"y\")))\n"
      ]
     },
     "execution_count": 4,
     "metadata": {},
     "output_type": "execute_result"
    },
    {
     "data": {
      "text/plain": [
       "- : exp =\n",
       "App (Lam (\"x\", Lam (\"y\", App (Var \"x\", Var \"y\"))),\n",
       " Lam (\"x\", App (Var \"x\", Var \"x\")))\n"
      ]
     },
     "execution_count": 4,
     "metadata": {},
     "output_type": "execute_result"
    }
   ],
   "source": [
    "parse \"y\";;\n",
    "parse \"Lx.x\";;\n",
    "parse \"Lx.Ly.x y\";;\n",
    "parse \"(Lx.Ly.x y) (Lx. x x)\";;"
   ]
  },
  {
   "cell_type": "markdown",
   "metadata": {
    "slideshow": {
     "slide_type": "slide"
    }
   },
   "source": [
    "## Question 1\n",
    "\n",
    "What is this term’s AST? $\\lambda x.x ~x$\n",
    "\n",
    "1. `App (Lam (\"x\", Var \"x\"), Var \"x\")`\n",
    "2. `Lam (Var \"x\", Var \"x\", Var \"x\")`\n",
    "3. `Lam (\"x\", App (Var \"x\", Var \"x\"))`\n",
    "4. `App (Lam (\"x\", App (\"x\", \"x\")))`"
   ]
  },
  {
   "cell_type": "markdown",
   "metadata": {
    "slideshow": {
     "slide_type": "slide"
    }
   },
   "source": [
    "## Question 1\n",
    "\n",
    "What is this term’s AST? $\\lambda x.x ~x$\n",
    "\n",
    "1. `App (Lam (\"x\", Var \"x\"), Var \"x\")`\n",
    "2. `Lam (Var \"x\", Var \"x\", Var \"x\")`\n",
    "3. `Lam (\"x\", App (Var \"x\", Var \"x\"))` ✅\n",
    "4. `App (Lam (\"x\", App (\"x\", \"x\")))`"
   ]
  },
  {
   "cell_type": "markdown",
   "metadata": {
    "slideshow": {
     "slide_type": "slide"
    }
   },
   "source": [
    "## Question 2\n",
    "\n",
    "This term is equivalent to which of the following?\n",
    "\n",
    "$\\lambda x.x ~a ~b$\n",
    "\n",
    "1. $(\\lambda x.x) ~(a ~b)$\n",
    "2. $(((\\lambda x.x) ~a) ~b)$\n",
    "3. $\\lambda x.(x ~(a ~b))$\n",
    "4. $\\lambda x.((x ~a) ~b)$"
   ]
  },
  {
   "cell_type": "markdown",
   "metadata": {
    "slideshow": {
     "slide_type": "slide"
    }
   },
   "source": [
    "## Question 2\n",
    "\n",
    "This term is equivalent to which of the following?\n",
    "\n",
    "$\\lambda x.x ~a ~b$\n",
    "\n",
    "1. $(\\lambda x.x) ~(a ~b)$\n",
    "2. $(((\\lambda x.x) ~a) ~b)$\n",
    "3. $\\lambda x.(x ~(a ~b))$\n",
    "4. $(\\lambda x.((x ~a) ~b))$ ✅"
   ]
  },
  {
   "cell_type": "markdown",
   "metadata": {
    "slideshow": {
     "slide_type": "slide"
    }
   },
   "source": [
    "## Free Variables\n",
    "\n",
    "In\n",
    "\n",
    "```ocaml\n",
    "λx. x y\n",
    "```\n",
    "\n",
    "* The first `x` is the binder. \n",
    "* The second `x` is a **bound** variable.\n",
    "* The `y` is a **free** variable."
   ]
  },
  {
   "cell_type": "markdown",
   "metadata": {
    "slideshow": {
     "slide_type": "slide"
    }
   },
   "source": [
    "## Free Variables\n",
    "\n",
    "Let $FV(t)$ denote the free variables in a term $t$. \n",
    "\n",
    "We can define $FV(t)$ inductively over the definition of terms as follows:\n",
    "\n",
    "\\\\[\n",
    "\\begin{array}{rcl}\n",
    "FV(x) & = & \\{x\\} \\\\\n",
    "FV(\\lambda x.t_1) & = & FV(t_1) \\setminus \\{x\\} \\\\\n",
    "FV(t_1 ~t_2) & = & FV(t_1) ~\\cup~ FV(t_2)\n",
    "\\end{array}\n",
    "\\\\]\n",
    "\n",
    "If $FV(t) = \\emptyset$ then we say that $t$ is a **closed** term.\n",
    "\n",
    "$\n",
    "\\newcommand{\\cg}[1]{\\color{green}{#1}}\n",
    "\\newcommand{\\cr}[1]{\\color{red}{#1}}\n",
    "\\newcommand{\\cb}[1]{\\color{blue}{#1}}\n",
    "$"
   ]
  },
  {
   "cell_type": "code",
   "execution_count": 5,
   "metadata": {},
   "outputs": [
    {
     "data": {
      "text/plain": [
       "val free_variables : string -> var list = <fun>\n"
      ]
     },
     "execution_count": 5,
     "metadata": {},
     "output_type": "execute_result"
    }
   ],
   "source": [
    "let free_variables s = fvs @@ parse s"
   ]
  },
  {
   "cell_type": "markdown",
   "metadata": {
    "slideshow": {
     "slide_type": "slide"
    }
   },
   "source": [
    "## Question 3\n",
    "\n",
    "What are the free variables in the following?\n",
    "\n",
    "1. $\\lambda x.x ~(\\lambda y. y)$\n",
    "2. $x ~y ~z$\n",
    "3. $\\lambda x. (\\lambda y. y) ~x ~y$\n",
    "4. $\\lambda x. (\\lambda y. x) ~y$"
   ]
  },
  {
   "cell_type": "markdown",
   "metadata": {
    "slideshow": {
     "slide_type": "slide"
    }
   },
   "source": [
    "## Question 3\n",
    "\n",
    "What are the free variables in the following?\n",
    "\n",
    "$\n",
    "\\begin{array}{ll}\n",
    "1. ~\\lambda x.x ~(\\lambda y. y) & \\{\\} \\\\\n",
    "2. ~\\cr{x ~y ~z} & \\{x,y,z\\} \\\\\n",
    "3. ~\\lambda x. (\\lambda y. y) ~x ~\\cr{y} & \\{y\\} \\\\\n",
    "4. ~\\lambda x. (\\lambda y. x) ~\\cr{y} & \\{y\\}\n",
    "\\end{array}\n",
    "$"
   ]
  },
  {
   "cell_type": "code",
   "execution_count": 6,
   "metadata": {
    "slideshow": {
     "slide_type": "slide"
    },
    "tags": []
   },
   "outputs": [
    {
     "data": {
      "text/plain": [
       "- : var list = []\n"
      ]
     },
     "execution_count": 6,
     "metadata": {},
     "output_type": "execute_result"
    },
    {
     "data": {
      "text/plain": [
       "- : var list = [\"x\"; \"y\"; \"z\"]\n"
      ]
     },
     "execution_count": 6,
     "metadata": {},
     "output_type": "execute_result"
    },
    {
     "data": {
      "text/plain": [
       "- : var list = [\"y\"]\n"
      ]
     },
     "execution_count": 6,
     "metadata": {},
     "output_type": "execute_result"
    },
    {
     "data": {
      "text/plain": [
       "- : var list = [\"y\"]\n"
      ]
     },
     "execution_count": 6,
     "metadata": {},
     "output_type": "execute_result"
    }
   ],
   "source": [
    "free_variables \"Lx.x (Ly. y)\";;\n",
    "free_variables \"x y z\";;\n",
    "free_variables \"Lx.(Ly. y) x y\";;\n",
    "free_variables \"Lx.(Ly.x) y\";;"
   ]
  },
  {
   "cell_type": "markdown",
   "metadata": {
    "slideshow": {
     "slide_type": "slide"
    }
   },
   "source": [
    "# $\\alpha$-equivalence\n",
    "\n",
    "Lambda calculus uses **static scoping** (just like OCaml)\n",
    "\n",
    "\\\\[\n",
    "\\lambda \\cg{x}. \\cg{x} ~(\\lambda \\cr{x}. \\cr{x})\n",
    "\\\\]"
   ]
  },
  {
   "cell_type": "markdown",
   "metadata": {
    "slideshow": {
     "slide_type": "fragment"
    }
   },
   "source": [
    "This is equivalent to:\n",
    "\n",
    "\\\\[\n",
    "\\lambda \\cg{x}. \\cg{x} ~(\\lambda \\cr{y}. \\cr{y})\n",
    "\\\\]\n",
    "\n",
    "* Renaming bound variables consistently preserves meaning\n",
    "  + This is called as **𝛼-renaming** or **𝛼-conversion**.\n",
    "* If a term $t_1$ is obtained by 𝛼-renaming another term $t_2$ then $t_1$ and $t_2$ are said to be **𝛼-equivalent**."
   ]
  },
  {
   "cell_type": "markdown",
   "metadata": {
    "slideshow": {
     "slide_type": "slide"
    }
   },
   "source": [
    "## Question 4\n",
    "\n",
    "Which of the following equivalences hold?\n",
    "\n",
    "1. $\\lambda x. x ~(\\lambda y. y) ~y =_{\\alpha} \\lambda y. y ~(\\lambda x. x) ~x$\n",
    "2. $\\lambda x. x ~(\\lambda y. y) ~y =_{\\alpha} \\lambda y. (y ~(\\lambda x. x) ~y)$\n",
    "3. $(\\lambda x. x ~(\\lambda y. y) ~y) =_{\\alpha} \\lambda w. w ~(\\lambda w. w) ~y$"
   ]
  },
  {
   "cell_type": "markdown",
   "metadata": {
    "slideshow": {
     "slide_type": "slide"
    }
   },
   "source": [
    "## Question 4\n",
    "\n",
    "Which of the following equivalences hold?\n",
    "\n",
    "1. $\\lambda x. x ~(\\lambda y. y) ~y =_{\\alpha} \\lambda y. y ~(\\lambda x. x) ~x~$   ❌\n",
    "2. $\\lambda x. x ~(\\lambda y. y) ~y =_{\\alpha} \\lambda y. y ~(\\lambda x. x) ~y~$   ❌\n",
    "3. $\\lambda x. x ~(\\lambda y. y) ~y =_{\\alpha} \\lambda w. w ~(\\lambda w. w) ~y~$   ✅"
   ]
  },
  {
   "cell_type": "markdown",
   "metadata": {
    "slideshow": {
     "slide_type": "slide"
    }
   },
   "source": [
    "## Substitution\n",
    "\n",
    "* In order to formally define $\\alpha$-equivalence, we need to define **substitutions**.\n",
    "* Substitution replaces **free** occurrences of a variable $x$ with a lambda term $N$ in some other term $M$. \n",
    "  + We write it as $M[N/x]$. (read \"N for x in M\")."
   ]
  },
  {
   "cell_type": "markdown",
   "metadata": {
    "slideshow": {
     "slide_type": "fragment"
    }
   },
   "source": [
    "For example,\n",
    "\n",
    "\\\\[\n",
    "(\\lambda x.x ~y)[(\\lambda z.z)/y] = \\lambda x.x ~(\\lambda z.z)\n",
    "\\\\]"
   ]
  },
  {
   "cell_type": "markdown",
   "metadata": {
    "slideshow": {
     "slide_type": "fragment"
    }
   },
   "source": [
    "<h4> Substitution is quite subtle. So we will start with our intuitions and see how things break and finally work up to the correct example. <h4>"
   ]
  },
  {
   "cell_type": "markdown",
   "metadata": {
    "slideshow": {
     "slide_type": "slide"
    }
   },
   "source": [
    "## Substitution: Take 1\n",
    "\n",
    "\\\\[\n",
    "\\begin{array}{rcll}\n",
    "x[s/x] & = & s \\\\\n",
    "y[s/x] & = & y & \\text{if } x \\neq y\\\\\n",
    "(\\lambda y.t_1)[s/x] & = & \\lambda y.t_1[s/x] \\\\\n",
    "(t_1 ~t_2)[s/x] & = & (t_1[s/x]) ~(t_2[s/x])\n",
    "\\end{array}\n",
    "\\\\]"
   ]
  },
  {
   "cell_type": "markdown",
   "metadata": {
    "slideshow": {
     "slide_type": "fragment"
    }
   },
   "source": [
    "This definition works for most examples. For example,\n",
    "\n",
    "\\\\[\n",
    "(\\lambda y.x)[(\\lambda z.z~w)/x] = \\lambda y.\\lambda z.z ~w\n",
    "\\\\]"
   ]
  },
  {
   "cell_type": "markdown",
   "metadata": {
    "slideshow": {
     "slide_type": "slide"
    }
   },
   "source": [
    "## Substitution: Take 1\n",
    "\n",
    "\\\\[\n",
    "\\begin{array}{rcll}\n",
    "x[s/x] & = & s \\\\\n",
    "y[s/x] & = & y & \\text{if } x \\neq y\\\\\n",
    "(\\lambda y.t_1)[s/x] & = & \\lambda y.t_1[s/x] \\\\\n",
    "(t_1 ~t_2)[s/x] & = & (t_1[s/x]) ~(t_2[s/x])\n",
    "\\end{array}\n",
    "\\\\]\n",
    "\n",
    "However, it fails if the substitution is on the bound variable:\n",
    "\n",
    "\\\\[\n",
    "(\\lambda x.x)[y/x] = \\lambda x.y\n",
    "\\\\]\n",
    "\n",
    "The **identity** function has become a **constant** function!"
   ]
  },
  {
   "cell_type": "markdown",
   "metadata": {
    "slideshow": {
     "slide_type": "slide"
    }
   },
   "source": [
    "## Substitution: Take 2\n",
    "\n",
    "\\\\[\n",
    "\\begin{array}{rcll}\n",
    "x[s/x] & = & s \\\\\n",
    "y[s/x] & = & y & \\text{if } x \\neq y\\\\\n",
    "(\\lambda x.t_1)[s/x] & = & \\lambda x.t_1\\\\\n",
    "(\\lambda y.t_1)[s/x] & = & \\lambda y.t_1[s/x] & \\text{if } x \\neq y\\\\\n",
    "(t_1 ~t_2)[s/x] & = & (t_1[s/x]) ~(t_2[s/x])\n",
    "\\end{array}\n",
    "\\\\]"
   ]
  },
  {
   "cell_type": "markdown",
   "metadata": {
    "slideshow": {
     "slide_type": "fragment"
    }
   },
   "source": [
    "However, this is not quite right. For example,\n",
    "\n",
    "\\\\[\n",
    "(\\lambda x.y)[x/y] = \\lambda x.x\n",
    "\\\\]\n",
    "\n",
    "* The **constant** function has become a **identity** function.\n",
    "* The problem here is that the free $x$ gets **captured** by the binder $x$."
   ]
  },
  {
   "cell_type": "markdown",
   "metadata": {
    "slideshow": {
     "slide_type": "slide"
    }
   },
   "source": [
    "## Substitution: Take 3\n",
    "\n",
    "Capture-avoiding substitution\n",
    "\n",
    "\\\\[\n",
    "\\begin{array}{rcll}\n",
    "x[s/x] & = & s \\\\\n",
    "y[s/x] & = & y & \\text{if } x \\neq y\\\\\n",
    "(\\lambda x.t_1)[s/x] & = & \\lambda x.t_1\\\\\n",
    "(\\lambda y.t_1)[s/x] & = & \\lambda y.t_1[s/x] & \\text{if } x \\neq y \\text{ and } y \\notin FV(s)\\\\\n",
    "(t_1 ~t_2)[s/x] & = & (t_1[s/x]) ~(t_2[s/x])\n",
    "\\end{array}\n",
    "\\\\]"
   ]
  },
  {
   "cell_type": "markdown",
   "metadata": {
    "slideshow": {
     "slide_type": "fragment"
    }
   },
   "source": [
    "* Unfortunately, this made substitution a partial function\n",
    "  + There is no valid rule for $(\\lambda x.y)[x/y]$"
   ]
  },
  {
   "cell_type": "markdown",
   "metadata": {
    "slideshow": {
     "slide_type": "slide"
    }
   },
   "source": [
    "## Substitution: Take 4\n",
    "\n",
    "Capture-avoiding substitution + totality\n",
    "\n",
    "\\\\[\n",
    "\\begin{array}{rcll}\n",
    "x[s/x] & = & s \\\\\n",
    "y[s/x] & = & y & \\text{if } x \\neq y\\\\\n",
    "(\\lambda x.t_1)[s/x] & = & \\lambda x.t_1\\\\\n",
    "(\\lambda y.t_1)[s/x] & = & \\lambda y.t_1[s/x] & \\text{if } x \\neq y \\text{ and } y \\notin FV(s)\\\\\n",
    "(\\lambda y.t_1)[s/x] & = & \\lambda w.t_1[w/y][s/x] & \\text{if } x \\neq y \\text{ and } y \\in FV(s) \\text { and } w \\text{ is fresh}\\\\\n",
    "(t_1 ~t_2)[s/x] & = & (t_1[s/x]) ~(t_2[s/x])\n",
    "\\end{array}\n",
    "\\\\]\n",
    "\n",
    "* A **fresh** binder is different from every other binder in use **(generativity)**.\n",
    "* In the case above, \n",
    "\n",
    "\\\\[\n",
    "w \\text{ is fresh } \\equiv w \\notin FV(t_1) \\cup FV(s) \\cup \\{x\\}\n",
    "\\\\]"
   ]
  },
  {
   "cell_type": "markdown",
   "metadata": {
    "slideshow": {
     "slide_type": "fragment"
    }
   },
   "source": [
    "Now our example works out:\n",
    "\n",
    "\\\\[\n",
    "(\\lambda x.y)[x/y] = \\lambda w.x\n",
    "\\\\]"
   ]
  },
  {
   "cell_type": "code",
   "execution_count": 7,
   "metadata": {},
   "outputs": [
    {
     "data": {
      "text/plain": [
       "- : exp -> var -> exp -> exp = <fun>\n"
      ]
     },
     "execution_count": 7,
     "metadata": {},
     "output_type": "execute_result"
    }
   ],
   "source": [
    "subst"
   ]
  },
  {
   "cell_type": "code",
   "execution_count": 8,
   "metadata": {},
   "outputs": [
    {
     "data": {
      "text/plain": [
       "val substitute : string -> var -> string -> exp = <fun>\n"
      ]
     },
     "execution_count": 8,
     "metadata": {},
     "output_type": "execute_result"
    }
   ],
   "source": [
    "let substitute e y m = subst (parse e) y (parse m)"
   ]
  },
  {
   "cell_type": "code",
   "execution_count": 9,
   "metadata": {
    "slideshow": {
     "slide_type": "slide"
    }
   },
   "outputs": [
    {
     "data": {
      "text/plain": [
       "- : exp = Lam (\"y\", Lam (\"z\", App (Var \"z\", Var \"w\")))\n"
      ]
     },
     "execution_count": 9,
     "metadata": {},
     "output_type": "execute_result"
    }
   ],
   "source": [
    "substitute \"Ly.x\" \"x\" \"Lz.z w\""
   ]
  },
  {
   "cell_type": "code",
   "execution_count": 10,
   "metadata": {},
   "outputs": [
    {
     "data": {
      "text/plain": [
       "- : exp = Lam (\"x\", Var \"x\")\n"
      ]
     },
     "execution_count": 10,
     "metadata": {},
     "output_type": "execute_result"
    }
   ],
   "source": [
    "substitute \"Lx.x\" \"x\" \"y\""
   ]
  },
  {
   "cell_type": "code",
   "execution_count": 11,
   "metadata": {},
   "outputs": [
    {
     "data": {
      "text/plain": [
       "- : exp = Lam (\"v0\", Var \"x\")\n"
      ]
     },
     "execution_count": 11,
     "metadata": {},
     "output_type": "execute_result"
    }
   ],
   "source": [
    "substitute \"Lx.y\" \"y\" \"x\""
   ]
  },
  {
   "cell_type": "markdown",
   "metadata": {
    "slideshow": {
     "slide_type": "slide"
    }
   },
   "source": [
    "## $\\alpha$-equivalence formally\n",
    "\n",
    "$=_{\\alpha}$ is an equivalence (reflexive, transitive, symmetric) relation such that:\n",
    "\n",
    "$\n",
    "\\newcommand{\\inferrule}[2]{\\displaystyle{\\frac{#1}{#2}}}\n",
    "$\n",
    "\n",
    "\\\\[\n",
    "\\begin{array}{cc}\n",
    "\\inferrule{}{x =_{\\alpha} x} \\quad & \\quad \\inferrule{M =_{\\alpha} M' \\quad N =_{\\alpha} N'}{M ~N =_{\\alpha} M' ~N'}\n",
    "\\end{array}\n",
    "\\\\]\n",
    "\n",
    "<br>\n",
    "\n",
    "\\\\[\n",
    "\\inferrule{z \\notin FV(M) \\cup FV(N) \\quad M[z/x] =_{\\alpha} N[z/y]}{\\lambda x.M =_{\\alpha} \\lambda y.N}\n",
    "\\\\]"
   ]
  },
  {
   "cell_type": "markdown",
   "metadata": {
    "slideshow": {
     "slide_type": "slide"
    }
   },
   "source": [
    "## Convention\n",
    "\n",
    "From now on, \n",
    "\n",
    "* Unless stated otherwise, we identify lambda terms up to α-equivalence.\n",
    "  + when we speak of lambda terms being **equal**, we mean that they are α-equivalent"
   ]
  }
 ],
 "metadata": {
  "celltoolbar": "Slideshow",
  "kernelspec": {
   "display_name": "OCaml 4.12.0",
   "language": "OCaml",
   "name": "ocaml-jupyter"
  },
  "language_info": {
   "codemirror_mode": "text/x-ocaml",
   "file_extension": ".ml",
   "mimetype": "text/x-ocaml",
   "name": "OCaml",
   "nbconverter_exporter": null,
   "pygments_lexer": "OCaml",
   "version": "4.12.0"
  }
 },
 "nbformat": 4,
 "nbformat_minor": 4
}
