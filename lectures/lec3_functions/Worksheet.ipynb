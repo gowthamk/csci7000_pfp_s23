{
 "cells": [
  {
   "cell_type": "markdown",
   "id": "805c7dab-7957-4d22-a445-c9b738b8514f",
   "metadata": {},
   "source": [
    "<div style=\"text-align:center\">\n",
    "    <h1> Functions </h1>\n",
    "    <h2> CSCI7000-11 S23: Principles of Functional Programming </h2>\n",
    "</div>"
   ]
  },
  {
   "cell_type": "markdown",
   "id": "9ada339e-5fdb-47ad-979f-ae1b98a892af",
   "metadata": {},
   "source": [
    "## Review\n",
    "\n",
    "* Syntax and Semantics\n",
    "* Expressions: if, let\n",
    "* Definitions: let\n",
    "\n",
    "Today\n",
    "\n",
    "* Functions"
   ]
  },
  {
   "cell_type": "code",
   "execution_count": 6,
   "id": "b245880b-fecd-4192-ab78-4c51bd37f27c",
   "metadata": {},
   "outputs": [
    {
     "data": {
      "text/plain": [
       "val abs : int -> int = <fun>\n"
      ]
     },
     "execution_count": 6,
     "metadata": {},
     "output_type": "execute_result"
    }
   ],
   "source": [
    "(* let expression can also be used to define functions *)\n",
    "(* Absolute value of an integer *)\n",
    "let abs = fun x -> if x<0 then -1*x else x"
   ]
  },
  {
   "cell_type": "code",
   "execution_count": 7,
   "id": "477674a4-c96c-44de-bdee-0b92b46745a0",
   "metadata": {},
   "outputs": [
    {
     "data": {
      "text/plain": [
       "- : int = 10\n"
      ]
     },
     "execution_count": 7,
     "metadata": {},
     "output_type": "execute_result"
    }
   ],
   "source": [
    "abs(-10)"
   ]
  },
  {
   "cell_type": "code",
   "execution_count": 8,
   "id": "146b0020-5dd0-4c0d-8c21-cf0acdc3c062",
   "metadata": {},
   "outputs": [
    {
     "data": {
      "text/plain": [
       "- : int = 2\n"
      ]
     },
     "execution_count": 8,
     "metadata": {},
     "output_type": "execute_result"
    }
   ],
   "source": [
    "abs 2"
   ]
  },
  {
   "cell_type": "code",
   "execution_count": 9,
   "id": "963a4985-c9e1-406a-8e8b-51875fb54e38",
   "metadata": {},
   "outputs": [],
   "source": [
    "(* Syntactic sugar for functions: let f x = ... *)"
   ]
  },
  {
   "cell_type": "code",
   "execution_count": 10,
   "id": "fa03a816-82a5-45c4-bb2d-b4e51cfb882b",
   "metadata": {},
   "outputs": [
    {
     "data": {
      "text/plain": [
       "val div_by_zero : 'a -> int = <fun>\n"
      ]
     },
     "execution_count": 10,
     "metadata": {},
     "output_type": "execute_result"
    }
   ],
   "source": [
    "(* We discussed about values: 2, 3.2, true, \"hello\", ..*)\n",
    "(* Functions are values; they cannot be reduced further *)\n",
    "let div_by_zero x = 2/0"
   ]
  },
  {
   "cell_type": "code",
   "execution_count": 11,
   "id": "35c386e8-71a2-471a-bd53-71050647c432",
   "metadata": {},
   "outputs": [
    {
     "ename": "error",
     "evalue": "runtime_error",
     "output_type": "error",
     "traceback": [
      "\u001b[31mException: Division_by_zero.\nRaised by primitive operation at unknown location\nCalled from Stdlib__fun.protect in file \"fun.ml\", line 33, characters 8-15\nRe-raised at Stdlib__fun.protect in file \"fun.ml\", line 38, characters 6-52\nCalled from Toploop.load_lambda in file \"toplevel/toploop.ml\", line 212, characters 4-150\n\u001b[0m"
     ]
    }
   ],
   "source": [
    "2/0"
   ]
  },
  {
   "cell_type": "code",
   "execution_count": 12,
   "id": "a1897471-1d54-4b87-b4b2-3563c7a415f7",
   "metadata": {},
   "outputs": [
    {
     "data": {
      "text/plain": [
       "- : unit = ()\n"
      ]
     },
     "execution_count": 12,
     "metadata": {},
     "output_type": "execute_result"
    }
   ],
   "source": [
    "(* OCaml also has a special value called \"unit\" written as empty paranthesis '()'. Its type is `unit` *)\n",
    "()"
   ]
  },
  {
   "cell_type": "code",
   "execution_count": 13,
   "id": "60533ac3-d549-4eff-abb0-f267fed7145e",
   "metadata": {},
   "outputs": [
    {
     "data": {
      "text/plain": [
       "val div_by_zero : unit -> int = <fun>\n"
      ]
     },
     "execution_count": 13,
     "metadata": {},
     "output_type": "execute_result"
    }
   ],
   "source": [
    "let div_by_zero () = 2/0"
   ]
  },
  {
   "cell_type": "code",
   "execution_count": 14,
   "id": "eade4dcb-71bd-4d1c-b5e3-fa5039a59480",
   "metadata": {},
   "outputs": [
    {
     "ename": "error",
     "evalue": "runtime_error",
     "output_type": "error",
     "traceback": [
      "\u001b[31mException: Division_by_zero.\nRaised by primitive operation at unknown location\nCalled from Stdlib__fun.protect in file \"fun.ml\", line 33, characters 8-15\nRe-raised at Stdlib__fun.protect in file \"fun.ml\", line 38, characters 6-52\nCalled from Toploop.load_lambda in file \"toplevel/toploop.ml\", line 212, characters 4-150\n\u001b[0m"
     ]
    }
   ],
   "source": [
    "div_by_zero ()"
   ]
  },
  {
   "cell_type": "code",
   "execution_count": 15,
   "id": "59e2938b-d578-4929-b06f-b7a769c9d7b4",
   "metadata": {},
   "outputs": [
    {
     "data": {
      "text/plain": [
       "val always_six : unit -> int = <fun>\n"
      ]
     },
     "execution_count": 15,
     "metadata": {},
     "output_type": "execute_result"
    }
   ],
   "source": [
    "let always_six () = 2*3"
   ]
  },
  {
   "cell_type": "code",
   "execution_count": 16,
   "id": "b8baa6a8-6fe3-4ded-a24f-69cc0b9bfcf8",
   "metadata": {},
   "outputs": [
    {
     "data": {
      "text/plain": [
       "- : int = 6\n"
      ]
     },
     "execution_count": 16,
     "metadata": {},
     "output_type": "execute_result"
    }
   ],
   "source": [
    "always_six ()"
   ]
  },
  {
   "cell_type": "code",
   "execution_count": 20,
   "id": "d908efa7-78df-4f50-a1e9-00198439b360",
   "metadata": {},
   "outputs": [
    {
     "data": {
      "text/plain": [
       "val encrypt : int -> int = <fun>\n"
      ]
     },
     "execution_count": 20,
     "metadata": {},
     "output_type": "execute_result"
    }
   ],
   "source": [
    "(* Functions are no different from other values: they can be created inside other expressions *)\n",
    "let encrypt = \n",
    "    let secret_key = 0x1A2B3C4D in \n",
    "    let enc msg = msg lxor secret_key in\n",
    "    enc"
   ]
  },
  {
   "cell_type": "code",
   "execution_count": 38,
   "id": "79d50b31-0a77-458c-b61e-7020c416864c",
   "metadata": {
    "collapsed": true,
    "jupyter": {
     "outputs_hidden": true
    },
    "tags": []
   },
   "outputs": [
    {
     "data": {
      "text/plain": [
       "- : int = 439042693\n"
      ]
     },
     "execution_count": 38,
     "metadata": {},
     "output_type": "execute_result"
    }
   ],
   "source": [
    "(* Does this evaluate to something or throw an error? Hint: think of static typing. *)\n",
    "encrypt 32456"
   ]
  },
  {
   "cell_type": "code",
   "execution_count": 22,
   "id": "f50a5182-1f59-4f34-9e06-05669220cdcd",
   "metadata": {},
   "outputs": [
    {
     "data": {
      "text/plain": [
       "val mult : int -> int -> int = <fun>\n"
      ]
     },
     "execution_count": 22,
     "metadata": {},
     "output_type": "execute_result"
    }
   ],
   "source": [
    "(* How do you write multi-argument functions? *)\n",
    "let mult x y = x*y"
   ]
  },
  {
   "cell_type": "code",
   "execution_count": 24,
   "id": "b408f5cc-4cf0-49a7-8956-18e729df35b1",
   "metadata": {},
   "outputs": [
    {
     "data": {
      "text/plain": [
       "- : int = 6\n"
      ]
     },
     "execution_count": 24,
     "metadata": {},
     "output_type": "execute_result"
    }
   ],
   "source": [
    "mult 2 3"
   ]
  },
  {
   "cell_type": "code",
   "execution_count": null,
   "id": "53e1b86b-a9c3-4f39-a62f-7f1aebd01711",
   "metadata": {},
   "outputs": [],
   "source": [
    "(* Is this a well-formed expression? *)\n",
    "mult 2"
   ]
  },
  {
   "cell_type": "code",
   "execution_count": 25,
   "id": "ba410a51-c1eb-4b89-a129-d6fdcce3235d",
   "metadata": {},
   "outputs": [
    {
     "data": {
      "text/plain": [
       "val mult : int * int -> int = <fun>\n"
      ]
     },
     "execution_count": 25,
     "metadata": {},
     "output_type": "execute_result"
    }
   ],
   "source": [
    "(* Mult is a \"curried\" function. You can \"uncurry\" it *)\n",
    "let mult (x,y) = x*y"
   ]
  },
  {
   "cell_type": "code",
   "execution_count": 27,
   "id": "b5c34e2d-1995-4aae-9e61-2063767d3bf2",
   "metadata": {},
   "outputs": [
    {
     "data": {
      "text/plain": [
       "val mult : int -> int -> int = <fun>\n"
      ]
     },
     "execution_count": 27,
     "metadata": {},
     "output_type": "execute_result"
    }
   ],
   "source": [
    "(* You could also have written curried mult as *)\n",
    "let mult = fun x -> fun y -> x*y"
   ]
  },
  {
   "cell_type": "code",
   "execution_count": 29,
   "id": "5d6666e7-b8ec-4126-8770-25f269c2df5a",
   "metadata": {},
   "outputs": [
    {
     "data": {
      "text/plain": [
       "val mult : int -> int -> int = <fun>\n"
      ]
     },
     "execution_count": 29,
     "metadata": {},
     "output_type": "execute_result"
    }
   ],
   "source": [
    "(* How is this parsed? Right associatively. *)\n",
    "let mult = fun x -> (fun y -> x*y)"
   ]
  },
  {
   "cell_type": "code",
   "execution_count": 34,
   "id": "048f8afa-afd3-4590-9c3a-939c715020fb",
   "metadata": {},
   "outputs": [
    {
     "data": {
      "text/plain": [
       "val mult : int -> int -> int = <fun>\n"
      ]
     },
     "execution_count": 34,
     "metadata": {},
     "output_type": "execute_result"
    }
   ],
   "source": [
    "(* You can optionally write types of function arguments and return values *)\n",
    "let mult (x:int) (y:int) :int = x*y"
   ]
  },
  {
   "cell_type": "code",
   "execution_count": 35,
   "id": "e2653c8e-45ad-4475-ba2f-702cb240716e",
   "metadata": {},
   "outputs": [
    {
     "data": {
      "text/plain": [
       "val apply_twice : (int -> int) -> int -> int = <fun>\n"
      ]
     },
     "execution_count": 35,
     "metadata": {},
     "output_type": "execute_result"
    }
   ],
   "source": [
    "(* Higher-Order functions*)\n",
    "let apply_twice f (x:int) = f (f x)"
   ]
  },
  {
   "cell_type": "code",
   "execution_count": 36,
   "id": "3f29db50-7963-4797-bcad-08c9c9b43dae",
   "metadata": {},
   "outputs": [
    {
     "data": {
      "text/plain": [
       "- : int = 12\n"
      ]
     },
     "execution_count": 36,
     "metadata": {},
     "output_type": "execute_result"
    }
   ],
   "source": [
    "apply_twice (mult 2) 3"
   ]
  },
  {
   "cell_type": "code",
   "execution_count": 37,
   "id": "5678748d-29e4-494e-b057-6f3c81632346",
   "metadata": {},
   "outputs": [
    {
     "data": {
      "text/plain": [
       "val quadruple : int -> int = <fun>\n"
      ]
     },
     "execution_count": 37,
     "metadata": {},
     "output_type": "execute_result"
    }
   ],
   "source": [
    "let quadruple = apply_twice (mult 2)"
   ]
  },
  {
   "cell_type": "code",
   "execution_count": 40,
   "id": "1984db5d-87e7-44f7-a2ba-1a7f4bbf60c4",
   "metadata": {},
   "outputs": [
    {
     "data": {
      "text/plain": [
       "val nine_times : int -> int = <fun>\n"
      ]
     },
     "execution_count": 40,
     "metadata": {},
     "output_type": "execute_result"
    }
   ],
   "source": [
    "let nine_times = apply_twice (mult 3)"
   ]
  },
  {
   "cell_type": "code",
   "execution_count": 41,
   "id": "0b759c2e-de06-401f-aca6-3613e53ccfc5",
   "metadata": {},
   "outputs": [
    {
     "data": {
      "text/plain": [
       "val map_tuple : (int -> int) -> int * int -> int * int = <fun>\n"
      ]
     },
     "execution_count": 41,
     "metadata": {},
     "output_type": "execute_result"
    }
   ],
   "source": [
    "let map_tuple (f:int -> int) (x,y) = (f x, f y) "
   ]
  },
  {
   "cell_type": "code",
   "execution_count": 42,
   "id": "24e4da5d-b2ff-4a15-a7e9-9857f0067b11",
   "metadata": {},
   "outputs": [
    {
     "data": {
      "text/plain": [
       "val map_tuple : ('a -> 'b) -> 'a * 'a -> 'b * 'b = <fun>\n"
      ]
     },
     "execution_count": 42,
     "metadata": {},
     "output_type": "execute_result"
    }
   ],
   "source": [
    "let map_tuple f (x,y) = (f x, f y) "
   ]
  },
  {
   "cell_type": "code",
   "execution_count": 45,
   "id": "02fb5920-1aab-4fa6-9279-87f4a275fb72",
   "metadata": {},
   "outputs": [
    {
     "data": {
      "text/plain": [
       "- : int * int = (2, 4)\n"
      ]
     },
     "execution_count": 45,
     "metadata": {},
     "output_type": "execute_result"
    }
   ],
   "source": [
    "map_tuple (fun x -> 2 * (abs x)) (-1,2)"
   ]
  },
  {
   "cell_type": "code",
   "execution_count": 44,
   "id": "74fbbd89-33ee-465c-a822-7e0cef0eb546",
   "metadata": {},
   "outputs": [
    {
     "data": {
      "text/plain": [
       "- : int * int = (2, 34)\n"
      ]
     },
     "execution_count": 44,
     "metadata": {},
     "output_type": "execute_result"
    }
   ],
   "source": [
    "map_tuple (fun x -> int_of_string x) (\"2\", \"34\") "
   ]
  },
  {
   "cell_type": "code",
   "execution_count": 46,
   "id": "87e67871-1590-4185-b4ab-00197756f75a",
   "metadata": {},
   "outputs": [
    {
     "data": {
      "text/plain": [
       "val apply_even_odd : (int -> 'a) -> (int -> 'a) -> int -> 'a = <fun>\n"
      ]
     },
     "execution_count": 46,
     "metadata": {},
     "output_type": "execute_result"
    }
   ],
   "source": [
    "(* Functions can take multiple functions as arguments *)\n",
    "let apply_even_odd f g x = if x mod 2 = 0 then f x else g x"
   ]
  },
  {
   "cell_type": "code",
   "execution_count": 51,
   "id": "512a2ae7-65ef-4e8d-a5a6-ac6804211d18",
   "metadata": {},
   "outputs": [
    {
     "data": {
      "text/plain": [
       "- : int = 3\n"
      ]
     },
     "execution_count": 51,
     "metadata": {},
     "output_type": "execute_result"
    }
   ],
   "source": [
    "let half_or_more x = apply_even_odd (fun x -> (x/2)) (fun y -> (y+1)/2) x in\n",
    "half_or_more 5"
   ]
  },
  {
   "cell_type": "code",
   "execution_count": null,
   "id": "1efc6cd8-68d2-469e-88d8-74c19b83e10f",
   "metadata": {},
   "outputs": [],
   "source": [
    "(* Recursive functions *)"
   ]
  }
 ],
 "metadata": {
  "kernelspec": {
   "display_name": "OCaml 4.12.0",
   "language": "OCaml",
   "name": "ocaml-jupyter"
  },
  "language_info": {
   "codemirror_mode": "text/x-ocaml",
   "file_extension": ".ml",
   "mimetype": "text/x-ocaml",
   "name": "OCaml",
   "nbconverter_exporter": null,
   "pygments_lexer": "OCaml",
   "version": "4.12.0"
  }
 },
 "nbformat": 4,
 "nbformat_minor": 5
}
