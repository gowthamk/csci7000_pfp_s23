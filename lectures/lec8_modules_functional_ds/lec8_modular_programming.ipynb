{
 "cells": [
  {
   "cell_type": "markdown",
   "metadata": {
    "slideshow": {
     "slide_type": "slide"
    }
   },
   "source": [
    "<center>\n",
    "\n",
    "<h1 style=\"text-align:center\"> Modules and Functional Data Structures </h1>\n",
    "<h2 style=\"text-align:center\"> CSCI7000-11 S23: Principles of Functional Programming </h2>\n",
    "</center>"
   ]
  },
  {
   "cell_type": "markdown",
   "metadata": {
    "slideshow": {
     "slide_type": "slide"
    }
   },
   "source": [
    "## Review\n",
    "\n",
    "* Previously\n",
    "  + How to build small programs\n",
    "  \n",
    "* This lecture\n",
    "  + How to build at scale: Structures, Signatures, Functors.\n",
    "  \n",
    "$\n",
    "\\require{color}\n",
    "\\newcommand{\\cred}[1]{{\\color{\\red}{\\text{#1}}}}\n",
    "\\newcommand{\\cgreen}[1]{{\\color{\\green}{\\text{#1}}}}\n",
    "$"
   ]
  },
  {
   "cell_type": "markdown",
   "metadata": {
    "slideshow": {
     "slide_type": "slide"
    }
   },
   "source": [
    "## Modularity\n",
    "\n",
    "* Code comprises of individual **Modules**\n",
    "* Developed separately\n",
    "  + Reason $\\cgreen{locally}$, not $\\cred{globally}$.\n",
    "* Clearly specified **Interfaces** for using the modules\n",
    "\n",
    "<center>\n",
    "\n",
    "<img src=\"modules.png\" width=250>\n",
    "</center>"
   ]
  },
  {
   "cell_type": "markdown",
   "metadata": {
    "slideshow": {
     "slide_type": "slide"
    }
   },
   "source": [
    "## Features of modularity\n",
    "\n",
    "* **Namespacing**\n",
    "  + Provide way to name a collection of related features (`List`, `Set`)\n",
    "  + Avoid name clashes with similarly named features from different collections (`insert` in `List` and `Set`)"
   ]
  },
  {
   "cell_type": "markdown",
   "metadata": {
    "slideshow": {
     "slide_type": "slide"
    }
   },
   "source": [
    "## Features of modularity\n",
    "\n",
    "* **Abstraction**\n",
    "  + Hide the details of implementation\n",
    "  + Avoid the user breaking invariants implicit in the code.\n",
    "    + Consider using a `List` as a stack (FIFO)\n",
    "    + User sorts the list which has no meaning in stacks.\n",
    "  + Transparently change the implementation without breaking the code of the client (i.e. user) of the module.\n",
    "    + Implement stack with a `List` rather than an `Array`"
   ]
  },
  {
   "cell_type": "markdown",
   "metadata": {
    "slideshow": {
     "slide_type": "slide"
    }
   },
   "source": [
    "## Features of modularity\n",
    "\n",
    "* **Code reuse**\n",
    "  + Avoid reimplementing features that are already present.\n",
    "  + Using a list as a stack (FIFO): Reuse functions such as `is_empty` and `length`."
   ]
  },
  {
   "cell_type": "markdown",
   "metadata": {
    "slideshow": {
     "slide_type": "slide"
    }
   },
   "source": [
    "## OCaml Features for Modularity\n",
    "\n",
    "* **Namespacing:** Structure\n",
    "* **Abstraction:** Signature\n",
    "* **Code Reuse:** Functors, includes, and sharing constraints."
   ]
  },
  {
   "cell_type": "markdown",
   "metadata": {
    "slideshow": {
     "slide_type": "slide"
    }
   },
   "source": [
    "## Structure\n",
    "\n",
    "* A collection of **definitions**.\n",
    "* Evaluated in order\n",
    "* Structure value can be bound to a name\n",
    "\n",
    "The syntax is \n",
    "\n",
    "```ocaml\n",
    "module Module_name = struct \n",
    "  (* collection of definitions *) \n",
    "end\n",
    "```"
   ]
  },
  {
   "cell_type": "markdown",
   "metadata": {
    "slideshow": {
     "slide_type": "slide"
    }
   },
   "source": [
    "## Structure\n",
    "\n",
    "+ Let us implement a purely functional stack using OCaml's built-in list data structure.\n",
    "+ In a purely functional data structure, \"update\" operations return a new version of the data structure.\n",
    "  + In a stack, push and pop return a new version of the stack."
   ]
  },
  {
   "cell_type": "code",
   "execution_count": 3,
   "metadata": {},
   "outputs": [
    {
     "data": {
      "text/plain": [
       "module Stack :\n",
       "  sig\n",
       "    val empty : 'a list\n",
       "    val push : 'a -> 'a list -> 'a list\n",
       "    val pop : 'a list -> ('a * 'a list) option\n",
       "    val depth : 'a list -> int\n",
       "  end\n"
      ]
     },
     "execution_count": 3,
     "metadata": {},
     "output_type": "execute_result"
    }
   ],
   "source": [
    "module Stack = struct\n",
    "  let empty = []\n",
    "  let push v s = v::s\n",
    "  let pop s = match s with\n",
    "  | [] -> None\n",
    "  | x::xs -> Some (x, xs)\n",
    "  let depth s = List.length s\n",
    "end"
   ]
  },
  {
   "cell_type": "markdown",
   "metadata": {
    "slideshow": {
     "slide_type": "slide"
    }
   },
   "source": [
    "## Structures provide namespacing"
   ]
  },
  {
   "cell_type": "code",
   "execution_count": null,
   "metadata": {},
   "outputs": [],
   "source": [
    "Stack.empty"
   ]
  },
  {
   "cell_type": "code",
   "execution_count": null,
   "metadata": {
    "scrolled": true
   },
   "outputs": [],
   "source": [
    "empty"
   ]
  },
  {
   "cell_type": "markdown",
   "metadata": {
    "slideshow": {
     "slide_type": "slide"
    }
   },
   "source": [
    "## Signature\n",
    "\n",
    "* A collection of **declarations**.\n",
    "* No evaluation, only used for type-checking. \n",
    "* Signature type can also be bound to a name. \n",
    "\n",
    "```ocaml\n",
    "module type Module_type_name = sig\n",
    "  (* collection of declaration *)\n",
    "end\n",
    "```"
   ]
  },
  {
   "cell_type": "markdown",
   "metadata": {
    "slideshow": {
     "slide_type": "slide"
    }
   },
   "source": [
    "## Stack Signature"
   ]
  },
  {
   "cell_type": "code",
   "execution_count": 2,
   "metadata": {
    "scrolled": true
   },
   "outputs": [
    {
     "data": {
      "text/plain": [
       "module type StackType =\n",
       "  sig\n",
       "    val empty : 'a list\n",
       "    val push : 'a -> 'a list -> 'a list\n",
       "    val pop : 'a list -> ('a * 'a list) option\n",
       "    val depth : 'a list -> int\n",
       "  end\n"
      ]
     },
     "execution_count": 2,
     "metadata": {},
     "output_type": "execute_result"
    }
   ],
   "source": [
    "module type StackType = sig\n",
    "  val empty : 'a list\n",
    "  val push : 'a -> 'a list -> 'a list\n",
    "  val pop : 'a list -> ('a * 'a list) option\n",
    "  val depth : 'a list -> int\n",
    "end"
   ]
  },
  {
   "cell_type": "markdown",
   "metadata": {
    "slideshow": {
     "slide_type": "slide"
    }
   },
   "source": [
    "## Handy Jupyter Functions \n",
    "\n",
    "Jupyter (really the OCaml top-level power Jupyter) has the following handy functions to display the modules and module signatures."
   ]
  },
  {
   "cell_type": "code",
   "execution_count": null,
   "metadata": {
    "scrolled": true
   },
   "outputs": [],
   "source": [
    "#show_module Stack"
   ]
  },
  {
   "cell_type": "code",
   "execution_count": null,
   "metadata": {},
   "outputs": [],
   "source": [
    "#show_module_type StackType"
   ]
  },
  {
   "cell_type": "markdown",
   "metadata": {
    "slideshow": {
     "slide_type": "slide"
    }
   },
   "source": [
    "## Explicit Signatures"
   ]
  },
  {
   "cell_type": "code",
   "execution_count": null,
   "metadata": {},
   "outputs": [],
   "source": [
    "module M : StackType = Stack"
   ]
  },
  {
   "cell_type": "markdown",
   "metadata": {
    "slideshow": {
     "slide_type": "slide"
    }
   },
   "source": [
    "## Hiding functionality with explicit signatures"
   ]
  },
  {
   "cell_type": "code",
   "execution_count": 4,
   "metadata": {},
   "outputs": [
    {
     "data": {
      "text/plain": [
       "module M : sig val empty : 'a list end\n"
      ]
     },
     "execution_count": 4,
     "metadata": {},
     "output_type": "execute_result"
    }
   ],
   "source": [
    "module M : (sig \n",
    "  val empty : 'a list \n",
    "end) = Stack"
   ]
  },
  {
   "cell_type": "code",
   "execution_count": null,
   "metadata": {},
   "outputs": [],
   "source": [
    "Stack.empty;;\n",
    "Stack.depth"
   ]
  },
  {
   "cell_type": "code",
   "execution_count": null,
   "metadata": {},
   "outputs": [],
   "source": [
    "M.empty;;\n",
    "M.depth"
   ]
  },
  {
   "cell_type": "markdown",
   "metadata": {
    "slideshow": {
     "slide_type": "slide"
    }
   },
   "source": [
    "## Opening modules\n",
    "\n",
    "* Use `open` to make available all the definitions from the module"
   ]
  },
  {
   "cell_type": "code",
   "execution_count": null,
   "metadata": {},
   "outputs": [],
   "source": [
    "open Stack"
   ]
  },
  {
   "cell_type": "code",
   "execution_count": null,
   "metadata": {},
   "outputs": [],
   "source": [
    "empty"
   ]
  },
  {
   "cell_type": "markdown",
   "metadata": {
    "slideshow": {
     "slide_type": "slide"
    }
   },
   "source": [
    "## Opening shadows earlier defintions"
   ]
  },
  {
   "cell_type": "code",
   "execution_count": null,
   "metadata": {},
   "outputs": [],
   "source": [
    "module M = struct let x = 10 end\n",
    "module N = struct let x = 20 end\n",
    "open M\n",
    "open N"
   ]
  },
  {
   "cell_type": "code",
   "execution_count": null,
   "metadata": {},
   "outputs": [],
   "source": [
    "x"
   ]
  },
  {
   "cell_type": "markdown",
   "metadata": {
    "slideshow": {
     "slide_type": "slide"
    }
   },
   "source": [
    "## Including module functionality\n",
    "\n",
    "* `include` allows new modules to be constructed by extending earlier modules (Code reuse)."
   ]
  },
  {
   "cell_type": "code",
   "execution_count": null,
   "metadata": {},
   "outputs": [],
   "source": [
    "module Stack = struct\n",
    "  include Stack\n",
    "  let is_empty s = match s with\n",
    "  | [] -> true\n",
    "  | _ -> false\n",
    "end"
   ]
  },
  {
   "cell_type": "markdown",
   "metadata": {
    "slideshow": {
     "slide_type": "slide"
    }
   },
   "source": [
    "## Include on signatures\n",
    "\n",
    "`include` also works on signatures to define other signatures."
   ]
  },
  {
   "cell_type": "code",
   "execution_count": null,
   "metadata": {},
   "outputs": [],
   "source": [
    "module type MT = sig\n",
    "  include StackType\n",
    "  val is_empty : 'a list -> bool\n",
    "end"
   ]
  },
  {
   "cell_type": "markdown",
   "metadata": {
    "slideshow": {
     "slide_type": "slide"
    }
   },
   "source": [
    "## Difference between Open and Include"
   ]
  },
  {
   "cell_type": "code",
   "execution_count": null,
   "metadata": {},
   "outputs": [],
   "source": [
    "module M1 = struct open Stack end;;\n",
    "module M2 = struct include Stack end"
   ]
  },
  {
   "cell_type": "markdown",
   "metadata": {
    "slideshow": {
     "slide_type": "fragment"
    }
   },
   "source": [
    "```ocaml\n",
    "module M1 = struct open Stack end\n",
    "``` \n",
    "does not export the fields of the `Stack` module, whereas\n",
    "```ocaml\n",
    "module M1 = struct include Stack end\n",
    "``` \n",
    "does."
   ]
  },
  {
   "cell_type": "markdown",
   "metadata": {
    "slideshow": {
     "slide_type": "slide"
    }
   },
   "source": [
    "## Abstract types\n",
    "\n",
    "* So far we have only seen how to collect definitions under a common name (Namespacing)\n",
    "  + The implementation details are still visible."
   ]
  },
  {
   "cell_type": "code",
   "execution_count": null,
   "metadata": {},
   "outputs": [],
   "source": [
    "let s = Stack.empty |> Stack.push 1 |> Stack.push 2 |> Stack.push 3"
   ]
  },
  {
   "cell_type": "markdown",
   "metadata": {
    "slideshow": {
     "slide_type": "fragment"
    }
   },
   "source": [
    "`s` is of type `int list`\n",
    "\n",
    "Can do non-sensical operations for a stack such as `List.sort`."
   ]
  },
  {
   "cell_type": "code",
   "execution_count": null,
   "metadata": {},
   "outputs": [],
   "source": [
    "List.sort (-) s"
   ]
  },
  {
   "cell_type": "markdown",
   "metadata": {
    "slideshow": {
     "slide_type": "slide"
    }
   },
   "source": [
    "## Abstract stack\n",
    "\n",
    "**Abstract** the type of stack such that only those operations allowed by the interface are applicable. \n",
    "\n",
    "Define the stack signature with abstract stack type."
   ]
  },
  {
   "cell_type": "code",
   "execution_count": 4,
   "metadata": {
    "scrolled": true
   },
   "outputs": [
    {
     "data": {
      "text/plain": [
       "module type AbsStackType =\n",
       "  sig\n",
       "    type 'a t\n",
       "    val empty : 'a t\n",
       "    val push : 'a -> 'a t -> 'a t\n",
       "    val pop : 'a t -> ('a * 'a t) option\n",
       "    val depth : 'a t -> int\n",
       "    val is_empty : 'a t -> bool\n",
       "  end\n"
      ]
     },
     "execution_count": 4,
     "metadata": {},
     "output_type": "execute_result"
    }
   ],
   "source": [
    "module type AbsStackType = sig\n",
    "  type 'a t (* abstract type *)\n",
    "  val empty    : 'a t\n",
    "  val push     : 'a -> 'a t -> 'a t\n",
    "  val pop      : 'a t -> ('a * 'a t) option\n",
    "  val depth    : 'a t -> int\n",
    "  val is_empty : 'a t -> bool\n",
    "end"
   ]
  },
  {
   "cell_type": "markdown",
   "metadata": {
    "slideshow": {
     "slide_type": "slide"
    }
   },
   "source": [
    "## Abstract stack"
   ]
  },
  {
   "cell_type": "code",
   "execution_count": null,
   "metadata": {},
   "outputs": [],
   "source": [
    "module AbsStack : AbsStackType = struct\n",
    "  type 'a t = 'a list\n",
    "  include Stack\n",
    "end"
   ]
  },
  {
   "cell_type": "code",
   "execution_count": null,
   "metadata": {},
   "outputs": [],
   "source": [
    "let s = AbsStack.empty |> AbsStack.push 1 |> AbsStack.push 2 |> AbsStack.push 3"
   ]
  },
  {
   "cell_type": "code",
   "execution_count": null,
   "metadata": {},
   "outputs": [],
   "source": [
    "AbsStack.pop s"
   ]
  },
  {
   "cell_type": "markdown",
   "metadata": {
    "slideshow": {
     "slide_type": "slide"
    }
   },
   "source": [
    "## Abstraction\n",
    "\n",
    "* Interfaces with abstract types are **contracts** between the *implementer* and the *user*.\n",
    "* User cannot violate the API\n",
    "  + No way to sort the internal list anymore.\n",
    "* Implementer can transparently change the internals of the implementation \n",
    "  + Implement the stack with an array rather than list\n",
    "  + As long as the same API is preserved, the user code does not break."
   ]
  },
  {
   "cell_type": "markdown",
   "metadata": {
    "slideshow": {
     "slide_type": "slide"
    }
   },
   "source": [
    "## Stack using user-defined list"
   ]
  },
  {
   "cell_type": "code",
   "execution_count": 3,
   "metadata": {},
   "outputs": [
    {
     "data": {
      "text/plain": [
       "module VariantStack :\n",
       "  sig\n",
       "    type 'a t = Nil | Cons of 'a * 'a t\n",
       "    val empty : 'a t\n",
       "    val depth_aux : int -> 'a t -> int\n",
       "    val depth : 'a t -> int\n",
       "    val push : 'a -> 'a t -> 'a t\n",
       "    val pop : 'a t -> ('a * 'a t) option\n",
       "    val is_empty : 'a t -> bool\n",
       "  end\n"
      ]
     },
     "execution_count": 3,
     "metadata": {},
     "output_type": "execute_result"
    }
   ],
   "source": [
    "module VariantStack = struct\n",
    "  type 'a t = \n",
    "  | Nil \n",
    "  | Cons of 'a * 'a t\n",
    "  \n",
    "  let empty = Nil\n",
    "  \n",
    "  let rec depth_aux acc l = match l with\n",
    "  | Nil -> acc\n",
    "  | Cons (x, xs) -> depth_aux (1+acc) xs\n",
    "  \n",
    "  let depth l = depth_aux 0 l\n",
    "  \n",
    "  let push v s = Cons (v,s)\n",
    "  \n",
    "  let pop s = match s with Nil -> None | Cons (x,xs) -> Some (x,xs)\n",
    "  \n",
    "  let is_empty s = match s with Nil -> true | _ -> false\n",
    "end"
   ]
  },
  {
   "cell_type": "markdown",
   "metadata": {
    "slideshow": {
     "slide_type": "slide"
    }
   },
   "source": [
    "## Abstracting the variant stack"
   ]
  },
  {
   "cell_type": "code",
   "execution_count": 5,
   "metadata": {},
   "outputs": [
    {
     "data": {
      "text/plain": [
       "module AbsVariantStack : AbsStackType\n"
      ]
     },
     "execution_count": 5,
     "metadata": {},
     "output_type": "execute_result"
    }
   ],
   "source": [
    "module AbsVariantStack : AbsStackType = VariantStack"
   ]
  },
  {
   "cell_type": "markdown",
   "metadata": {},
   "source": [
    "Wherever the user uses the `AbsStack`, we can replace that with `AbsVariantStack` and the user code wouldn't be able to tell the difference. "
   ]
  },
  {
   "cell_type": "markdown",
   "metadata": {
    "slideshow": {
     "slide_type": "slide"
    }
   },
   "source": [
    "## Two languages\n",
    "\n",
    "* OCaml is a stratified language.\n",
    "  + Values + Expressions and Types at term level.\n",
    "  + Structures and Signatures at module level.\n",
    "* Structures are (generally) not first-class in OCaml.\n",
    "  + OCaml has **first-class modules**, which we will not cover in this class.\n",
    "* What is the equivalent of functions at the module level?\n",
    "  + And why would we need it?\n",
    "* **Functors**\n",
    "  + Functions that take structures and return other structures."
   ]
  },
  {
   "cell_type": "markdown",
   "metadata": {
    "slideshow": {
     "slide_type": "slide"
    }
   },
   "source": [
    "## Identity functor\n",
    "\n",
    "The simplest function is the identity function"
   ]
  },
  {
   "cell_type": "code",
   "execution_count": 10,
   "metadata": {},
   "outputs": [
    {
     "data": {
      "text/plain": [
       "val id : int -> int = <fun>\n"
      ]
     },
     "execution_count": 10,
     "metadata": {},
     "output_type": "execute_result"
    }
   ],
   "source": [
    "let id (x : int) : int = x"
   ]
  },
  {
   "cell_type": "markdown",
   "metadata": {
    "slideshow": {
     "slide_type": "fragment"
    }
   },
   "source": [
    "At the module level, we can correspondingly define"
   ]
  },
  {
   "cell_type": "code",
   "execution_count": 12,
   "metadata": {},
   "outputs": [
    {
     "data": {
      "text/plain": [
       "module type T = sig type t val v : t end\n"
      ]
     },
     "execution_count": 12,
     "metadata": {},
     "output_type": "execute_result"
    }
   ],
   "source": [
    "module type T = sig \n",
    "  type t \n",
    "  val v : t \n",
    "end"
   ]
  },
  {
   "cell_type": "code",
   "execution_count": 13,
   "metadata": {},
   "outputs": [
    {
     "data": {
      "text/plain": [
       "module Id : functor (X : T) -> T\n"
      ]
     },
     "execution_count": 13,
     "metadata": {},
     "output_type": "execute_result"
    }
   ],
   "source": [
    "module Id (X : T) : T = X"
   ]
  },
  {
   "cell_type": "markdown",
   "metadata": {
    "slideshow": {
     "slide_type": "slide"
    }
   },
   "source": [
    "## Applying Identity functor"
   ]
  },
  {
   "cell_type": "code",
   "execution_count": 14,
   "metadata": {},
   "outputs": [
    {
     "data": {
      "text/plain": [
       "- : int = 5\n"
      ]
     },
     "execution_count": 14,
     "metadata": {},
     "output_type": "execute_result"
    }
   ],
   "source": [
    "id 5"
   ]
  },
  {
   "cell_type": "markdown",
   "metadata": {},
   "source": [
    "Similarly:"
   ]
  },
  {
   "cell_type": "code",
   "execution_count": 15,
   "metadata": {},
   "outputs": [
    {
     "data": {
      "text/plain": [
       "module M : sig type t = int val v : int end\n"
      ]
     },
     "execution_count": 15,
     "metadata": {},
     "output_type": "execute_result"
    }
   ],
   "source": [
    "module M = struct \n",
    "  type t = int\n",
    "  let v = 10\n",
    "end"
   ]
  },
  {
   "cell_type": "code",
   "execution_count": 16,
   "metadata": {},
   "outputs": [
    {
     "data": {
      "text/plain": [
       "module M' : sig type t = Id(M).t val v : t end\n"
      ]
     },
     "execution_count": 16,
     "metadata": {},
     "output_type": "execute_result"
    }
   ],
   "source": [
    "module M' = Id(M)"
   ]
  },
  {
   "cell_type": "markdown",
   "metadata": {
    "slideshow": {
     "slide_type": "slide"
    }
   },
   "source": [
    "## Type equality under abstraction\n",
    "\n",
    "* We know `M` and `M'` are the same modules.\n",
    "  + Let's ask whether `M.v = M'.v`."
   ]
  },
  {
   "cell_type": "code",
   "execution_count": 17,
   "metadata": {
    "scrolled": true
   },
   "outputs": [
    {
     "ename": "error",
     "evalue": "compile_error",
     "output_type": "error",
     "traceback": [
      "File \"[17]\", line 1, characters 6-10:\n1 | M.v = M'.v\n          ^^^^\nError: This expression has type M'.t = Id(M).t\n       but an expression was expected of type int\n"
     ]
    }
   ],
   "source": [
    "M.v = M'.v"
   ]
  },
  {
   "cell_type": "markdown",
   "metadata": {},
   "source": [
    "* While the compiler knows that the type `M.t` is `int`, the type `M'.t` (return type of functor) is **abstract**\n",
    "  + Compiler does not know that `M.t` is the same type as `M'.t`. "
   ]
  },
  {
   "cell_type": "markdown",
   "metadata": {
    "slideshow": {
     "slide_type": "slide"
    }
   },
   "source": [
    "## Sharing constraints\n",
    "\n",
    "* Use **sharing constraints** to let the compiler know about type equalities.\n",
    "* Sharing constraints make the module types _less abstract / more concrete_. \n",
    "\n",
    "Consider the original identity functor definition"
   ]
  },
  {
   "cell_type": "code",
   "execution_count": 18,
   "metadata": {},
   "outputs": [
    {
     "data": {
      "text/plain": [
       "module Id : functor (X : T) -> T\n"
      ]
     },
     "execution_count": 18,
     "metadata": {},
     "output_type": "execute_result"
    }
   ],
   "source": [
    "module Id (X : T) : T = X"
   ]
  },
  {
   "cell_type": "markdown",
   "metadata": {
    "slideshow": {
     "slide_type": "fragment"
    }
   },
   "source": [
    "Now consider the identity functor with sharing constraint on the return type `T`"
   ]
  },
  {
   "cell_type": "code",
   "execution_count": 20,
   "metadata": {},
   "outputs": [
    {
     "data": {
      "text/plain": [
       "module Id2 : functor (X : T) -> sig type t = X.t val v : t end\n"
      ]
     },
     "execution_count": 20,
     "metadata": {},
     "output_type": "execute_result"
    }
   ],
   "source": [
    "module Id2 (X : T) : (T with type t = X.t)\n",
    "  = X"
   ]
  },
  {
   "cell_type": "markdown",
   "metadata": {
    "slideshow": {
     "slide_type": "slide"
    }
   },
   "source": [
    "## Sharing Constraints"
   ]
  },
  {
   "cell_type": "code",
   "execution_count": 23,
   "metadata": {},
   "outputs": [
    {
     "data": {
      "text/plain": [
       "module M2 : sig type t = M.t val v : t end\n"
      ]
     },
     "execution_count": 23,
     "metadata": {},
     "output_type": "execute_result"
    }
   ],
   "source": [
    "module M2 = Id2(M)"
   ]
  },
  {
   "cell_type": "code",
   "execution_count": 24,
   "metadata": {},
   "outputs": [
    {
     "data": {
      "text/plain": [
       "- : bool = true\n"
      ]
     },
     "execution_count": 24,
     "metadata": {},
     "output_type": "execute_result"
    }
   ],
   "source": [
    "M2.v = M.v"
   ]
  },
  {
   "cell_type": "markdown",
   "metadata": {
    "slideshow": {
     "slide_type": "slide"
    }
   },
   "source": [
    "## Multiple sharing constraints"
   ]
  },
  {
   "cell_type": "code",
   "execution_count": 25,
   "metadata": {},
   "outputs": [
    {
     "data": {
      "text/plain": [
       "module type T2 = sig type t type u end\n"
      ]
     },
     "execution_count": 25,
     "metadata": {},
     "output_type": "execute_result"
    },
    {
     "data": {
      "text/plain": [
       "module Id2 : functor (X2 : T2) -> sig type t = X2.t type u = X2.u end\n"
      ]
     },
     "execution_count": 25,
     "metadata": {},
     "output_type": "execute_result"
    }
   ],
   "source": [
    "module type T2 = sig \n",
    "  type t\n",
    "  type u \n",
    "end\n",
    "\n",
    "module Id2 (X2 : T2) : \n",
    "  (T2 with type t = X2.t\n",
    "       and type u = X2.u) = struct \n",
    "  type t = X2.t\n",
    "  type u = X2.u\n",
    "end"
   ]
  },
  {
   "cell_type": "markdown",
   "metadata": {
    "slideshow": {
     "slide_type": "slide"
    }
   },
   "source": [
    "## Functor Example: Serializable List\n",
    "\n",
    "* Write a `string_of_list` and `list_of_string` functions for _any typed_ list.\n",
    "    + We need to know how to convert the list element to string and vice-versa.\n",
    "* For an `int list`, we can write:"
   ]
  },
  {
   "cell_type": "code",
   "execution_count": 26,
   "metadata": {},
   "outputs": [
    {
     "data": {
      "text/plain": [
       "val string_of_list : int list -> string = <fun>\n"
      ]
     },
     "execution_count": 26,
     "metadata": {},
     "output_type": "execute_result"
    }
   ],
   "source": [
    "let string_of_list l = \n",
    "  let rec loop acc l = match l with\n",
    "    | [] -> acc\n",
    "    | [x] -> acc ^ (string_of_int x)\n",
    "    | x::xs -> loop (acc ^ (string_of_int x) ^ \";\") xs\n",
    "  in\n",
    "  \"[\" ^ (loop \"\" l) ^ \"]\"  "
   ]
  },
  {
   "cell_type": "code",
   "execution_count": 27,
   "metadata": {},
   "outputs": [
    {
     "data": {
      "text/plain": [
       "- : string = \"[1;2;3]\"\n"
      ]
     },
     "execution_count": 27,
     "metadata": {},
     "output_type": "execute_result"
    }
   ],
   "source": [
    "string_of_list [1;2;3]"
   ]
  },
  {
   "cell_type": "markdown",
   "metadata": {
    "slideshow": {
     "slide_type": "slide"
    }
   },
   "source": [
    "## Functor Example: Serializable List"
   ]
  },
  {
   "cell_type": "code",
   "execution_count": 28,
   "metadata": {},
   "outputs": [
    {
     "data": {
      "text/plain": [
       "val list_of_string : string -> int list = <fun>\n"
      ]
     },
     "execution_count": 28,
     "metadata": {},
     "output_type": "execute_result"
    }
   ],
   "source": [
    "let list_of_string s =\n",
    "  let s = String.sub s 1 (String.length s - 2) in\n",
    "  List.map int_of_string (String.split_on_char ';' s)"
   ]
  },
  {
   "cell_type": "code",
   "execution_count": 29,
   "metadata": {},
   "outputs": [
    {
     "data": {
      "text/plain": [
       "- : int list = [1; 2; 3]\n"
      ]
     },
     "execution_count": 29,
     "metadata": {},
     "output_type": "execute_result"
    }
   ],
   "source": [
    "list_of_string \"[1;2;3]\""
   ]
  },
  {
   "cell_type": "markdown",
   "metadata": {
    "slideshow": {
     "slide_type": "slide"
    }
   },
   "source": [
    "## Generalise\n",
    "\n",
    "What about float, tuples, records, etc? Use **Functors**."
   ]
  },
  {
   "cell_type": "code",
   "execution_count": 30,
   "metadata": {},
   "outputs": [
    {
     "data": {
      "text/plain": [
       "module type Serializable =\n",
       "  sig type t val t_of_string : string -> t val string_of_t : t -> string end\n"
      ]
     },
     "execution_count": 30,
     "metadata": {},
     "output_type": "execute_result"
    }
   ],
   "source": [
    "module type Serializable = sig\n",
    "  type t\n",
    "  val t_of_string : string -> t\n",
    "  val string_of_t : t -> string\n",
    "end"
   ]
  },
  {
   "cell_type": "markdown",
   "metadata": {
    "slideshow": {
     "slide_type": "slide"
    }
   },
   "source": [
    "## Generalise\n",
    "\n",
    "What about float, tuples, records, etc? Use **Functors**."
   ]
  },
  {
   "cell_type": "code",
   "execution_count": 31,
   "metadata": {},
   "outputs": [
    {
     "data": {
      "text/plain": [
       "module SerializableList :\n",
       "  functor (C : Serializable) ->\n",
       "    sig\n",
       "      type t = C.t list\n",
       "      val string_of_t : C.t list -> string\n",
       "      val t_of_string : string -> C.t list\n",
       "    end\n"
      ]
     },
     "execution_count": 31,
     "metadata": {},
     "output_type": "execute_result"
    }
   ],
   "source": [
    "module SerializableList (C : Serializable) = struct\n",
    "  type t = C.t list\n",
    "  \n",
    "  let string_of_t l = \n",
    "    let rec loop acc l = match l with\n",
    "      | [] -> acc\n",
    "      | [x] -> acc ^ (C.string_of_t x)\n",
    "      | x::xs -> loop (acc ^ (C.string_of_t x) ^ \";\") xs\n",
    "    in\n",
    "    \"[\" ^ (loop \"\" l) ^ \"]\"  \n",
    "    \n",
    "  let t_of_string s =\n",
    "    let s = String.sub s 1 (String.length s - 2) in\n",
    "    List.map C.t_of_string (String.split_on_char ';' s)\n",
    "end"
   ]
  },
  {
   "cell_type": "markdown",
   "metadata": {
    "slideshow": {
     "slide_type": "slide"
    }
   },
   "source": [
    "## SerializableFloatList"
   ]
  },
  {
   "cell_type": "code",
   "execution_count": 32,
   "metadata": {},
   "outputs": [
    {
     "data": {
      "text/plain": [
       "module SerializableFloatList :\n",
       "  sig\n",
       "    type t = float list\n",
       "    val string_of_t : float list -> string\n",
       "    val t_of_string : string -> float list\n",
       "  end\n"
      ]
     },
     "execution_count": 32,
     "metadata": {},
     "output_type": "execute_result"
    }
   ],
   "source": [
    "module SerializableFloatList = SerializableList (struct \n",
    "  type t = float\n",
    "  let t_of_string = float_of_string\n",
    "  let string_of_t = string_of_float\n",
    "end)"
   ]
  },
  {
   "cell_type": "markdown",
   "metadata": {
    "slideshow": {
     "slide_type": "slide"
    }
   },
   "source": [
    "## SerializableFloatList"
   ]
  },
  {
   "cell_type": "code",
   "execution_count": 33,
   "metadata": {},
   "outputs": [
    {
     "data": {
      "text/plain": [
       "- : string = \"[1.4;2.3;3.4]\"\n"
      ]
     },
     "execution_count": 33,
     "metadata": {},
     "output_type": "execute_result"
    }
   ],
   "source": [
    "SerializableFloatList.string_of_t [1.4;2.3;3.4]"
   ]
  },
  {
   "cell_type": "code",
   "execution_count": 34,
   "metadata": {},
   "outputs": [
    {
     "data": {
      "text/plain": [
       "- : float list = [1.4; 2.3; 3.4]\n"
      ]
     },
     "execution_count": 34,
     "metadata": {},
     "output_type": "execute_result"
    }
   ],
   "source": [
    "SerializableFloatList.t_of_string \"[1.4;2.3;3.4]\""
   ]
  },
  {
   "cell_type": "markdown",
   "metadata": {
    "slideshow": {
     "slide_type": "slide"
    }
   },
   "source": [
    "## SerializableStringList"
   ]
  },
  {
   "cell_type": "code",
   "execution_count": 35,
   "metadata": {
    "scrolled": true
   },
   "outputs": [
    {
     "data": {
      "text/plain": [
       "module SerializableStringList :\n",
       "  sig\n",
       "    type t = string list\n",
       "    val string_of_t : string list -> string\n",
       "    val t_of_string : string -> string list\n",
       "  end\n"
      ]
     },
     "execution_count": 35,
     "metadata": {},
     "output_type": "execute_result"
    }
   ],
   "source": [
    "module SerializableStringList = SerializableList (struct \n",
    "  type t = string\n",
    "  let t_of_string x = x\n",
    "  let string_of_t x = x\n",
    "end)"
   ]
  },
  {
   "cell_type": "markdown",
   "metadata": {
    "slideshow": {
     "slide_type": "slide"
    }
   },
   "source": [
    "## SerializableStringList"
   ]
  },
  {
   "cell_type": "code",
   "execution_count": 36,
   "metadata": {},
   "outputs": [
    {
     "data": {
      "text/plain": [
       "- : string = \"[Et;tu,;Brute?]\"\n"
      ]
     },
     "execution_count": 36,
     "metadata": {},
     "output_type": "execute_result"
    }
   ],
   "source": [
    "SerializableStringList.string_of_t [\"Et\";\"tu,\";\"Brute?\"]"
   ]
  },
  {
   "cell_type": "code",
   "execution_count": 37,
   "metadata": {},
   "outputs": [
    {
     "data": {
      "text/plain": [
       "- : string list = [\"Et\"; \"tu,\"; \"Brute?\"]\n"
      ]
     },
     "execution_count": 37,
     "metadata": {},
     "output_type": "execute_result"
    }
   ],
   "source": [
    "SerializableStringList.t_of_string \"[Et;tu,;Brute?]\""
   ]
  },
  {
   "cell_type": "markdown",
   "metadata": {
    "slideshow": {
     "slide_type": "slide"
    }
   },
   "source": [
    "## Behold the power of abstraction\n",
    "\n",
    "Observe that the signature of `SerializableFloatList` is also `Serializable`."
   ]
  },
  {
   "cell_type": "code",
   "execution_count": 38,
   "metadata": {
    "scrolled": true
   },
   "outputs": [
    {
     "data": {
      "text/plain": [
       "module SerializableFloatListList :\n",
       "  sig\n",
       "    type t = SerializableFloatList.t list\n",
       "    val string_of_t : SerializableFloatList.t list -> string\n",
       "    val t_of_string : string -> SerializableFloatList.t list\n",
       "  end\n"
      ]
     },
     "execution_count": 38,
     "metadata": {},
     "output_type": "execute_result"
    }
   ],
   "source": [
    "module SerializableFloatListList = SerializableList (SerializableFloatList)"
   ]
  },
  {
   "cell_type": "code",
   "execution_count": 39,
   "metadata": {},
   "outputs": [
    {
     "data": {
      "text/plain": [
       "- : string = \"[[1.1];[2.1;2.2];[3.1;3.2;3.3]]\"\n"
      ]
     },
     "execution_count": 39,
     "metadata": {},
     "output_type": "execute_result"
    }
   ],
   "source": [
    "SerializableFloatListList.string_of_t [[1.1]; [2.1;2.2]; [3.1;3.2;3.3]]"
   ]
  }
 ],
 "metadata": {
  "celltoolbar": "Slideshow",
  "kernelspec": {
   "display_name": "OCaml 4.12.0",
   "language": "OCaml",
   "name": "ocaml-jupyter"
  },
  "language_info": {
   "codemirror_mode": "text/x-ocaml",
   "file_extension": ".ml",
   "mimetype": "text/x-ocaml",
   "name": "OCaml",
   "nbconverter_exporter": null,
   "pygments_lexer": "OCaml",
   "version": "4.12.0"
  }
 },
 "nbformat": 4,
 "nbformat_minor": 4
}
