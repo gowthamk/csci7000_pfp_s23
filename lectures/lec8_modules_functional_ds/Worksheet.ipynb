{
 "cells": [
  {
   "cell_type": "markdown",
   "id": "f0e80474-936c-4716-b940-4a87e060c00b",
   "metadata": {},
   "source": [
    "<center>\n",
    "\n",
    "<h1 style=\"text-align:center\"> Modules and Functional Data Structures </h1>\n",
    "<h2 style=\"text-align:center\"> CSCI7000-11 S23: Principles of Functional Programming </h2>\n",
    "</center>"
   ]
  },
  {
   "cell_type": "markdown",
   "id": "0229a964-5034-439d-ad9e-f9550ecc1324",
   "metadata": {},
   "source": [
    "## Review\n",
    "\n",
    "* Previously\n",
    "  + How to build small programs\n",
    "  \n",
    "* This lecture\n",
    "  + How to build at scale: Structures, Signatures, Functors.\n",
    "  + Functional Data Structures\n",
    "  \n",
    "$\n",
    "\\require{color}\n",
    "\\newcommand{\\cred}[1]{{\\color{\\red}{\\text{#1}}}}\n",
    "\\newcommand{\\cgreen}[1]{{\\color{\\green}{\\text{#1}}}}\n",
    "$"
   ]
  },
  {
   "cell_type": "code",
   "execution_count": 2,
   "id": "582fe973-1ada-4ab6-943b-76bffdb9402a",
   "metadata": {},
   "outputs": [
    {
     "data": {
      "text/plain": [
       "type 'a queue = 'a list\n"
      ]
     },
     "execution_count": 2,
     "metadata": {},
     "output_type": "execute_result"
    }
   ],
   "source": [
    "type 'a queue = 'a list"
   ]
  },
  {
   "cell_type": "code",
   "execution_count": 3,
   "id": "65bde582-ce5e-4944-b616-db38f7a847f9",
   "metadata": {},
   "outputs": [
    {
     "data": {
      "text/plain": [
       "val push : 'a -> 'a queue -> 'a queue = <fun>\n"
      ]
     },
     "execution_count": 3,
     "metadata": {},
     "output_type": "execute_result"
    }
   ],
   "source": [
    "let rec push (x:'a) (q: 'a queue) : 'a queue = q@[x] "
   ]
  },
  {
   "cell_type": "code",
   "execution_count": 4,
   "id": "86fedad7-35f6-4a6f-8192-4ca7aad256de",
   "metadata": {},
   "outputs": [
    {
     "data": {
      "text/plain": [
       "val pop : 'a queue -> 'a * 'a queue = <fun>\n"
      ]
     },
     "execution_count": 4,
     "metadata": {},
     "output_type": "execute_result"
    }
   ],
   "source": [
    "let rec pop (q: 'a queue) : ('a*'a queue) = match q with\n",
    "  | [] -> raise (Invalid_argument \"queue is empty!\")\n",
    "  | h::t -> (h,t)"
   ]
  },
  {
   "cell_type": "code",
   "execution_count": 5,
   "id": "67ccf348-db97-4eb1-878b-af2749ffe1f4",
   "metadata": {},
   "outputs": [
    {
     "data": {
      "text/plain": [
       "type 'a queue = QNil | QCons of 'a queue * 'a\n"
      ]
     },
     "execution_count": 5,
     "metadata": {},
     "output_type": "execute_result"
    }
   ],
   "source": [
    "type 'a queue = \n",
    " | QNil\n",
    " | QCons of 'a queue * 'a"
   ]
  },
  {
   "cell_type": "code",
   "execution_count": 6,
   "id": "ea020753-4df5-409c-8b53-85352631ea4e",
   "metadata": {},
   "outputs": [
    {
     "data": {
      "text/plain": [
       "type 'a queue = 'a list * 'a list\n"
      ]
     },
     "execution_count": 6,
     "metadata": {},
     "output_type": "execute_result"
    }
   ],
   "source": [
    "(*\n",
    " Idea: implement a queue as a pair of lists\n",
    "  * when q = (f,r), the real queue is f @ (List.rev r)\n",
    "  * E.g: when q = ([3;9;1], [5;2;10]), the actual queue is [3;9;1;10;2;5]\n",
    "*)\n",
    "\n",
    "type 'a queue = 'a list * 'a list"
   ]
  },
  {
   "cell_type": "code",
   "execution_count": 7,
   "id": "48d53d6f-9f91-4fc4-b7a5-1dcf33520f54",
   "metadata": {},
   "outputs": [
    {
     "data": {
      "text/plain": [
       "val push : 'a queue -> 'a -> 'a queue = <fun>\n"
      ]
     },
     "execution_count": 7,
     "metadata": {},
     "output_type": "execute_result"
    }
   ],
   "source": [
    "let push (q:'a queue) (x:'a) : 'a queue = match q with\n",
    " | ([],[]) -> ([x],[])\n",
    " | (f,r) -> (f, x::r)"
   ]
  },
  {
   "cell_type": "code",
   "execution_count": 8,
   "id": "c5da57f3-c5ef-4954-81b9-53a39d8ad69a",
   "metadata": {},
   "outputs": [
    {
     "data": {
      "text/plain": [
       "val pop : 'a queue -> 'a * 'a queue = <fun>\n"
      ]
     },
     "execution_count": 8,
     "metadata": {},
     "output_type": "execute_result"
    }
   ],
   "source": [
    "let pop (q: 'a queue) : ('a*'a queue) = match q with\n",
    "  | ([],[]) -> raise (Invalid_argument \"empty queue!\")\n",
    "  | ([x],r) ->\n",
    "      let popped_el = x in\n",
    "      let f' = List.rev r in\n",
    "      let r' = [] in\n",
    "      (popped_el, (f',r'))\n",
    "  | ([], r) -> failwith \"This case cannot happen!\"\n",
    "  | (h::t,r) -> (h, (t,r))"
   ]
  },
  {
   "cell_type": "code",
   "execution_count": 9,
   "id": "9db833c1-1636-4322-9d25-084dcc21d3ce",
   "metadata": {},
   "outputs": [
    {
     "data": {
      "text/plain": [
       "val empty_queue : unit -> 'a queue = <fun>\n"
      ]
     },
     "execution_count": 9,
     "metadata": {},
     "output_type": "execute_result"
    }
   ],
   "source": [
    "let empty_queue () : 'a queue = ([],[])"
   ]
  },
  {
   "cell_type": "code",
   "execution_count": 10,
   "id": "f8a82399-d131-4f61-8818-1d77130cee17",
   "metadata": {},
   "outputs": [
    {
     "data": {
      "text/plain": [
       "- : int * int queue = (3, ([4], []))\n"
      ]
     },
     "execution_count": 10,
     "metadata": {},
     "output_type": "execute_result"
    }
   ],
   "source": [
    "let q1 = empty_queue () in\n",
    "let q2 = push q1 3 in\n",
    "let q3 = push q2 4 in\n",
    "let (el,q4) = pop q3 in\n",
    "(el, q4)"
   ]
  },
  {
   "cell_type": "code",
   "execution_count": 11,
   "id": "54e1e9a2-be92-469b-9cc7-ee1c726cd604",
   "metadata": {},
   "outputs": [
    {
     "data": {
      "text/plain": [
       "module type QUEUE =\n",
       "  sig\n",
       "    type 'a t\n",
       "    val empty : unit -> 'a t\n",
       "    val pop : 'a t -> 'a * 'a t\n",
       "    val push : 'a t -> 'a -> 'a t\n",
       "    val to_string : 'a t -> string\n",
       "  end\n"
      ]
     },
     "execution_count": 11,
     "metadata": {},
     "output_type": "execute_result"
    }
   ],
   "source": [
    "(*\n",
    "  Abstract interface (signature) for queue data structure.\n",
    "  Captures our desiderata for the data structure.\n",
    "*)\n",
    "module type QUEUE = sig\n",
    "  type 'a t\n",
    "  val empty : unit -> 'a t\n",
    "  val pop: 'a t -> ('a * 'a t) \n",
    "  val push: 'a t -> 'a -> 'a t\n",
    "  val to_string: 'a t -> string\n",
    "end"
   ]
  },
  {
   "cell_type": "code",
   "execution_count": 12,
   "id": "8013f387-fc13-4314-97be-075e68822dda",
   "metadata": {},
   "outputs": [
    {
     "data": {
      "text/plain": [
       "module Queue : QUEUE\n"
      ]
     },
     "execution_count": 12,
     "metadata": {},
     "output_type": "execute_result"
    }
   ],
   "source": [
    "module Queue: QUEUE = struct\n",
    "  type 'a t = 'a list * 'a list\n",
    "  \n",
    "  let empty () = ([],[])\n",
    "  \n",
    "  let push (q:'a queue) (x:'a) : 'a queue = match q with\n",
    "   | ([],[]) -> ([x],[])\n",
    "   | (f,r) -> (f, x::r)\n",
    " \n",
    " let pop (q: 'a queue) : ('a*'a queue) = match q with\n",
    "  | ([],[]) -> raise (Invalid_argument \"empty queue!\")\n",
    "  | ([x],r) ->\n",
    "      let popped_el = x in\n",
    "      let f' = List.rev r in\n",
    "      let r' = [] in\n",
    "      (popped_el, (f',r'))\n",
    "  | ([], r) -> failwith \"This case cannot happen!\"\n",
    "  | (h::t,r) -> (h, (t,r))\n",
    "\n",
    " let to_string q = failwith \"Not implemented!\"\n",
    " \n",
    "end"
   ]
  },
  {
   "cell_type": "code",
   "execution_count": 13,
   "id": "822ef610-2aee-4bff-8128-2d02957012ac",
   "metadata": {},
   "outputs": [
    {
     "data": {
      "text/plain": [
       "val q1 : int Queue.t = <abstr>\n"
      ]
     },
     "execution_count": 13,
     "metadata": {},
     "output_type": "execute_result"
    }
   ],
   "source": [
    "\n",
    "let (q1: int Queue.t) = Queue.empty ()\n"
   ]
  },
  {
   "cell_type": "code",
   "execution_count": 14,
   "id": "515b0e95-4403-46bf-a3c3-92e1eb201817",
   "metadata": {},
   "outputs": [
    {
     "data": {
      "text/plain": [
       "val q2 : int Queue.t = <abstr>\n"
      ]
     },
     "execution_count": 14,
     "metadata": {},
     "output_type": "execute_result"
    }
   ],
   "source": [
    "let (q2: int Queue.t) = Queue.push q1 3"
   ]
  },
  {
   "cell_type": "code",
   "execution_count": 15,
   "id": "3b7e7b0b-443d-4f09-955d-61fd5a29abec",
   "metadata": {},
   "outputs": [
    {
     "ename": "error",
     "evalue": "compile_error",
     "output_type": "error",
     "traceback": [
      "File \"[15]\", line 2, characters 4-9:\n2 |   | (f,r) -> f\n        ^^^^^\nError: This pattern matches values of type 'a * 'b\n       but a pattern was expected which matches values of type int Queue.t\n"
     ]
    }
   ],
   "source": [
    "match q2 with \n",
    "  | (f,r) -> f"
   ]
  },
  {
   "cell_type": "code",
   "execution_count": 20,
   "id": "7b582b59-33d8-4cf1-8196-263b4bd0ba9e",
   "metadata": {},
   "outputs": [
    {
     "data": {
      "text/plain": [
       "module type SET =\n",
       "  sig\n",
       "    type 'a t\n",
       "    val empty : unit -> 'a t\n",
       "    val insert : 'a t -> 'a -> 'a t\n",
       "    val is_empty : 'a t -> bool\n",
       "    val exists : 'a t -> 'a -> bool\n",
       "  end\n"
      ]
     },
     "execution_count": 20,
     "metadata": {},
     "output_type": "execute_result"
    }
   ],
   "source": [
    "module type SET = sig\n",
    "  type 'a t\n",
    "  val empty: unit -> 'a t\n",
    "  val insert: 'a t -> 'a -> 'a t\n",
    "  val is_empty: 'a t -> bool\n",
    "  val exists: 'a t -> 'a -> bool\n",
    "end"
   ]
  },
  {
   "cell_type": "code",
   "execution_count": 34,
   "id": "02c31492-d2b4-4b8a-9055-52eb516d0e89",
   "metadata": {},
   "outputs": [
    {
     "data": {
      "text/plain": [
       "module type SET =\n",
       "  sig\n",
       "    type t\n",
       "    module S : COMPARABLE\n",
       "    val empty : unit -> t\n",
       "    val insert : t -> S.t -> t\n",
       "    val is_empty : t -> bool\n",
       "    val exists : t -> S.t -> bool\n",
       "  end\n"
      ]
     },
     "execution_count": 34,
     "metadata": {},
     "output_type": "execute_result"
    }
   ],
   "source": [
    "module type SET = sig\n",
    "  type t\n",
    "  module S:COMPARABLE\n",
    "  val empty: unit -> t\n",
    "  val insert: t -> S.t -> t\n",
    "  val is_empty: t -> bool\n",
    "  val exists: t -> S.t -> bool\n",
    "end"
   ]
  },
  {
   "cell_type": "code",
   "execution_count": 22,
   "id": "eef0f3b7-a5ee-4de2-a274-0bbc09dce39c",
   "metadata": {},
   "outputs": [
    {
     "data": {
      "text/plain": [
       "module type COMPARABLE = sig type t val compare : t -> t -> int end\n"
      ]
     },
     "execution_count": 22,
     "metadata": {},
     "output_type": "execute_result"
    }
   ],
   "source": [
    "module type COMPARABLE = sig\n",
    "  type t\n",
    "  val compare: t -> t -> int\n",
    "end"
   ]
  },
  {
   "cell_type": "code",
   "execution_count": 36,
   "id": "eca4b505-9243-4be2-82cb-521559f241a2",
   "metadata": {},
   "outputs": [
    {
     "data": {
      "text/plain": [
       "module SearchTree : functor (S : COMPARABLE) -> SET\n"
      ]
     },
     "execution_count": 36,
     "metadata": {},
     "output_type": "execute_result"
    }
   ],
   "source": [
    "(*\n",
    "  We have constrained polymorphism in search tree.\n",
    "  Instead of trees of containing values of *any* type, we now\n",
    "  have trees containing values that are of any type that is comparable.\n",
    "*)\n",
    "\n",
    "module SearchTree (S: COMPARABLE):SET = struct\n",
    "\n",
    "  module S = S\n",
    "\n",
    "  type t = \n",
    "    | Leaf\n",
    "    | Branch of t * S.t * t\n",
    "    \n",
    "  let empty () = Leaf\n",
    "    \n",
    "  let rec insert t x = match t with\n",
    "   | Leaf -> Branch(Leaf, x, Leaf)\n",
    "   | Branch (lt, y, rt) -> \n",
    "       if S.compare x y <= 0 then Branch(insert lt x, y, rt)\n",
    "       else Branch(lt, y, insert rt x)\n",
    "       \n",
    "  let is_empty t = match t with\n",
    "   | Leaf -> true\n",
    "   | _ -> false\n",
    "   \n",
    "  let rec exists t x  = failwith \"not impl.\"\n",
    "end"
   ]
  },
  {
   "cell_type": "code",
   "execution_count": 19,
   "id": "5cc5fe18-77f2-44a2-927f-f719938b0ea8",
   "metadata": {},
   "outputs": [
    {
     "data": {
      "text/plain": [
       "- : 'a -> 'a -> bool = <fun>\n"
      ]
     },
     "execution_count": 19,
     "metadata": {},
     "output_type": "execute_result"
    }
   ],
   "source": [
    "(<=)"
   ]
  },
  {
   "cell_type": "code",
   "execution_count": 26,
   "id": "b45f1d10-4ab7-4bec-a7c9-30d25a830829",
   "metadata": {},
   "outputs": [
    {
     "data": {
      "text/plain": [
       "module ComparableString :\n",
       "  sig type t = string val compare : 'a -> 'a -> int end\n"
      ]
     },
     "execution_count": 26,
     "metadata": {},
     "output_type": "execute_result"
    }
   ],
   "source": [
    "module ComparableString = struct\n",
    "  type t = string\n",
    "  let compare s1 s2 = \n",
    "      if s1 < s2 then 0-1 \n",
    "      else if s1 = s2 then 0 \n",
    "      else 1\n",
    "end"
   ]
  },
  {
   "cell_type": "code",
   "execution_count": 29,
   "id": "6a438208-67be-487b-bcbb-b7d7e4ec48d4",
   "metadata": {},
   "outputs": [
    {
     "data": {
      "text/plain": [
       "module TreeOfStrings :\n",
       "  sig\n",
       "    type t = SearchTree(String).t = Leaf | Branch of t * String.t * t\n",
       "    val empty : unit -> t\n",
       "    val insert : t -> String.t -> t\n",
       "    val is_empty : t -> bool\n",
       "    val exists : 'a -> 'b -> 'c\n",
       "  end\n"
      ]
     },
     "execution_count": 29,
     "metadata": {},
     "output_type": "execute_result"
    }
   ],
   "source": [
    "module TreeOfStrings = SearchTree(String)"
   ]
  },
  {
   "cell_type": "code",
   "execution_count": 28,
   "id": "95f7ba92-4e0e-4b2e-a648-f1ba3c50243c",
   "metadata": {},
   "outputs": [
    {
     "data": {
      "text/plain": [
       "- : TreeOfStrings.t =\n",
       "TreeOfStrings.Branch (TreeOfStrings.Leaf, \"Hello\", TreeOfStrings.Leaf)\n"
      ]
     },
     "execution_count": 28,
     "metadata": {},
     "output_type": "execute_result"
    }
   ],
   "source": [
    "let e = TreeOfStrings.empty () in\n",
    "TreeOfStrings.insert e \"Hello\""
   ]
  },
  {
   "cell_type": "code",
   "execution_count": 31,
   "id": "9c73e759-13d4-4e52-97ce-967e5fd308f4",
   "metadata": {},
   "outputs": [
    {
     "data": {
      "text/plain": [
       "module TreeOfInts :\n",
       "  sig\n",
       "    type t = SearchTree(Int).t = Leaf | Branch of t * Int.t * t\n",
       "    val empty : unit -> t\n",
       "    val insert : t -> Int.t -> t\n",
       "    val is_empty : t -> bool\n",
       "    val exists : 'a -> 'b -> 'c\n",
       "  end\n"
      ]
     },
     "execution_count": 31,
     "metadata": {},
     "output_type": "execute_result"
    }
   ],
   "source": [
    "module TreeOfInts = SearchTree(Int)"
   ]
  },
  {
   "cell_type": "code",
   "execution_count": 37,
   "id": "79cfa9b4-2b96-4f1c-bb38-e9d3261e71b3",
   "metadata": {},
   "outputs": [
    {
     "data": {
      "text/plain": [
       "- : int list = [1; 2; 3; 4; 5; 1; 2; 3; 4]\n"
      ]
     },
     "execution_count": 37,
     "metadata": {},
     "output_type": "execute_result"
    }
   ],
   "source": [
    "(** \n",
    "\n",
    "  Revisiting immutability\n",
    "*)\n",
    "\n",
    "let l1 = [1;2;3;4] in\n",
    "let l2 = 5::l1 in\n",
    "let l3 = l1 @ l2 in\n",
    "print l1;\n",
    "l3"
   ]
  },
  {
   "cell_type": "code",
   "execution_count": 38,
   "id": "faea493e-cde5-4676-aa8a-0cf2ea281a51",
   "metadata": {},
   "outputs": [
    {
     "data": {
      "text/plain": [
       "module type T = sig type t val v : t end\n"
      ]
     },
     "execution_count": 38,
     "metadata": {},
     "output_type": "execute_result"
    }
   ],
   "source": [
    "module type T = sig \n",
    "  type t \n",
    "  val v : t \n",
    "end"
   ]
  },
  {
   "cell_type": "code",
   "execution_count": 45,
   "id": "2b88371a-6bf8-4166-bc4c-2fea51386803",
   "metadata": {},
   "outputs": [
    {
     "data": {
      "text/plain": [
       "module Id : functor (X : T) -> sig type t = X.t val v : t end\n"
      ]
     },
     "execution_count": 45,
     "metadata": {},
     "output_type": "execute_result"
    }
   ],
   "source": [
    "module Id (X : T) : (T with type t = X.t) = X"
   ]
  },
  {
   "cell_type": "code",
   "execution_count": 41,
   "id": "129400d8-c011-4935-9f79-491cb7c4e027",
   "metadata": {},
   "outputs": [
    {
     "data": {
      "text/plain": [
       "module M : T\n"
      ]
     },
     "execution_count": 41,
     "metadata": {},
     "output_type": "execute_result"
    }
   ],
   "source": [
    "module M:T = struct \n",
    "  type t = int\n",
    "  let v = 10\n",
    "end"
   ]
  },
  {
   "cell_type": "code",
   "execution_count": 48,
   "id": "73bfcae2-3d79-4a9c-bac2-5404a5878aa7",
   "metadata": {},
   "outputs": [
    {
     "data": {
      "text/plain": [
       "module M1 : sig type t = M.t val v : t end\n"
      ]
     },
     "execution_count": 48,
     "metadata": {},
     "output_type": "execute_result"
    }
   ],
   "source": [
    "module M1: (T with type t = M.t) = Id(M)"
   ]
  },
  {
   "cell_type": "code",
   "execution_count": 49,
   "id": "5a118ad7-fcfb-47bb-8669-cd1ffd797195",
   "metadata": {},
   "outputs": [
    {
     "data": {
      "text/plain": [
       "- : bool = true\n"
      ]
     },
     "execution_count": 49,
     "metadata": {},
     "output_type": "execute_result"
    }
   ],
   "source": [
    "M1.v = M.v"
   ]
  },
  {
   "cell_type": "code",
   "execution_count": null,
   "id": "62feb0d5-bcfa-46cf-b9fe-44f355960b7a",
   "metadata": {},
   "outputs": [],
   "source": []
  }
 ],
 "metadata": {
  "kernelspec": {
   "display_name": "OCaml 4.12.0",
   "language": "OCaml",
   "name": "ocaml-jupyter"
  },
  "language_info": {
   "codemirror_mode": "text/x-ocaml",
   "file_extension": ".ml",
   "mimetype": "text/x-ocaml",
   "name": "OCaml",
   "nbconverter_exporter": null,
   "pygments_lexer": "OCaml",
   "version": "4.12.0"
  }
 },
 "nbformat": 4,
 "nbformat_minor": 5
}
