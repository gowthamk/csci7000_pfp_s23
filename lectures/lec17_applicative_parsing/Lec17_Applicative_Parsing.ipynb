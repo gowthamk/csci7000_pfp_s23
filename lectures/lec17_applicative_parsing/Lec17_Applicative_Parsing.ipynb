{
 "cells": [
  {
   "cell_type": "markdown",
   "id": "9f52fb36-6bb0-4e3e-bc66-6f003dc3567c",
   "metadata": {},
   "source": [
    "<center> \n",
    "\n",
    "<h1 style=\"text-align:center\"> Applicative Parsing </h1>\n",
    "<h2 style=\"text-align:center\"> CSCI7000-11 S23: Principles of Functional Programming </h2>\n",
    "</center>"
   ]
  },
  {
   "cell_type": "markdown",
   "id": "b1179aff-2361-4f3c-8921-a05506a2773b",
   "metadata": {},
   "source": [
    "```haskell\n",
    "spaces :: Parser ()\n",
    "spaces = many (satisfy isSpace) *> pure ()\n",
    "\n",
    "char :: Char -> Parser Char\n",
    "char c = spaces *> satisfy (==c)\n",
    "\n",
    "plus, times :: Parser Char\n",
    "plus = char '+'\n",
    "times = char '*'\n",
    "\n",
    "num :: Parser Int\n",
    "num = spaces *> int\n",
    "\n",
    "data Arith =\n",
    "   Num Int\n",
    " | Plus Arith Arith\n",
    " | Times Arith Arith \n",
    " deriving Show\n",
    "\n",
    "term, factor, atom :: Parser Arith\n",
    "term   =     Plus <$> factor <* plus <*> term\n",
    "         <|> factor\n",
    "factor =     Times <$> atom <* times <*> factor \n",
    "         <|> atom\n",
    "atom   =     Num <$> num \n",
    "         <|> (char '(' *> term <* char ')')\n",
    "```"
   ]
  },
  {
   "cell_type": "markdown",
   "id": "4d76e0ff-0245-42e4-ba20-bdbee80c87f3",
   "metadata": {},
   "source": [
    "```\n",
    "Term   ::= Factor + Term | Factor\n",
    "Factor ::= Atom * Factor | Atom\n",
    "Atom   ::= n | ( Term )\n",
    "```"
   ]
  },
  {
   "cell_type": "code",
   "execution_count": 1,
   "id": "11ca076a-e7e6-48e0-b4a1-3ff9390a5037",
   "metadata": {},
   "outputs": [
    {
     "data": {
      "text/plain": [
       "module type FUNCTOR = sig type 'a t val fmap : ('a -> 'b) -> 'a t -> 'b t end\n"
      ]
     },
     "execution_count": 1,
     "metadata": {},
     "output_type": "execute_result"
    }
   ],
   "source": [
    "module type FUNCTOR = sig\n",
    "  type 'a t\n",
    "  val fmap: ('a -> 'b) -> 'a t -> 'b t\n",
    "end"
   ]
  },
  {
   "cell_type": "code",
   "execution_count": 2,
   "id": "34c0ee01-469d-4cee-a279-dc0c832a17fe",
   "metadata": {},
   "outputs": [
    {
     "data": {
      "text/plain": [
       "module type APPLICATIVE =\n",
       "  sig\n",
       "    type 'a t\n",
       "    val fmap : ('a -> 'b) -> 'a t -> 'b t\n",
       "    val pure : 'a -> 'a t\n",
       "    val fseq : ('a -> 'b) t -> 'a t -> 'b t\n",
       "  end\n"
      ]
     },
     "execution_count": 2,
     "metadata": {},
     "output_type": "execute_result"
    }
   ],
   "source": [
    "module type APPLICATIVE = sig\n",
    "  include FUNCTOR\n",
    "  val pure: 'a -> 'a t\n",
    "  val fseq: ('a -> 'b) t -> 'a t -> 'b t\n",
    "end"
   ]
  },
  {
   "cell_type": "code",
   "execution_count": 3,
   "id": "8ccaf355-9ff7-4381-a5d7-308b47e334fc",
   "metadata": {},
   "outputs": [
    {
     "data": {
      "text/plain": [
       "type 'a parser = Parser of (string -> ('a * string) option)\n"
      ]
     },
     "execution_count": 3,
     "metadata": {},
     "output_type": "execute_result"
    }
   ],
   "source": [
    "type 'a parser = Parser of (string -> ('a*string) option)"
   ]
  },
  {
   "cell_type": "code",
   "execution_count": 4,
   "id": "c9a81f42-44a5-460c-b6be-c4e97817707b",
   "metadata": {},
   "outputs": [
    {
     "data": {
      "text/plain": [
       "val parse : 'a parser -> string -> ('a * string) option = <fun>\n"
      ]
     },
     "execution_count": 4,
     "metadata": {},
     "output_type": "execute_result"
    },
    {
     "data": {
      "text/plain": [
       "val mk_parser : (string -> ('a * string) option) -> 'a parser = <fun>\n"
      ]
     },
     "execution_count": 4,
     "metadata": {},
     "output_type": "execute_result"
    },
    {
     "data": {
      "text/plain": [
       "val split : string -> char * string = <fun>\n"
      ]
     },
     "execution_count": 4,
     "metadata": {},
     "output_type": "execute_result"
    }
   ],
   "source": [
    "let parse (Parser f) s = f s;;\n",
    "let mk_parser f = Parser f;;\n",
    "let split (s:string) : (char*string) = \n",
    "  (s.[0], String.sub s 1 ((String.length s) - 1))"
   ]
  },
  {
   "cell_type": "code",
   "execution_count": 5,
   "id": "a7658552-56ab-4f43-9ae5-8feb1d43c935",
   "metadata": {},
   "outputs": [
    {
     "data": {
      "text/plain": [
       "- : char * string = ('H', \"ello\")\n"
      ]
     },
     "execution_count": 5,
     "metadata": {},
     "output_type": "execute_result"
    }
   ],
   "source": [
    "split \"Hello\""
   ]
  },
  {
   "cell_type": "code",
   "execution_count": 6,
   "id": "59b23e4b-5635-4327-92a1-4866389c38d2",
   "metadata": {},
   "outputs": [
    {
     "data": {
      "text/plain": [
       "val letter : char -> char parser = <fun>\n"
      ]
     },
     "execution_count": 6,
     "metadata": {},
     "output_type": "execute_result"
    }
   ],
   "source": [
    "let letter (c:char) : char parser = mk_parser @@\n",
    "  (fun (s:string) -> \n",
    "    if s=\"\" then None\n",
    "    else match split s with\n",
    "      | (c',s') when c'=c -> Some (c',s')\n",
    "      | _ -> None)"
   ]
  },
  {
   "cell_type": "code",
   "execution_count": 7,
   "id": "95758704-85de-4911-a6eb-85485dc8e3ee",
   "metadata": {},
   "outputs": [
    {
     "data": {
      "text/plain": [
       "- : (char * string) option = Some ('c', \"hocolate\")\n"
      ]
     },
     "execution_count": 7,
     "metadata": {},
     "output_type": "execute_result"
    }
   ],
   "source": [
    "parse (letter 'c') \"chocolate\" (* ==> Some ('c', \"hocolate\") *)"
   ]
  },
  {
   "cell_type": "code",
   "execution_count": 8,
   "id": "0fd7e129-cfb9-4ce8-9fd7-545b479c50b1",
   "metadata": {},
   "outputs": [
    {
     "data": {
      "text/plain": [
       "- : (char * string) option = None\n"
      ]
     },
     "execution_count": 8,
     "metadata": {},
     "output_type": "execute_result"
    }
   ],
   "source": [
    "parse (letter 'c') \"vanilla\" (* ==> Some ('c', \"hocolate\") *)"
   ]
  },
  {
   "cell_type": "code",
   "execution_count": 9,
   "id": "acfddc24-84e5-4fc3-abcb-20a88ae1e53f",
   "metadata": {},
   "outputs": [
    {
     "data": {
      "text/plain": [
       "- : int = 1\n"
      ]
     },
     "execution_count": 9,
     "metadata": {},
     "output_type": "execute_result"
    }
   ],
   "source": [
    "String.make 1 'c' |> String.length"
   ]
  },
  {
   "cell_type": "code",
   "execution_count": 10,
   "id": "c678ea09-e2f7-4faf-b34e-140ffa876247",
   "metadata": {},
   "outputs": [
    {
     "data": {
      "text/plain": [
       "val fmap : ('a -> 'b) -> 'a parser -> 'b parser = <fun>\n"
      ]
     },
     "execution_count": 10,
     "metadata": {},
     "output_type": "execute_result"
    }
   ],
   "source": [
    "let fmap (f : 'a -> 'b) (p: 'a parser) : 'b parser = mk_parser @@\n",
    "  fun (s:string) -> match parse p s with\n",
    "    | Some (a,s') -> Some (f a, s')\n",
    "    | None -> None"
   ]
  },
  {
   "cell_type": "code",
   "execution_count": 11,
   "id": "6e60e0d7-af83-4f2a-a9ad-e18f2241bbbe",
   "metadata": {},
   "outputs": [
    {
     "data": {
      "text/plain": [
       "val pure : 'a -> 'a parser = <fun>\n"
      ]
     },
     "execution_count": 11,
     "metadata": {},
     "output_type": "execute_result"
    }
   ],
   "source": [
    "let pure (x:'a) : 'a parser = mk_parser @@\n",
    "  fun s -> Some (x,s)"
   ]
  },
  {
   "cell_type": "code",
   "execution_count": 12,
   "id": "d26c4b1c-56a6-4510-bf60-6003291efb89",
   "metadata": {},
   "outputs": [
    {
     "data": {
      "text/plain": [
       "val fseq : ('a -> 'b) parser -> 'a parser -> 'b parser = <fun>\n"
      ]
     },
     "execution_count": 12,
     "metadata": {},
     "output_type": "execute_result"
    }
   ],
   "source": [
    "let fseq (p1: ('a -> 'b) parser) (ap: 'a parser) : 'b parser = mk_parser @@\n",
    "  fun (s:string) -> match parse p1 s with\n",
    "    | Some (g, s') -> \n",
    "      let bp = fmap g ap in\n",
    "      parse bp s'\n",
    "    | None -> None"
   ]
  },
  {
   "cell_type": "code",
   "execution_count": 13,
   "id": "843db08d-2bd1-45a6-9972-7e139efd717b",
   "metadata": {},
   "outputs": [
    {
     "data": {
      "text/plain": [
       "val ( <$> ) : ('a -> 'b) -> 'a parser -> 'b parser = <fun>\n"
      ]
     },
     "execution_count": 13,
     "metadata": {},
     "output_type": "execute_result"
    },
    {
     "data": {
      "text/plain": [
       "val ( <*> ) : ('a -> 'b) parser -> 'a parser -> 'b parser = <fun>\n"
      ]
     },
     "execution_count": 13,
     "metadata": {},
     "output_type": "execute_result"
    }
   ],
   "source": [
    "let (<$>) = fmap;;\n",
    "let (<*>) = fseq"
   ]
  },
  {
   "cell_type": "code",
   "execution_count": null,
   "id": "cf1261f0-1f01-474c-aad1-ba21d6383cd6",
   "metadata": {},
   "outputs": [],
   "source": []
  },
  {
   "cell_type": "code",
   "execution_count": 27,
   "id": "809cea99-9115-41da-bc1e-cee18aed3baa",
   "metadata": {},
   "outputs": [
    {
     "data": {
      "text/plain": [
       "val chp : char list parser = Parser <fun>\n"
      ]
     },
     "execution_count": 27,
     "metadata": {},
     "output_type": "execute_result"
    }
   ],
   "source": [
    "let chp = \n",
    "let (cp: char parser) = letter 'c' in\n",
    "let (hp: char parser) = letter 'h' in\n",
    "let (f: (char -> char list) parser) = (fun c h -> [c;h]) <$> cp in\n",
    "let (chp: char list parser) = f <*> hp in\n",
    "chp"
   ]
  },
  {
   "cell_type": "code",
   "execution_count": 28,
   "id": "d44be8f3-5a19-4f60-b228-95f10838466c",
   "metadata": {},
   "outputs": [
    {
     "data": {
      "text/plain": [
       "- : (char list * string) option = Some (['c'; 'h'], \"ocolate\")\n"
      ]
     },
     "execution_count": 28,
     "metadata": {},
     "output_type": "execute_result"
    }
   ],
   "source": [
    "parse chp \"chocolate\""
   ]
  },
  {
   "cell_type": "code",
   "execution_count": 38,
   "id": "08a05820-085c-4bfd-9332-580c8a65bab5",
   "metadata": {},
   "outputs": [
    {
     "data": {
      "text/plain": [
       "val mk_char_list : 'a -> 'a -> 'a list = <fun>\n"
      ]
     },
     "execution_count": 38,
     "metadata": {},
     "output_type": "execute_result"
    },
    {
     "data": {
      "text/plain": [
       "- : (char list * string) option = Some (['c'; 'h'], \"ocolate\")\n"
      ]
     },
     "execution_count": 38,
     "metadata": {},
     "output_type": "execute_result"
    }
   ],
   "source": [
    "let mk_char_list c h = [c;h];;\n",
    "parse (mk_char_list <$> letter 'c' <*> letter 'h') \"chocolate\""
   ]
  },
  {
   "cell_type": "code",
   "execution_count": 31,
   "id": "8ebed6c2-8d50-429f-9be9-ade908dd02d6",
   "metadata": {},
   "outputs": [
    {
     "data": {
      "text/plain": [
       "val char_to_string : char -> string = <fun>\n"
      ]
     },
     "execution_count": 31,
     "metadata": {},
     "output_type": "execute_result"
    }
   ],
   "source": [
    "let char_to_string = (fun c -> String.make 1 c)"
   ]
  },
  {
   "cell_type": "code",
   "execution_count": 33,
   "id": "2e619f00-b96a-420c-a801-505554ff273a",
   "metadata": {},
   "outputs": [
    {
     "data": {
      "text/plain": [
       "- : (string * string) option = Some (\"c\", \"hocolate\")\n"
      ]
     },
     "execution_count": 33,
     "metadata": {},
     "output_type": "execute_result"
    }
   ],
   "source": [
    "match parse (letter 'c') \"chocolate\" with\n",
    "| Some (c,s) -> Some (String.make 1 c, s)\n",
    "| None -> None"
   ]
  },
  {
   "cell_type": "code",
   "execution_count": 35,
   "id": "391ea1c1-a21b-4d2e-b4ea-8bb629b99408",
   "metadata": {},
   "outputs": [
    {
     "data": {
      "text/plain": [
       "- : (string * string) option = Some (\"c\", \"hocolate\")\n"
      ]
     },
     "execution_count": 35,
     "metadata": {},
     "output_type": "execute_result"
    }
   ],
   "source": [
    "parse (char_to_string <$> letter 'c') \"chocolate\""
   ]
  },
  {
   "cell_type": "code",
   "execution_count": 39,
   "id": "f93fc044-45ce-4392-8c7e-f4f99f390ca7",
   "metadata": {},
   "outputs": [
    {
     "data": {
      "text/plain": [
       "- : (char list * string) option = Some (['c'; 'h'], \"ocolate\")\n"
      ]
     },
     "execution_count": 39,
     "metadata": {},
     "output_type": "execute_result"
    }
   ],
   "source": [
    "parse ((mk_char_list <$> letter 'c') <*> letter 'h') \"chocolate\""
   ]
  },
  {
   "cell_type": "code",
   "execution_count": 14,
   "id": "e0413226-43c9-4130-911d-62b9bc55d222",
   "metadata": {},
   "outputs": [
    {
     "data": {
      "text/plain": [
       "val str_cons : char -> string -> string = <fun>\n"
      ]
     },
     "execution_count": 14,
     "metadata": {},
     "output_type": "execute_result"
    }
   ],
   "source": [
    "(*\n",
    " * We want to write a string parser.\n",
    " *)\n",
    "let str_cons (c:char) (s:string) : string = (String.make 1 c)^s"
   ]
  },
  {
   "cell_type": "code",
   "execution_count": 15,
   "id": "e5a40324-7a0f-4ab8-be73-5a666837c607",
   "metadata": {},
   "outputs": [
    {
     "data": {
      "text/plain": [
       "val char : char -> char parser = <fun>\n"
      ]
     },
     "execution_count": 15,
     "metadata": {},
     "output_type": "execute_result"
    }
   ],
   "source": [
    "let char = letter"
   ]
  },
  {
   "cell_type": "code",
   "execution_count": 19,
   "id": "dabff96e-e5c0-4fec-a75e-b2effead080b",
   "metadata": {},
   "outputs": [
    {
     "data": {
      "text/plain": [
       "val string : string -> string parser = <fun>\n"
      ]
     },
     "execution_count": 19,
     "metadata": {},
     "output_type": "execute_result"
    }
   ],
   "source": [
    "(*\n",
    " * val ( <$> ) : ('a -> 'b) -> 'a parser -> 'b parser \n",
    " * val ( <*> ) : ('a -> 'b) parser -> 'a parser -> 'b parser\n",
    " * (str_cons) : char -> string -> string\n",
    " * (char c) : char parser\n",
    " * (string s') : string parser\n",
    " *)\n",
    " \n",
    "let rec string (s:string): string parser = \n",
    "  if s=\"\" then pure \"\" else\n",
    "  match split s with\n",
    "  | (c,s') -> (str_cons <$> (char c)) <*> (string s')"
   ]
  },
  {
   "cell_type": "code",
   "execution_count": 17,
   "id": "9fd7e337-daf8-4497-992b-64be4b8a3d5a",
   "metadata": {},
   "outputs": [
    {
     "data": {
      "text/plain": [
       "- : (string * string) option = Some (\"choc\", \"olate\")\n"
      ]
     },
     "execution_count": 17,
     "metadata": {},
     "output_type": "execute_result"
    }
   ],
   "source": [
    "parse (string \"choc\") \"chocolate\""
   ]
  },
  {
   "cell_type": "code",
   "execution_count": 18,
   "id": "14b8f431-f073-4613-a3dc-3491836cb2d6",
   "metadata": {},
   "outputs": [
    {
     "data": {
      "text/plain": [
       "- : (string * string) option = None\n"
      ]
     },
     "execution_count": 18,
     "metadata": {},
     "output_type": "execute_result"
    }
   ],
   "source": [
    "parse (string \"choc\") \"vanilla\""
   ]
  },
  {
   "cell_type": "code",
   "execution_count": 20,
   "id": "fbea5c47-6e71-4dcd-8e31-845f8ed36280",
   "metadata": {},
   "outputs": [
    {
     "data": {
      "text/plain": [
       "val is_digit : char -> bool = <fun>\n"
      ]
     },
     "execution_count": 20,
     "metadata": {},
     "output_type": "execute_result"
    }
   ],
   "source": [
    "let is_digit (c:char) : bool = match c with\n",
    "  | '0' .. '9' -> true\n",
    "  | _ -> false"
   ]
  },
  {
   "cell_type": "code",
   "execution_count": 21,
   "id": "27b2924d-42ad-48c1-8079-119b48178c04",
   "metadata": {},
   "outputs": [
    {
     "data": {
      "text/plain": [
       "val satisfy : (char -> bool) -> char parser = <fun>\n"
      ]
     },
     "execution_count": 21,
     "metadata": {},
     "output_type": "execute_result"
    }
   ],
   "source": [
    "let satisfy (f: char -> bool) : char parser = mk_parser @@\n",
    "  (fun (s:string) -> \n",
    "    if s=\"\" then None\n",
    "    else match split s with\n",
    "      | (c',s') when f c' -> Some (c',s')\n",
    "      | _ -> None)"
   ]
  },
  {
   "cell_type": "code",
   "execution_count": 22,
   "id": "7cde83a7-42dd-4a6c-a52d-05578fde84ef",
   "metadata": {},
   "outputs": [
    {
     "data": {
      "text/plain": [
       "val letter_parser_v2 : char -> char parser = <fun>\n"
      ]
     },
     "execution_count": 22,
     "metadata": {},
     "output_type": "execute_result"
    }
   ],
   "source": [
    "let letter_parser_v2 (c:char) = satisfy (fun c' -> c'=c) "
   ]
  },
  {
   "cell_type": "code",
   "execution_count": 23,
   "id": "aa8c3d6e-db25-469f-968e-8523d46d1df1",
   "metadata": {},
   "outputs": [
    {
     "data": {
      "text/plain": [
       "- : (char * string) option = Some ('c', \"hocolate\")\n"
      ]
     },
     "execution_count": 23,
     "metadata": {},
     "output_type": "execute_result"
    }
   ],
   "source": [
    "parse (letter_parser_v2 'c') \"chocolate\""
   ]
  },
  {
   "cell_type": "code",
   "execution_count": 24,
   "id": "a99039ff-5c28-4c73-be0b-eba590d87c5f",
   "metadata": {},
   "outputs": [
    {
     "data": {
      "text/plain": [
       "val digit_parser : int parser = Parser <fun>\n"
      ]
     },
     "execution_count": 24,
     "metadata": {},
     "output_type": "execute_result"
    }
   ],
   "source": [
    "let digit_parser : int parser = (fun c -> int_of_string @@ String.make 1 c)<$> satisfy is_digit"
   ]
  },
  {
   "cell_type": "code",
   "execution_count": 25,
   "id": "3ff23bdf-6977-4361-a0ff-04297c252cdb",
   "metadata": {},
   "outputs": [
    {
     "data": {
      "text/plain": [
       "- : (int * string) option = Some (1, \"c2\")\n"
      ]
     },
     "execution_count": 25,
     "metadata": {},
     "output_type": "execute_result"
    }
   ],
   "source": [
    "parse digit_parser \"1c2\""
   ]
  },
  {
   "cell_type": "code",
   "execution_count": 27,
   "id": "88869990-f779-457d-b812-d0833a3f3e6f",
   "metadata": {},
   "outputs": [
    {
     "ename": "error",
     "evalue": "compile_error",
     "output_type": "error",
     "traceback": [
      "File \"[27]\", line 2, characters 88-91:\n2 |     and many (p: 'a parser) : 'a list parser = (mk_parser @@ fun s -> parse (some p) s) <|> pure []\n                                                                                            ^^^\nError: Unbound value <|>\nHint: Did you mean <$>, <*>, <> or |>?\n"
     ]
    }
   ],
   "source": []
  },
  {
   "cell_type": "code",
   "execution_count": 30,
   "id": "10926b04-c9f0-4136-a9aa-76e6cbe30bb1",
   "metadata": {},
   "outputs": [
    {
     "data": {
      "text/plain": [
       "val ( <|> ) : 'a parser -> 'a parser -> 'a parser = <fun>\n"
      ]
     },
     "execution_count": 30,
     "metadata": {},
     "output_type": "execute_result"
    }
   ],
   "source": [
    "let (<|>) (f:'a parser) (g: 'a parser) : 'a parser = mk_parser @@\n",
    "  fun s -> match parse f s with\n",
    "  | None -> parse g s\n",
    "  | Some (a,s') -> Some (a,s')"
   ]
  },
  {
   "cell_type": "code",
   "execution_count": 33,
   "id": "0f609c0c-b0a6-4474-a893-73541a5d115d",
   "metadata": {},
   "outputs": [
    {
     "data": {
      "text/plain": [
       "val some : 'a parser -> 'a list parser = <fun>\n",
       "val many : 'a parser -> 'a list parser = <fun>\n"
      ]
     },
     "execution_count": 33,
     "metadata": {},
     "output_type": "execute_result"
    }
   ],
   "source": [
    " (*\n",
    "  * digit ::= 0...9\n",
    "  * more_digits ::= [] | number\n",
    "  * number ::= digit.more_digits\n",
    "  *)\n",
    "let rec some (p: 'a parser) : 'a list parser = (fun x xs -> x::xs) <$> p <*> (mk_parser @@ fun s -> parse (many p) s)\n",
    "    and many (p: 'a parser) : 'a list parser = (mk_parser @@ fun s -> parse (some p) s) <|> pure []"
   ]
  },
  {
   "cell_type": "code",
   "execution_count": 34,
   "id": "d56a1c1a-d5fd-47bd-8a4e-016fe11e34d2",
   "metadata": {},
   "outputs": [
    {
     "data": {
      "text/plain": [
       "val char_list_to_string : char list -> string = <fun>\n"
      ]
     },
     "execution_count": 34,
     "metadata": {},
     "output_type": "execute_result"
    },
    {
     "data": {
      "text/plain": [
       "val int : int parser = Parser <fun>\n"
      ]
     },
     "execution_count": 34,
     "metadata": {},
     "output_type": "execute_result"
    }
   ],
   "source": [
    "let rec char_list_to_string (cl:char list) : string = \n",
    "  match cl with\n",
    "  | [] -> \"\"\n",
    "  | c::cl' -> str_cons c (char_list_to_string cl');;\n",
    "let int = (fun cl -> int_of_string @@ char_list_to_string cl) <$> some (satisfy is_digit)"
   ]
  },
  {
   "cell_type": "code",
   "execution_count": 35,
   "id": "8b5bc4dc-ca40-4fd7-95f8-59450941137a",
   "metadata": {},
   "outputs": [
    {
     "data": {
      "text/plain": [
       "- : (int * string) option = Some (12345, \"color\")\n"
      ]
     },
     "execution_count": 35,
     "metadata": {},
     "output_type": "execute_result"
    }
   ],
   "source": [
    "parse int \"12345color\""
   ]
  },
  {
   "cell_type": "code",
   "execution_count": 38,
   "id": "5ac78296-80d3-4d3e-8048-8d8e8f083216",
   "metadata": {},
   "outputs": [
    {
     "data": {
      "text/plain": [
       "val int_com : int parser = Parser <fun>\n"
      ]
     },
     "execution_count": 38,
     "metadata": {},
     "output_type": "execute_result"
    }
   ],
   "source": [
    "let int_com = (fun (x: int) (c:char) -> x) <$> int <*> char ','"
   ]
  },
  {
   "cell_type": "code",
   "execution_count": 40,
   "id": "a44bc29b-79b6-42d3-b079-a021924900f6",
   "metadata": {},
   "outputs": [
    {
     "data": {
      "text/plain": [
       "- : (int list * string) option = Some ([1; 2; 3], \"\")\n"
      ]
     },
     "execution_count": 40,
     "metadata": {},
     "output_type": "execute_result"
    }
   ],
   "source": [
    "parse ((fun i j k -> [i; j; k]) <$> int_com <*> int_com <*> int) \"1,2,3\" (* ==> [1;2;3]*)"
   ]
  },
  {
   "cell_type": "code",
   "execution_count": 41,
   "id": "48a1ecd3-9549-4497-a528-0a8c38666608",
   "metadata": {},
   "outputs": [
    {
     "data": {
      "text/plain": [
       "val lift : 'a parser -> ('b -> 'a) parser = <fun>\n"
      ]
     },
     "execution_count": 41,
     "metadata": {},
     "output_type": "execute_result"
    },
    {
     "data": {
      "text/plain": [
       "val ( <* ) : 'a parser -> 'b parser -> 'a parser = <fun>\n"
      ]
     },
     "execution_count": 41,
     "metadata": {},
     "output_type": "execute_result"
    }
   ],
   "source": [
    "let lift (ap: 'a parser)  : ('b -> 'a) parser = mk_parser @@\n",
    "  fun s -> match parse ap s with \n",
    "    | Some (a,s') -> Some ((fun b -> a), s')\n",
    "    | None -> None;;\n",
    "let (<*) (ap: 'a parser) (bp: 'b parser) : 'a parser = \n",
    "  (lift ap) <*> bp"
   ]
  },
  {
   "cell_type": "code",
   "execution_count": 42,
   "id": "e55b5163-0c2f-4128-93ad-16b1200d15e2",
   "metadata": {},
   "outputs": [
    {
     "data": {
      "text/plain": [
       "val int_com : int parser = Parser <fun>\n"
      ]
     },
     "execution_count": 42,
     "metadata": {},
     "output_type": "execute_result"
    },
    {
     "data": {
      "text/plain": [
       "- : (int list * string) option = Some ([1; 2; 3], \"\")\n"
      ]
     },
     "execution_count": 42,
     "metadata": {},
     "output_type": "execute_result"
    }
   ],
   "source": [
    "let int_com = int <* char ',';;\n",
    "parse ((fun i j k -> [i; j; k]) <$> int_com <*> int_com <*> int) \"1,2,3\" (* ==> [1;2;3]*)"
   ]
  },
  {
   "cell_type": "code",
   "execution_count": null,
   "id": "bfe71afa-4e57-4fa1-b7d7-eaeea05fe14c",
   "metadata": {},
   "outputs": [],
   "source": []
  }
 ],
 "metadata": {
  "kernelspec": {
   "display_name": "OCaml 4.12.0",
   "language": "OCaml",
   "name": "ocaml-jupyter"
  },
  "language_info": {
   "codemirror_mode": "text/x-ocaml",
   "file_extension": ".ml",
   "mimetype": "text/x-ocaml",
   "name": "OCaml",
   "nbconverter_exporter": null,
   "pygments_lexer": "OCaml",
   "version": "4.12.0"
  }
 },
 "nbformat": 4,
 "nbformat_minor": 5
}
