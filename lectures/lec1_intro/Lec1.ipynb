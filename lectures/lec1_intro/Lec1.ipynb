{
 "cells": [
  {
   "cell_type": "markdown",
   "id": "f709a01c-c4e9-4877-bfe5-5eac4a2d23b5",
   "metadata": {},
   "source": [
    "<div style=\"text-align:center\">\n",
    "<h1> CSCI7000-11 Principles of Functional Programming </h1>\n",
    "<h2> Spring 2023 </h2>\n",
    "</div>"
   ]
  },
  {
   "cell_type": "markdown",
   "id": "c59f6aa1-da02-4e6c-aa91-6ef98b976aca",
   "metadata": {},
   "source": [
    "## Single instruction programming language\n",
    "\n",
    "```c\n",
    "subleq a, b, L   // *b = *b - *a\n",
    "                 // if (*b ≤ 0) goto L\n",
    "```"
   ]
  },
  {
   "cell_type": "markdown",
   "id": "d297dc8b-51bc-44db-b897-527f122df931",
   "metadata": {},
   "source": [
    "If the branch target is the next instruction, then drop the third argument.\n",
    "\n",
    "    subleq a, b\n",
    "    \n",
    "is equivalent to\n",
    "\n",
    "        subleq a, b, L1\n",
    "    L1: ..."
   ]
  },
  {
   "cell_type": "markdown",
   "id": "32f7b379-3ad4-4fd6-a03c-c97c84ed5e8e",
   "metadata": {},
   "source": [
    "## What does this program do?\n",
    "\n",
    "```c\n",
    "// initially *z = 0\n",
    "subleq a, z\n",
    "subleq z, b\n",
    "subleq z, z\n",
    "```"
   ]
  },
  {
   "cell_type": "markdown",
   "id": "de8666b7-e1de-4d10-8938-02b543dce1b4",
   "metadata": {},
   "source": [
    "## What does this program do?\n",
    "\n",
    "```c\n",
    "// initially *z = 0\n",
    "subleq a, z // *z = *z - *a \n",
    "            // *z = -(*a)\n",
    "subleq z, b // *b = *b - *z\n",
    "            // *b = *b - (-*a) \n",
    "            // *b = *b + *a\n",
    "subleq z, z // *z = *z - *z\n",
    "            // *z = 0\n",
    "```"
   ]
  },
  {
   "cell_type": "markdown",
   "id": "3f6e3440-7bfe-4b32-8b07-dd8645507371",
   "metadata": {},
   "source": [
    "**Answer:** *b = *a + *b (Addition)"
   ]
  },
  {
   "cell_type": "markdown",
   "id": "9ca2268f-6488-461b-bcff-c14bf714f704",
   "metadata": {},
   "source": [
    "## In fact, this one instruction PL is as powerful as *every* PL.\n",
    "\n",
    "* But good luck writing quicksort in this PL\n",
    "  + let alone Facebook\n",
    "  + ..or Linux\n",
    "  + ..or Grand Theft Auto V."
   ]
  },
  {
   "cell_type": "markdown",
   "id": "a420a6ac-b8c0-48db-8ced-cd5c8940efdd",
   "metadata": {},
   "source": [
    "The `subleq` instruction is from [One Instruction Set Computer](https://en.wikipedia.org/wiki/One_instruction_set_computer). If you thought such a machine is hypothetical, think again. It has been shown that the [x86 `mov` instruction is turing complete](https://esolangs.org/wiki/Mov) and is as powerful as every programming language. "
   ]
  },
  {
   "cell_type": "markdown",
   "id": "c62dc8ff-9db7-41c5-b526-31007365ab29",
   "metadata": {},
   "source": [
    "## The Goal of CSCI7000-11\n",
    "\n",
    "<div style=\"text-align:center\">\n",
    "<h2 style=\"color:blue\"> Become a better programer <h2>\n",
    "<h2> through the study of <h2>\n",
    "<h2 style=\"color:green\"> Functional Programming<h2>\n",
    "</div>"
   ]
  },
  {
   "cell_type": "markdown",
   "id": "32219344-249c-40d6-9aed-195bba29c18b",
   "metadata": {},
   "source": [
    "## Why learn Functional Programming?\n",
    "\n",
    "* Analogue - Why learn a foreign language?\n",
    "  + Learn about another culture; incorporate aspects into your own life\n",
    "  + Understand your native language better\n",
    "  \n",
    "* Linguistic Relativity\n",
    "\n",
    "  + ```\n",
    "    The principle of linguistic relativity holds that the \n",
    "    structure of a language affects its speakers world view \n",
    "    or cognition.\n",
    "    ```\n",
    "\n",
    "Or more simply:\n",
    "\n",
    "<center>\n",
    "    <i> Programming Language shapes Programming Thought </i>\n",
    "</center>\n",
    "\n",
    "Language affects how ideas and computation are expressed.\n",
    "\n",
    "**Functional programming will teach you new programming vocabulary which will change the way you think about programming.**\n"
   ]
  },
  {
   "cell_type": "markdown",
   "id": "3f4b4901-1ad9-4e3a-a7f6-8b8dc02f1b43",
   "metadata": {},
   "source": [
    "## Alan J. Perlis\n",
    "\n",
    "<table>\n",
    "<tr>\n",
    "<td><img src=\"images/alan-perlis.jpg\"></td>\n",
    "    <td><h1>\"A language that doesn't affect the way you <br>think about programming is not worth knowing\"</h1></td>\n",
    "</tr>\n",
    "</table>\n",
    "\n",
    "First recipient of the Turing Award\n",
    "for his “influence in the area of advanced programming\n",
    "techniques and compiler construction”"
   ]
  },
  {
   "cell_type": "markdown",
   "id": "9195f8fc-4eab-43a3-b69c-49099efb80d5",
   "metadata": {},
   "source": [
    "## Less philosophical reasons to learn functional programming (FP)\n",
    "#### 1. FP languages predict the future\n",
    "\n",
    "* Garbage collection\n",
    "  + Java [1995], LISP [1958]\n",
    "* Generics\n",
    "  + Java 5 [2004], ML [1990]\n",
    "* Higher-order functions\n",
    "  + C#3.0 [2007], Java 8 [2014], LISP [1958]\n",
    "* Type inference\n",
    "  + C++11 [2011], Java 7 [2011] and 8, ML [1990]\n",
    "* **What's next?**\n",
    "\n",
    "#### 2. FP is seeing increasing adoption\n",
    "\n",
    "* F#, C# 3.0, LINQ -- Microsoft\n",
    "* Scala -- Twitter, Foursquare, LinkedIn\n",
    "* Haskell -- Facebook, Barclays, AT&T.\n",
    "* Erlang -- Facebook, Amazon, WhatsApp\n",
    "* OCaml -- Facebook, Bloomberg, Docker, Citrix, JaneStreet, Tezos Blockchain \n",
    "* Rust?"
   ]
  },
  {
   "cell_type": "markdown",
   "id": "604a3e82-47eb-4c59-bf5d-1506b290f78d",
   "metadata": {},
   "source": [
    "## What *is* Functional Programming?\n",
    "\n",
    "* A *programming paradigm* where computations are performed by composing and applying *pure functions* on *immutable data*.\n",
    "* Focus is on expressing *what* needs to be computed.\n",
    "\n",
    "#### Compare with Imperative Programming, where:\n",
    "* Computations are performed by issuing a series of statements/commands that change the state of a machine.\n",
    "* Focus is on describing *how* to perform a computation."
   ]
  },
  {
   "cell_type": "markdown",
   "id": "ffcc1f31-0f6b-4548-b0aa-fe101e0ffe49",
   "metadata": {},
   "source": [
    "#### Pure Functions\n",
    "\n",
    "A function is pure iff its output depends only on its inputs.\n",
    "\n",
    "**Example 1:**\n",
    "\n",
    "$f(x,y) = 2*x + 3*y +2$, where $x\\in\\mathbb{Z}$"
   ]
  },
  {
   "cell_type": "code",
   "execution_count": 3,
   "id": "6648bc8b-553b-44b9-973e-f4eb11813601",
   "metadata": {},
   "outputs": [],
   "source": [
    "#Python\n",
    "def f(x,y):\n",
    "    2*x + 3*y + 2"
   ]
  },
  {
   "cell_type": "code",
   "execution_count": 2,
   "id": "aab6dc01-00fa-48c4-9c2c-e1d97f52708b",
   "metadata": {},
   "outputs": [
    {
     "data": {
      "text/plain": [
       "val f : int * int -> int = <fun>\n"
      ]
     },
     "execution_count": 2,
     "metadata": {},
     "output_type": "execute_result"
    }
   ],
   "source": [
    "(* OCaml *)\n",
    "let f (x,y) = 2*x + 3*y + 2"
   ]
  },
  {
   "cell_type": "markdown",
   "id": "6bbb4632-eaca-48dd-a57f-6eb1422786f5",
   "metadata": {},
   "source": [
    "#### Immutable Data\n",
    "\n",
    "* Data is immutable if can't be mutated, e.g., `const` values in C++/Java.\n",
    "* Impure functions operating on shared mutable data are hard to reason about.\n",
    "\n",
    "**Example 2:**"
   ]
  },
  {
   "cell_type": "code",
   "execution_count": 1,
   "id": "48bd7b97-ef14-41fa-9051-fc0af21702da",
   "metadata": {},
   "outputs": [
    {
     "name": "stdout",
     "output_type": "stream",
     "text": [
      "Button clicked 1 times\n",
      "Button clicked 2 times\n"
     ]
    }
   ],
   "source": [
    "#Python\n",
    "counter = 0\n",
    "\n",
    "def on_button_click():\n",
    "    global counter\n",
    "    counter += 1\n",
    "    print(\"Button clicked\", counter, \"times\")\n",
    "\n",
    "on_button_click() # prints \"Button clicked 1 times\"\n",
    "on_button_click() # prints \"Button clicked 2 times\""
   ]
  },
  {
   "cell_type": "code",
   "execution_count": 3,
   "id": "d20f2568-7688-4e0c-9dbe-d3918bc161f1",
   "metadata": {},
   "outputs": [],
   "source": [
    "# Python\n",
    "# Variable `counter` is accessible outside `on_button_click`. \n",
    "# It's possible some part of the program modifies `counter`. \n",
    "counter = 10"
   ]
  },
  {
   "cell_type": "code",
   "execution_count": 4,
   "id": "608ca1f9-5b4d-4169-8bb4-d39ef882c0ad",
   "metadata": {},
   "outputs": [
    {
     "name": "stdout",
     "output_type": "stream",
     "text": [
      "Button clicked 11 times\n"
     ]
    }
   ],
   "source": [
    "on_button_click() # prints \"Button clicked 11 times\""
   ]
  },
  {
   "cell_type": "markdown",
   "id": "9f70c122-9e0c-41aa-b204-d9c35478d62c",
   "metadata": {},
   "source": [
    "In this case, the global variable `counter` has been modified by some other part of the program, making it difficult to reason about the behavior of the `on_button_click()` function, since the output now depends on the value of the global variable, which is not clear from the `on_button_click()` function alone."
   ]
  },
  {
   "cell_type": "markdown",
   "id": "8394b5f6-9a2c-4ad8-904c-d15d37824ebc",
   "metadata": {},
   "source": [
    "**Example 2:**\n",
    "\n",
    "Imperative programming encourages you to think about *how* to perform a computation even when the function being computed is pure. E.g., fibonacci:\n",
    "\n",
    "$\\begin{array}{lcll}\n",
    "fib(n) & = & 0 & \\texttt{if}~n\\le 1\\\\\n",
    "       & = & 1 & \\texttt{if}~n=2\\\\\n",
    "       & = & fib(n-1) + fib(n-2) & \\texttt{otherwise}\\\\\n",
    "\\end{array}$"
   ]
  },
  {
   "cell_type": "code",
   "execution_count": 31,
   "id": "1ad02875-f4dd-4610-b2cc-6b7916aa60a2",
   "metadata": {},
   "outputs": [],
   "source": [
    "# Python\n",
    "# The following function describes *how* to compute nth fibonacci number.\n",
    "def fibonacci(n):\n",
    "    if n <= 1:\n",
    "        return 0\n",
    "    elif n == 2:\n",
    "        return 1\n",
    "    else:\n",
    "        a, b = 0, 1 \n",
    "        for i in range(2, n + 1):\n",
    "            a, b = b, a + b\n",
    "        return b"
   ]
  },
  {
   "cell_type": "code",
   "execution_count": 4,
   "id": "b56ab020-48ac-4220-a299-d0002dffe3a3",
   "metadata": {
    "collapsed": true,
    "jupyter": {
     "outputs_hidden": true
    },
    "tags": []
   },
   "outputs": [
    {
     "ename": "error",
     "evalue": "compile_error",
     "output_type": "error",
     "traceback": [
      "File \"[4]\", line 1, characters 0-5:\n1 | print(fibonacci(50))\n    ^^^^^\nError: Unbound value print\n"
     ]
    }
   ],
   "source": [
    "print(fibonacci(50))"
   ]
  },
  {
   "cell_type": "code",
   "execution_count": 6,
   "id": "e0aabb91-b19b-41dd-8782-921af69f38cf",
   "metadata": {},
   "outputs": [],
   "source": [
    "# Python\n",
    "# The following function describes *what* nth fibonacci number is. \n",
    "def fib(n):\n",
    "    if n <= 1:\n",
    "        return 0\n",
    "    elif n == 2:\n",
    "        return 1\n",
    "    else:\n",
    "        return (fib(n-1) + fib(n-2))"
   ]
  },
  {
   "cell_type": "code",
   "execution_count": 7,
   "id": "91771dde-ce54-4d9d-805b-6d39f6cd6f2b",
   "metadata": {
    "tags": []
   },
   "outputs": [
    {
     "name": "stdout",
     "output_type": "stream",
     "text": [
      "5702887\n"
     ]
    }
   ],
   "source": [
    "print(fib(35))"
   ]
  },
  {
   "cell_type": "code",
   "execution_count": 2,
   "id": "81bae3bf-6209-4617-bc63-02fe09c1ca02",
   "metadata": {},
   "outputs": [
    {
     "data": {
      "text/plain": [
       "val fib : int -> int = <fun>\n"
      ]
     },
     "execution_count": 2,
     "metadata": {},
     "output_type": "execute_result"
    }
   ],
   "source": [
    "(* Ocaml *)\n",
    "let rec fib n = if n <= 1 then 0\n",
    "            else if n = 2 then 1\n",
    "            else fib(n-1) + fib(n-2)"
   ]
  },
  {
   "cell_type": "code",
   "execution_count": 3,
   "id": "a77dfe20-6813-4141-82b2-4fb46810894f",
   "metadata": {},
   "outputs": [
    {
     "data": {
      "text/plain": [
       "- : int = 5702887\n"
      ]
     },
     "execution_count": 3,
     "metadata": {},
     "output_type": "execute_result"
    }
   ],
   "source": [
    "fib 35"
   ]
  },
  {
   "cell_type": "markdown",
   "id": "3c496faa-b066-4555-97b6-be2e2ec05d4a",
   "metadata": {},
   "source": [
    "#### Referential Transparency\n",
    "\n",
    "* Ability to replace an expression with an equivalent expression without affecting the result of the computation.\n",
    "* Makes it easier to reason about programs.\n",
    "* Enables compiler optimizations.\n",
    "\n",
    "**Example 3:**"
   ]
  },
  {
   "cell_type": "code",
   "execution_count": 6,
   "id": "47622ebb-aae2-4f35-8b1b-2b8520d80a69",
   "metadata": {},
   "outputs": [
    {
     "data": {
      "text/plain": [
       "- : int = 21\n"
      ]
     },
     "execution_count": 6,
     "metadata": {},
     "output_type": "execute_result"
    }
   ],
   "source": [
    "(* Ocaml *)\n",
    "let x = fib(6) in\n",
    "let y = fib(4) in\n",
    "let a = x + y in\n",
    "let b = x - y in\n",
    "a*b"
   ]
  },
  {
   "cell_type": "code",
   "execution_count": 7,
   "id": "aea6f57e-075c-472e-80f0-716b85ea4a72",
   "metadata": {},
   "outputs": [
    {
     "data": {
      "text/plain": [
       "- : int = 21\n"
      ]
     },
     "execution_count": 7,
     "metadata": {},
     "output_type": "execute_result"
    }
   ],
   "source": [
    "(fib(6) + fib(4)) * (fib(6) - fib(4))"
   ]
  },
  {
   "cell_type": "markdown",
   "id": "2ff504c6-ba97-4921-b8c1-f5fb7f719f93",
   "metadata": {},
   "source": [
    "## OCaml\n",
    "\n",
    "* A pretty good language for writing beautiful programs.\n",
    "* O=Objective, Caml=not important.\n",
    "* ML is a family of languages; originally the \"meta-language\" for verifying programs\n",
    "\n",
    "<center>\n",
    "\n",
    "<img src=\"images/ocaml.png\" alt=\"OCaml\" height=\"300\" width=\"300\">\n",
    "</center>\n"
   ]
  },
  {
   "cell_type": "markdown",
   "id": "d2d4357b-1c42-4bd8-8129-b1158f03ac11",
   "metadata": {},
   "source": [
    "* Immutable programming\n",
    "  + Variable’s values cannot destructively be changed; makes reasoning about program easier!\n",
    "* Algebraic datatypes and pattern matching\n",
    "  + Makes definition and manipulation of complex data structures easy to express\n",
    "* First-class functions\n",
    "  + Functions can be passed around like ordinary values\n",
    "* Static type-checking\n",
    "  + Reduce number of run-time errors\n",
    "* Automatic type inference\n",
    "  + No burden to write down types of every single variable\n",
    "* Parametric polymorphism\n",
    "  + Enables construction of abstractions that work across many data types\n",
    "* Garbage collection\n",
    "  + Automated memory management eliminates many run-time errors\n",
    "* Modules\n",
    "  + Advanced system for structuring large systems"
   ]
  },
  {
   "cell_type": "code",
   "execution_count": null,
   "id": "264c466e-aab5-4eb7-973a-5171422bec0a",
   "metadata": {},
   "outputs": [],
   "source": []
  }
 ],
 "metadata": {
  "kernelspec": {
   "display_name": "Python 3 (ipykernel)",
   "language": "python",
   "name": "python3"
  },
  "language_info": {
   "codemirror_mode": {
    "name": "ipython",
    "version": 3
   },
   "file_extension": ".py",
   "mimetype": "text/x-python",
   "name": "python",
   "nbconvert_exporter": "python",
   "pygments_lexer": "ipython3",
   "version": "3.10.8"
  }
 },
 "nbformat": 4,
 "nbformat_minor": 5
}
