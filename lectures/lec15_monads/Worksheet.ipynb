{
 "cells": [
  {
   "cell_type": "code",
   "execution_count": 1,
   "id": "45c8cf91-bd1f-42d2-a3d6-5a0a67b230b0",
   "metadata": {},
   "outputs": [
    {
     "data": {
      "text/plain": [
       "type exp = Val of int | Plus of exp * exp | Div of exp * exp\n"
      ]
     },
     "execution_count": 1,
     "metadata": {},
     "output_type": "execute_result"
    }
   ],
   "source": [
    "(*\n",
    " * Simple arithmetic language\n",
    " *)\n",
    "type exp = \n",
    "  | Val of int\n",
    "  | Plus of exp * exp\n",
    "  | Div of exp * exp"
   ]
  },
  {
   "cell_type": "code",
   "execution_count": 2,
   "id": "09f69870-60b9-444b-91d7-b1650ef739f1",
   "metadata": {},
   "outputs": [
    {
     "data": {
      "text/plain": [
       "val my_exp1 : exp = Plus (Div (Val 4, Val 2), Val 6)\n"
      ]
     },
     "execution_count": 2,
     "metadata": {},
     "output_type": "execute_result"
    }
   ],
   "source": [
    "let my_exp1 = Plus (Div (Val 4, Val 2), Val 6)"
   ]
  },
  {
   "cell_type": "code",
   "execution_count": 3,
   "id": "1ca2e78b-9c08-4dda-baa2-9dc752c414ef",
   "metadata": {},
   "outputs": [
    {
     "data": {
      "text/plain": [
       "val eval : exp -> int = <fun>\n"
      ]
     },
     "execution_count": 3,
     "metadata": {},
     "output_type": "execute_result"
    }
   ],
   "source": [
    "let rec eval (e:exp) : int = match e with\n",
    "  | Val n -> n\n",
    "  | Plus(e1,e2) ->\n",
    "    let v1 = eval e1 in\n",
    "    let v2 = eval e2 in\n",
    "    v1+v2\n",
    "  | Div (e1,e2) ->\n",
    "    let v1 = eval e1 in\n",
    "    let v2 = eval e2 in\n",
    "    v1/v2"
   ]
  },
  {
   "cell_type": "code",
   "execution_count": 4,
   "id": "466c217a-c369-4b08-bb7a-714268545d77",
   "metadata": {},
   "outputs": [
    {
     "data": {
      "text/plain": [
       "- : int = 8\n"
      ]
     },
     "execution_count": 4,
     "metadata": {},
     "output_type": "execute_result"
    }
   ],
   "source": [
    "eval my_exp1"
   ]
  },
  {
   "cell_type": "code",
   "execution_count": 5,
   "id": "fae8f329-fb60-4af1-a360-986e0bb7fb9d",
   "metadata": {},
   "outputs": [
    {
     "data": {
      "text/plain": [
       "val my_exp2 : exp = Plus (Div (Val 4, Val 0), Val 6)\n"
      ]
     },
     "execution_count": 5,
     "metadata": {},
     "output_type": "execute_result"
    }
   ],
   "source": [
    "let my_exp2 = Plus (Div (Val 4, Val 0), Val 6)"
   ]
  },
  {
   "cell_type": "code",
   "execution_count": 6,
   "id": "1be97b1d-8b5f-42ee-90ea-949df17e6757",
   "metadata": {},
   "outputs": [
    {
     "ename": "error",
     "evalue": "runtime_error",
     "output_type": "error",
     "traceback": [
      "\u001b[31mException: Division_by_zero.\nRaised by primitive operation at unknown location\nCalled from eval in file \"[3]\", line 4, characters 13-20\nCalled from Stdlib__fun.protect in file \"fun.ml\", line 33, characters 8-15\nRe-raised at Stdlib__fun.protect in file \"fun.ml\", line 38, characters 6-52\nCalled from Toploop.load_lambda in file \"toplevel/toploop.ml\", line 212, characters 4-150\n\u001b[0m"
     ]
    }
   ],
   "source": [
    "eval my_exp2"
   ]
  },
  {
   "cell_type": "code",
   "execution_count": 7,
   "id": "5ab16fe8-3df4-490d-8384-f5ef13070d6a",
   "metadata": {},
   "outputs": [
    {
     "data": {
      "text/plain": [
       "val eval : exp -> int option = <fun>\n"
      ]
     },
     "execution_count": 7,
     "metadata": {},
     "output_type": "execute_result"
    }
   ],
   "source": [
    "let rec eval (e:exp) : int option = match e with\n",
    "  | Val n -> Some n\n",
    "  | Plus(e1,e2) ->\n",
    "    let v1 = eval e1 in\n",
    "    begin match v1 with\n",
    "      | None -> None\n",
    "      | Some n1 ->\n",
    "        let v2 = eval e2 in\n",
    "        begin match v2 with\n",
    "          | None -> None\n",
    "          | Some n2 -> Some (n1+n2)\n",
    "        end\n",
    "    end\n",
    "  | Div (e1,e2) ->\n",
    "    let v1 = eval e1 in\n",
    "    begin match v1 with\n",
    "      | None -> None\n",
    "      | Some n1 ->\n",
    "        let v2 = eval e2 in\n",
    "        begin match v2 with\n",
    "          | None -> None\n",
    "          | Some 0 -> None\n",
    "          | Some n2 -> Some (n1/n2)\n",
    "        end\n",
    "    end"
   ]
  },
  {
   "cell_type": "code",
   "execution_count": 8,
   "id": "f8623a83-1a62-4dec-aa31-1edcc6c09739",
   "metadata": {},
   "outputs": [
    {
     "data": {
      "text/plain": [
       "- : int option = None\n"
      ]
     },
     "execution_count": 8,
     "metadata": {},
     "output_type": "execute_result"
    }
   ],
   "source": [
    "eval my_exp2"
   ]
  },
  {
   "cell_type": "code",
   "execution_count": 9,
   "id": "599c6860-8652-48b2-93d8-d3c048a67e0d",
   "metadata": {},
   "outputs": [
    {
     "data": {
      "text/plain": [
       "val bind : int option -> (int -> int option) -> int option = <fun>\n"
      ]
     },
     "execution_count": 9,
     "metadata": {},
     "output_type": "execute_result"
    },
    {
     "data": {
      "text/plain": [
       "val return : int -> int option = <fun>\n"
      ]
     },
     "execution_count": 9,
     "metadata": {},
     "output_type": "execute_result"
    }
   ],
   "source": [
    "(*\n",
    " * For any 2 computations f and g:\n",
    " * 1. Do computation f.\n",
    " * 2. If result of f is None then return None.\n",
    " * 3. If the result of f is Some v, then execute (g v)\n",
    " *)\n",
    " let bind (v : int option) (g: int -> int option) : int option = \n",
    "   match v with\n",
    "     | Some v1 -> g v1\n",
    "     | None -> None\n",
    " \n",
    "let return (v:int): int option = Some v "
   ]
  },
  {
   "cell_type": "code",
   "execution_count": 10,
   "id": "e4fb3341-5f47-462d-a535-7f74e30044a1",
   "metadata": {},
   "outputs": [
    {
     "data": {
      "text/plain": [
       "val eval : exp -> int option = <fun>\n"
      ]
     },
     "execution_count": 10,
     "metadata": {},
     "output_type": "execute_result"
    }
   ],
   "source": [
    "let rec eval (e:exp) : int option = match e with\n",
    "  | Val n -> Some n\n",
    "  | Plus(e1,e2) -> \n",
    "      bind (eval e1) \n",
    "           (fun v1 -> bind (eval e2) \n",
    "                           (fun v2 -> return (v1+v2))) \n",
    "  | Div (e1,e2) ->\n",
    "      bind (eval e1) \n",
    "           (fun v1 -> bind (eval e2) \n",
    "                           (fun v2 -> if v2 = 0 then None\n",
    "                                      else return (v1/v2)))"
   ]
  },
  {
   "cell_type": "code",
   "execution_count": 11,
   "id": "51983954-2ae6-4183-ae0b-12e0721cd68e",
   "metadata": {},
   "outputs": [
    {
     "data": {
      "text/plain": [
       "- : int option = None\n"
      ]
     },
     "execution_count": 11,
     "metadata": {},
     "output_type": "execute_result"
    }
   ],
   "source": [
    "eval my_exp2"
   ]
  },
  {
   "cell_type": "code",
   "execution_count": 12,
   "id": "0386f411-74d0-437d-b63c-01eb25609af0",
   "metadata": {},
   "outputs": [
    {
     "data": {
      "text/plain": [
       "val ( >>= ) : int option -> (int -> int option) -> int option = <fun>\n"
      ]
     },
     "execution_count": 12,
     "metadata": {},
     "output_type": "execute_result"
    }
   ],
   "source": [
    "let (>>=) = bind"
   ]
  },
  {
   "cell_type": "code",
   "execution_count": 13,
   "id": "a86e0e28-ab2a-4fce-a233-4c85b321a8ec",
   "metadata": {},
   "outputs": [
    {
     "data": {
      "text/plain": [
       "val eval : exp -> int option = <fun>\n"
      ]
     },
     "execution_count": 13,
     "metadata": {},
     "output_type": "execute_result"
    }
   ],
   "source": [
    "let rec eval (e:exp) : int option = match e with\n",
    "  | Val n -> Some n\n",
    "  | Plus(e1,e2) -> \n",
    "      eval e1 >>= fun v1 -> \n",
    "      eval e2 >>= fun v2 -> \n",
    "      return (v1+v2)\n",
    "  | Div (e1,e2) ->\n",
    "      eval e1 >>= fun v1 -> \n",
    "      eval e2 >>= fun v2 ->\n",
    "      if v2 = 0 then None else return (v1/v2)"
   ]
  },
  {
   "cell_type": "code",
   "execution_count": 14,
   "id": "d9274c80-452b-489a-8210-d645303ecbf1",
   "metadata": {},
   "outputs": [
    {
     "data": {
      "text/plain": [
       "val ( let* ) : int option -> (int -> int option) -> int option = <fun>\n"
      ]
     },
     "execution_count": 14,
     "metadata": {},
     "output_type": "execute_result"
    }
   ],
   "source": [
    "let (let*) = bind"
   ]
  },
  {
   "cell_type": "code",
   "execution_count": 15,
   "id": "fe32ff2e-ca9b-4d68-a707-60d67c5f48ae",
   "metadata": {},
   "outputs": [
    {
     "data": {
      "text/plain": [
       "val eval : exp -> int option = <fun>\n"
      ]
     },
     "execution_count": 15,
     "metadata": {},
     "output_type": "execute_result"
    }
   ],
   "source": [
    "let rec eval (e:exp) : int option = match e with\n",
    "  | Val n -> Some n\n",
    "  | Plus(e1,e2) -> \n",
    "      let* v1 = eval e1 in\n",
    "      let* v2 = eval e2 in\n",
    "      return (v1+v2)\n",
    "  | Div (e1,e2) ->\n",
    "      let* v1 = eval e1 in\n",
    "      let* v2 = eval e2 in\n",
    "      if v2 = 0 then None else return (v1/v2)"
   ]
  },
  {
   "cell_type": "code",
   "execution_count": 16,
   "id": "0206de36-6362-462d-99df-8e180c1d3482",
   "metadata": {},
   "outputs": [
    {
     "data": {
      "text/plain": [
       "val eval_exn : exp -> int = <fun>\n"
      ]
     },
     "execution_count": 16,
     "metadata": {},
     "output_type": "execute_result"
    }
   ],
   "source": [
    "let rec eval_exn (e:exp) : int = match e with\n",
    "  | Val n -> n\n",
    "  | Plus(e1,e2) ->\n",
    "    let v1 = eval_exn e1 in\n",
    "    let v2 = eval_exn e2 in\n",
    "    v1+v2\n",
    "  | Div (e1,e2) ->\n",
    "    let v1 = eval_exn e1 in\n",
    "    let v2 = eval_exn e2 in\n",
    "    v1/v2"
   ]
  },
  {
   "cell_type": "code",
   "execution_count": 17,
   "id": "f33b6a74-c0bf-4ac6-8d2d-58234125f104",
   "metadata": {},
   "outputs": [
    {
     "data": {
      "text/plain": [
       "type 'a t = 'a option\n"
      ]
     },
     "execution_count": 17,
     "metadata": {},
     "output_type": "execute_result"
    },
    {
     "data": {
      "text/plain": [
       "val return : 'a -> 'a t = <fun>\n"
      ]
     },
     "execution_count": 17,
     "metadata": {},
     "output_type": "execute_result"
    },
    {
     "data": {
      "text/plain": [
       "val bind : 'a option -> ('a -> 'a option) -> 'a option = <fun>\n"
      ]
     },
     "execution_count": 17,
     "metadata": {},
     "output_type": "execute_result"
    }
   ],
   "source": [
    "type 'a t = 'a option\n",
    "let return (v:'a) : 'a t = Some v\n",
    "let bind (v:'a option) (f : 'a -> 'a option) : 'a option = \n",
    "  match v with\n",
    "  | None -> None\n",
    "  | Some v -> f v"
   ]
  },
  {
   "cell_type": "code",
   "execution_count": 18,
   "id": "44b889b1-e83d-4337-bd7c-b5c147acb0df",
   "metadata": {},
   "outputs": [
    {
     "data": {
      "text/plain": [
       "module type MONAD =\n",
       "  sig\n",
       "    type 'a t\n",
       "    val return : 'a -> 'a t\n",
       "    val bind : 'a t -> ('a -> 'a t) -> 'a t\n",
       "  end\n"
      ]
     },
     "execution_count": 18,
     "metadata": {},
     "output_type": "execute_result"
    }
   ],
   "source": [
    "module type MONAD = sig\n",
    "type 'a t\n",
    "val return: 'a -> 'a t\n",
    "val bind: 'a t -> ('a -> 'a t) -> 'a t\n",
    "end"
   ]
  },
  {
   "cell_type": "code",
   "execution_count": 19,
   "id": "ad9281dc-f507-44a8-a266-03959d4de3d3",
   "metadata": {},
   "outputs": [
    {
     "data": {
      "text/plain": [
       "val list_return : 'a -> 'a list = <fun>\n"
      ]
     },
     "execution_count": 19,
     "metadata": {},
     "output_type": "execute_result"
    },
    {
     "data": {
      "text/plain": [
       "val list_bind : 'a list -> ('a -> 'a list) -> 'a list = <fun>\n"
      ]
     },
     "execution_count": 19,
     "metadata": {},
     "output_type": "execute_result"
    }
   ],
   "source": [
    "let list_return (v: 'a) : 'a list = [v]\n",
    "(* val list_bind : 'a list -> ('a -> 'a list) -> 'a list *)\n",
    "let list_bind (l: 'a list) (f: 'a -> 'a list) : 'a list = \n",
    "  List.concat (List.map f l)"
   ]
  },
  {
   "cell_type": "markdown",
   "id": "fcd5c305-5ad4-4ca2-9769-88beebb89be6",
   "metadata": {},
   "source": [
    "### Monad Laws\n",
    "\n",
    "\n",
    "1. Left Identity: `(return v) >>= f` = `f v` \n",
    "2. Right Identity: `f >>= return = f`\n",
    "3. Associativity: `(m >>= f) >>= g = m >>= (fun x -> f x >= g)`"
   ]
  },
  {
   "cell_type": "code",
   "execution_count": 20,
   "id": "12c0ab4e-18a1-48ef-b009-17532fd7051d",
   "metadata": {},
   "outputs": [
    {
     "ename": "error",
     "evalue": "compile_error",
     "output_type": "error",
     "traceback": [
      "File \"[20]\", line 1, characters 15-16:\n1 | (return 2) >>= f\n                   ^\nError: Unbound value f\n"
     ]
    }
   ],
   "source": [
    "(return 2) >>= f\n",
    "=\n",
    "bind (return 2) f\n",
    "=\n",
    "match return 2 with\n",
    " | None -> None\n",
    " | Some 2 -> f 2\n",
    "=\n",
    "match Some 2 with\n",
    " | None -> None\n",
    " | Some 2 -> f 2\n",
    "=\n",
    "f 2"
   ]
  },
  {
   "cell_type": "markdown",
   "id": "dea83209-ea02-40c1-9fc4-df4000bacd58",
   "metadata": {},
   "source": [
    "```ocaml\n",
    "(*\n",
    " * In OCaml\n",
    " *)\n",
    "  let * v1 = c1 in\n",
    "  let * v2 = c2 v1 in\n",
    "  ...\n",
    "  return vn\n",
    "```\n",
    "\n",
    "\n",
    "```haskell\n",
    "(*\n",
    " * In Haskell\n",
    " *)\n",
    " do {\n",
    "   v1 <- c1;\n",
    "   v2 <- c2 v1;\n",
    "   ...\n",
    "   return vn\n",
    " }\n",
    " ```"
   ]
  },
  {
   "cell_type": "code",
   "execution_count": 21,
   "id": "966b107e-cf11-4a5c-baea-6d4ed70105fe",
   "metadata": {},
   "outputs": [
    {
     "data": {
      "text/plain": [
       "val count : int ref = {contents = 0}\n"
      ]
     },
     "execution_count": 21,
     "metadata": {},
     "output_type": "execute_result"
    }
   ],
   "source": [
    "(*\n",
    " * Mutations\n",
    " * New syntax:\n",
    " *  1. ref: create a reference\n",
    " *  2. ! : dereference a reference\n",
    " *  3. := : Update a reference.\n",
    " *)\n",
    "let count = ref 0 (* int *count *)"
   ]
  },
  {
   "cell_type": "code",
   "execution_count": 22,
   "id": "f4c6caca-3b0d-4c16-90c6-4530cbd1aacf",
   "metadata": {},
   "outputs": [
    {
     "data": {
      "text/plain": [
       "- : unit = ()\n"
      ]
     },
     "execution_count": 22,
     "metadata": {},
     "output_type": "execute_result"
    }
   ],
   "source": [
    "count := !count + 1"
   ]
  },
  {
   "cell_type": "code",
   "execution_count": 23,
   "id": "8461638b-3d9e-4920-9fc8-603e5105e76c",
   "metadata": {},
   "outputs": [
    {
     "data": {
      "text/plain": [
       "- : int = 1\n"
      ]
     },
     "execution_count": 23,
     "metadata": {},
     "output_type": "execute_result"
    }
   ],
   "source": [
    "!count (* *ptr *)"
   ]
  },
  {
   "cell_type": "code",
   "execution_count": 24,
   "id": "160b9320-4cf9-42ea-9064-41aa202b995b",
   "metadata": {},
   "outputs": [
    {
     "data": {
      "text/plain": [
       "val cnt : int ref = {contents = 1}\n"
      ]
     },
     "execution_count": 24,
     "metadata": {},
     "output_type": "execute_result"
    }
   ],
   "source": [
    "(*\n",
    " * cnt and count are aliases\n",
    " *)\n",
    "let cnt = count"
   ]
  },
  {
   "cell_type": "code",
   "execution_count": 25,
   "id": "025c837a-ecae-49b3-a4a0-6d58ee32a828",
   "metadata": {},
   "outputs": [
    {
     "data": {
      "text/plain": [
       "- : unit = ()\n"
      ]
     },
     "execution_count": 25,
     "metadata": {},
     "output_type": "execute_result"
    }
   ],
   "source": [
    "cnt := !cnt + 10"
   ]
  },
  {
   "cell_type": "code",
   "execution_count": 26,
   "id": "586a9306-5263-4b5b-b987-6ea58135fa74",
   "metadata": {},
   "outputs": [
    {
     "data": {
      "text/plain": [
       "- : int = 11\n"
      ]
     },
     "execution_count": 26,
     "metadata": {},
     "output_type": "execute_result"
    }
   ],
   "source": [
    "!count"
   ]
  },
  {
   "cell_type": "code",
   "execution_count": 27,
   "id": "00f49b84-6c95-4f62-8483-688e9f7f758a",
   "metadata": {},
   "outputs": [
    {
     "name": "stderr",
     "output_type": "stream",
     "text": [
      "File \"[27]\", line 3, characters 4-7:\n",
      "3 | let cnt = cnt + 1 in\n",
      "        ^^^\n",
      "Warning 26 [unused-var]: unused variable cnt.\n"
     ]
    },
    {
     "data": {
      "text/plain": [
       "- : int = 1\n"
      ]
     },
     "execution_count": 27,
     "metadata": {},
     "output_type": "execute_result"
    }
   ],
   "source": [
    "let count = 1 in\n",
    "let cnt = count in\n",
    "let cnt = cnt + 1 in\n",
    "count"
   ]
  },
  {
   "cell_type": "markdown",
   "id": "64faa69b-a8a8-4c06-8153-195507bde8dd",
   "metadata": {},
   "source": [
    "```ocaml\n",
    "let x = f () in\n",
    "let y = f () in\n",
    "x+y\n",
    "```\n",
    "\n",
    "```ocaml\n",
    "let x = f () in\n",
    "let y = x in\n",
    "x+y\n",
    "```"
   ]
  },
  {
   "cell_type": "code",
   "execution_count": 28,
   "id": "21de1ea8-ea1f-4b2d-b454-b1613ad0ce3b",
   "metadata": {},
   "outputs": [
    {
     "data": {
      "text/plain": [
       "val get_fresh_var : unit -> string = <fun>\n"
      ]
     },
     "execution_count": 28,
     "metadata": {},
     "output_type": "execute_result"
    }
   ],
   "source": [
    "(*\n",
    " * let x = e1 in e2\n",
    " * e --> v1\n",
    " * [v1/x] e2 --> v2\n",
    " \n",
    " * let x = \n",
    "     let y = 2 in y+2 in\n",
    "   foo(x)\n",
    "     \n",
    " *)\n",
    "\n",
    "let get_fresh_var = \n",
    "  let i (*addr*) = ref 0 in\n",
    "  fun () ->\n",
    "    begin\n",
    "      i(*addr*) := !i(*!addr*) + 1;\n",
    "      \"v_\"^(string_of_int !i)\n",
    "    end\n",
    "(*\n",
    " * get_fresh_var = \n",
    " *  fun () ->\n",
    " *   begin\n",
    " *     addr := !addr + 1;\n",
    "       \"v_\"^(string_of_int !addr)\n",
    " *   enb\n",
    " *)"
   ]
  },
  {
   "cell_type": "code",
   "execution_count": 29,
   "id": "55f89034-87b5-4f16-9699-b82bb5ed9fc7",
   "metadata": {},
   "outputs": [
    {
     "data": {
      "text/plain": [
       "- : string = \"v_1\"\n"
      ]
     },
     "execution_count": 29,
     "metadata": {},
     "output_type": "execute_result"
    }
   ],
   "source": [
    "get_fresh_var ()"
   ]
  },
  {
   "cell_type": "code",
   "execution_count": 30,
   "id": "4c4b1848-5b02-4daa-b9e0-9c40f3bd43fb",
   "metadata": {},
   "outputs": [
    {
     "data": {
      "text/plain": [
       "val foo : unit -> int = <fun>\n"
      ]
     },
     "execution_count": 30,
     "metadata": {},
     "output_type": "execute_result"
    }
   ],
   "source": [
    "let foo = \n",
    " let x = 2 in\n",
    " fun () -> x*2\n",
    " \n",
    "(*\n",
    " * foo = fun () -> 2*2\n",
    "\\*)"
   ]
  },
  {
   "cell_type": "code",
   "execution_count": 31,
   "id": "be511239-88ac-41c6-899c-4fab52b63d73",
   "metadata": {},
   "outputs": [
    {
     "data": {
      "text/plain": [
       "- : int = 4\n"
      ]
     },
     "execution_count": 31,
     "metadata": {},
     "output_type": "execute_result"
    }
   ],
   "source": [
    "foo ()"
   ]
  },
  {
   "cell_type": "code",
   "execution_count": 32,
   "id": "1eb2874c-6ef6-4754-b702-a074fa4914b5",
   "metadata": {},
   "outputs": [
    {
     "data": {
      "text/plain": [
       "- : string = \"v_2\"\n"
      ]
     },
     "execution_count": 32,
     "metadata": {},
     "output_type": "execute_result"
    }
   ],
   "source": [
    "get_fresh_var() \n",
    "(*\n",
    " * actual type: get_fresh_var: unit -> string\n",
    " * hypothetical type: get_fresh_var: mem -> (string * mem) \n",
    " * get_fresh_var is a side-effecting function\n",
    " * side effects are Bad!!\n",
    " *)"
   ]
  },
  {
   "cell_type": "code",
   "execution_count": 33,
   "id": "5ef47595-cc58-4517-b332-853981c1450f",
   "metadata": {},
   "outputs": [
    {
     "data": {
      "text/plain": [
       "val count : int ref = {contents = 0}\n"
      ]
     },
     "execution_count": 33,
     "metadata": {},
     "output_type": "execute_result"
    }
   ],
   "source": [
    "let count = ref 0"
   ]
  },
  {
   "cell_type": "code",
   "execution_count": 34,
   "id": "92a5f1d6-52a8-429c-acdd-bf82404ce6d0",
   "metadata": {},
   "outputs": [
    {
     "data": {
      "text/plain": [
       "- : int = 0\n"
      ]
     },
     "execution_count": 34,
     "metadata": {},
     "output_type": "execute_result"
    }
   ],
   "source": [
    "!count"
   ]
  },
  {
   "cell_type": "code",
   "execution_count": 35,
   "id": "b4fc51b3-8018-417d-86bd-50ed4c42c9b2",
   "metadata": {},
   "outputs": [
    {
     "data": {
      "text/plain": [
       "val fib : int -> int = <fun>\n"
      ]
     },
     "execution_count": 35,
     "metadata": {},
     "output_type": "execute_result"
    }
   ],
   "source": [
    "\n",
    "(*\n",
    " * Real type : int -> int\n",
    " * Hypothetical type of fib:\n",
    " *  int -> mem -> (mem*int)\n",
    " *)\n",
    "let rec fib (n:int) = \n",
    "  begin\n",
    "  count := !count + 1;\n",
    "  if n <= 2 then 1 \n",
    "  else  fib (n-1) + fib (n-2)\n",
    "  end"
   ]
  },
  {
   "cell_type": "code",
   "execution_count": 36,
   "id": "814f23fe-6bdd-49b5-b3ee-bea64b42b600",
   "metadata": {},
   "outputs": [
    {
     "data": {
      "text/plain": [
       "- : int = 2\n"
      ]
     },
     "execution_count": 36,
     "metadata": {},
     "output_type": "execute_result"
    }
   ],
   "source": [
    "\n",
    "fib 3"
   ]
  },
  {
   "cell_type": "code",
   "execution_count": 37,
   "id": "155180c1-a867-472d-a011-55e934473ab7",
   "metadata": {},
   "outputs": [
    {
     "data": {
      "text/plain": [
       "- : int = 3\n"
      ]
     },
     "execution_count": 37,
     "metadata": {},
     "output_type": "execute_result"
    }
   ],
   "source": [
    "!count"
   ]
  },
  {
   "cell_type": "code",
   "execution_count": 38,
   "id": "28aee08f-197b-4acc-be9e-ed843998e3ca",
   "metadata": {},
   "outputs": [
    {
     "data": {
      "text/plain": [
       "- : unit = ()\n"
      ]
     },
     "execution_count": 38,
     "metadata": {},
     "output_type": "execute_result"
    }
   ],
   "source": [
    "count := 0"
   ]
  },
  {
   "cell_type": "code",
   "execution_count": 39,
   "id": "4e171809-5f8f-4224-af81-fd5bfedd6dd1",
   "metadata": {},
   "outputs": [
    {
     "data": {
      "text/plain": [
       "- : int = 3\n"
      ]
     },
     "execution_count": 39,
     "metadata": {},
     "output_type": "execute_result"
    }
   ],
   "source": [
    "\n",
    "fib 4"
   ]
  },
  {
   "cell_type": "code",
   "execution_count": 40,
   "id": "593f4f65-c6ed-4b8d-9fef-8b0829eac59a",
   "metadata": {},
   "outputs": [
    {
     "data": {
      "text/plain": [
       "- : int = 5\n"
      ]
     },
     "execution_count": 40,
     "metadata": {},
     "output_type": "execute_result"
    }
   ],
   "source": [
    "!count"
   ]
  },
  {
   "cell_type": "code",
   "execution_count": 41,
   "id": "bd1e015f-8d5b-48f9-bdc5-6ba643cd8696",
   "metadata": {},
   "outputs": [
    {
     "data": {
      "text/plain": [
       "- : int = 2\n"
      ]
     },
     "execution_count": 41,
     "metadata": {},
     "output_type": "execute_result"
    }
   ],
   "source": [
    "fib 3"
   ]
  },
  {
   "cell_type": "code",
   "execution_count": 42,
   "id": "7a75e325-8bae-4508-a847-7735b88d32ed",
   "metadata": {},
   "outputs": [
    {
     "data": {
      "text/plain": [
       "- : int = 8\n"
      ]
     },
     "execution_count": 42,
     "metadata": {},
     "output_type": "execute_result"
    }
   ],
   "source": [
    "!count"
   ]
  },
  {
   "cell_type": "code",
   "execution_count": 43,
   "id": "5746333e-ba1a-4c86-905a-a898ede7ddf9",
   "metadata": {},
   "outputs": [
    {
     "data": {
      "text/plain": [
       "type state = int\n"
      ]
     },
     "execution_count": 43,
     "metadata": {},
     "output_type": "execute_result"
    },
    {
     "data": {
      "text/plain": [
       "val fib_aux : int -> state -> state * int = <fun>\n"
      ]
     },
     "execution_count": 43,
     "metadata": {},
     "output_type": "execute_result"
    }
   ],
   "source": [
    "type state = int\n",
    "(*\n",
    " * \"threading the state\"\n",
    " *)\n",
    "let rec fib_aux (n:int) (s:state) : (state*int) = \n",
    "  if n<=2 then (s+1,1)\n",
    "  else\n",
    "    let (s1,v1) = fib_aux (n-1) s in\n",
    "    let (s2,v2) = fib_aux (n-2) s1 in\n",
    "    (s2+1, v1+v2) "
   ]
  },
  {
   "cell_type": "code",
   "execution_count": 44,
   "id": "40abcb17-3383-430a-9235-b31c25069da4",
   "metadata": {},
   "outputs": [
    {
     "data": {
      "text/plain": [
       "val fib : int -> state * int = <fun>\n"
      ]
     },
     "execution_count": 44,
     "metadata": {},
     "output_type": "execute_result"
    }
   ],
   "source": [
    "let fib n = fib_aux n 0"
   ]
  },
  {
   "cell_type": "code",
   "execution_count": 45,
   "id": "d3139fb8-7de4-48c9-acd2-7d53054b85d6",
   "metadata": {},
   "outputs": [
    {
     "data": {
      "text/plain": [
       "- : int -> state -> state * int = <fun>\n"
      ]
     },
     "execution_count": 45,
     "metadata": {},
     "output_type": "execute_result"
    }
   ],
   "source": [
    "fib_aux"
   ]
  },
  {
   "cell_type": "code",
   "execution_count": 46,
   "id": "e3e3326c-b3dc-41ba-8f64-3427a6ac2bb3",
   "metadata": {},
   "outputs": [
    {
     "data": {
      "text/plain": [
       "type stateful_computation_returning_int = state -> state * int\n"
      ]
     },
     "execution_count": 46,
     "metadata": {},
     "output_type": "execute_result"
    }
   ],
   "source": [
    "type stateful_computation_returning_int = state -> state*int"
   ]
  },
  {
   "cell_type": "code",
   "execution_count": 47,
   "id": "722f8073-4c5e-4df3-bca5-2d18b8f5117c",
   "metadata": {},
   "outputs": [
    {
     "data": {
      "text/plain": [
       "val fib_aux : int -> stateful_computation_returning_int = <fun>\n"
      ]
     },
     "execution_count": 47,
     "metadata": {},
     "output_type": "execute_result"
    }
   ],
   "source": [
    "let fib_aux: (int -> stateful_computation_returning_int) = fib_aux"
   ]
  },
  {
   "cell_type": "code",
   "execution_count": 71,
   "id": "99059698-2e4b-4788-9e51-c5d20d66506d",
   "metadata": {},
   "outputs": [
    {
     "data": {
      "text/plain": [
       "module IntStateComp :\n",
       "  sig\n",
       "    type state = int\n",
       "    type 'a t = state -> state * 'a\n",
       "    val bind : 'a t -> ('a -> 'b t) -> 'b t\n",
       "    val return : 'a -> 'a t\n",
       "    val get : state t\n",
       "    val put : state -> unit t\n",
       "    val run_state : 'a t -> state -> state * 'a\n",
       "  end\n"
      ]
     },
     "execution_count": 71,
     "metadata": {},
     "output_type": "execute_result"
    }
   ],
   "source": [
    "(*\n",
    " * A computation on integer state\n",
    " *)\n",
    "module IntStateComp = struct\n",
    "  type state = int\n",
    "  (*\n",
    "   * This is a stateful compuation on integer state that returns a value of type 'a\n",
    "   *)\n",
    "  type 'a t = state (* initial state *) -> state(* final state *) * 'a (* return value *)\n",
    "  \n",
    "  let bind (c1: 'a t) (c2: 'a -> 'b t) : 'b t =\n",
    "    fun (s:state) -> \n",
    "      let (s1, x) = c1 s in\n",
    "      c2 x s1\n",
    "      \n",
    "   let return (x:'a) : 'a t = fun (s:state) -> (s,x)\n",
    "   \n",
    "   (* let inc : unit t = fun (s:state) -> (s+1,()) *)\n",
    "   \n",
    "   let get: state t = fun (s:state) -> (s,s)\n",
    "   \n",
    "   let put (new_state:state) : unit t = fun (old_state:state) -> (new_state,())\n",
    "   \n",
    "   let run_state (state_comp: 'a t) (init_state:state) : (state*'a) = state_comp init_state\n",
    "end"
   ]
  },
  {
   "cell_type": "code",
   "execution_count": 59,
   "id": "ac82622e-686d-4450-ae8a-fa82c7892290",
   "metadata": {},
   "outputs": [
    {
     "data": {
      "text/plain": [
       "val state_is_even : IntStateComp/2.state -> IntStateComp/2.state * bool =\n",
       "  <fun>\n"
      ]
     },
     "execution_count": 59,
     "metadata": {},
     "output_type": "execute_result"
    }
   ],
   "source": [
    "(* \n",
    " * bool IntStateComp.t\n",
    " *)\n",
    "let state_is_even = fun (s:state) : (state*bool) -> (s, s mod 2 = 0)"
   ]
  },
  {
   "cell_type": "code",
   "execution_count": 60,
   "id": "b8b96712-2b2b-4538-a1df-6e7b46f7e27f",
   "metadata": {},
   "outputs": [
    {
     "data": {
      "text/plain": [
       "val inc_if_true : bool -> IntStateComp/2.state -> IntStateComp/2.state * unit =\n",
       "  <fun>\n"
      ]
     },
     "execution_count": 60,
     "metadata": {},
     "output_type": "execute_result"
    }
   ],
   "source": [
    "(*\n",
    " * bool -> unit IntStateComp.t\n",
    " *)\n",
    "let inc_if_true (b:bool) (s:state) : (state*unit) = \n",
    "   if b then (s+1,()) else (s,())"
   ]
  },
  {
   "cell_type": "code",
   "execution_count": 61,
   "id": "ef8576ce-2693-4b47-b6da-dad1539ff00c",
   "metadata": {},
   "outputs": [
    {
     "data": {
      "text/plain": [
       "val inc_if_state_is_even :\n",
       "  IntStateComp/2.state -> IntStateComp/2.state * unit = <fun>\n"
      ]
     },
     "execution_count": 61,
     "metadata": {},
     "output_type": "execute_result"
    }
   ],
   "source": [
    "let inc_if_state_is_even (s:state) : (state*unit) = \n",
    "  let (s1,b) = state_is_even s in\n",
    "  inc_if_true b s1"
   ]
  },
  {
   "cell_type": "code",
   "execution_count": 62,
   "id": "98bda08c-84a6-40c8-b0b4-c09a7b099f33",
   "metadata": {},
   "outputs": [
    {
     "data": {
      "text/plain": [
       "val ( >>= ) :\n",
       "  'a IntStateComp.t -> ('a -> 'b IntStateComp.t) -> 'b IntStateComp.t = <fun>\n"
      ]
     },
     "execution_count": 62,
     "metadata": {},
     "output_type": "execute_result"
    }
   ],
   "source": [
    "let (>>=) = IntStateComp.bind"
   ]
  },
  {
   "cell_type": "code",
   "execution_count": 63,
   "id": "4ebbc8f4-dab2-496e-9f57-af6e55ad59f9",
   "metadata": {},
   "outputs": [
    {
     "data": {
      "text/plain": [
       "val ( let* ) :\n",
       "  'a IntStateComp.t -> ('a -> 'b IntStateComp.t) -> 'b IntStateComp.t = <fun>\n"
      ]
     },
     "execution_count": 63,
     "metadata": {},
     "output_type": "execute_result"
    }
   ],
   "source": [
    "let (let*) = IntStateComp.bind"
   ]
  },
  {
   "cell_type": "code",
   "execution_count": 64,
   "id": "6dc777de-c0fb-4adb-a381-ebb1d9e9287b",
   "metadata": {},
   "outputs": [
    {
     "data": {
      "text/plain": [
       "val inc : unit IntStateComp.t = <fun>\n"
      ]
     },
     "execution_count": 64,
     "metadata": {},
     "output_type": "execute_result"
    }
   ],
   "source": [
    "let inc = IntStateComp.inc"
   ]
  },
  {
   "cell_type": "code",
   "execution_count": 89,
   "id": "6a1056cd-10b0-42ab-bb37-de63c0771139",
   "metadata": {},
   "outputs": [
    {
     "data": {
      "text/plain": [
       "val fib_aux : int -> int IntStateComp.t = <fun>\n"
      ]
     },
     "execution_count": 89,
     "metadata": {},
     "output_type": "execute_result"
    }
   ],
   "source": [
    "open IntStateComp\n",
    "(*\n",
    " * Monad is essentially a programmable semi-colon. \n",
    " * Haskell syntax makes this explicit.\n",
    " *\n",
    "  do {\n",
    "      old_state <- get;\n",
    "      let new_state = old_state + 1 in\n",
    "      put new_state;\n",
    "      if (n<=2) then\n",
    "        return 1\n",
    "      else \n",
    "        v1 <- fib_aux (n-1);\n",
    "        v2 <- fub_aux (n-2);\n",
    "        n <- get;\n",
    "        Printf.printf ...;\n",
    "        return (v1+v2);\n",
    "      }\n",
    "  }\n",
    "*)\n",
    "let rec fib_aux (n:int) : int IntStateComp.t = \n",
    "  let* old_state = get in\n",
    "  let new_state = old_state+1 in\n",
    "  let* () = put new_state in\n",
    "  if n<=2 then return 1\n",
    "  else\n",
    "    let* v1 = fib_aux (n-1) in\n",
    "    let* v2 = fib_aux (n-2) in\n",
    "    let* n = get in\n",
    "    let _ = Printf.printf \"So far %d recursive calls\\n\" n in\n",
    "    return (v1+v2)"
   ]
  },
  {
   "cell_type": "code",
   "execution_count": 85,
   "id": "8a367e97-7df1-4ffd-8471-280ca16c207d",
   "metadata": {},
   "outputs": [
    {
     "data": {
      "text/plain": [
       "val fib : int -> int = <fun>\n"
      ]
     },
     "execution_count": 85,
     "metadata": {},
     "output_type": "execute_result"
    }
   ],
   "source": [
    "let rec fib (n:int) = \n",
    "  let _ = count := !count + 1 in\n",
    "  if n <= 2 then 1 \n",
    "  else\n",
    "   let v1 = fib (n-1) in\n",
    "   let v2 = fib (n-2) in\n",
    "\n",
    "   v1+v2"
   ]
  },
  {
   "cell_type": "code",
   "execution_count": 86,
   "id": "71412b2f-181b-413d-95eb-41dca904e65b",
   "metadata": {},
   "outputs": [
    {
     "data": {
      "text/plain": [
       "val fib_3_comp : int IntStateComp.t = <fun>\n"
      ]
     },
     "execution_count": 86,
     "metadata": {},
     "output_type": "execute_result"
    }
   ],
   "source": [
    "let fib_3_comp = (fib_aux 3)"
   ]
  },
  {
   "cell_type": "code",
   "execution_count": 87,
   "id": "c942c92d-869f-4fd8-9a77-836f8bdc2313",
   "metadata": {},
   "outputs": [
    {
     "data": {
      "text/plain": [
       "- : IntStateComp.state * int = (3, 2)\n"
      ]
     },
     "execution_count": 87,
     "metadata": {},
     "output_type": "execute_result"
    }
   ],
   "source": [
    "IntStateComp.run_state fib_3_comp 0 "
   ]
  },
  {
   "cell_type": "code",
   "execution_count": 88,
   "id": "a27b8f5a-68ec-4297-9723-f2aa1c88a9e8",
   "metadata": {},
   "outputs": [
    {
     "name": "stdout",
     "output_type": "stream",
     "text": [
      "So far 3 recursive calls\n"
     ]
    },
    {
     "data": {
      "text/plain": [
       "- : unit = ()\n"
      ]
     },
     "execution_count": 88,
     "metadata": {},
     "output_type": "execute_result"
    }
   ],
   "source": [
    "flush stdout"
   ]
  },
  {
   "cell_type": "code",
   "execution_count": 90,
   "id": "2c6b8c53-cf37-4c8e-b27b-d82966c4d116",
   "metadata": {},
   "outputs": [
    {
     "data": {
      "text/plain": [
       "module type STATE =\n",
       "  sig\n",
       "    type state\n",
       "    type 'a t\n",
       "    val return : 'a -> 'a t\n",
       "    val bind : 'a t -> ('a -> 'b t) -> 'b t\n",
       "    val get : state t\n",
       "    val put : state -> unit t\n",
       "    val run_state : state -> 'a t -> state * 'a\n",
       "  end\n"
      ]
     },
     "execution_count": 90,
     "metadata": {},
     "output_type": "execute_result"
    }
   ],
   "source": [
    "module type STATE = sig\n",
    "  type state\n",
    "  type 'a t\n",
    "  val return : 'a -> 'a t\n",
    "  val bind: 'a t -> ('a -> 'b t) -> 'b t\n",
    "  val get: state t\n",
    "  val put: state -> unit t\n",
    "  val run_state: state -> 'a t -> state*'a\n",
    "end"
   ]
  },
  {
   "cell_type": "code",
   "execution_count": 94,
   "id": "2ebf8d7c-dbdc-43f0-9df5-436f41d249d0",
   "metadata": {},
   "outputs": [
    {
     "data": {
      "text/plain": [
       "module State :\n",
       "  functor (S : sig type t end) ->\n",
       "    sig\n",
       "      type state = S.t\n",
       "      type 'a t\n",
       "      val return : 'a -> 'a t\n",
       "      val bind : 'a t -> ('a -> 'b t) -> 'b t\n",
       "      val get : state t\n",
       "      val put : state -> unit t\n",
       "      val run_state : state -> 'a t -> state * 'a\n",
       "    end\n"
      ]
     },
     "execution_count": 94,
     "metadata": {},
     "output_type": "execute_result"
    }
   ],
   "source": [
    "(*\n",
    "module type STATE_ARG = struct\n",
    " type state\n",
    "end\n",
    "*)\n",
    "\n",
    "module State(S: sig\n",
    "                  type t\n",
    "                end) : (STATE with type state = S.t) = struct\n",
    "  type state = S.t\n",
    "  (*\n",
    "   * This is a stateful compuation on integer state that returns a value of type 'a\n",
    "   *)\n",
    "  type 'a t = state (* initial state *) -> state(* final state *) * 'a (* return value *)\n",
    "  \n",
    "  let bind (c1: 'a t) (c2: 'a -> 'b t) : 'b t =\n",
    "    fun (s:state) -> \n",
    "      let (s1, x) = c1 s in\n",
    "      c2 x s1\n",
    "      \n",
    "   let return (x:'a) : 'a t = fun (s:state) -> (s,x)\n",
    "   \n",
    "   let get: state t = fun (s:state) -> (s,s)\n",
    "   \n",
    "   let put (new_state:state) : unit t = fun (old_state:state) -> (new_state,())\n",
    "   \n",
    "   let run_state (init_state:state) (state_comp: 'a t)  : (state*'a) = state_comp init_state\n",
    "end"
   ]
  },
  {
   "cell_type": "markdown",
   "id": "159b39e9-5810-471a-81ca-f7075137940f",
   "metadata": {},
   "source": [
    "(*\n",
    " * Stack machine\n",
    " * instructions:\n",
    " *   1. push\n",
    " *   2. add \n",
    " *   3. ite \n",
    " *)\n",
    "```ocaml\n",
    "module type NAIVE_STACK_MACHINE = sig\n",
    "    type stack = int list\n",
    "    val push: int -> stack -> stack\n",
    "    val add: stack -> stack\n",
    "    val ite: stack -> stack\n",
    "end\n",
    "\n",
    "(* threading the state *)\n",
    "\n",
    "let init_stack = [] in\n",
    "let s1 = push 2 init_stack in\n",
    "let s2 = push 3 s1 in\n",
    "let s2 = add s2 in\n",
    ",...\n",
    "```"
   ]
  },
  {
   "cell_type": "code",
   "execution_count": 95,
   "id": "c6f434c4-35f6-4add-8f73-8efc7cbc2296",
   "metadata": {},
   "outputs": [
    {
     "data": {
      "text/plain": [
       "module StackStateMonad :\n",
       "  sig\n",
       "    type state = int list\n",
       "    type 'a t\n",
       "    val return : 'a -> 'a t\n",
       "    val bind : 'a t -> ('a -> 'b t) -> 'b t\n",
       "    val get : state t\n",
       "    val put : state -> unit t\n",
       "    val run_state : state -> 'a t -> state * 'a\n",
       "  end\n"
      ]
     },
     "execution_count": 95,
     "metadata": {},
     "output_type": "execute_result"
    }
   ],
   "source": [
    "module StackStateMonad = State(struct\n",
    "                                type t = int list\n",
    "                               end)"
   ]
  },
  {
   "cell_type": "code",
   "execution_count": 98,
   "id": "1185f236-0d8f-4667-8a0c-1903890cd7e5",
   "metadata": {},
   "outputs": [],
   "source": [
    "open StackStateMonad\n",
    "\n",
    "  "
   ]
  },
  {
   "cell_type": "code",
   "execution_count": 100,
   "id": "801a0979-613c-4a93-9f1c-5578c6974c51",
   "metadata": {},
   "outputs": [
    {
     "data": {
      "text/plain": [
       "val ( let* ) :\n",
       "  'a StackStateMonad.t ->\n",
       "  ('a -> 'b StackStateMonad.t) -> 'b StackStateMonad.t = <fun>\n"
      ]
     },
     "execution_count": 100,
     "metadata": {},
     "output_type": "execute_result"
    }
   ],
   "source": [
    "let (let*) = bind"
   ]
  },
  {
   "cell_type": "code",
   "execution_count": 101,
   "id": "ddc3063d-d2c3-45ba-8d67-d2c412e06eef",
   "metadata": {},
   "outputs": [
    {
     "data": {
      "text/plain": [
       "val push : int -> unit StackStateMonad.t = <fun>\n"
      ]
     },
     "execution_count": 101,
     "metadata": {},
     "output_type": "execute_result"
    }
   ],
   "source": [
    "let push (n:int) : unit t =\n",
    "  let* s1 = get in\n",
    "  put (n::s1)"
   ]
  },
  {
   "cell_type": "code",
   "execution_count": 102,
   "id": "4aa36e80-7436-4d00-a1a5-3b05563b2710",
   "metadata": {},
   "outputs": [
    {
     "data": {
      "text/plain": [
       "val add : unit StackStateMonad.t = <abstr>\n"
      ]
     },
     "execution_count": 102,
     "metadata": {},
     "output_type": "execute_result"
    }
   ],
   "source": [
    "let add : unit t = \n",
    "  let* s1 = get in\n",
    "  match s1 with\n",
    "  | x::y::xs -> put ((x+y)::xs)\n",
    "  | _ -> return ()"
   ]
  },
  {
   "cell_type": "code",
   "execution_count": 103,
   "id": "3a0a3015-e1a0-435a-a551-99bc0742cb50",
   "metadata": {},
   "outputs": [
    {
     "data": {
      "text/plain": [
       "val ite : unit StackStateMonad.t = <abstr>\n"
      ]
     },
     "execution_count": 103,
     "metadata": {},
     "output_type": "execute_result"
    }
   ],
   "source": [
    "let ite : unit t = \n",
    "  let* s1 = get in\n",
    "  match s1 with\n",
    "  | x::y::z::z'::xs when x=y -> put (z::xs)\n",
    "  | x::y::z::z'::xs -> put (z'::xs)\n",
    "  | _ -> return ()"
   ]
  },
  {
   "cell_type": "code",
   "execution_count": 106,
   "id": "d2d94ada-1343-447c-9ed9-725df5cc117e",
   "metadata": {},
   "outputs": [
    {
     "data": {
      "text/plain": [
       "val my_simple_stack_comp : unit StackStateMonad.t = <abstr>\n"
      ]
     },
     "execution_count": 106,
     "metadata": {},
     "output_type": "execute_result"
    }
   ],
   "source": [
    "let my_simple_stack_comp =  \n",
    "   let* _ = push 2 in\n",
    "   let* _ = push 3 in\n",
    "   add"
   ]
  },
  {
   "cell_type": "code",
   "execution_count": 107,
   "id": "f5cedf94-6dbe-4906-8eeb-83b801694727",
   "metadata": {},
   "outputs": [
    {
     "data": {
      "text/plain": [
       "- : StackStateMonad.state * unit = ([5], ())\n"
      ]
     },
     "execution_count": 107,
     "metadata": {},
     "output_type": "execute_result"
    }
   ],
   "source": [
    "run_state [] my_simple_stack_comp"
   ]
  },
  {
   "cell_type": "code",
   "execution_count": 1,
   "id": "a29914f5-920e-491a-a05f-4866a066f44a",
   "metadata": {},
   "outputs": [
    {
     "data": {
      "text/plain": [
       "- : unit = ()\n"
      ]
     },
     "execution_count": 1,
     "metadata": {},
     "output_type": "execute_result"
    }
   ],
   "source": [
    "()"
   ]
  },
  {
   "cell_type": "code",
   "execution_count": 3,
   "id": "f879fbf0-3cd6-4be7-98c0-f70c492537e1",
   "metadata": {},
   "outputs": [
    {
     "data": {
      "text/plain": [
       "val prev_stack : int * int = (2, 3)\n"
      ]
     },
     "execution_count": 3,
     "metadata": {},
     "output_type": "execute_result"
    }
   ],
   "source": [
    "let prev_stack = (2,3)"
   ]
  },
  {
   "cell_type": "code",
   "execution_count": 4,
   "id": "5cfcd7f6-f0e6-4e56-a561-2640dc02e662",
   "metadata": {},
   "outputs": [
    {
     "data": {
      "text/plain": [
       "val stack : string * (int * int) = (\"hello\", (2, 3))\n"
      ]
     },
     "execution_count": 4,
     "metadata": {},
     "output_type": "execute_result"
    }
   ],
   "source": [
    "let stack = (\"hello\", prev_stack)"
   ]
  },
  {
   "cell_type": "code",
   "execution_count": 6,
   "id": "dc60b1c0-e160-405a-8412-dbaf2116ba2a",
   "metadata": {},
   "outputs": [
    {
     "data": {
      "text/plain": [
       "val mk_pair : 'a -> 'b -> 'a * 'b = <fun>\n"
      ]
     },
     "execution_count": 6,
     "metadata": {},
     "output_type": "execute_result"
    }
   ],
   "source": [
    "(*\n",
    " * An algebraic data type for a simple pair\n",
    " *)\n",
    "\n",
    "let mk_pair x y = (x,y) "
   ]
  },
  {
   "cell_type": "code",
   "execution_count": 8,
   "id": "e1f969c8-26aa-4ae4-8306-3f881a418d4d",
   "metadata": {},
   "outputs": [
    {
     "data": {
      "text/plain": [
       "type ('a, 'b) pair = Mkpair of 'a * 'b\n"
      ]
     },
     "execution_count": 8,
     "metadata": {},
     "output_type": "execute_result"
    }
   ],
   "source": [
    "type ('a,'b) pair = \n",
    "  | Mkpair of 'a * 'b"
   ]
  },
  {
   "cell_type": "code",
   "execution_count": 10,
   "id": "b567c8f6-17c4-4699-b684-5936299fc214",
   "metadata": {},
   "outputs": [
    {
     "data": {
      "text/plain": [
       "type 'a my_list = MyNil | MyCons of 'a * 'a list\n"
      ]
     },
     "execution_count": 10,
     "metadata": {},
     "output_type": "execute_result"
    },
    {
     "data": {
      "text/plain": [
       "type ('a, 'b) pair_list = Nil | Cons of ('a * 'b) * ('a, 'b) pair_list\n"
      ]
     },
     "execution_count": 10,
     "metadata": {},
     "output_type": "execute_result"
    }
   ],
   "source": [
    "type 'a my_list =\n",
    "  | MyNil\n",
    "  | MyCons of 'a * 'a list\n",
    "\n",
    "type ('a,'b) pair_list = \n",
    "  | Nil\n",
    "  | Cons of ('a*'b) * ('a,'b) pair_list"
   ]
  },
  {
   "cell_type": "code",
   "execution_count": 11,
   "id": "d772df4a-7731-4772-9a39-a0eea649125e",
   "metadata": {},
   "outputs": [
    {
     "data": {
      "text/plain": [
       "type ('a, 'b) tree = L | B of ('a, 'b) tree * 'a * 'b * ('a, 'b) tree\n"
      ]
     },
     "execution_count": 11,
     "metadata": {},
     "output_type": "execute_result"
    }
   ],
   "source": [
    "type ('a,'b) tree = \n",
    "  | L\n",
    "  | B of ('a,'b) tree * 'a * 'b * ('a,'b) tree "
   ]
  },
  {
   "cell_type": "code",
   "execution_count": 12,
   "id": "cabeadc5-f861-464b-bf66-37ac240f42a3",
   "metadata": {},
   "outputs": [
    {
     "data": {
      "text/plain": [
       "module type STACK_OPS =\n",
       "  sig\n",
       "    type ('s, 'r, 'a) t\n",
       "    val add : unit -> (int * (int * 's), int * 's, unit) t\n",
       "    val _if_ : unit -> (bool * ('a * ('a * 's)), 'a * 's, unit) t\n",
       "    val push_const : 'a -> ('s, 'a * 's, unit) t\n",
       "  end\n"
      ]
     },
     "execution_count": 12,
     "metadata": {},
     "output_type": "execute_result"
    }
   ],
   "source": [
    "module type STACK_OPS =\n",
    "sig\n",
    "  type ('s,'r,'a) t\n",
    "  val add : unit -> (int * (int * 's), \n",
    "                     int * 's, \n",
    "                     unit) t\n",
    "  val _if_ : unit -> (bool * ('a * ('a * 's)), \n",
    "                      'a * 's, \n",
    "                      unit) t\n",
    "  val push_const : 'a -> ('s, \n",
    "                          'a * 's, \n",
    "                          unit) t\n",
    "end"
   ]
  },
  {
   "cell_type": "code",
   "execution_count": 13,
   "id": "fc83bdfc-0d47-4a63-bb1f-0169c551bd1c",
   "metadata": {},
   "outputs": [
    {
     "data": {
      "text/plain": [
       "type ('s, 'r, 'a) t = 's -> 'r * 'a\n"
      ]
     },
     "execution_count": 13,
     "metadata": {},
     "output_type": "execute_result"
    }
   ],
   "source": [
    "(*\n",
    " * This is a computation that operates on initial state of type 's\n",
    " * returns a new state of type 'r\n",
    " * and also a return value of type 'a\n",
    " *)\n",
    "type ('s,'r,'a) t = 's -> ('r*'a)"
   ]
  },
  {
   "cell_type": "code",
   "execution_count": 15,
   "id": "27345b55-240c-40f0-a945-62bdfca5841c",
   "metadata": {},
   "outputs": [
    {
     "data": {
      "text/plain": [
       "val return : 'a -> ('s, 's, 'a) t = <fun>\n"
      ]
     },
     "execution_count": 15,
     "metadata": {},
     "output_type": "execute_result"
    }
   ],
   "source": [
    "let return (x:'a): ('s,'s,'a) t = fun (init_state:'s) -> (init_state,x)"
   ]
  },
  {
   "cell_type": "code",
   "execution_count": 17,
   "id": "d38a1f8c-b34d-4e61-9063-96e68b6ebf3c",
   "metadata": {},
   "outputs": [
    {
     "data": {
      "text/plain": [
       "val bind : ('s, 'r, 'a) t -> ('a -> ('r, 'u, 'b) t) -> ('s, 'u, 'b) t = <fun>\n"
      ]
     },
     "execution_count": 17,
     "metadata": {},
     "output_type": "execute_result"
    }
   ],
   "source": [
    "let bind (c1: ('s,'r,'a) t) (c2: 'a -> ('r,'u,'b) t) : ('s,'u,'b) t = \n",
    "  fun (s) -> \n",
    "      let (s1, x) = c1 s in\n",
    "      c2 x s1"
   ]
  },
  {
   "cell_type": "code",
   "execution_count": null,
   "id": "24f2280f-259e-4a54-8843-0e91fee20154",
   "metadata": {},
   "outputs": [],
   "source": []
  }
 ],
 "metadata": {
  "kernelspec": {
   "display_name": "OCaml 4.12.0",
   "language": "OCaml",
   "name": "ocaml-jupyter"
  },
  "language_info": {
   "codemirror_mode": "text/x-ocaml",
   "file_extension": ".ml",
   "mimetype": "text/x-ocaml",
   "name": "OCaml",
   "nbconverter_exporter": null,
   "pygments_lexer": "OCaml",
   "version": "4.12.0"
  }
 },
 "nbformat": 4,
 "nbformat_minor": 5
}
