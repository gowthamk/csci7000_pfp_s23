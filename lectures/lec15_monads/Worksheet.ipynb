{
 "cells": [
  {
   "cell_type": "code",
   "execution_count": 1,
   "id": "45c8cf91-bd1f-42d2-a3d6-5a0a67b230b0",
   "metadata": {},
   "outputs": [
    {
     "data": {
      "text/plain": [
       "type exp = Val of int | Plus of exp * exp | Div of exp * exp\n"
      ]
     },
     "execution_count": 1,
     "metadata": {},
     "output_type": "execute_result"
    }
   ],
   "source": [
    "(*\n",
    " * Simple arithmetic language\n",
    " *)\n",
    "type exp = \n",
    "  | Val of int\n",
    "  | Plus of exp * exp\n",
    "  | Div of exp * exp"
   ]
  },
  {
   "cell_type": "code",
   "execution_count": 4,
   "id": "09f69870-60b9-444b-91d7-b1650ef739f1",
   "metadata": {},
   "outputs": [
    {
     "data": {
      "text/plain": [
       "val my_exp1 : exp = Plus (Div (Val 4, Val 2), Val 6)\n"
      ]
     },
     "execution_count": 4,
     "metadata": {},
     "output_type": "execute_result"
    }
   ],
   "source": [
    "let my_exp1 = Plus (Div (Val 4, Val 2), Val 6)"
   ]
  },
  {
   "cell_type": "code",
   "execution_count": 6,
   "id": "1ca2e78b-9c08-4dda-baa2-9dc752c414ef",
   "metadata": {},
   "outputs": [
    {
     "data": {
      "text/plain": [
       "val eval : exp -> int = <fun>\n"
      ]
     },
     "execution_count": 6,
     "metadata": {},
     "output_type": "execute_result"
    }
   ],
   "source": [
    "let rec eval (e:exp) : int = match e with\n",
    "  | Val n -> n\n",
    "  | Plus(e1,e2) ->\n",
    "    let v1 = eval e1 in\n",
    "    let v2 = eval e2 in\n",
    "    v1+v2\n",
    "  | Div (e1,e2) ->\n",
    "    let v1 = eval e1 in\n",
    "    let v2 = eval e2 in\n",
    "    v1/v2"
   ]
  },
  {
   "cell_type": "code",
   "execution_count": 7,
   "id": "466c217a-c369-4b08-bb7a-714268545d77",
   "metadata": {},
   "outputs": [
    {
     "data": {
      "text/plain": [
       "- : int = 8\n"
      ]
     },
     "execution_count": 7,
     "metadata": {},
     "output_type": "execute_result"
    }
   ],
   "source": [
    "eval my_exp1"
   ]
  },
  {
   "cell_type": "code",
   "execution_count": 8,
   "id": "fae8f329-fb60-4af1-a360-986e0bb7fb9d",
   "metadata": {},
   "outputs": [
    {
     "data": {
      "text/plain": [
       "val my_exp2 : exp = Plus (Div (Val 4, Val 0), Val 6)\n"
      ]
     },
     "execution_count": 8,
     "metadata": {},
     "output_type": "execute_result"
    }
   ],
   "source": [
    "let my_exp2 = Plus (Div (Val 4, Val 0), Val 6)"
   ]
  },
  {
   "cell_type": "code",
   "execution_count": 9,
   "id": "1be97b1d-8b5f-42ee-90ea-949df17e6757",
   "metadata": {},
   "outputs": [
    {
     "ename": "error",
     "evalue": "runtime_error",
     "output_type": "error",
     "traceback": [
      "\u001b[31mException: Division_by_zero.\nRaised by primitive operation at unknown location\nCalled from eval in file \"[6]\", line 4, characters 13-20\nCalled from Stdlib__fun.protect in file \"fun.ml\", line 33, characters 8-15\nRe-raised at Stdlib__fun.protect in file \"fun.ml\", line 38, characters 6-52\nCalled from Toploop.load_lambda in file \"toplevel/toploop.ml\", line 212, characters 4-150\n\u001b[0m"
     ]
    }
   ],
   "source": [
    "eval my_exp2"
   ]
  },
  {
   "cell_type": "code",
   "execution_count": 10,
   "id": "5ab16fe8-3df4-490d-8384-f5ef13070d6a",
   "metadata": {},
   "outputs": [
    {
     "data": {
      "text/plain": [
       "val eval : exp -> int option = <fun>\n"
      ]
     },
     "execution_count": 10,
     "metadata": {},
     "output_type": "execute_result"
    }
   ],
   "source": [
    "let rec eval (e:exp) : int option = match e with\n",
    "  | Val n -> Some n\n",
    "  | Plus(e1,e2) ->\n",
    "    let v1 = eval e1 in\n",
    "    begin match v1 with\n",
    "      | None -> None\n",
    "      | Some n1 ->\n",
    "        let v2 = eval e2 in\n",
    "        begin match v2 with\n",
    "          | None -> None\n",
    "          | Some n2 -> Some (n1+n2)\n",
    "        end\n",
    "    end\n",
    "  | Div (e1,e2) ->\n",
    "    let v1 = eval e1 in\n",
    "    begin match v1 with\n",
    "      | None -> None\n",
    "      | Some n1 ->\n",
    "        let v2 = eval e2 in\n",
    "        begin match v2 with\n",
    "          | None -> None\n",
    "          | Some 0 -> None\n",
    "          | Some n2 -> Some (n1/n2)\n",
    "        end\n",
    "    end"
   ]
  },
  {
   "cell_type": "code",
   "execution_count": 11,
   "id": "f8623a83-1a62-4dec-aa31-1edcc6c09739",
   "metadata": {},
   "outputs": [
    {
     "data": {
      "text/plain": [
       "- : int option = None\n"
      ]
     },
     "execution_count": 11,
     "metadata": {},
     "output_type": "execute_result"
    }
   ],
   "source": [
    "eval my_exp2"
   ]
  },
  {
   "cell_type": "code",
   "execution_count": 13,
   "id": "599c6860-8652-48b2-93d8-d3c048a67e0d",
   "metadata": {},
   "outputs": [
    {
     "data": {
      "text/plain": [
       "val bind : int option -> (int -> int option) -> int option = <fun>\n"
      ]
     },
     "execution_count": 13,
     "metadata": {},
     "output_type": "execute_result"
    },
    {
     "data": {
      "text/plain": [
       "val return : int -> int option = <fun>\n"
      ]
     },
     "execution_count": 13,
     "metadata": {},
     "output_type": "execute_result"
    }
   ],
   "source": [
    "(*\n",
    " * For any 2 computations f and g:\n",
    " * 1. Do computation f.\n",
    " * 2. If result of f is None then return None.\n",
    " * 3. If the result of f is Some v, then execute (g v)\n",
    " *)\n",
    " let bind (v : int option) (g: int -> int option) : int option = \n",
    "   match v with\n",
    "     | Some v1 -> g v1\n",
    "     | None -> None\n",
    " \n",
    "let return (v:int): int option = Some v "
   ]
  },
  {
   "cell_type": "code",
   "execution_count": 14,
   "id": "e4fb3341-5f47-462d-a535-7f74e30044a1",
   "metadata": {},
   "outputs": [
    {
     "data": {
      "text/plain": [
       "val eval : exp -> int option = <fun>\n"
      ]
     },
     "execution_count": 14,
     "metadata": {},
     "output_type": "execute_result"
    }
   ],
   "source": [
    "let rec eval (e:exp) : int option = match e with\n",
    "  | Val n -> Some n\n",
    "  | Plus(e1,e2) -> \n",
    "      bind (eval e1) \n",
    "           (fun v1 -> bind (eval e2) \n",
    "                           (fun v2 -> return (v1+v2))) \n",
    "  | Div (e1,e2) ->\n",
    "      bind (eval e1) \n",
    "           (fun v1 -> bind (eval e2) \n",
    "                           (fun v2 -> if v2 = 0 then None\n",
    "                                      else return (v1/v2)))"
   ]
  },
  {
   "cell_type": "code",
   "execution_count": 15,
   "id": "51983954-2ae6-4183-ae0b-12e0721cd68e",
   "metadata": {},
   "outputs": [
    {
     "data": {
      "text/plain": [
       "- : int option = None\n"
      ]
     },
     "execution_count": 15,
     "metadata": {},
     "output_type": "execute_result"
    }
   ],
   "source": [
    "eval my_exp2"
   ]
  },
  {
   "cell_type": "code",
   "execution_count": 16,
   "id": "0386f411-74d0-437d-b63c-01eb25609af0",
   "metadata": {},
   "outputs": [
    {
     "data": {
      "text/plain": [
       "val ( >>= ) : int option -> (int -> int option) -> int option = <fun>\n"
      ]
     },
     "execution_count": 16,
     "metadata": {},
     "output_type": "execute_result"
    }
   ],
   "source": [
    "let (>>=) = bind"
   ]
  },
  {
   "cell_type": "code",
   "execution_count": 17,
   "id": "a86e0e28-ab2a-4fce-a233-4c85b321a8ec",
   "metadata": {},
   "outputs": [
    {
     "data": {
      "text/plain": [
       "val eval : exp -> int option = <fun>\n"
      ]
     },
     "execution_count": 17,
     "metadata": {},
     "output_type": "execute_result"
    }
   ],
   "source": [
    "let rec eval (e:exp) : int option = match e with\n",
    "  | Val n -> Some n\n",
    "  | Plus(e1,e2) -> \n",
    "      eval e1 >>= fun v1 -> \n",
    "      eval e2 >>= fun v2 -> \n",
    "      return (v1+v2)\n",
    "  | Div (e1,e2) ->\n",
    "      eval e1 >>= fun v1 -> \n",
    "      eval e2 >>= fun v2 ->\n",
    "      if v2 = 0 then None else return (v1/v2)"
   ]
  },
  {
   "cell_type": "code",
   "execution_count": 19,
   "id": "d9274c80-452b-489a-8210-d645303ecbf1",
   "metadata": {},
   "outputs": [
    {
     "data": {
      "text/plain": [
       "val ( let* ) : int option -> (int -> int option) -> int option = <fun>\n"
      ]
     },
     "execution_count": 19,
     "metadata": {},
     "output_type": "execute_result"
    }
   ],
   "source": [
    "let (let*) = bind"
   ]
  },
  {
   "cell_type": "code",
   "execution_count": 20,
   "id": "fe32ff2e-ca9b-4d68-a707-60d67c5f48ae",
   "metadata": {},
   "outputs": [
    {
     "data": {
      "text/plain": [
       "val eval : exp -> int option = <fun>\n"
      ]
     },
     "execution_count": 20,
     "metadata": {},
     "output_type": "execute_result"
    }
   ],
   "source": [
    "let rec eval (e:exp) : int option = match e with\n",
    "  | Val n -> Some n\n",
    "  | Plus(e1,e2) -> \n",
    "      let* v1 = eval e1 in\n",
    "      let* v2 = eval e2 in\n",
    "      return (v1+v2)\n",
    "  | Div (e1,e2) ->\n",
    "      let* v1 = eval e1 in\n",
    "      let* v2 = eval e2 in\n",
    "      if v2 = 0 then None else return (v1/v2)"
   ]
  },
  {
   "cell_type": "code",
   "execution_count": 22,
   "id": "0206de36-6362-462d-99df-8e180c1d3482",
   "metadata": {},
   "outputs": [
    {
     "data": {
      "text/plain": [
       "val eval_exn : exp -> int = <fun>\n"
      ]
     },
     "execution_count": 22,
     "metadata": {},
     "output_type": "execute_result"
    }
   ],
   "source": [
    "let rec eval_exn (e:exp) : int = match e with\n",
    "  | Val n -> n\n",
    "  | Plus(e1,e2) ->\n",
    "    let v1 = eval_exn e1 in\n",
    "    let v2 = eval_exn e2 in\n",
    "    v1+v2\n",
    "  | Div (e1,e2) ->\n",
    "    let v1 = eval_exn e1 in\n",
    "    let v2 = eval_exn e2 in\n",
    "    v1/v2"
   ]
  },
  {
   "cell_type": "code",
   "execution_count": 25,
   "id": "f33b6a74-c0bf-4ac6-8d2d-58234125f104",
   "metadata": {},
   "outputs": [
    {
     "data": {
      "text/plain": [
       "type 'a t = 'a option\n"
      ]
     },
     "execution_count": 25,
     "metadata": {},
     "output_type": "execute_result"
    },
    {
     "data": {
      "text/plain": [
       "val return : 'a -> 'a t = <fun>\n"
      ]
     },
     "execution_count": 25,
     "metadata": {},
     "output_type": "execute_result"
    },
    {
     "data": {
      "text/plain": [
       "val bind : 'a option -> ('a -> 'a option) -> 'a option = <fun>\n"
      ]
     },
     "execution_count": 25,
     "metadata": {},
     "output_type": "execute_result"
    }
   ],
   "source": [
    "type 'a t = 'a option\n",
    "let return (v:'a) : 'a t = Some v\n",
    "let bind (v:'a option) (f : 'a -> 'a option) : 'a option = \n",
    "  match v with\n",
    "  | None -> None\n",
    "  | Some v -> f v"
   ]
  },
  {
   "cell_type": "code",
   "execution_count": 27,
   "id": "44b889b1-e83d-4337-bd7c-b5c147acb0df",
   "metadata": {},
   "outputs": [
    {
     "data": {
      "text/plain": [
       "module type MONAD =\n",
       "  sig\n",
       "    type 'a t\n",
       "    val return : 'a -> 'a t\n",
       "    val bind : 'a t -> ('a -> 'a t) -> 'a t\n",
       "  end\n"
      ]
     },
     "execution_count": 27,
     "metadata": {},
     "output_type": "execute_result"
    }
   ],
   "source": [
    "module type MONAD = sig\n",
    "type 'a t\n",
    "val return: 'a -> 'a t\n",
    "val bind: 'a t -> ('a -> 'a t) -> 'a t\n",
    "end"
   ]
  },
  {
   "cell_type": "code",
   "execution_count": 30,
   "id": "ad9281dc-f507-44a8-a266-03959d4de3d3",
   "metadata": {},
   "outputs": [
    {
     "data": {
      "text/plain": [
       "val list_return : 'a -> 'a list = <fun>\n"
      ]
     },
     "execution_count": 30,
     "metadata": {},
     "output_type": "execute_result"
    },
    {
     "data": {
      "text/plain": [
       "val list_bind : 'a list -> ('a -> 'a list) -> 'a list = <fun>\n"
      ]
     },
     "execution_count": 30,
     "metadata": {},
     "output_type": "execute_result"
    }
   ],
   "source": [
    "let list_return (v: 'a) : 'a list = [v]\n",
    "(* val list_bind : 'a list -> ('a -> 'a list) -> 'a list *)\n",
    "let list_bind (l: 'a list) (f: 'a -> 'a list) : 'a list = \n",
    "  List.concat (List.map f l)"
   ]
  },
  {
   "cell_type": "markdown",
   "id": "fcd5c305-5ad4-4ca2-9769-88beebb89be6",
   "metadata": {},
   "source": [
    "### Monad Laws\n",
    "\n",
    "\n",
    "1. Left Identity: `(return v) >>= f` = `f v` \n",
    "2. Right Identity: `f >>= return = f`\n",
    "3. Associativity: `(m >>= f) >>= g = m >>= (fun x -> f x >= g)`"
   ]
  },
  {
   "cell_type": "code",
   "execution_count": 32,
   "id": "12c0ab4e-18a1-48ef-b009-17532fd7051d",
   "metadata": {},
   "outputs": [
    {
     "ename": "error",
     "evalue": "compile_error",
     "output_type": "error",
     "traceback": [
      "File \"[32]\", line 13, characters 0-0:\nError: Syntax error\n"
     ]
    }
   ],
   "source": [
    "(return 2) >>= f\n",
    "=\n",
    "bind (return 2) f\n",
    "=\n",
    "match return 2 with\n",
    " | None -> None\n",
    " | Some 2 -> f 2\n",
    "=\n",
    "match Some 2 with\n",
    " | None -> None\n",
    " | Some 2 -> f 2\n",
    "=\n",
    "f 2"
   ]
  },
  {
   "cell_type": "code",
   "execution_count": null,
   "id": "a7fce8ee-9c22-432a-b09c-9deda08b1f1b",
   "metadata": {},
   "outputs": [],
   "source": [
    "(*\n",
    " * In OCaml\n",
    " *)\n",
    "\n",
    "  let * v1 = c1 in\n",
    "  let * v2 = c2 v1 in\n",
    "  ...\n",
    "  return vn\n",
    "}"
   ]
  },
  {
   "cell_type": "code",
   "execution_count": null,
   "id": "8840b916-66ad-48f4-b239-c123257ecc46",
   "metadata": {},
   "outputs": [],
   "source": []
  }
 ],
 "metadata": {
  "kernelspec": {
   "display_name": "OCaml 4.12.0",
   "language": "OCaml",
   "name": "ocaml-jupyter"
  },
  "language_info": {
   "codemirror_mode": "text/x-ocaml",
   "file_extension": ".ml",
   "mimetype": "text/x-ocaml",
   "name": "OCaml",
   "nbconverter_exporter": null,
   "pygments_lexer": "OCaml",
   "version": "4.12.0"
  }
 },
 "nbformat": 4,
 "nbformat_minor": 5
}
