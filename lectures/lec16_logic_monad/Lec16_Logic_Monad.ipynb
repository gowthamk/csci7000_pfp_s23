{
 "cells": [
  {
   "cell_type": "markdown",
   "id": "68d460cc-e666-4df6-b1a5-4fdcf7664fd1",
   "metadata": {},
   "source": [
    "<center> \n",
    "\n",
    "<h1 style=\"text-align:center\"> Constraint Solving: Logic Monad </h1>\n",
    "<h2 style=\"text-align:center\"> CSCI7000-11 S23: Principles of Functional Programming </h2>\n",
    "</center>"
   ]
  },
  {
   "cell_type": "code",
   "execution_count": 1,
   "id": "b15d57a5-470c-46b6-8902-fb34cf2171d6",
   "metadata": {},
   "outputs": [
    {
     "ename": "error",
     "evalue": "compile_error",
     "output_type": "error",
     "traceback": [
      "File \"[1]\", line 5, characters 8-14:\n5 | let a = choose l1 in\n            ^^^^^^\nError: Unbound value choose\n"
     ]
    }
   ],
   "source": [
    "(*\n",
    " * Simple constraint solving: pythogorean triples\n",
    " *)\n",
    "let l1 = [1;2;3;4;5;6;7;8;9;10] in\n",
    "let* a = choose l1 in\n",
    "let* b = choose l1 in\n",
    "let* c = choose l1 in\n",
    "let* _ = such_that (a*a + b*b = c*c) in\n",
    "return (a,b,c)"
   ]
  },
  {
   "cell_type": "code",
   "execution_count": 2,
   "id": "e7f9ed7d-741e-45dc-acf7-6518474ba512",
   "metadata": {},
   "outputs": [
    {
     "data": {
      "text/plain": [
       "module type LOGICM =\n",
       "  sig\n",
       "    type 'a t\n",
       "    val return : 'a -> 'a t\n",
       "    val bind : 'a t -> ('a -> 'b t) -> 'b t\n",
       "    val choose : 'a list -> 'a t\n",
       "    val such_that : bool -> unit t\n",
       "  end\n"
      ]
     },
     "execution_count": 2,
     "metadata": {},
     "output_type": "execute_result"
    }
   ],
   "source": [
    "module type LOGICM = sig\n",
    "  type 'a t\n",
    "  val return : 'a -> 'a t\n",
    "  val bind: 'a t -> ('a -> 'b t) -> 'b t\n",
    "  val choose : 'a list -> 'a t\n",
    "  val such_that: bool -> unit t\n",
    "end"
   ]
  },
  {
   "cell_type": "code",
   "execution_count": 8,
   "id": "6436d2da-80d3-40ce-b463-c01b2ce37eb4",
   "metadata": {},
   "outputs": [
    {
     "data": {
      "text/plain": [
       "module LogicM :\n",
       "  sig\n",
       "    type 'a t = 'a list\n",
       "    val return : 'a -> 'a t\n",
       "    val bind : 'a t -> ('a -> 'b t) -> 'b t\n",
       "    val choose : 'a list -> 'a t\n",
       "    val such_that : bool -> unit t\n",
       "  end\n"
      ]
     },
     "execution_count": 8,
     "metadata": {},
     "output_type": "execute_result"
    }
   ],
   "source": [
    "module LogicM: (LOGICM with type 'a t = 'a list) = struct\n",
    "  type 'a t = 'a list\n",
    "  \n",
    "  let return x = [x]\n",
    "  \n",
    "  let bind (l1:'a t) (f: 'a -> 'b t) = \n",
    "    List.concat @@ List.map f l1\n",
    "    \n",
    "  let choose l = l\n",
    "  \n",
    "  let such_that b = match b with\n",
    "    | true -> return () (* [()] *)\n",
    "    | false -> []\n",
    "end"
   ]
  },
  {
   "cell_type": "code",
   "execution_count": 3,
   "id": "c54fbdc5-68f1-4b16-9d15-c929d55423c0",
   "metadata": {},
   "outputs": [
    {
     "data": {
      "text/plain": [
       "module ListMonad :\n",
       "  sig\n",
       "    type 'a t = 'a list\n",
       "    val return : 'a -> 'a list\n",
       "    val bind : 'a t -> ('a -> 'b t) -> 'b list\n",
       "  end\n"
      ]
     },
     "execution_count": 3,
     "metadata": {},
     "output_type": "execute_result"
    }
   ],
   "source": [
    "module ListMonad = struct\n",
    "  type 'a t = 'a list\n",
    "  let return x = [x]\n",
    "  let bind (l1:'a t) (f: 'a -> 'b t) = \n",
    "    List.concat @@ List.map f l1\n",
    "end"
   ]
  },
  {
   "cell_type": "code",
   "execution_count": 4,
   "id": "3906e26f-3a75-4e16-8ec6-6cf57a9aaf59",
   "metadata": {},
   "outputs": [
    {
     "data": {
      "text/plain": [
       "val ( >>= ) : 'a ListMonad.t -> ('a -> 'b ListMonad.t) -> 'b list = <fun>\n"
      ]
     },
     "execution_count": 4,
     "metadata": {},
     "output_type": "execute_result"
    }
   ],
   "source": [
    "let (>>=) = ListMonad.bind"
   ]
  },
  {
   "cell_type": "code",
   "execution_count": 5,
   "id": "bb725c65-d26f-4364-afac-2adef52b7e29",
   "metadata": {},
   "outputs": [
    {
     "data": {
      "text/plain": [
       "- : (int * int * int) list = [(3, 4, 5); (4, 3, 5); (6, 8, 10); (8, 6, 10)]\n"
      ]
     },
     "execution_count": 5,
     "metadata": {},
     "output_type": "execute_result"
    }
   ],
   "source": [
    "\n",
    "(*\n",
    " * Simple constraint solving: pythogorean triples\n",
    " *)\n",
    "let l1 = [1;2;3;4;5;6;7;8;9;10] in\n",
    "let l2 = l1 in\n",
    "let l3 = l1 in\n",
    "l1 >>= fun a -> \n",
    "l2 >>= fun b -> \n",
    "l3 >>= fun c ->\n",
    "if a*a + b*b = c*c then [(a,b,c)] else []\n"
   ]
  },
  {
   "cell_type": "code",
   "execution_count": 6,
   "id": "c956a5cd-6a97-4d60-af44-2862e1323828",
   "metadata": {},
   "outputs": [
    {
     "data": {
      "text/plain": [
       "- : (int * int * int) list = [(3, 4, 5); (6, 8, 10)]\n"
      ]
     },
     "execution_count": 6,
     "metadata": {},
     "output_type": "execute_result"
    }
   ],
   "source": [
    "List.concat [[(3,4,5)]; []; [(6,8,10)]]"
   ]
  },
  {
   "cell_type": "code",
   "execution_count": 9,
   "id": "3c7bcbe3-163a-420e-a69c-9ac7ebf5c145",
   "metadata": {},
   "outputs": [
    {
     "data": {
      "text/plain": [
       "val ( let* ) : 'a LogicM.t -> ('a -> 'b LogicM.t) -> 'b LogicM.t = <fun>\n"
      ]
     },
     "execution_count": 9,
     "metadata": {},
     "output_type": "execute_result"
    }
   ],
   "source": [
    "open LogicM\n",
    "\n",
    "let (let*) = bind"
   ]
  },
  {
   "cell_type": "code",
   "execution_count": 10,
   "id": "d101298b-5a95-42c9-9478-d6a673d62fe6",
   "metadata": {},
   "outputs": [
    {
     "data": {
      "text/plain": [
       "- : (int * int * int) LogicM.t =\n",
       "[(3, 4, 5); (4, 3, 5); (6, 8, 10); (8, 6, 10)]\n"
      ]
     },
     "execution_count": 10,
     "metadata": {},
     "output_type": "execute_result"
    }
   ],
   "source": [
    "(*\n",
    " * Simple constraint solving: pythogorean triples\n",
    " *)\n",
    "let l1 = [1;2;3;4;5;6;7;8;9;10] in\n",
    "let* a = choose l1 in\n",
    "let* b = choose l1 in\n",
    "let* c = choose l1 in\n",
    "let* _ = such_that (a*a + b*b = c*c) in\n",
    "return (a,b,c)"
   ]
  },
  {
   "cell_type": "code",
   "execution_count": null,
   "id": "3701fcaf-550a-406b-aec2-ada0e1192557",
   "metadata": {},
   "outputs": [],
   "source": []
  }
 ],
 "metadata": {
  "kernelspec": {
   "display_name": "OCaml 4.12.0",
   "language": "OCaml",
   "name": "ocaml-jupyter"
  },
  "language_info": {
   "codemirror_mode": "text/x-ocaml",
   "file_extension": ".ml",
   "mimetype": "text/x-ocaml",
   "name": "OCaml",
   "nbconverter_exporter": null,
   "pygments_lexer": "OCaml",
   "version": "4.12.0"
  }
 },
 "nbformat": 4,
 "nbformat_minor": 5
}
