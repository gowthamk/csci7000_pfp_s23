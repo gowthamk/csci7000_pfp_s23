{
 "cells": [
  {
   "cell_type": "markdown",
   "metadata": {
    "slideshow": {
     "slide_type": "slide"
    }
   },
   "source": [
    "<center>\n",
    "\n",
    "<h1 style=\"text-align:center\"> Higher-Order Combinators </h1>\n",
    "<h2 style=\"text-align:center\"> CSCI7000-11 S23: Principles of Functional Programming </h2>\n",
    "</center>"
   ]
  },
  {
   "cell_type": "markdown",
   "metadata": {
    "slideshow": {
     "slide_type": "slide"
    }
   },
   "source": [
    "## Review\n",
    "\n",
    "### Last time\n",
    "\n",
    "* Pattern Matching\n",
    "\n",
    "### Today\n",
    "\n",
    "* New Idioms and library functions.\n",
    "  + Map, Reduce and Other higher order functions."
   ]
  },
  {
   "cell_type": "markdown",
   "metadata": {
    "slideshow": {
     "slide_type": "slide"
    }
   },
   "source": [
    "## Double and Square"
   ]
  },
  {
   "cell_type": "code",
   "execution_count": null,
   "metadata": {},
   "outputs": [],
   "source": [
    "let double x = 2 * x\n",
    "let square x = x * x"
   ]
  },
  {
   "cell_type": "code",
   "execution_count": null,
   "metadata": {
    "slideshow": {
     "slide_type": "fragment"
    }
   },
   "outputs": [],
   "source": [
    "double 10"
   ]
  },
  {
   "cell_type": "code",
   "execution_count": null,
   "metadata": {
    "slideshow": {
     "slide_type": "fragment"
    }
   },
   "outputs": [],
   "source": [
    "square 2"
   ]
  },
  {
   "cell_type": "markdown",
   "metadata": {
    "slideshow": {
     "slide_type": "slide"
    }
   },
   "source": [
    "## Quad and Fourth"
   ]
  },
  {
   "cell_type": "code",
   "execution_count": null,
   "metadata": {},
   "outputs": [],
   "source": [
    "let quad x = 2 * 2 * x\n",
    "let fourth x = (x * x) * (x * x)"
   ]
  },
  {
   "cell_type": "code",
   "execution_count": null,
   "metadata": {
    "slideshow": {
     "slide_type": "fragment"
    }
   },
   "outputs": [],
   "source": [
    "quad 10"
   ]
  },
  {
   "cell_type": "code",
   "execution_count": null,
   "metadata": {
    "slideshow": {
     "slide_type": "fragment"
    }
   },
   "outputs": [],
   "source": [
    "fourth 2"
   ]
  },
  {
   "cell_type": "markdown",
   "metadata": {
    "slideshow": {
     "slide_type": "slide"
    }
   },
   "source": [
    "## Quad and Fourth\n",
    "\n",
    "Abstract away the details using `double` and `square`."
   ]
  },
  {
   "cell_type": "code",
   "execution_count": null,
   "metadata": {
    "slideshow": {
     "slide_type": "fragment"
    }
   },
   "outputs": [],
   "source": [
    "let quad x = double (double x)"
   ]
  },
  {
   "cell_type": "code",
   "execution_count": null,
   "metadata": {},
   "outputs": [],
   "source": [
    "quad 10"
   ]
  },
  {
   "cell_type": "code",
   "execution_count": null,
   "metadata": {
    "slideshow": {
     "slide_type": "fragment"
    }
   },
   "outputs": [],
   "source": [
    "let fourth x = square (square x)"
   ]
  },
  {
   "cell_type": "code",
   "execution_count": null,
   "metadata": {},
   "outputs": [],
   "source": [
    "fourth 2"
   ]
  },
  {
   "cell_type": "markdown",
   "metadata": {
    "slideshow": {
     "slide_type": "slide"
    }
   },
   "source": [
    "## Quad and Fourth\n",
    "\n",
    "Abstract the act of applying twice."
   ]
  },
  {
   "cell_type": "code",
   "execution_count": null,
   "metadata": {
    "slideshow": {
     "slide_type": "fragment"
    }
   },
   "outputs": [],
   "source": [
    "let twice f x = f (f x)"
   ]
  },
  {
   "cell_type": "code",
   "execution_count": null,
   "metadata": {
    "slideshow": {
     "slide_type": "fragment"
    }
   },
   "outputs": [],
   "source": [
    "let quad x = twice double x"
   ]
  },
  {
   "cell_type": "code",
   "execution_count": null,
   "metadata": {
    "slideshow": {
     "slide_type": "fragment"
    }
   },
   "outputs": [],
   "source": [
    "let quad = twice double"
   ]
  },
  {
   "cell_type": "code",
   "execution_count": null,
   "metadata": {
    "slideshow": {
     "slide_type": "fragment"
    }
   },
   "outputs": [],
   "source": [
    "quad 10"
   ]
  },
  {
   "cell_type": "markdown",
   "metadata": {
    "slideshow": {
     "slide_type": "slide"
    }
   },
   "source": [
    "## Quad and Fourth\n",
    "\n",
    "Abstract the act of applying twice."
   ]
  },
  {
   "cell_type": "code",
   "execution_count": null,
   "metadata": {
    "slideshow": {
     "slide_type": "fragment"
    }
   },
   "outputs": [],
   "source": [
    "let fourth = twice square"
   ]
  },
  {
   "cell_type": "code",
   "execution_count": null,
   "metadata": {
    "slideshow": {
     "slide_type": "fragment"
    }
   },
   "outputs": [],
   "source": [
    "fourth 2"
   ]
  },
  {
   "cell_type": "markdown",
   "metadata": {
    "slideshow": {
     "slide_type": "slide"
    }
   },
   "source": [
    "## Applying a function for an arbitrary number of times\n",
    "\n",
    "Instead of twice, what if I wanted to apply `n` time over an argument where `n` is supplied as an argument"
   ]
  },
  {
   "cell_type": "code",
   "execution_count": null,
   "metadata": {
    "slideshow": {
     "slide_type": "fragment"
    }
   },
   "outputs": [],
   "source": [
    "let rec apply n f x =\n",
    "  if n = 0 then x\n",
    "  else f (apply (n-1) f x)"
   ]
  },
  {
   "cell_type": "code",
   "execution_count": null,
   "metadata": {
    "slideshow": {
     "slide_type": "fragment"
    }
   },
   "outputs": [],
   "source": [
    "let quad = apply 0 double"
   ]
  },
  {
   "cell_type": "code",
   "execution_count": null,
   "metadata": {
    "slideshow": {
     "slide_type": "fragment"
    }
   },
   "outputs": [],
   "source": [
    "quad 10"
   ]
  },
  {
   "cell_type": "markdown",
   "metadata": {
    "slideshow": {
     "slide_type": "slide"
    }
   },
   "source": [
    "## Higher Order Programming over Lists\n",
    "\n",
    "<center>\n",
    "\n",
    "<h1> Map </h1>\n",
    "<h1> & </h1>\n",
    "<h1> Fold </h1>\n",
    "<h4> (sibling of reduce) </h4>\n",
    "</center>"
   ]
  },
  {
   "cell_type": "markdown",
   "metadata": {
    "slideshow": {
     "slide_type": "slide"
    }
   },
   "source": [
    "<center>\n",
    "\n",
    "<img src=\"images/map_reduce_new_yorker.png\">\n",
    "</center>"
   ]
  },
  {
   "cell_type": "markdown",
   "metadata": {
    "slideshow": {
     "slide_type": "slide"
    }
   },
   "source": [
    "## MapReduce\n",
    "\n",
    "<h3> \"[Google’s MapReduce] abstraction is inspired by the map and reduce primitives present in Lisp and many other <span style=\"color:orange\"> <i> functional languages. </i> </span>\" </h3>\n",
    "\n",
    "<h4 style=\"text-align:right\"> [Dean and Ghemawat, 2008] </h4>\n"
   ]
  },
  {
   "cell_type": "markdown",
   "metadata": {
    "slideshow": {
     "slide_type": "slide"
    }
   },
   "source": [
    "## Map\n",
    "\n",
    "`List.map` takes a list `[a1; a2; ...; an]` and a higher-order function `f` and returns `[f a1; f a2; ...; f an]`."
   ]
  },
  {
   "cell_type": "markdown",
   "metadata": {
    "slideshow": {
     "slide_type": "slide"
    }
   },
   "source": [
    "## Map\n",
    "\n",
    "\n",
    "`map (fun x -> shirt_color(x)) [`<img src=\"images/star_trek.png\">`]`"
   ]
  },
  {
   "cell_type": "markdown",
   "metadata": {
    "slideshow": {
     "slide_type": "fragment"
    }
   },
   "source": [
    "[<span style=\"color:gold\"> Gold </span>; <span style=\"color:blue\"> Blue </span>; <span style=\"color:red\"> Red </span>]"
   ]
  },
  {
   "cell_type": "markdown",
   "metadata": {
    "slideshow": {
     "slide_type": "slide"
    }
   },
   "source": [
    "## Map\n",
    "\n",
    "\n",
    "`map shirt_color [`<img src=\"images/star_trek.png\">`]`\n",
    "\n",
    "[<span style=\"color:gold\"> Gold </span>; <span style=\"color:blue\"> Blue </span>; <span style=\"color:red\"> Red </span>]"
   ]
  },
  {
   "cell_type": "markdown",
   "metadata": {
    "slideshow": {
     "slide_type": "slide"
    }
   },
   "source": [
    "## Map\n",
    "\n",
    "`List.map` takes a list `[a1; a2; ...; an]` and a higher-order function `f` and returns `[f a1; f a2; ...; f an]`."
   ]
  },
  {
   "cell_type": "code",
   "execution_count": null,
   "metadata": {
    "slideshow": {
     "slide_type": "fragment"
    }
   },
   "outputs": [],
   "source": [
    "List.map"
   ]
  },
  {
   "cell_type": "code",
   "execution_count": null,
   "metadata": {
    "slideshow": {
     "slide_type": "fragment"
    }
   },
   "outputs": [],
   "source": [
    "List.map (fun x -> x + 1) [1;2;3]"
   ]
  },
  {
   "cell_type": "markdown",
   "metadata": {
    "slideshow": {
     "slide_type": "slide"
    }
   },
   "source": [
    "## Map"
   ]
  },
  {
   "cell_type": "code",
   "execution_count": null,
   "metadata": {
    "slideshow": {
     "slide_type": "-"
    }
   },
   "outputs": [],
   "source": [
    "let rec map f l =\n",
    "  match l with\n",
    "  | [] -> []\n",
    "  | x::xs -> f x :: (map f xs)"
   ]
  },
  {
   "cell_type": "markdown",
   "metadata": {
    "slideshow": {
     "slide_type": "fragment"
    }
   },
   "source": [
    "Is there a problem with this implementation?"
   ]
  },
  {
   "cell_type": "markdown",
   "metadata": {
    "slideshow": {
     "slide_type": "fragment"
    }
   },
   "source": [
    "* Not tail recursive. \n",
    "  + Generally not an issue in practice.\n",
    "  + Recursion depth bound by the size of the list. "
   ]
  },
  {
   "cell_type": "markdown",
   "metadata": {
    "slideshow": {
     "slide_type": "slide"
    }
   },
   "source": [
    "## rev_map"
   ]
  },
  {
   "cell_type": "code",
   "execution_count": null,
   "metadata": {},
   "outputs": [],
   "source": [
    "let rec rev_map f l acc = \n",
    "  match l with\n",
    "  | [] -> acc\n",
    "  | x::xs -> rev_map f xs (f x::acc)"
   ]
  },
  {
   "cell_type": "code",
   "execution_count": null,
   "metadata": {},
   "outputs": [],
   "source": [
    "let map f l =\n",
    "  List.rev (rev_map f l [])"
   ]
  },
  {
   "cell_type": "code",
   "execution_count": null,
   "metadata": {},
   "outputs": [],
   "source": [
    "map (fun x -> x + 1) [1;2;3]"
   ]
  },
  {
   "cell_type": "markdown",
   "metadata": {
    "slideshow": {
     "slide_type": "slide"
    }
   },
   "source": [
    "## Fold\n",
    "\n",
    "* Fold is a function for combining elements. \n",
    "* Fold is very powerful => very generic / difficult to understand.\n",
    "* Let's take a simple example first."
   ]
  },
  {
   "cell_type": "code",
   "execution_count": null,
   "metadata": {
    "slideshow": {
     "slide_type": "fragment"
    }
   },
   "outputs": [],
   "source": [
    "let rec sum_of_elements acc l = \n",
    "  match l with\n",
    "  | [] -> acc\n",
    "  | x::xs -> sum_of_elements (x + acc) xs\n",
    "  \n",
    "let sum_of_elements = sum_of_elements 0"
   ]
  },
  {
   "cell_type": "code",
   "execution_count": null,
   "metadata": {
    "slideshow": {
     "slide_type": "fragment"
    }
   },
   "outputs": [],
   "source": [
    "sum_of_elements [1;2;3;4;5]"
   ]
  },
  {
   "cell_type": "markdown",
   "metadata": {
    "slideshow": {
     "slide_type": "slide"
    }
   },
   "source": [
    "## Fold\n",
    "\n",
    "What is going on here?\n",
    "\n",
    "```ocaml\n",
    "let rec sum_of_elements acc l = \n",
    "  match l with\n",
    "  | [] -> acc\n",
    "  | x::xs -> sum_of_elements (x + acc) xs\n",
    "  \n",
    "let sum_of_elements = sum_of_elements 0\n",
    "```\n",
    "\n",
    "* There is **traversal** over the shape of the list.\n",
    "* There is an `accumulator` which keeps track of the current sum so far.\n",
    "* There is a function **`+`** that is applied to each element and accumulator.\n",
    "* There is the `initial value` of the accumulator which is `0`."
   ]
  },
  {
   "cell_type": "markdown",
   "metadata": {
    "slideshow": {
     "slide_type": "slide"
    }
   },
   "source": [
    "## Fold"
   ]
  },
  {
   "cell_type": "code",
   "execution_count": null,
   "metadata": {},
   "outputs": [],
   "source": [
    "List.fold_left"
   ]
  },
  {
   "cell_type": "markdown",
   "metadata": {
    "slideshow": {
     "slide_type": "fragment"
    }
   },
   "source": [
    "* **First argument:** `('a -> 'b -> 'a)` is the function appplied to each element. \n",
    "  + `'a` is accumulator and `'b` is current list element\n",
    "* **Second argument:** `'a` is the initial value of the accumulator.\n",
    "* **Third argumment:** `'b list` is the list.\n",
    "* **Result:** `'a` is the value of the accumulator at the end of the traversal."
   ]
  },
  {
   "cell_type": "markdown",
   "metadata": {
    "slideshow": {
     "slide_type": "slide"
    }
   },
   "source": [
    "## Sum of elements using fold_left\n",
    "\n",
    "\n",
    "```ocaml\n",
    "let rec sum_of_elements acc l = \n",
    "  match l with\n",
    "  | [] -> acc\n",
    "  | x::xs -> sum_of_elements (x + acc) xs\n",
    "  \n",
    "let sum_of_elements = sum_of_elements 0\n",
    "```"
   ]
  },
  {
   "cell_type": "code",
   "execution_count": null,
   "metadata": {
    "slideshow": {
     "slide_type": "fragment"
    }
   },
   "outputs": [],
   "source": [
    "List.fold_left (fun acc x -> acc + x) 0 [1;2;3;4;5]"
   ]
  },
  {
   "cell_type": "code",
   "execution_count": null,
   "metadata": {
    "slideshow": {
     "slide_type": "fragment"
    }
   },
   "outputs": [],
   "source": [
    "let rec fold_left f acc l =\n",
    "  match l with \n",
    "  | [] -> acc\n",
    "  | x::xs -> fold_left f (f acc x) xs"
   ]
  },
  {
   "cell_type": "markdown",
   "metadata": {
    "slideshow": {
     "slide_type": "slide"
    }
   },
   "source": [
    "## Fold (left)\n",
    "\n",
    "as natural transformation of the data structure.\n",
    "\n",
    "<center>\n",
    "    \n",
    "<img src=\"images/list_shape.svg\" width=40% style=\"float:left\">\n",
    "<img src=\"images/sum_fold.svg\" width=40% style=\"float:right\">\n",
    "</center>"
   ]
  },
  {
   "cell_type": "markdown",
   "metadata": {
    "slideshow": {
     "slide_type": "slide"
    }
   },
   "source": [
    "## fold_right\n",
    "\n",
    "Fold from the right.\n",
    "\n",
    "<center>\n",
    "    \n",
    "<img src=\"images/list_shape.svg\" width=40% style=\"float:left\">\n",
    "<img src=\"images/fold_right.svg\" width=40% style=\"float:right\">\n",
    "</center>"
   ]
  },
  {
   "cell_type": "markdown",
   "metadata": {
    "slideshow": {
     "slide_type": "slide"
    }
   },
   "source": [
    "## fold_right"
   ]
  },
  {
   "cell_type": "code",
   "execution_count": null,
   "metadata": {
    "slideshow": {
     "slide_type": "-"
    }
   },
   "outputs": [],
   "source": [
    "List.fold_right"
   ]
  },
  {
   "cell_type": "code",
   "execution_count": null,
   "metadata": {
    "slideshow": {
     "slide_type": "fragment"
    }
   },
   "outputs": [],
   "source": [
    "let rec fold_right f l acc = \n",
    "  match l with\n",
    "  | [] -> acc\n",
    "  | x::xs -> f x (fold_right f xs acc)"
   ]
  },
  {
   "cell_type": "markdown",
   "metadata": {
    "slideshow": {
     "slide_type": "fragment"
    }
   },
   "source": [
    "* Not tail recursive!"
   ]
  },
  {
   "cell_type": "markdown",
   "metadata": {
    "slideshow": {
     "slide_type": "slide"
    }
   },
   "source": [
    "## Behold the power of fold\n",
    "\n",
    "Any time you need to traverse the list, you can use `fold`."
   ]
  },
  {
   "cell_type": "code",
   "execution_count": null,
   "metadata": {
    "slideshow": {
     "slide_type": "fragment"
    }
   },
   "outputs": [],
   "source": [
    "let rev l = fold_left (fun acc x -> x :: acc) [] l"
   ]
  },
  {
   "cell_type": "code",
   "execution_count": null,
   "metadata": {
    "slideshow": {
     "slide_type": "fragment"
    }
   },
   "outputs": [],
   "source": [
    "let length l = fold_left (fun acc _ -> acc + 1) 0 l"
   ]
  },
  {
   "cell_type": "code",
   "execution_count": null,
   "metadata": {
    "slideshow": {
     "slide_type": "fragment"
    }
   },
   "outputs": [],
   "source": [
    "let map f l = fold_right (fun x acc -> (f x) :: acc) l []"
   ]
  },
  {
   "cell_type": "markdown",
   "metadata": {
    "slideshow": {
     "slide_type": "fragment"
    }
   },
   "source": [
    "* `map` is not tail recursive since `fold_right` is not a tail recursive function. "
   ]
  },
  {
   "cell_type": "markdown",
   "metadata": {
    "slideshow": {
     "slide_type": "slide"
    }
   },
   "source": [
    "## Exercise\n",
    "\n",
    "Implement `exists : ('a -> bool) -> 'a list -> bool` function using `fold_left`. `exists p l` returns `true` if there exists an element `e` in `l` such that `p e` is true. Otherwise, `exists p l` returns `false`."
   ]
  },
  {
   "cell_type": "code",
   "execution_count": null,
   "metadata": {},
   "outputs": [],
   "source": [
    "let exists p l = failwith \"not implemented\""
   ]
  },
  {
   "cell_type": "code",
   "execution_count": null,
   "metadata": {},
   "outputs": [],
   "source": [
    "assert (exists (fun e -> e = 0) [1;3;0] = true)"
   ]
  },
  {
   "cell_type": "markdown",
   "metadata": {
    "slideshow": {
     "slide_type": "slide"
    }
   },
   "source": [
    "## Exercise\n",
    "\n",
    "Implement `append : 'a list -> 'a list -> 'a list` using `fold_right`. "
   ]
  },
  {
   "cell_type": "code",
   "execution_count": null,
   "metadata": {},
   "outputs": [],
   "source": [
    "let append l1 l2 = failwith \"not implemented\""
   ]
  },
  {
   "cell_type": "code",
   "execution_count": null,
   "metadata": {},
   "outputs": [],
   "source": [
    "assert (append [1;2] [3;4] = [1;2;3;4])"
   ]
  }
 ],
 "metadata": {
  "celltoolbar": "Slideshow",
  "kernelspec": {
   "display_name": "OCaml 4.12.0",
   "language": "OCaml",
   "name": "ocaml-jupyter"
  },
  "language_info": {
   "codemirror_mode": "text/x-ocaml",
   "file_extension": ".ml",
   "mimetype": "text/x-ocaml",
   "name": "OCaml",
   "nbconverter_exporter": null,
   "pygments_lexer": "OCaml",
   "version": "4.12.0"
  }
 },
 "nbformat": 4,
 "nbformat_minor": 4
}
