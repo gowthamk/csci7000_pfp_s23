{
 "cells": [
  {
   "cell_type": "markdown",
   "id": "d0ebe27b-abd7-499d-ad63-be040a89459c",
   "metadata": {},
   "source": [
    "## Problem 1\n",
    "\n",
    "Implement a function:\n",
    "\n",
    "```ocaml\n",
    "map_if_even : int -> (int -> int) -> int\n",
    "```\n",
    "\n",
    "`map_if_even a f` checks if the integer `a` is even. If yes, it returns `f(a)`. Else it simply returns `a`. "
   ]
  },
  {
   "cell_type": "code",
   "execution_count": 13,
   "id": "c4fa0efa-bcad-44e3-ac2b-9d005fe5faa9",
   "metadata": {},
   "outputs": [
    {
     "data": {
      "text/plain": [
       "val map_if_even : 'a -> 'b -> 'c = <fun>\n"
      ]
     },
     "execution_count": 13,
     "metadata": {},
     "output_type": "execute_result"
    }
   ],
   "source": [
    "let map_if_even a f =\n",
    "(* YOUR CODE HERE *)\n",
    "   raise (Failure \"Not implemented\")"
   ]
  },
  {
   "cell_type": "code",
   "execution_count": 12,
   "id": "f79fdc43-a1d2-47bb-8ae5-f9ec933b387a",
   "metadata": {
    "collapsed": true,
    "jupyter": {
     "outputs_hidden": true
    },
    "tags": []
   },
   "outputs": [
    {
     "data": {
      "text/plain": [
       "- : unit = ()\n"
      ]
     },
     "execution_count": 12,
     "metadata": {},
     "output_type": "execute_result"
    }
   ],
   "source": [
    "assert ((map_if_even 24 (fun x -> x/2)) = 12);\n",
    "assert ((map_if_even 23 (fun x -> x/2)) = 23);\n",
    "assert ((map_if_even 19 (fun x -> x/0)) = 19);"
   ]
  },
  {
   "cell_type": "markdown",
   "id": "e0e56374-dae6-4a29-bc88-87e4ce8b70fa",
   "metadata": {},
   "source": [
    "## Problem 2\n",
    "\n",
    "Write a function \n",
    "\n",
    "```ocaml\n",
    "mk_dup : 'a list -> ('a -> bool) -> 'a\n",
    "```\n",
    "\n",
    "list that takes in a list and preciate and duplicates all elements which satisfy the condition expressed in the predicate. For example, `cond_dup [3;4;5] (fun x -> x mod 2 = 1) = [3;3;4;5;5]`."
   ]
  },
  {
   "cell_type": "code",
   "execution_count": 3,
   "id": "3ebf0fc2-3b9f-4b16-8504-a3a4ca051083",
   "metadata": {},
   "outputs": [
    {
     "data": {
      "text/plain": [
       "val mk_dup : 'a -> 'b -> 'c = <fun>\n"
      ]
     },
     "execution_count": 3,
     "metadata": {},
     "output_type": "execute_result"
    }
   ],
   "source": [
    "let rec mk_dup l f =\n",
    "  (* YOUR CODE HERE *)\n",
    "   raise (Failure \"Not implemented\")"
   ]
  },
  {
   "cell_type": "code",
   "execution_count": 2,
   "id": "5a526d7f-247b-44e0-8721-a2ff8f715cd9",
   "metadata": {
    "collapsed": true,
    "jupyter": {
     "outputs_hidden": true
    },
    "tags": []
   },
   "outputs": [
    {
     "ename": "error",
     "evalue": "compile_error",
     "output_type": "error",
     "traceback": [
      "File \"[2]\", line 1, characters 8-16:\n1 | assert (cond_dup [3;4;5] (fun x -> x mod 2 = 1) = [3;3;4;5;5])\n            ^^^^^^^^\nError: Unbound value cond_dup\n"
     ]
    }
   ],
   "source": [
    "assert (mk_dup [3;4;5] (fun x -> x mod 2 = 1) = [3;3;4;5;5])"
   ]
  },
  {
   "cell_type": "code",
   "execution_count": null,
   "id": "7f66d488-f6b1-47b1-a4ed-699c472b3cd2",
   "metadata": {},
   "outputs": [],
   "source": []
  }
 ],
 "metadata": {
  "kernelspec": {
   "display_name": "OCaml 4.12.0",
   "language": "OCaml",
   "name": "ocaml-jupyter"
  },
  "language_info": {
   "codemirror_mode": "text/x-ocaml",
   "file_extension": ".ml",
   "mimetype": "text/x-ocaml",
   "name": "OCaml",
   "nbconverter_exporter": null,
   "pygments_lexer": "OCaml",
   "version": "4.12.0"
  }
 },
 "nbformat": 4,
 "nbformat_minor": 5
}
